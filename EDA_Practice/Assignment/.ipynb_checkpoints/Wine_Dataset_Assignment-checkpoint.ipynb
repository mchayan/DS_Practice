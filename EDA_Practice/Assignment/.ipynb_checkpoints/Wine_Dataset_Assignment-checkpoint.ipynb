{
 "cells": [
  {
   "cell_type": "markdown",
   "id": "f27c5e84",
   "metadata": {},
   "source": [
    "# Answer 1:"
   ]
  },
  {
   "cell_type": "markdown",
   "id": "baea0267",
   "metadata": {},
   "source": [
    "Wine Quality Data Set"
   ]
  },
  {
   "cell_type": "markdown",
   "id": "87ad859d",
   "metadata": {},
   "source": [
    "This is one of the most popular datasets along data science beginners.It is divided into 2 datasets. There are 4898\n",
    "rows and 12 columns in this dataset.\n",
    "Read the data from https://archive.ics.uci.edu/ml/machine-learning-databases/wine-quality/"
   ]
  },
  {
   "cell_type": "markdown",
   "id": "d4c6a365",
   "metadata": {},
   "source": [
    "# Answer 2:"
   ]
  },
  {
   "cell_type": "markdown",
   "id": "257cf5b9",
   "metadata": {},
   "source": [
    "From the above dataset, the objective of this project is to develop a Data Centric ML Model through which the Quality \n",
    "of WINE can be predicted."
   ]
  },
  {
   "cell_type": "markdown",
   "id": "63b16902",
   "metadata": {},
   "source": [
    "# Identifying Last Two digit for the Assignment Guideline"
   ]
  },
  {
   "cell_type": "code",
   "execution_count": 1,
   "id": "574efeab",
   "metadata": {},
   "outputs": [
    {
     "name": "stdout",
     "output_type": "stream",
     "text": [
      "My Id is: 20216039 . The last digit of my ID is: 39\n",
      "The Modulo of the last two digit of my ID is 1 . \n",
      "My assignment Dataset is Wine Quality Data.\n"
     ]
    }
   ],
   "source": [
    "id = 20216039\n",
    "print('My Id is:', id, '.','The last digit of my ID is:', str(id)[-2:])\n",
    "Mod = 39%2\n",
    "print('The Modulo of the last two digit of my ID is', Mod, '.', '\\nMy assignment Dataset is Wine Quality Data.')"
   ]
  },
  {
   "cell_type": "markdown",
   "id": "599601a2",
   "metadata": {},
   "source": [
    "# Import Necessary Libraries"
   ]
  },
  {
   "cell_type": "code",
   "execution_count": 2,
   "id": "7445e7a0",
   "metadata": {},
   "outputs": [],
   "source": [
    "import pandas as pd\n",
    "import numpy as np\n",
    "import statsmodels.api as sm\n",
    "import matplotlib as mt\n",
    "import matplotlib.pyplot as plt\n",
    "import matplotlib.mlab as mlab\n",
    "import seaborn as sns\n",
    "df=pd.read_csv('winedata.csv', sep=',')"
   ]
  },
  {
   "cell_type": "code",
   "execution_count": 3,
   "id": "23f8552c",
   "metadata": {},
   "outputs": [
    {
     "name": "stdout",
     "output_type": "stream",
     "text": [
      "<class 'pandas.core.frame.DataFrame'>\n",
      "RangeIndex: 2037 entries, 0 to 2036\n",
      "Data columns (total 13 columns):\n",
      " #   Column                Non-Null Count  Dtype  \n",
      "---  ------                --------------  -----  \n",
      " 0   fixed.acidity         2037 non-null   float64\n",
      " 1   volatile.acidity      2037 non-null   float64\n",
      " 2   citric.acid           2037 non-null   float64\n",
      " 3   residual.sugar        2037 non-null   float64\n",
      " 4   chlorides             2037 non-null   float64\n",
      " 5   free.sulfur.dioxide   2037 non-null   float64\n",
      " 6   total.sulfur.dioxide  2037 non-null   float64\n",
      " 7   density               2037 non-null   float64\n",
      " 8   pH                    2037 non-null   float64\n",
      " 9   sulphates             2037 non-null   float64\n",
      " 10  alcohol               2037 non-null   float64\n",
      " 11  quality               2037 non-null   int64  \n",
      " 12  rt.sulfur.dioxide     2037 non-null   float64\n",
      "dtypes: float64(12), int64(1)\n",
      "memory usage: 207.0 KB\n"
     ]
    }
   ],
   "source": [
    "df.info()"
   ]
  },
  {
   "cell_type": "code",
   "execution_count": 4,
   "id": "dcb54984",
   "metadata": {
    "scrolled": true
   },
   "outputs": [
    {
     "data": {
      "text/html": [
       "<div>\n",
       "<style scoped>\n",
       "    .dataframe tbody tr th:only-of-type {\n",
       "        vertical-align: middle;\n",
       "    }\n",
       "\n",
       "    .dataframe tbody tr th {\n",
       "        vertical-align: top;\n",
       "    }\n",
       "\n",
       "    .dataframe thead th {\n",
       "        text-align: right;\n",
       "    }\n",
       "</style>\n",
       "<table border=\"1\" class=\"dataframe\">\n",
       "  <thead>\n",
       "    <tr style=\"text-align: right;\">\n",
       "      <th></th>\n",
       "      <th>fixed.acidity</th>\n",
       "      <th>volatile.acidity</th>\n",
       "      <th>citric.acid</th>\n",
       "      <th>residual.sugar</th>\n",
       "      <th>chlorides</th>\n",
       "      <th>free.sulfur.dioxide</th>\n",
       "      <th>total.sulfur.dioxide</th>\n",
       "      <th>density</th>\n",
       "      <th>pH</th>\n",
       "      <th>sulphates</th>\n",
       "      <th>alcohol</th>\n",
       "      <th>quality</th>\n",
       "      <th>rt.sulfur.dioxide</th>\n",
       "    </tr>\n",
       "  </thead>\n",
       "  <tbody>\n",
       "    <tr>\n",
       "      <th>0</th>\n",
       "      <td>7.5</td>\n",
       "      <td>0.33</td>\n",
       "      <td>0.32</td>\n",
       "      <td>11.1</td>\n",
       "      <td>0.036</td>\n",
       "      <td>25.0</td>\n",
       "      <td>119.0</td>\n",
       "      <td>0.99620</td>\n",
       "      <td>3.15</td>\n",
       "      <td>0.34</td>\n",
       "      <td>10.5</td>\n",
       "      <td>6</td>\n",
       "      <td>5.000000</td>\n",
       "    </tr>\n",
       "    <tr>\n",
       "      <th>1</th>\n",
       "      <td>6.3</td>\n",
       "      <td>0.27</td>\n",
       "      <td>0.29</td>\n",
       "      <td>12.2</td>\n",
       "      <td>0.044</td>\n",
       "      <td>59.0</td>\n",
       "      <td>196.0</td>\n",
       "      <td>0.99782</td>\n",
       "      <td>3.14</td>\n",
       "      <td>0.40</td>\n",
       "      <td>8.8</td>\n",
       "      <td>6</td>\n",
       "      <td>7.681146</td>\n",
       "    </tr>\n",
       "    <tr>\n",
       "      <th>2</th>\n",
       "      <td>7.0</td>\n",
       "      <td>0.30</td>\n",
       "      <td>0.51</td>\n",
       "      <td>13.6</td>\n",
       "      <td>0.050</td>\n",
       "      <td>40.0</td>\n",
       "      <td>168.0</td>\n",
       "      <td>0.99760</td>\n",
       "      <td>3.07</td>\n",
       "      <td>0.52</td>\n",
       "      <td>9.6</td>\n",
       "      <td>7</td>\n",
       "      <td>6.324555</td>\n",
       "    </tr>\n",
       "    <tr>\n",
       "      <th>3</th>\n",
       "      <td>7.4</td>\n",
       "      <td>0.38</td>\n",
       "      <td>0.27</td>\n",
       "      <td>7.5</td>\n",
       "      <td>0.041</td>\n",
       "      <td>24.0</td>\n",
       "      <td>160.0</td>\n",
       "      <td>0.99535</td>\n",
       "      <td>3.17</td>\n",
       "      <td>0.43</td>\n",
       "      <td>10.0</td>\n",
       "      <td>5</td>\n",
       "      <td>4.898979</td>\n",
       "    </tr>\n",
       "    <tr>\n",
       "      <th>4</th>\n",
       "      <td>8.1</td>\n",
       "      <td>0.12</td>\n",
       "      <td>0.38</td>\n",
       "      <td>0.9</td>\n",
       "      <td>0.034</td>\n",
       "      <td>36.0</td>\n",
       "      <td>86.0</td>\n",
       "      <td>0.99026</td>\n",
       "      <td>2.80</td>\n",
       "      <td>0.55</td>\n",
       "      <td>12.0</td>\n",
       "      <td>6</td>\n",
       "      <td>6.000000</td>\n",
       "    </tr>\n",
       "  </tbody>\n",
       "</table>\n",
       "</div>"
      ],
      "text/plain": [
       "   fixed.acidity  volatile.acidity  citric.acid  residual.sugar  chlorides  \\\n",
       "0            7.5              0.33         0.32            11.1      0.036   \n",
       "1            6.3              0.27         0.29            12.2      0.044   \n",
       "2            7.0              0.30         0.51            13.6      0.050   \n",
       "3            7.4              0.38         0.27             7.5      0.041   \n",
       "4            8.1              0.12         0.38             0.9      0.034   \n",
       "\n",
       "   free.sulfur.dioxide  total.sulfur.dioxide  density    pH  sulphates  \\\n",
       "0                 25.0                 119.0  0.99620  3.15       0.34   \n",
       "1                 59.0                 196.0  0.99782  3.14       0.40   \n",
       "2                 40.0                 168.0  0.99760  3.07       0.52   \n",
       "3                 24.0                 160.0  0.99535  3.17       0.43   \n",
       "4                 36.0                  86.0  0.99026  2.80       0.55   \n",
       "\n",
       "   alcohol  quality  rt.sulfur.dioxide  \n",
       "0     10.5        6           5.000000  \n",
       "1      8.8        6           7.681146  \n",
       "2      9.6        7           6.324555  \n",
       "3     10.0        5           4.898979  \n",
       "4     12.0        6           6.000000  "
      ]
     },
     "execution_count": 4,
     "metadata": {},
     "output_type": "execute_result"
    }
   ],
   "source": [
    "df.head()"
   ]
  },
  {
   "cell_type": "markdown",
   "id": "dee37bb3",
   "metadata": {},
   "source": [
    "# Answer 3:"
   ]
  },
  {
   "cell_type": "raw",
   "id": "ee129ad7",
   "metadata": {},
   "source": [
    "Data Cleaning"
   ]
  },
  {
   "cell_type": "markdown",
   "id": "f3f7bf8b",
   "metadata": {},
   "source": [
    "# Necessity of Dropping rt.sulfur.dioxide (As Assignment guideline provides 12 Columns & The Dataset Contains 13 Columns)"
   ]
  },
  {
   "cell_type": "code",
   "execution_count": 5,
   "id": "27727b82",
   "metadata": {},
   "outputs": [],
   "source": [
    "df.drop(['rt.sulfur.dioxide'], axis =1, inplace =True)"
   ]
  },
  {
   "cell_type": "code",
   "execution_count": 6,
   "id": "4d36db69",
   "metadata": {},
   "outputs": [
    {
     "name": "stdout",
     "output_type": "stream",
     "text": [
      "<class 'pandas.core.frame.DataFrame'>\n",
      "RangeIndex: 2037 entries, 0 to 2036\n",
      "Data columns (total 12 columns):\n",
      " #   Column                Non-Null Count  Dtype  \n",
      "---  ------                --------------  -----  \n",
      " 0   fixed.acidity         2037 non-null   float64\n",
      " 1   volatile.acidity      2037 non-null   float64\n",
      " 2   citric.acid           2037 non-null   float64\n",
      " 3   residual.sugar        2037 non-null   float64\n",
      " 4   chlorides             2037 non-null   float64\n",
      " 5   free.sulfur.dioxide   2037 non-null   float64\n",
      " 6   total.sulfur.dioxide  2037 non-null   float64\n",
      " 7   density               2037 non-null   float64\n",
      " 8   pH                    2037 non-null   float64\n",
      " 9   sulphates             2037 non-null   float64\n",
      " 10  alcohol               2037 non-null   float64\n",
      " 11  quality               2037 non-null   int64  \n",
      "dtypes: float64(11), int64(1)\n",
      "memory usage: 191.1 KB\n"
     ]
    }
   ],
   "source": [
    "df.info()"
   ]
  },
  {
   "cell_type": "markdown",
   "id": "5d898a9a",
   "metadata": {},
   "source": [
    "# Appending Dataset According to the Assignment Guideline"
   ]
  },
  {
   "cell_type": "code",
   "execution_count": 7,
   "id": "803f9df2",
   "metadata": {},
   "outputs": [],
   "source": [
    "# List of data series\n",
    "datarowsSeries = [pd.Series([7.8+.39,.88+.39,0.00+.39,1.9,0.09+.39,25.0+.39,67.0+.39,.991+.39,3.22,0.68+.39,9.8+.39,5], index=df.columns ), pd.Series([7.2+.39,.83+.39,0.01+.39,2.2,0.19+.39,15.0+.39,60.0+.39,.996+.39,3.52,0.55+.39,9.6+.39,6], index=df.columns ), pd.Series([7.9+.39,.89+.39,0.01+.39,1.7,0.08+.39,22.0+.39,57.0+.39,.997+.39,3.26,0.64+.39,9.8+.39,2], index=df.columns ), pd.Series([7.7+.39,.86+.39,0.02+.39,2.3,0.07+.39,11.0+.39,38.0+.39,.994+.39,3.12,0.08+.39,9.4+.39,3], index=df.columns ) ]"
   ]
  },
  {
   "cell_type": "markdown",
   "id": "d86b7712",
   "metadata": {},
   "source": [
    "# Check The DF For Verifying Newly Appended Data"
   ]
  },
  {
   "cell_type": "code",
   "execution_count": 8,
   "id": "6bfe3ab5",
   "metadata": {},
   "outputs": [
    {
     "data": {
      "text/html": [
       "<div>\n",
       "<style scoped>\n",
       "    .dataframe tbody tr th:only-of-type {\n",
       "        vertical-align: middle;\n",
       "    }\n",
       "\n",
       "    .dataframe tbody tr th {\n",
       "        vertical-align: top;\n",
       "    }\n",
       "\n",
       "    .dataframe thead th {\n",
       "        text-align: right;\n",
       "    }\n",
       "</style>\n",
       "<table border=\"1\" class=\"dataframe\">\n",
       "  <thead>\n",
       "    <tr style=\"text-align: right;\">\n",
       "      <th></th>\n",
       "      <th>fixed.acidity</th>\n",
       "      <th>volatile.acidity</th>\n",
       "      <th>citric.acid</th>\n",
       "      <th>residual.sugar</th>\n",
       "      <th>chlorides</th>\n",
       "      <th>free.sulfur.dioxide</th>\n",
       "      <th>total.sulfur.dioxide</th>\n",
       "      <th>density</th>\n",
       "      <th>pH</th>\n",
       "      <th>sulphates</th>\n",
       "      <th>alcohol</th>\n",
       "      <th>quality</th>\n",
       "    </tr>\n",
       "  </thead>\n",
       "  <tbody>\n",
       "    <tr>\n",
       "      <th>2033</th>\n",
       "      <td>7.4</td>\n",
       "      <td>0.19</td>\n",
       "      <td>0.31</td>\n",
       "      <td>14.5</td>\n",
       "      <td>0.045</td>\n",
       "      <td>39.0</td>\n",
       "      <td>193.0</td>\n",
       "      <td>0.99860</td>\n",
       "      <td>3.10</td>\n",
       "      <td>0.50</td>\n",
       "      <td>9.2</td>\n",
       "      <td>6</td>\n",
       "    </tr>\n",
       "    <tr>\n",
       "      <th>2034</th>\n",
       "      <td>6.7</td>\n",
       "      <td>0.36</td>\n",
       "      <td>0.26</td>\n",
       "      <td>7.9</td>\n",
       "      <td>0.034</td>\n",
       "      <td>39.0</td>\n",
       "      <td>123.0</td>\n",
       "      <td>0.99119</td>\n",
       "      <td>2.99</td>\n",
       "      <td>0.30</td>\n",
       "      <td>12.2</td>\n",
       "      <td>7</td>\n",
       "    </tr>\n",
       "    <tr>\n",
       "      <th>2035</th>\n",
       "      <td>7.7</td>\n",
       "      <td>0.28</td>\n",
       "      <td>0.35</td>\n",
       "      <td>15.3</td>\n",
       "      <td>0.056</td>\n",
       "      <td>31.0</td>\n",
       "      <td>117.0</td>\n",
       "      <td>0.99980</td>\n",
       "      <td>3.27</td>\n",
       "      <td>0.50</td>\n",
       "      <td>9.6</td>\n",
       "      <td>5</td>\n",
       "    </tr>\n",
       "    <tr>\n",
       "      <th>2036</th>\n",
       "      <td>5.7</td>\n",
       "      <td>0.22</td>\n",
       "      <td>0.28</td>\n",
       "      <td>1.3</td>\n",
       "      <td>0.027</td>\n",
       "      <td>26.0</td>\n",
       "      <td>101.0</td>\n",
       "      <td>0.98948</td>\n",
       "      <td>3.35</td>\n",
       "      <td>0.38</td>\n",
       "      <td>12.5</td>\n",
       "      <td>7</td>\n",
       "    </tr>\n",
       "  </tbody>\n",
       "</table>\n",
       "</div>"
      ],
      "text/plain": [
       "      fixed.acidity  volatile.acidity  citric.acid  residual.sugar  chlorides  \\\n",
       "2033            7.4              0.19         0.31            14.5      0.045   \n",
       "2034            6.7              0.36         0.26             7.9      0.034   \n",
       "2035            7.7              0.28         0.35            15.3      0.056   \n",
       "2036            5.7              0.22         0.28             1.3      0.027   \n",
       "\n",
       "      free.sulfur.dioxide  total.sulfur.dioxide  density    pH  sulphates  \\\n",
       "2033                 39.0                 193.0  0.99860  3.10       0.50   \n",
       "2034                 39.0                 123.0  0.99119  2.99       0.30   \n",
       "2035                 31.0                 117.0  0.99980  3.27       0.50   \n",
       "2036                 26.0                 101.0  0.98948  3.35       0.38   \n",
       "\n",
       "      alcohol  quality  \n",
       "2033      9.2        6  \n",
       "2034     12.2        7  \n",
       "2035      9.6        5  \n",
       "2036     12.5        7  "
      ]
     },
     "execution_count": 8,
     "metadata": {},
     "output_type": "execute_result"
    }
   ],
   "source": [
    "df.iloc[-4:]"
   ]
  },
  {
   "cell_type": "markdown",
   "id": "fc54dbbf",
   "metadata": {},
   "source": [
    "# New Appended DF named new_data"
   ]
  },
  {
   "cell_type": "code",
   "execution_count": 9,
   "id": "d3532be4",
   "metadata": {},
   "outputs": [],
   "source": [
    "new_data = df.append(datarowsSeries, ignore_index=True)"
   ]
  },
  {
   "cell_type": "code",
   "execution_count": 10,
   "id": "920575e0",
   "metadata": {},
   "outputs": [
    {
     "data": {
      "text/html": [
       "<div>\n",
       "<style scoped>\n",
       "    .dataframe tbody tr th:only-of-type {\n",
       "        vertical-align: middle;\n",
       "    }\n",
       "\n",
       "    .dataframe tbody tr th {\n",
       "        vertical-align: top;\n",
       "    }\n",
       "\n",
       "    .dataframe thead th {\n",
       "        text-align: right;\n",
       "    }\n",
       "</style>\n",
       "<table border=\"1\" class=\"dataframe\">\n",
       "  <thead>\n",
       "    <tr style=\"text-align: right;\">\n",
       "      <th></th>\n",
       "      <th>fixed.acidity</th>\n",
       "      <th>volatile.acidity</th>\n",
       "      <th>citric.acid</th>\n",
       "      <th>residual.sugar</th>\n",
       "      <th>chlorides</th>\n",
       "      <th>free.sulfur.dioxide</th>\n",
       "      <th>total.sulfur.dioxide</th>\n",
       "      <th>density</th>\n",
       "      <th>pH</th>\n",
       "      <th>sulphates</th>\n",
       "      <th>alcohol</th>\n",
       "      <th>quality</th>\n",
       "    </tr>\n",
       "  </thead>\n",
       "  <tbody>\n",
       "    <tr>\n",
       "      <th>2033</th>\n",
       "      <td>7.40</td>\n",
       "      <td>0.19</td>\n",
       "      <td>0.31</td>\n",
       "      <td>14.5</td>\n",
       "      <td>0.045</td>\n",
       "      <td>39.00</td>\n",
       "      <td>193.00</td>\n",
       "      <td>0.99860</td>\n",
       "      <td>3.10</td>\n",
       "      <td>0.50</td>\n",
       "      <td>9.20</td>\n",
       "      <td>6.0</td>\n",
       "    </tr>\n",
       "    <tr>\n",
       "      <th>2034</th>\n",
       "      <td>6.70</td>\n",
       "      <td>0.36</td>\n",
       "      <td>0.26</td>\n",
       "      <td>7.9</td>\n",
       "      <td>0.034</td>\n",
       "      <td>39.00</td>\n",
       "      <td>123.00</td>\n",
       "      <td>0.99119</td>\n",
       "      <td>2.99</td>\n",
       "      <td>0.30</td>\n",
       "      <td>12.20</td>\n",
       "      <td>7.0</td>\n",
       "    </tr>\n",
       "    <tr>\n",
       "      <th>2035</th>\n",
       "      <td>7.70</td>\n",
       "      <td>0.28</td>\n",
       "      <td>0.35</td>\n",
       "      <td>15.3</td>\n",
       "      <td>0.056</td>\n",
       "      <td>31.00</td>\n",
       "      <td>117.00</td>\n",
       "      <td>0.99980</td>\n",
       "      <td>3.27</td>\n",
       "      <td>0.50</td>\n",
       "      <td>9.60</td>\n",
       "      <td>5.0</td>\n",
       "    </tr>\n",
       "    <tr>\n",
       "      <th>2036</th>\n",
       "      <td>5.70</td>\n",
       "      <td>0.22</td>\n",
       "      <td>0.28</td>\n",
       "      <td>1.3</td>\n",
       "      <td>0.027</td>\n",
       "      <td>26.00</td>\n",
       "      <td>101.00</td>\n",
       "      <td>0.98948</td>\n",
       "      <td>3.35</td>\n",
       "      <td>0.38</td>\n",
       "      <td>12.50</td>\n",
       "      <td>7.0</td>\n",
       "    </tr>\n",
       "    <tr>\n",
       "      <th>2037</th>\n",
       "      <td>8.19</td>\n",
       "      <td>1.27</td>\n",
       "      <td>0.39</td>\n",
       "      <td>1.9</td>\n",
       "      <td>0.480</td>\n",
       "      <td>25.39</td>\n",
       "      <td>67.39</td>\n",
       "      <td>1.38100</td>\n",
       "      <td>3.22</td>\n",
       "      <td>1.07</td>\n",
       "      <td>10.19</td>\n",
       "      <td>5.0</td>\n",
       "    </tr>\n",
       "    <tr>\n",
       "      <th>2038</th>\n",
       "      <td>7.59</td>\n",
       "      <td>1.22</td>\n",
       "      <td>0.40</td>\n",
       "      <td>2.2</td>\n",
       "      <td>0.580</td>\n",
       "      <td>15.39</td>\n",
       "      <td>60.39</td>\n",
       "      <td>1.38600</td>\n",
       "      <td>3.52</td>\n",
       "      <td>0.94</td>\n",
       "      <td>9.99</td>\n",
       "      <td>6.0</td>\n",
       "    </tr>\n",
       "    <tr>\n",
       "      <th>2039</th>\n",
       "      <td>8.29</td>\n",
       "      <td>1.28</td>\n",
       "      <td>0.40</td>\n",
       "      <td>1.7</td>\n",
       "      <td>0.470</td>\n",
       "      <td>22.39</td>\n",
       "      <td>57.39</td>\n",
       "      <td>1.38700</td>\n",
       "      <td>3.26</td>\n",
       "      <td>1.03</td>\n",
       "      <td>10.19</td>\n",
       "      <td>2.0</td>\n",
       "    </tr>\n",
       "    <tr>\n",
       "      <th>2040</th>\n",
       "      <td>8.09</td>\n",
       "      <td>1.25</td>\n",
       "      <td>0.41</td>\n",
       "      <td>2.3</td>\n",
       "      <td>0.460</td>\n",
       "      <td>11.39</td>\n",
       "      <td>38.39</td>\n",
       "      <td>1.38400</td>\n",
       "      <td>3.12</td>\n",
       "      <td>0.47</td>\n",
       "      <td>9.79</td>\n",
       "      <td>3.0</td>\n",
       "    </tr>\n",
       "  </tbody>\n",
       "</table>\n",
       "</div>"
      ],
      "text/plain": [
       "      fixed.acidity  volatile.acidity  citric.acid  residual.sugar  chlorides  \\\n",
       "2033           7.40              0.19         0.31            14.5      0.045   \n",
       "2034           6.70              0.36         0.26             7.9      0.034   \n",
       "2035           7.70              0.28         0.35            15.3      0.056   \n",
       "2036           5.70              0.22         0.28             1.3      0.027   \n",
       "2037           8.19              1.27         0.39             1.9      0.480   \n",
       "2038           7.59              1.22         0.40             2.2      0.580   \n",
       "2039           8.29              1.28         0.40             1.7      0.470   \n",
       "2040           8.09              1.25         0.41             2.3      0.460   \n",
       "\n",
       "      free.sulfur.dioxide  total.sulfur.dioxide  density    pH  sulphates  \\\n",
       "2033                39.00                193.00  0.99860  3.10       0.50   \n",
       "2034                39.00                123.00  0.99119  2.99       0.30   \n",
       "2035                31.00                117.00  0.99980  3.27       0.50   \n",
       "2036                26.00                101.00  0.98948  3.35       0.38   \n",
       "2037                25.39                 67.39  1.38100  3.22       1.07   \n",
       "2038                15.39                 60.39  1.38600  3.52       0.94   \n",
       "2039                22.39                 57.39  1.38700  3.26       1.03   \n",
       "2040                11.39                 38.39  1.38400  3.12       0.47   \n",
       "\n",
       "      alcohol  quality  \n",
       "2033     9.20      6.0  \n",
       "2034    12.20      7.0  \n",
       "2035     9.60      5.0  \n",
       "2036    12.50      7.0  \n",
       "2037    10.19      5.0  \n",
       "2038     9.99      6.0  \n",
       "2039    10.19      2.0  \n",
       "2040     9.79      3.0  "
      ]
     },
     "execution_count": 10,
     "metadata": {},
     "output_type": "execute_result"
    }
   ],
   "source": [
    "new_data.iloc[-8:]\n"
   ]
  },
  {
   "cell_type": "code",
   "execution_count": 11,
   "id": "f9eca0fd",
   "metadata": {
    "scrolled": true
   },
   "outputs": [
    {
     "name": "stdout",
     "output_type": "stream",
     "text": [
      "<class 'pandas.core.frame.DataFrame'>\n",
      "RangeIndex: 2041 entries, 0 to 2040\n",
      "Data columns (total 12 columns):\n",
      " #   Column                Non-Null Count  Dtype  \n",
      "---  ------                --------------  -----  \n",
      " 0   fixed.acidity         2041 non-null   float64\n",
      " 1   volatile.acidity      2041 non-null   float64\n",
      " 2   citric.acid           2041 non-null   float64\n",
      " 3   residual.sugar        2041 non-null   float64\n",
      " 4   chlorides             2041 non-null   float64\n",
      " 5   free.sulfur.dioxide   2041 non-null   float64\n",
      " 6   total.sulfur.dioxide  2041 non-null   float64\n",
      " 7   density               2041 non-null   float64\n",
      " 8   pH                    2041 non-null   float64\n",
      " 9   sulphates             2041 non-null   float64\n",
      " 10  alcohol               2041 non-null   float64\n",
      " 11  quality               2041 non-null   float64\n",
      "dtypes: float64(12)\n",
      "memory usage: 191.5 KB\n"
     ]
    }
   ],
   "source": [
    "new_data.info()"
   ]
  },
  {
   "cell_type": "markdown",
   "id": "ca2331f9",
   "metadata": {},
   "source": [
    "# Changed Column Name for Ease"
   ]
  },
  {
   "cell_type": "code",
   "execution_count": 12,
   "id": "2157bcfe",
   "metadata": {},
   "outputs": [],
   "source": [
    "new_data.columns = ['fixed_acidity', 'volatile_acidity', 'citric_acid', 'residual_sugar', 'chlorides', 'free_sulfur_dioxide', 'total_sulfur_dioxide', 'density', 'pH', 'sulphates', 'alcohol', 'quality'   ]"
   ]
  },
  {
   "cell_type": "code",
   "execution_count": 13,
   "id": "91273b56",
   "metadata": {},
   "outputs": [
    {
     "name": "stdout",
     "output_type": "stream",
     "text": [
      "<class 'pandas.core.frame.DataFrame'>\n",
      "RangeIndex: 2041 entries, 0 to 2040\n",
      "Data columns (total 12 columns):\n",
      " #   Column                Non-Null Count  Dtype  \n",
      "---  ------                --------------  -----  \n",
      " 0   fixed_acidity         2041 non-null   float64\n",
      " 1   volatile_acidity      2041 non-null   float64\n",
      " 2   citric_acid           2041 non-null   float64\n",
      " 3   residual_sugar        2041 non-null   float64\n",
      " 4   chlorides             2041 non-null   float64\n",
      " 5   free_sulfur_dioxide   2041 non-null   float64\n",
      " 6   total_sulfur_dioxide  2041 non-null   float64\n",
      " 7   density               2041 non-null   float64\n",
      " 8   pH                    2041 non-null   float64\n",
      " 9   sulphates             2041 non-null   float64\n",
      " 10  alcohol               2041 non-null   float64\n",
      " 11  quality               2041 non-null   float64\n",
      "dtypes: float64(12)\n",
      "memory usage: 191.5 KB\n"
     ]
    }
   ],
   "source": [
    "new_data.info()"
   ]
  },
  {
   "cell_type": "markdown",
   "id": "0aaa202e",
   "metadata": {},
   "source": [
    "# Answer 4:"
   ]
  },
  {
   "cell_type": "markdown",
   "id": "e5f074e1",
   "metadata": {},
   "source": [
    "# Suitable Plotting"
   ]
  },
  {
   "cell_type": "code",
   "execution_count": 14,
   "id": "ad7036da",
   "metadata": {},
   "outputs": [
    {
     "data": {
      "text/plain": [
       "<AxesSubplot:>"
      ]
     },
     "execution_count": 14,
     "metadata": {},
     "output_type": "execute_result"
    },
    {
     "data": {
      "image/png": "[encoded data removed]",
      "text/plain": [
       "<Figure size 432x288 with 1 Axes>"
      ]
     },
     "metadata": {
      "needs_background": "light"
     },
     "output_type": "display_data"
    }
   ],
   "source": [
    "new_data.boxplot()"
   ]
  },
  {
   "cell_type": "code",
   "execution_count": 15,
   "id": "87d3ecf5",
   "metadata": {},
   "outputs": [
    {
     "data": {
      "image/png": "[encoded data removed]",
      "text/plain": [
       "<Figure size 720x720 with 12 Axes>"
      ]
     },
     "metadata": {
      "needs_background": "light"
     },
     "output_type": "display_data"
    }
   ],
   "source": [
    "new_data.hist(bins=25,figsize=(10,10))\n",
    "# display histogram\n",
    "plt.show()"
   ]
  },
  {
   "cell_type": "markdown",
   "id": "d2884ce9",
   "metadata": {},
   "source": [
    "# Checked Specific Column for Better Visualization"
   ]
  },
  {
   "cell_type": "code",
   "execution_count": 16,
   "id": "faa61a53",
   "metadata": {},
   "outputs": [
    {
     "data": {
      "text/plain": [
       "<AxesSubplot:>"
      ]
     },
     "execution_count": 16,
     "metadata": {},
     "output_type": "execute_result"
    },
    {
     "data": {
      "image/png": "[encoded data removed]",
      "text/plain": [
       "<Figure size 432x288 with 1 Axes>"
      ]
     },
     "metadata": {
      "needs_background": "light"
     },
     "output_type": "display_data"
    }
   ],
   "source": [
    "new_data.boxplot('fixed_acidity')"
   ]
  },
  {
   "cell_type": "markdown",
   "id": "5d17dbe2",
   "metadata": {},
   "source": [
    "# Found Outlier in The fixed_acidity Column. Found IQR To Remove The outlier."
   ]
  },
  {
   "cell_type": "code",
   "execution_count": 17,
   "id": "dded80e7",
   "metadata": {},
   "outputs": [
    {
     "name": "stdout",
     "output_type": "stream",
     "text": [
      "1.0\n"
     ]
    }
   ],
   "source": [
    "#Finding IQR for the removal of outliers of the values of fixed|_acidity column\n",
    "sort_data = np.sort(new_data['fixed_acidity'])\n",
    "Q1 = np.percentile(new_data['fixed_acidity'], 25, \n",
    "                   interpolation = 'midpoint') \n",
    "  \n",
    "Q3 = np.percentile(new_data['fixed_acidity'], 75,\n",
    "                   interpolation = 'midpoint') \n",
    "IQR = Q3 - Q1 \n",
    "print(IQR)"
   ]
  },
  {
   "cell_type": "code",
   "execution_count": 18,
   "id": "9b19b904",
   "metadata": {},
   "outputs": [
    {
     "name": "stdout",
     "output_type": "stream",
     "text": [
      "Low_limit is: 4.8\n",
      "Upper limit is: 8.8\n",
      "Q1: 6.3\n",
      "Q3: 7.3\n"
     ]
    }
   ],
   "source": [
    "low_lim = Q1 - 1.5*IQR \n",
    "up_lim = Q3 + 1.5*IQR \n",
    "# Printing Results\n",
    "print('Low_limit is:', low_lim )\n",
    "print('Upper limit is:', up_lim)\n",
    "print('Q1:', Q1)\n",
    "print('Q3:', Q3)"
   ]
  },
  {
   "cell_type": "code",
   "execution_count": 19,
   "id": "088682a2",
   "metadata": {},
   "outputs": [
    {
     "name": "stdout",
     "output_type": "stream",
     "text": [
      "313     8.8\n",
      "425     8.8\n",
      "798     8.8\n",
      "839     4.8\n",
      "879     8.8\n",
      "1051    4.4\n",
      "1205    8.8\n",
      "1275    8.8\n",
      "1288    4.8\n",
      "1324    8.8\n",
      "1496    4.8\n",
      "1597    8.8\n",
      "1736    4.8\n",
      "1838    4.7\n",
      "2016    4.8\n",
      "Name: fixed_acidity, dtype: float64\n"
     ]
    }
   ],
   "source": [
    "outliers = new_data.fixed_acidity[(new_data.fixed_acidity >= up_lim) | (new_data.fixed_acidity <= low_lim )]\n",
    "print(outliers)\n"
   ]
  },
  {
   "cell_type": "code",
   "execution_count": 20,
   "id": "bf1bb9cc",
   "metadata": {},
   "outputs": [
    {
     "data": {
      "text/plain": [
       "(2041, 12)"
      ]
     },
     "execution_count": 20,
     "metadata": {},
     "output_type": "execute_result"
    }
   ],
   "source": [
    "new_data.shape "
   ]
  },
  {
   "cell_type": "markdown",
   "id": "f178c3a4",
   "metadata": {},
   "source": [
    "# Dropping outliers for fixed_acidity Column"
   ]
  },
  {
   "cell_type": "code",
   "execution_count": 21,
   "id": "e14a65d4",
   "metadata": {},
   "outputs": [
    {
     "data": {
      "text/plain": [
       "(2033, 12)"
      ]
     },
     "execution_count": 21,
     "metadata": {},
     "output_type": "execute_result"
    }
   ],
   "source": [
    "#dropping the outliers\n",
    "new_data.drop(new_data[new_data['fixed_acidity']>= 8.8].index, inplace = True)\n",
    "new_data.shape "
   ]
  },
  {
   "cell_type": "code",
   "execution_count": 22,
   "id": "f6140790",
   "metadata": {},
   "outputs": [
    {
     "data": {
      "text/plain": [
       "(2026, 12)"
      ]
     },
     "execution_count": 22,
     "metadata": {},
     "output_type": "execute_result"
    }
   ],
   "source": [
    "#dropping the outliers\n",
    "new_data.drop(new_data[new_data['fixed_acidity']<= 4.8].index, inplace = True)\n",
    "new_data.shape "
   ]
  },
  {
   "cell_type": "markdown",
   "id": "aa62d49d",
   "metadata": {},
   "source": [
    "# Verifying the fixed_acidity Boxplot again to be sure about Outlier Removal"
   ]
  },
  {
   "cell_type": "code",
   "execution_count": 23,
   "id": "d9e32587",
   "metadata": {},
   "outputs": [
    {
     "data": {
      "text/plain": [
       "<AxesSubplot:>"
      ]
     },
     "execution_count": 23,
     "metadata": {},
     "output_type": "execute_result"
    },
    {
     "data": {
      "image/png": "[encoded data removed]",
      "text/plain": [
       "<Figure size 432x288 with 1 Axes>"
      ]
     },
     "metadata": {
      "needs_background": "light"
     },
     "output_type": "display_data"
    }
   ],
   "source": [
    "new_data.boxplot('fixed_acidity')"
   ]
  },
  {
   "cell_type": "markdown",
   "id": "cf687d17",
   "metadata": {},
   "source": [
    "# Everything is OK. Proceed to Next Outlier Removal for other columns."
   ]
  },
  {
   "cell_type": "markdown",
   "id": "bcaf899b",
   "metadata": {},
   "source": [
    "# Steps for volatile_acidity Column"
   ]
  },
  {
   "cell_type": "code",
   "execution_count": 24,
   "id": "f30ad121",
   "metadata": {},
   "outputs": [
    {
     "data": {
      "text/plain": [
       "<AxesSubplot:>"
      ]
     },
     "execution_count": 24,
     "metadata": {},
     "output_type": "execute_result"
    },
    {
     "data": {
      "image/png": "[encoded data removed]",
      "text/plain": [
       "<Figure size 432x288 with 1 Axes>"
      ]
     },
     "metadata": {
      "needs_background": "light"
     },
     "output_type": "display_data"
    }
   ],
   "source": [
    "new_data.boxplot('volatile_acidity')"
   ]
  },
  {
   "cell_type": "code",
   "execution_count": 25,
   "id": "307909a2",
   "metadata": {},
   "outputs": [
    {
     "name": "stdout",
     "output_type": "stream",
     "text": [
      "0.1\n"
     ]
    }
   ],
   "source": [
    "#Finding IQR for the removal of outliers of the values of volatile_acidity column\n",
    "sort_data = np.sort(new_data['volatile_acidity'])\n",
    "Q1 = np.percentile(new_data['volatile_acidity'], 25, \n",
    "                   interpolation = 'midpoint') \n",
    "  \n",
    "Q3 = np.percentile(new_data['volatile_acidity'], 75,\n",
    "                   interpolation = 'midpoint') \n",
    "IQR = Q3 - Q1 \n",
    "print(IQR)"
   ]
  },
  {
   "cell_type": "code",
   "execution_count": 26,
   "id": "ee4623e8",
   "metadata": {},
   "outputs": [
    {
     "name": "stdout",
     "output_type": "stream",
     "text": [
      "Low_limit is: 0.05999999999999997\n",
      "Upper limit is: 0.46\n",
      "Q1: 0.21\n",
      "Q3: 0.31\n"
     ]
    }
   ],
   "source": [
    "low_lim = Q1 - 1.5*IQR \n",
    "up_lim = Q3 + 1.5*IQR \n",
    "# Printing Results\n",
    "print('Low_limit is:', low_lim )\n",
    "print('Upper limit is:', up_lim)\n",
    "print('Q1:', Q1)\n",
    "print('Q3:', Q3)"
   ]
  },
  {
   "cell_type": "code",
   "execution_count": 27,
   "id": "51f3a110",
   "metadata": {},
   "outputs": [
    {
     "name": "stdout",
     "output_type": "stream",
     "text": [
      "99      0.470\n",
      "162     0.460\n",
      "204     0.460\n",
      "237     0.480\n",
      "456     0.470\n",
      "483     0.460\n",
      "491     0.470\n",
      "498     0.460\n",
      "499     0.485\n",
      "602     0.460\n",
      "634     0.460\n",
      "742     0.470\n",
      "842     0.460\n",
      "845     0.475\n",
      "854     0.460\n",
      "860     0.480\n",
      "1010    0.460\n",
      "1029    0.480\n",
      "1122    0.480\n",
      "1312    0.460\n",
      "1340    0.460\n",
      "1378    0.480\n",
      "1380    0.470\n",
      "1412    0.460\n",
      "1455    0.460\n",
      "1529    0.460\n",
      "1668    0.460\n",
      "1696    0.480\n",
      "1710    0.480\n",
      "1852    0.480\n",
      "1864    0.480\n",
      "1877    0.470\n",
      "1892    0.460\n",
      "1969    0.460\n",
      "2037    1.270\n",
      "2038    1.220\n",
      "2039    1.280\n",
      "2040    1.250\n",
      "Name: volatile_acidity, dtype: float64\n"
     ]
    }
   ],
   "source": [
    "outliers = new_data.volatile_acidity[(new_data.volatile_acidity >= up_lim) | (new_data.volatile_acidity <= low_lim )]\n",
    "print(outliers)"
   ]
  },
  {
   "cell_type": "code",
   "execution_count": 28,
   "id": "f061fda7",
   "metadata": {},
   "outputs": [
    {
     "data": {
      "text/plain": [
       "(2026, 12)"
      ]
     },
     "execution_count": 28,
     "metadata": {},
     "output_type": "execute_result"
    }
   ],
   "source": [
    "new_data.shape "
   ]
  },
  {
   "cell_type": "code",
   "execution_count": 29,
   "id": "172647cd",
   "metadata": {},
   "outputs": [
    {
     "data": {
      "text/plain": [
       "(1988, 12)"
      ]
     },
     "execution_count": 29,
     "metadata": {},
     "output_type": "execute_result"
    }
   ],
   "source": [
    "#dropping the outliers\n",
    "new_data.drop(new_data[new_data['volatile_acidity']>= 0.46].index, inplace = True)\n",
    "new_data.shape "
   ]
  },
  {
   "cell_type": "code",
   "execution_count": 30,
   "id": "fc054a57",
   "metadata": {},
   "outputs": [
    {
     "data": {
      "text/plain": [
       "(1988, 12)"
      ]
     },
     "execution_count": 30,
     "metadata": {},
     "output_type": "execute_result"
    }
   ],
   "source": [
    "#dropping the outliers\n",
    "new_data.drop(new_data[new_data['volatile_acidity']<= 0.05999999999999997].index, inplace = True)\n",
    "new_data.shape "
   ]
  },
  {
   "cell_type": "code",
   "execution_count": 31,
   "id": "f558f34b",
   "metadata": {},
   "outputs": [
    {
     "data": {
      "text/plain": [
       "<AxesSubplot:>"
      ]
     },
     "execution_count": 31,
     "metadata": {},
     "output_type": "execute_result"
    },
    {
     "data": {
      "image/png": "[encoded data removed]",
      "text/plain": [
       "<Figure size 432x288 with 1 Axes>"
      ]
     },
     "metadata": {
      "needs_background": "light"
     },
     "output_type": "display_data"
    }
   ],
   "source": [
    "new_data.boxplot('volatile_acidity')"
   ]
  },
  {
   "cell_type": "markdown",
   "id": "aa164a51",
   "metadata": {},
   "source": [
    "# Steps for citric_acid Column"
   ]
  },
  {
   "cell_type": "code",
   "execution_count": 32,
   "id": "223b43f9",
   "metadata": {},
   "outputs": [
    {
     "data": {
      "text/plain": [
       "<AxesSubplot:>"
      ]
     },
     "execution_count": 32,
     "metadata": {},
     "output_type": "execute_result"
    },
    {
     "data": {
      "image/png": "[encoded data removed]",
      "text/plain": [
       "<Figure size 432x288 with 1 Axes>"
      ]
     },
     "metadata": {
      "needs_background": "light"
     },
     "output_type": "display_data"
    }
   ],
   "source": [
    "new_data.boxplot('citric_acid')"
   ]
  },
  {
   "cell_type": "code",
   "execution_count": 33,
   "id": "ecafe0b9",
   "metadata": {},
   "outputs": [
    {
     "name": "stdout",
     "output_type": "stream",
     "text": [
      "0.10999999999999999\n"
     ]
    }
   ],
   "source": [
    "#Finding IQR for the removal of outliers of the values of citric_acid column\n",
    "sort_data = np.sort(new_data['citric_acid'])\n",
    "Q1 = np.percentile(new_data['citric_acid'], 25, \n",
    "                   interpolation = 'midpoint') \n",
    "  \n",
    "Q3 = np.percentile(new_data['citric_acid'], 75,\n",
    "                   interpolation = 'midpoint') \n",
    "IQR = Q3 - Q1 \n",
    "print(IQR)"
   ]
  },
  {
   "cell_type": "code",
   "execution_count": 34,
   "id": "9473177a",
   "metadata": {},
   "outputs": [
    {
     "name": "stdout",
     "output_type": "stream",
     "text": [
      "Low_limit is: 0.10500000000000004\n",
      "Upper limit is: 0.5449999999999999\n",
      "Q1: 0.27\n",
      "Q3: 0.38\n"
     ]
    }
   ],
   "source": [
    "low_lim = Q1 - 1.5*IQR \n",
    "up_lim = Q3 + 1.5*IQR \n",
    "# Printing Results\n",
    "print('Low_limit is:', low_lim )\n",
    "print('Upper limit is:', up_lim)\n",
    "print('Q1:', Q1)\n",
    "print('Q3:', Q3)"
   ]
  },
  {
   "cell_type": "code",
   "execution_count": 35,
   "id": "17fbc8a8",
   "metadata": {},
   "outputs": [
    {
     "name": "stdout",
     "output_type": "stream",
     "text": [
      "82      0.07\n",
      "131     0.56\n",
      "135     0.00\n",
      "194     0.07\n",
      "222     0.56\n",
      "239     0.10\n",
      "247     0.55\n",
      "257     0.56\n",
      "266     0.09\n",
      "294     0.56\n",
      "356     0.07\n",
      "376     0.10\n",
      "404     0.56\n",
      "426     0.02\n",
      "445     0.55\n",
      "676     0.07\n",
      "698     0.06\n",
      "717     0.56\n",
      "865     0.10\n",
      "1011    0.01\n",
      "1076    0.01\n",
      "1094    0.57\n",
      "1114    0.57\n",
      "1242    0.04\n",
      "1260    0.01\n",
      "1262    0.57\n",
      "1263    0.56\n",
      "1277    0.00\n",
      "1310    0.10\n",
      "1346    0.09\n",
      "1368    0.55\n",
      "1370    0.56\n",
      "1371    0.04\n",
      "1395    0.05\n",
      "1463    0.57\n",
      "1470    0.10\n",
      "1517    0.55\n",
      "1544    0.56\n",
      "1571    0.56\n",
      "1596    0.10\n",
      "1623    0.00\n",
      "1666    0.57\n",
      "1708    0.56\n",
      "1800    0.09\n",
      "1813    0.56\n",
      "1826    0.09\n",
      "1867    0.04\n",
      "1933    0.56\n",
      "Name: citric_acid, dtype: float64\n"
     ]
    }
   ],
   "source": [
    "outliers = new_data.citric_acid[(new_data.citric_acid >= up_lim) | (new_data.citric_acid <= low_lim )]\n",
    "print(outliers)"
   ]
  },
  {
   "cell_type": "code",
   "execution_count": 36,
   "id": "3de57ac0",
   "metadata": {},
   "outputs": [
    {
     "data": {
      "text/plain": [
       "(1988, 12)"
      ]
     },
     "execution_count": 36,
     "metadata": {},
     "output_type": "execute_result"
    }
   ],
   "source": [
    "new_data.shape "
   ]
  },
  {
   "cell_type": "code",
   "execution_count": 37,
   "id": "afc35c05",
   "metadata": {},
   "outputs": [
    {
     "data": {
      "text/plain": [
       "(1966, 12)"
      ]
     },
     "execution_count": 37,
     "metadata": {},
     "output_type": "execute_result"
    }
   ],
   "source": [
    "#dropping the outliers\n",
    "new_data.drop(new_data[new_data['citric_acid']>= 0.5449999999999999].index, inplace = True)\n",
    "new_data.shape"
   ]
  },
  {
   "cell_type": "code",
   "execution_count": 38,
   "id": "9c5d09b1",
   "metadata": {},
   "outputs": [
    {
     "data": {
      "text/plain": [
       "(1940, 12)"
      ]
     },
     "execution_count": 38,
     "metadata": {},
     "output_type": "execute_result"
    }
   ],
   "source": [
    "#dropping the outliers\n",
    "new_data.drop(new_data[new_data['citric_acid']<= 0.10500000000000004].index, inplace = True)\n",
    "new_data.shape "
   ]
  },
  {
   "cell_type": "code",
   "execution_count": 39,
   "id": "cd8378f1",
   "metadata": {},
   "outputs": [
    {
     "data": {
      "text/plain": [
       "<AxesSubplot:>"
      ]
     },
     "execution_count": 39,
     "metadata": {},
     "output_type": "execute_result"
    },
    {
     "data": {
      "image/png": "[encoded data removed]",
      "text/plain": [
       "<Figure size 432x288 with 1 Axes>"
      ]
     },
     "metadata": {
      "needs_background": "light"
     },
     "output_type": "display_data"
    }
   ],
   "source": [
    "new_data.boxplot('citric_acid')"
   ]
  },
  {
   "cell_type": "markdown",
   "id": "f9eb997c",
   "metadata": {},
   "source": [
    "# Steps for residual_sugar Column. (No Outlier Found.) Continue to next Column."
   ]
  },
  {
   "cell_type": "code",
   "execution_count": 40,
   "id": "daac0449",
   "metadata": {},
   "outputs": [
    {
     "data": {
      "text/plain": [
       "<AxesSubplot:>"
      ]
     },
     "execution_count": 40,
     "metadata": {},
     "output_type": "execute_result"
    },
    {
     "data": {
      "image/png": "[encoded data removed]",
      "text/plain": [
       "<Figure size 432x288 with 1 Axes>"
      ]
     },
     "metadata": {
      "needs_background": "light"
     },
     "output_type": "display_data"
    }
   ],
   "source": [
    "new_data.boxplot('residual_sugar')\n"
   ]
  },
  {
   "cell_type": "markdown",
   "id": "8f645f11",
   "metadata": {},
   "source": [
    "# Steps for chlorides Column "
   ]
  },
  {
   "cell_type": "code",
   "execution_count": 41,
   "id": "962d9476",
   "metadata": {},
   "outputs": [
    {
     "data": {
      "text/plain": [
       "<AxesSubplot:>"
      ]
     },
     "execution_count": 41,
     "metadata": {},
     "output_type": "execute_result"
    },
    {
     "data": {
      "image/png": "[encoded data removed]",
      "text/plain": [
       "<Figure size 432x288 with 1 Axes>"
      ]
     },
     "metadata": {
      "needs_background": "light"
     },
     "output_type": "display_data"
    }
   ],
   "source": [
    "new_data.boxplot('chlorides')\n"
   ]
  },
  {
   "cell_type": "code",
   "execution_count": 42,
   "id": "e45af1c6",
   "metadata": {},
   "outputs": [
    {
     "name": "stdout",
     "output_type": "stream",
     "text": [
      "0.013999999999999999\n"
     ]
    }
   ],
   "source": [
    "#Finding IQR for the removal of outliers of the values of chlorides column\n",
    "sort_data = np.sort(new_data['chlorides'])\n",
    "Q1 = np.percentile(new_data['chlorides'], 25, \n",
    "                   interpolation = 'midpoint') \n",
    "  \n",
    "Q3 = np.percentile(new_data['chlorides'], 75,\n",
    "                   interpolation = 'midpoint') \n",
    "IQR = Q3 - Q1 \n",
    "print(IQR)"
   ]
  },
  {
   "cell_type": "code",
   "execution_count": 43,
   "id": "625cab3e",
   "metadata": {},
   "outputs": [
    {
     "name": "stdout",
     "output_type": "stream",
     "text": [
      "Low_limit is: 0.014000000000000005\n",
      "Upper limit is: 0.07\n",
      "Q1: 0.035\n",
      "Q3: 0.049\n"
     ]
    }
   ],
   "source": [
    "low_lim = Q1 - 1.5*IQR \n",
    "up_lim = Q3 + 1.5*IQR \n",
    "# Printing Results\n",
    "print('Low_limit is:', low_lim )\n",
    "print('Upper limit is:', up_lim)\n",
    "print('Q1:', Q1)\n",
    "print('Q3:', Q3)"
   ]
  },
  {
   "cell_type": "code",
   "execution_count": 44,
   "id": "42ad5483",
   "metadata": {},
   "outputs": [
    {
     "name": "stdout",
     "output_type": "stream",
     "text": [
      "92      0.27\n",
      "117     0.28\n",
      "400     0.41\n",
      "542     0.30\n",
      "1250    0.30\n",
      "1444    0.30\n",
      "1734    0.28\n",
      "Name: citric_acid, dtype: float64\n"
     ]
    }
   ],
   "source": [
    "outliers = new_data.citric_acid[(new_data.chlorides >= up_lim) | (new_data.chlorides <= low_lim )]\n",
    "print(outliers)"
   ]
  },
  {
   "cell_type": "code",
   "execution_count": 45,
   "id": "8d87e355",
   "metadata": {},
   "outputs": [
    {
     "data": {
      "text/plain": [
       "(1940, 12)"
      ]
     },
     "execution_count": 45,
     "metadata": {},
     "output_type": "execute_result"
    }
   ],
   "source": [
    "new_data.shape "
   ]
  },
  {
   "cell_type": "code",
   "execution_count": 46,
   "id": "cf2f6f2b",
   "metadata": {},
   "outputs": [
    {
     "data": {
      "text/plain": [
       "(1935, 12)"
      ]
     },
     "execution_count": 46,
     "metadata": {},
     "output_type": "execute_result"
    }
   ],
   "source": [
    "#dropping the outliers\n",
    "new_data.drop(new_data[new_data['chlorides']>= 0.07].index, inplace = True)\n",
    "new_data.shape"
   ]
  },
  {
   "cell_type": "code",
   "execution_count": 47,
   "id": "097a32c1",
   "metadata": {},
   "outputs": [
    {
     "data": {
      "text/plain": [
       "(1933, 12)"
      ]
     },
     "execution_count": 47,
     "metadata": {},
     "output_type": "execute_result"
    }
   ],
   "source": [
    "#dropping the outliers\n",
    "new_data.drop(new_data[new_data['chlorides']<= 0.014000000000000005].index, inplace = True)\n",
    "new_data.shape "
   ]
  },
  {
   "cell_type": "code",
   "execution_count": 48,
   "id": "8fd51f54",
   "metadata": {},
   "outputs": [
    {
     "data": {
      "text/plain": [
       "<AxesSubplot:>"
      ]
     },
     "execution_count": 48,
     "metadata": {},
     "output_type": "execute_result"
    },
    {
     "data": {
      "image/png": "[encoded data removed]",
      "text/plain": [
       "<Figure size 432x288 with 1 Axes>"
      ]
     },
     "metadata": {
      "needs_background": "light"
     },
     "output_type": "display_data"
    }
   ],
   "source": [
    "new_data.boxplot('chlorides')"
   ]
  },
  {
   "cell_type": "markdown",
   "id": "54731bef",
   "metadata": {},
   "source": [
    "# Steps for free_sulfur_dioxide Column"
   ]
  },
  {
   "cell_type": "code",
   "execution_count": 49,
   "id": "74b995a4",
   "metadata": {},
   "outputs": [
    {
     "data": {
      "text/plain": [
       "<AxesSubplot:>"
      ]
     },
     "execution_count": 49,
     "metadata": {},
     "output_type": "execute_result"
    },
    {
     "data": {
      "image/png": "[encoded data removed]",
      "text/plain": [
       "<Figure size 432x288 with 1 Axes>"
      ]
     },
     "metadata": {
      "needs_background": "light"
     },
     "output_type": "display_data"
    }
   ],
   "source": [
    "new_data.boxplot('free_sulfur_dioxide')"
   ]
  },
  {
   "cell_type": "code",
   "execution_count": 50,
   "id": "b1072e24",
   "metadata": {},
   "outputs": [
    {
     "name": "stdout",
     "output_type": "stream",
     "text": [
      "21.0\n"
     ]
    }
   ],
   "source": [
    "#Finding IQR for the removal of outliers of the values of free_sulfur_dioxide column\n",
    "sort_data = np.sort(new_data['free_sulfur_dioxide'])\n",
    "Q1 = np.percentile(new_data['free_sulfur_dioxide'], 25, \n",
    "                   interpolation = 'midpoint') \n",
    "  \n",
    "Q3 = np.percentile(new_data['free_sulfur_dioxide'], 75,\n",
    "                   interpolation = 'midpoint') \n",
    "IQR = Q3 - Q1 \n",
    "print(IQR)"
   ]
  },
  {
   "cell_type": "code",
   "execution_count": 51,
   "id": "4944b4da",
   "metadata": {},
   "outputs": [
    {
     "name": "stdout",
     "output_type": "stream",
     "text": [
      "Low_limit is: -7.5\n",
      "Upper limit is: 76.5\n",
      "Q1: 24.0\n",
      "Q3: 45.0\n"
     ]
    }
   ],
   "source": [
    "low_lim = Q1 - 1.5*IQR \n",
    "up_lim = Q3 + 1.5*IQR \n",
    "# Printing Results\n",
    "print('Low_limit is:', low_lim )\n",
    "print('Upper limit is:', up_lim)\n",
    "print('Q1:', Q1)\n",
    "print('Q3:', Q3)"
   ]
  },
  {
   "cell_type": "code",
   "execution_count": 52,
   "id": "3633e2a3",
   "metadata": {},
   "outputs": [
    {
     "name": "stdout",
     "output_type": "stream",
     "text": [
      "1618    0.48\n",
      "1931    0.50\n",
      "Name: citric_acid, dtype: float64\n"
     ]
    }
   ],
   "source": [
    "outliers = new_data.citric_acid[(new_data.free_sulfur_dioxide >= up_lim) | (new_data.free_sulfur_dioxide <= low_lim )]\n",
    "print(outliers)"
   ]
  },
  {
   "cell_type": "code",
   "execution_count": 53,
   "id": "ab8d8198",
   "metadata": {},
   "outputs": [
    {
     "data": {
      "text/plain": [
       "(1933, 12)"
      ]
     },
     "execution_count": 53,
     "metadata": {},
     "output_type": "execute_result"
    }
   ],
   "source": [
    "new_data.shape "
   ]
  },
  {
   "cell_type": "code",
   "execution_count": 54,
   "id": "055221e9",
   "metadata": {},
   "outputs": [
    {
     "data": {
      "text/plain": [
       "(1931, 12)"
      ]
     },
     "execution_count": 54,
     "metadata": {},
     "output_type": "execute_result"
    }
   ],
   "source": [
    "#dropping the outliers\n",
    "new_data.drop(new_data[new_data['free_sulfur_dioxide']>= 76.5].index, inplace = True)\n",
    "new_data.shape"
   ]
  },
  {
   "cell_type": "code",
   "execution_count": 55,
   "id": "c5755edc",
   "metadata": {},
   "outputs": [
    {
     "data": {
      "text/plain": [
       "(1931, 12)"
      ]
     },
     "execution_count": 55,
     "metadata": {},
     "output_type": "execute_result"
    }
   ],
   "source": [
    "#dropping the outliers\n",
    "new_data.drop(new_data[new_data['free_sulfur_dioxide']<= -7.55].index, inplace = True)\n",
    "new_data.shape "
   ]
  },
  {
   "cell_type": "code",
   "execution_count": 56,
   "id": "77ce5490",
   "metadata": {},
   "outputs": [
    {
     "data": {
      "text/plain": [
       "<AxesSubplot:>"
      ]
     },
     "execution_count": 56,
     "metadata": {},
     "output_type": "execute_result"
    },
    {
     "data": {
      "image/png": "[encoded data removed]",
      "text/plain": [
       "<Figure size 432x288 with 1 Axes>"
      ]
     },
     "metadata": {
      "needs_background": "light"
     },
     "output_type": "display_data"
    }
   ],
   "source": [
    "new_data.boxplot('free_sulfur_dioxide')"
   ]
  },
  {
   "cell_type": "markdown",
   "id": "3f0ccd17",
   "metadata": {},
   "source": [
    "# Steps for total_sulfur_dioxide Column . (No Outlier Found.) Continue to next Column."
   ]
  },
  {
   "cell_type": "code",
   "execution_count": 57,
   "id": "164fb287",
   "metadata": {},
   "outputs": [
    {
     "data": {
      "text/plain": [
       "<AxesSubplot:>"
      ]
     },
     "execution_count": 57,
     "metadata": {},
     "output_type": "execute_result"
    },
    {
     "data": {
      "image/png": "[encoded data removed]",
      "text/plain": [
       "<Figure size 432x288 with 1 Axes>"
      ]
     },
     "metadata": {
      "needs_background": "light"
     },
     "output_type": "display_data"
    }
   ],
   "source": [
    "new_data.boxplot('total_sulfur_dioxide')"
   ]
  },
  {
   "cell_type": "markdown",
   "id": "5195aea4",
   "metadata": {},
   "source": [
    "# Steps for density Column. (No Outlier Found.) Continue to next Column."
   ]
  },
  {
   "cell_type": "code",
   "execution_count": 58,
   "id": "13ff3f3c",
   "metadata": {},
   "outputs": [
    {
     "data": {
      "text/plain": [
       "<AxesSubplot:>"
      ]
     },
     "execution_count": 58,
     "metadata": {},
     "output_type": "execute_result"
    },
    {
     "data": {
      "image/png": "[encoded data removed]",
      "text/plain": [
       "<Figure size 432x288 with 1 Axes>"
      ]
     },
     "metadata": {
      "needs_background": "light"
     },
     "output_type": "display_data"
    }
   ],
   "source": [
    "new_data.boxplot('density')"
   ]
  },
  {
   "cell_type": "markdown",
   "id": "741499b1",
   "metadata": {},
   "source": [
    "# Steps for pH Column"
   ]
  },
  {
   "cell_type": "code",
   "execution_count": 59,
   "id": "1ac47d9a",
   "metadata": {},
   "outputs": [
    {
     "data": {
      "text/plain": [
       "<AxesSubplot:>"
      ]
     },
     "execution_count": 59,
     "metadata": {},
     "output_type": "execute_result"
    },
    {
     "data": {
      "image/png": "[encoded data removed]",
      "text/plain": [
       "<Figure size 432x288 with 1 Axes>"
      ]
     },
     "metadata": {
      "needs_background": "light"
     },
     "output_type": "display_data"
    }
   ],
   "source": [
    "new_data.boxplot('pH')"
   ]
  },
  {
   "cell_type": "code",
   "execution_count": 60,
   "id": "9aacecde",
   "metadata": {},
   "outputs": [
    {
     "name": "stdout",
     "output_type": "stream",
     "text": [
      "0.18999999999999995\n"
     ]
    }
   ],
   "source": [
    " #Finding IQR for the removal of outliers of the values of pH column\n",
    "sort_data = np.sort(new_data['pH'])\n",
    "Q1 = np.percentile(new_data['pH'], 25, \n",
    "                   interpolation = 'midpoint') \n",
    "  \n",
    "Q3 = np.percentile(new_data['pH'], 75,\n",
    "                   interpolation = 'midpoint') \n",
    "IQR = Q3 - Q1 \n",
    "print(IQR)"
   ]
  },
  {
   "cell_type": "code",
   "execution_count": 61,
   "id": "d27bdbb9",
   "metadata": {},
   "outputs": [
    {
     "name": "stdout",
     "output_type": "stream",
     "text": [
      "Low_limit is: 2.8049999999999997\n",
      "Upper limit is: 3.5649999999999995\n",
      "Q1: 3.09\n",
      "Q3: 3.28\n"
     ]
    }
   ],
   "source": [
    "low_lim = Q1 - 1.5*IQR \n",
    "up_lim = Q3 + 1.5*IQR \n",
    "# Printing Results\n",
    "print('Low_limit is:', low_lim )\n",
    "print('Upper limit is:', up_lim)\n",
    "print('Q1:', Q1)\n",
    "print('Q3:', Q3)"
   ]
  },
  {
   "cell_type": "code",
   "execution_count": 62,
   "id": "640b5bca",
   "metadata": {},
   "outputs": [
    {
     "name": "stdout",
     "output_type": "stream",
     "text": [
      "4      2.80\n",
      "133    2.79\n",
      "747    2.79\n",
      "Name: pH, dtype: float64\n"
     ]
    }
   ],
   "source": [
    "outliers = new_data.pH[(new_data.pH >= up_lim) | (new_data.pH <= low_lim )]\n",
    "print(outliers)"
   ]
  },
  {
   "cell_type": "code",
   "execution_count": 63,
   "id": "4446b2de",
   "metadata": {},
   "outputs": [
    {
     "data": {
      "text/plain": [
       "(1931, 12)"
      ]
     },
     "execution_count": 63,
     "metadata": {},
     "output_type": "execute_result"
    }
   ],
   "source": [
    "new_data.shape "
   ]
  },
  {
   "cell_type": "code",
   "execution_count": 64,
   "id": "d6d526a1",
   "metadata": {},
   "outputs": [
    {
     "data": {
      "text/plain": [
       "(1931, 12)"
      ]
     },
     "execution_count": 64,
     "metadata": {},
     "output_type": "execute_result"
    }
   ],
   "source": [
    "#dropping the outliers\n",
    "new_data.drop(new_data[new_data['pH']>= 3.5649999999999995].index, inplace = True)\n",
    "new_data.shape"
   ]
  },
  {
   "cell_type": "code",
   "execution_count": 65,
   "id": "294ddbb7",
   "metadata": {},
   "outputs": [
    {
     "data": {
      "text/plain": [
       "(1928, 12)"
      ]
     },
     "execution_count": 65,
     "metadata": {},
     "output_type": "execute_result"
    }
   ],
   "source": [
    "#dropping the outliers\n",
    "new_data.drop(new_data[new_data['pH']<= 2.8049999999999997].index, inplace = True)\n",
    "new_data.shape "
   ]
  },
  {
   "cell_type": "code",
   "execution_count": 66,
   "id": "c3157f84",
   "metadata": {},
   "outputs": [
    {
     "data": {
      "text/plain": [
       "<AxesSubplot:>"
      ]
     },
     "execution_count": 66,
     "metadata": {},
     "output_type": "execute_result"
    },
    {
     "data": {
      "image/png": "[encoded data removed]",
      "text/plain": [
       "<Figure size 432x288 with 1 Axes>"
      ]
     },
     "metadata": {
      "needs_background": "light"
     },
     "output_type": "display_data"
    }
   ],
   "source": [
    "new_data.boxplot('pH')"
   ]
  },
  {
   "cell_type": "markdown",
   "id": "0e963e58",
   "metadata": {},
   "source": [
    "# Steps for sulphates Column"
   ]
  },
  {
   "cell_type": "code",
   "execution_count": 67,
   "id": "154f7a73",
   "metadata": {},
   "outputs": [
    {
     "data": {
      "text/plain": [
       "<AxesSubplot:>"
      ]
     },
     "execution_count": 67,
     "metadata": {},
     "output_type": "execute_result"
    },
    {
     "data": {
      "image/png": "[encoded data removed]",
      "text/plain": [
       "<Figure size 432x288 with 1 Axes>"
      ]
     },
     "metadata": {
      "needs_background": "light"
     },
     "output_type": "display_data"
    }
   ],
   "source": [
    "new_data.boxplot('sulphates')"
   ]
  },
  {
   "cell_type": "code",
   "execution_count": 68,
   "id": "b57531be",
   "metadata": {},
   "outputs": [
    {
     "name": "stdout",
     "output_type": "stream",
     "text": [
      "0.13000000000000006\n"
     ]
    }
   ],
   "source": [
    " #Finding IQR for the removal of outliers of the values of sulphates column\n",
    "sort_data = np.sort(new_data['sulphates'])\n",
    "Q1 = np.percentile(new_data['sulphates'], 25, \n",
    "                   interpolation = 'midpoint') \n",
    "  \n",
    "Q3 = np.percentile(new_data['sulphates'], 75,\n",
    "                   interpolation = 'midpoint') \n",
    "IQR = Q3 - Q1 \n",
    "print(IQR)"
   ]
  },
  {
   "cell_type": "code",
   "execution_count": 69,
   "id": "dbadd15f",
   "metadata": {},
   "outputs": [
    {
     "name": "stdout",
     "output_type": "stream",
     "text": [
      "Low_limit is: 0.21499999999999989\n",
      "Upper limit is: 0.7350000000000001\n",
      "Q1: 0.41\n",
      "Q3: 0.54\n"
     ]
    }
   ],
   "source": [
    "low_lim = Q1 - 1.5*IQR \n",
    "up_lim = Q3 + 1.5*IQR \n",
    "# Printing Results\n",
    "print('Low_limit is:', low_lim )\n",
    "print('Upper limit is:', up_lim)\n",
    "print('Q1:', Q1)\n",
    "print('Q3:', Q3)"
   ]
  },
  {
   "cell_type": "code",
   "execution_count": 70,
   "id": "d5ecda26",
   "metadata": {},
   "outputs": [
    {
     "name": "stdout",
     "output_type": "stream",
     "text": [
      "70      0.75\n",
      "157     0.75\n",
      "241     0.74\n",
      "420     0.75\n",
      "741     0.75\n",
      "824     0.76\n",
      "947     0.75\n",
      "1152    0.76\n",
      "1230    0.75\n",
      "1266    0.76\n",
      "1292    0.76\n",
      "1298    0.74\n",
      "1337    0.74\n",
      "1350    0.75\n",
      "1471    0.75\n",
      "1521    0.75\n",
      "1549    0.74\n",
      "1651    0.74\n",
      "1748    0.75\n",
      "1818    0.74\n",
      "1875    0.76\n",
      "1889    0.75\n",
      "1943    0.76\n",
      "Name: sulphates, dtype: float64\n"
     ]
    }
   ],
   "source": [
    "outliers = new_data.sulphates[(new_data.sulphates >= up_lim) | (new_data.sulphates <= low_lim )]\n",
    "print(outliers)"
   ]
  },
  {
   "cell_type": "code",
   "execution_count": 71,
   "id": "0727da6a",
   "metadata": {},
   "outputs": [
    {
     "data": {
      "text/plain": [
       "(1928, 12)"
      ]
     },
     "execution_count": 71,
     "metadata": {},
     "output_type": "execute_result"
    }
   ],
   "source": [
    "new_data.shape "
   ]
  },
  {
   "cell_type": "code",
   "execution_count": 72,
   "id": "e3e5bc81",
   "metadata": {},
   "outputs": [
    {
     "data": {
      "text/plain": [
       "(1905, 12)"
      ]
     },
     "execution_count": 72,
     "metadata": {},
     "output_type": "execute_result"
    }
   ],
   "source": [
    "#dropping the outliers\n",
    "new_data.drop(new_data[new_data['sulphates']>= 0.7350000000000001].index, inplace = True)\n",
    "new_data.shape"
   ]
  },
  {
   "cell_type": "code",
   "execution_count": 73,
   "id": "cb2d4d8e",
   "metadata": {},
   "outputs": [
    {
     "data": {
      "text/plain": [
       "(1905, 12)"
      ]
     },
     "execution_count": 73,
     "metadata": {},
     "output_type": "execute_result"
    }
   ],
   "source": [
    "#dropping the outliers\n",
    "new_data.drop(new_data[new_data['sulphates']<= 0.21499999999999989].index, inplace = True)\n",
    "new_data.shape"
   ]
  },
  {
   "cell_type": "code",
   "execution_count": 74,
   "id": "b1508a76",
   "metadata": {},
   "outputs": [
    {
     "data": {
      "text/plain": [
       "<AxesSubplot:>"
      ]
     },
     "execution_count": 74,
     "metadata": {},
     "output_type": "execute_result"
    },
    {
     "data": {
      "image/png": "[encoded data removed]",
      "text/plain": [
       "<Figure size 432x288 with 1 Axes>"
      ]
     },
     "metadata": {
      "needs_background": "light"
     },
     "output_type": "display_data"
    }
   ],
   "source": [
    "new_data.boxplot('sulphates')"
   ]
  },
  {
   "cell_type": "markdown",
   "id": "00a0badf",
   "metadata": {},
   "source": [
    "# Steps for alcohol Column. (No Outlier Found.) Continue to next Column."
   ]
  },
  {
   "cell_type": "code",
   "execution_count": 75,
   "id": "35426036",
   "metadata": {},
   "outputs": [
    {
     "data": {
      "text/plain": [
       "<AxesSubplot:>"
      ]
     },
     "execution_count": 75,
     "metadata": {},
     "output_type": "execute_result"
    },
    {
     "data": {
      "image/png": "[encoded data removed]",
      "text/plain": [
       "<Figure size 432x288 with 1 Axes>"
      ]
     },
     "metadata": {
      "needs_background": "light"
     },
     "output_type": "display_data"
    }
   ],
   "source": [
    "new_data.boxplot('alcohol')"
   ]
  },
  {
   "cell_type": "markdown",
   "id": "be146c73",
   "metadata": {},
   "source": [
    "# Exploring the Processed Dataset"
   ]
  },
  {
   "cell_type": "code",
   "execution_count": 76,
   "id": "5da84ddd",
   "metadata": {},
   "outputs": [
    {
     "data": {
      "text/html": [
       "<div>\n",
       "<style scoped>\n",
       "    .dataframe tbody tr th:only-of-type {\n",
       "        vertical-align: middle;\n",
       "    }\n",
       "\n",
       "    .dataframe tbody tr th {\n",
       "        vertical-align: top;\n",
       "    }\n",
       "\n",
       "    .dataframe thead th {\n",
       "        text-align: right;\n",
       "    }\n",
       "</style>\n",
       "<table border=\"1\" class=\"dataframe\">\n",
       "  <thead>\n",
       "    <tr style=\"text-align: right;\">\n",
       "      <th></th>\n",
       "      <th>fixed_acidity</th>\n",
       "      <th>volatile_acidity</th>\n",
       "      <th>citric_acid</th>\n",
       "      <th>residual_sugar</th>\n",
       "      <th>chlorides</th>\n",
       "      <th>free_sulfur_dioxide</th>\n",
       "      <th>total_sulfur_dioxide</th>\n",
       "      <th>density</th>\n",
       "      <th>pH</th>\n",
       "      <th>sulphates</th>\n",
       "      <th>alcohol</th>\n",
       "      <th>quality</th>\n",
       "    </tr>\n",
       "  </thead>\n",
       "  <tbody>\n",
       "    <tr>\n",
       "      <th>count</th>\n",
       "      <td>1905.000000</td>\n",
       "      <td>1905.000000</td>\n",
       "      <td>1905.000000</td>\n",
       "      <td>1905.000000</td>\n",
       "      <td>1905.000000</td>\n",
       "      <td>1905.000000</td>\n",
       "      <td>1905.000000</td>\n",
       "      <td>1905.000000</td>\n",
       "      <td>1905.000000</td>\n",
       "      <td>1905.000000</td>\n",
       "      <td>1905.000000</td>\n",
       "      <td>1905.000000</td>\n",
       "    </tr>\n",
       "    <tr>\n",
       "      <th>mean</th>\n",
       "      <td>6.833648</td>\n",
       "      <td>0.262341</td>\n",
       "      <td>0.325160</td>\n",
       "      <td>6.329318</td>\n",
       "      <td>0.042202</td>\n",
       "      <td>34.806562</td>\n",
       "      <td>137.456693</td>\n",
       "      <td>0.993821</td>\n",
       "      <td>3.186084</td>\n",
       "      <td>0.478688</td>\n",
       "      <td>10.607855</td>\n",
       "      <td>5.938583</td>\n",
       "    </tr>\n",
       "    <tr>\n",
       "      <th>std</th>\n",
       "      <td>0.732781</td>\n",
       "      <td>0.072038</td>\n",
       "      <td>0.085372</td>\n",
       "      <td>4.862617</td>\n",
       "      <td>0.009813</td>\n",
       "      <td>15.096251</td>\n",
       "      <td>41.334985</td>\n",
       "      <td>0.002863</td>\n",
       "      <td>0.136701</td>\n",
       "      <td>0.094667</td>\n",
       "      <td>1.225370</td>\n",
       "      <td>0.840735</td>\n",
       "    </tr>\n",
       "    <tr>\n",
       "      <th>min</th>\n",
       "      <td>4.900000</td>\n",
       "      <td>0.080000</td>\n",
       "      <td>0.110000</td>\n",
       "      <td>0.700000</td>\n",
       "      <td>0.015000</td>\n",
       "      <td>3.000000</td>\n",
       "      <td>21.000000</td>\n",
       "      <td>0.987110</td>\n",
       "      <td>2.820000</td>\n",
       "      <td>0.220000</td>\n",
       "      <td>8.400000</td>\n",
       "      <td>3.000000</td>\n",
       "    </tr>\n",
       "    <tr>\n",
       "      <th>25%</th>\n",
       "      <td>6.300000</td>\n",
       "      <td>0.210000</td>\n",
       "      <td>0.270000</td>\n",
       "      <td>1.800000</td>\n",
       "      <td>0.035000</td>\n",
       "      <td>24.000000</td>\n",
       "      <td>107.000000</td>\n",
       "      <td>0.991520</td>\n",
       "      <td>3.090000</td>\n",
       "      <td>0.410000</td>\n",
       "      <td>9.500000</td>\n",
       "      <td>5.000000</td>\n",
       "    </tr>\n",
       "    <tr>\n",
       "      <th>50%</th>\n",
       "      <td>6.800000</td>\n",
       "      <td>0.260000</td>\n",
       "      <td>0.310000</td>\n",
       "      <td>5.400000</td>\n",
       "      <td>0.042000</td>\n",
       "      <td>34.000000</td>\n",
       "      <td>133.000000</td>\n",
       "      <td>0.993550</td>\n",
       "      <td>3.180000</td>\n",
       "      <td>0.470000</td>\n",
       "      <td>10.500000</td>\n",
       "      <td>6.000000</td>\n",
       "    </tr>\n",
       "    <tr>\n",
       "      <th>75%</th>\n",
       "      <td>7.300000</td>\n",
       "      <td>0.310000</td>\n",
       "      <td>0.370000</td>\n",
       "      <td>9.300000</td>\n",
       "      <td>0.049000</td>\n",
       "      <td>45.000000</td>\n",
       "      <td>166.000000</td>\n",
       "      <td>0.995800</td>\n",
       "      <td>3.280000</td>\n",
       "      <td>0.540000</td>\n",
       "      <td>11.500000</td>\n",
       "      <td>6.000000</td>\n",
       "    </tr>\n",
       "    <tr>\n",
       "      <th>max</th>\n",
       "      <td>8.700000</td>\n",
       "      <td>0.450000</td>\n",
       "      <td>0.540000</td>\n",
       "      <td>20.800000</td>\n",
       "      <td>0.069000</td>\n",
       "      <td>75.000000</td>\n",
       "      <td>253.000000</td>\n",
       "      <td>1.001960</td>\n",
       "      <td>3.560000</td>\n",
       "      <td>0.730000</td>\n",
       "      <td>14.200000</td>\n",
       "      <td>9.000000</td>\n",
       "    </tr>\n",
       "  </tbody>\n",
       "</table>\n",
       "</div>"
      ],
      "text/plain": [
       "       fixed_acidity  volatile_acidity  citric_acid  residual_sugar  \\\n",
       "count    1905.000000       1905.000000  1905.000000     1905.000000   \n",
       "mean        6.833648          0.262341     0.325160        6.329318   \n",
       "std         0.732781          0.072038     0.085372        4.862617   \n",
       "min         4.900000          0.080000     0.110000        0.700000   \n",
       "25%         6.300000          0.210000     0.270000        1.800000   \n",
       "50%         6.800000          0.260000     0.310000        5.400000   \n",
       "75%         7.300000          0.310000     0.370000        9.300000   \n",
       "max         8.700000          0.450000     0.540000       20.800000   \n",
       "\n",
       "         chlorides  free_sulfur_dioxide  total_sulfur_dioxide      density  \\\n",
       "count  1905.000000          1905.000000           1905.000000  1905.000000   \n",
       "mean      0.042202            34.806562            137.456693     0.993821   \n",
       "std       0.009813            15.096251             41.334985     0.002863   \n",
       "min       0.015000             3.000000             21.000000     0.987110   \n",
       "25%       0.035000            24.000000            107.000000     0.991520   \n",
       "50%       0.042000            34.000000            133.000000     0.993550   \n",
       "75%       0.049000            45.000000            166.000000     0.995800   \n",
       "max       0.069000            75.000000            253.000000     1.001960   \n",
       "\n",
       "                pH    sulphates      alcohol      quality  \n",
       "count  1905.000000  1905.000000  1905.000000  1905.000000  \n",
       "mean      3.186084     0.478688    10.607855     5.938583  \n",
       "std       0.136701     0.094667     1.225370     0.840735  \n",
       "min       2.820000     0.220000     8.400000     3.000000  \n",
       "25%       3.090000     0.410000     9.500000     5.000000  \n",
       "50%       3.180000     0.470000    10.500000     6.000000  \n",
       "75%       3.280000     0.540000    11.500000     6.000000  \n",
       "max       3.560000     0.730000    14.200000     9.000000  "
      ]
     },
     "execution_count": 76,
     "metadata": {},
     "output_type": "execute_result"
    }
   ],
   "source": [
    "# Now, let's check the information about different variables/column from the dataset:\n",
    "new_data.describe()"
   ]
  },
  {
   "cell_type": "code",
   "execution_count": 77,
   "id": "59ab4c9e",
   "metadata": {
    "scrolled": true
   },
   "outputs": [
    {
     "data": {
      "text/plain": [
       "fixed_acidity           0\n",
       "volatile_acidity        0\n",
       "citric_acid             0\n",
       "residual_sugar          0\n",
       "chlorides               0\n",
       "free_sulfur_dioxide     0\n",
       "total_sulfur_dioxide    0\n",
       "density                 0\n",
       "pH                      0\n",
       "sulphates               0\n",
       "alcohol                 0\n",
       "quality                 0\n",
       "dtype: int64"
      ]
     },
     "execution_count": 77,
     "metadata": {},
     "output_type": "execute_result"
    }
   ],
   "source": [
    "new_data.isnull().sum()"
   ]
  },
  {
   "cell_type": "markdown",
   "id": "7d1442d8",
   "metadata": {},
   "source": [
    "# Exploring the Target Variable (Data of quality Column)"
   ]
  },
  {
   "cell_type": "code",
   "execution_count": 78,
   "id": "ce5c8b44",
   "metadata": {
    "scrolled": true
   },
   "outputs": [
    {
     "data": {
      "text/plain": [
       "3.0      3\n",
       "4.0     37\n",
       "5.0    533\n",
       "6.0    902\n",
       "7.0    365\n",
       "8.0     61\n",
       "9.0      4\n",
       "Name: quality, dtype: int64"
      ]
     },
     "execution_count": 78,
     "metadata": {},
     "output_type": "execute_result"
    }
   ],
   "source": [
    "new_data.quality.value_counts().sort_index()"
   ]
  },
  {
   "cell_type": "code",
   "execution_count": 79,
   "id": "97a9a120",
   "metadata": {},
   "outputs": [
    {
     "data": {
      "text/plain": [
       "array([6., 7., 5., 4., 8., 9., 3.])"
      ]
     },
     "execution_count": 79,
     "metadata": {},
     "output_type": "execute_result"
    }
   ],
   "source": [
    "new_data['quality'].unique()"
   ]
  },
  {
   "cell_type": "code",
   "execution_count": 80,
   "id": "d0316c50",
   "metadata": {
    "scrolled": true
   },
   "outputs": [
    {
     "data": {
      "text/plain": [
       "0       6.0\n",
       "1       6.0\n",
       "2       7.0\n",
       "3       5.0\n",
       "5       7.0\n",
       "       ... \n",
       "2032    6.0\n",
       "2033    6.0\n",
       "2034    7.0\n",
       "2035    5.0\n",
       "2036    7.0\n",
       "Name: quality, Length: 1905, dtype: float64"
      ]
     },
     "execution_count": 80,
     "metadata": {},
     "output_type": "execute_result"
    }
   ],
   "source": [
    "new_data['quality']"
   ]
  },
  {
   "cell_type": "code",
   "execution_count": 81,
   "id": "265839ac",
   "metadata": {
    "scrolled": true
   },
   "outputs": [
    {
     "data": {
      "text/plain": [
       "<AxesSubplot:xlabel='quality', ylabel='count'>"
      ]
     },
     "execution_count": 81,
     "metadata": {},
     "output_type": "execute_result"
    },
    {
     "data": {
      "image/png": "[encoded data removed]",
      "text/plain": [
       "<Figure size 432x288 with 1 Axes>"
      ]
     },
     "metadata": {
      "needs_background": "light"
     },
     "output_type": "display_data"
    }
   ],
   "source": [
    "sns.countplot(x='quality', data=new_data)"
   ]
  },
  {
   "cell_type": "raw",
   "id": "7224a058",
   "metadata": {},
   "source": [
    "The above distribution shows the range for response variable (quality) is between 3 to 9."
   ]
  },
  {
   "cell_type": "markdown",
   "id": "196660b5",
   "metadata": {},
   "source": [
    "# Labelling using Certain Condition"
   ]
  },
  {
   "cell_type": "markdown",
   "id": "78b388bf",
   "metadata": {},
   "source": [
    "Now, Let's reallocate the quality of wine as 0: 0 to 5 (Average quality) and 1: 6 to 10 (Good quality) from existing 'quality' variable.\n",
    "    # 0 to 5 (Average quality)\n",
    "    # 1: 6 to 10 (Good quality)"
   ]
  },
  {
   "cell_type": "code",
   "execution_count": 82,
   "id": "01d2437e",
   "metadata": {},
   "outputs": [],
   "source": [
    "new_data['quality_updated'] = [0 if x <= 5 else 1 for x in new_data['quality']]"
   ]
  },
  {
   "cell_type": "code",
   "execution_count": 83,
   "id": "b13f97ab",
   "metadata": {
    "scrolled": true
   },
   "outputs": [
    {
     "data": {
      "text/plain": [
       "1    1332\n",
       "0     573\n",
       "Name: quality_updated, dtype: int64"
      ]
     },
     "execution_count": 83,
     "metadata": {},
     "output_type": "execute_result"
    }
   ],
   "source": [
    "new_data['quality_updated'].value_counts()"
   ]
  },
  {
   "cell_type": "code",
   "execution_count": 84,
   "id": "8b0ac113",
   "metadata": {},
   "outputs": [],
   "source": [
    "new_data['quality_updated'] = new_data['quality_updated'].map({0:'Average', 1:'Good'})"
   ]
  },
  {
   "cell_type": "code",
   "execution_count": 85,
   "id": "47040a15",
   "metadata": {
    "scrolled": true
   },
   "outputs": [
    {
     "data": {
      "text/plain": [
       "Good       1332\n",
       "Average     573\n",
       "Name: quality_updated, dtype: int64"
      ]
     },
     "execution_count": 85,
     "metadata": {},
     "output_type": "execute_result"
    }
   ],
   "source": [
    "new_data['quality_updated'].value_counts()"
   ]
  },
  {
   "cell_type": "code",
   "execution_count": 86,
   "id": "7eb39ef1",
   "metadata": {
    "scrolled": true
   },
   "outputs": [
    {
     "data": {
      "text/html": [
       "<div>\n",
       "<style scoped>\n",
       "    .dataframe tbody tr th:only-of-type {\n",
       "        vertical-align: middle;\n",
       "    }\n",
       "\n",
       "    .dataframe tbody tr th {\n",
       "        vertical-align: top;\n",
       "    }\n",
       "\n",
       "    .dataframe thead th {\n",
       "        text-align: right;\n",
       "    }\n",
       "</style>\n",
       "<table border=\"1\" class=\"dataframe\">\n",
       "  <thead>\n",
       "    <tr style=\"text-align: right;\">\n",
       "      <th></th>\n",
       "      <th>fixed_acidity</th>\n",
       "      <th>volatile_acidity</th>\n",
       "      <th>citric_acid</th>\n",
       "      <th>residual_sugar</th>\n",
       "      <th>chlorides</th>\n",
       "      <th>free_sulfur_dioxide</th>\n",
       "      <th>total_sulfur_dioxide</th>\n",
       "      <th>density</th>\n",
       "      <th>pH</th>\n",
       "      <th>sulphates</th>\n",
       "      <th>alcohol</th>\n",
       "      <th>quality</th>\n",
       "      <th>quality_updated</th>\n",
       "    </tr>\n",
       "  </thead>\n",
       "  <tbody>\n",
       "    <tr>\n",
       "      <th>0</th>\n",
       "      <td>7.5</td>\n",
       "      <td>0.33</td>\n",
       "      <td>0.32</td>\n",
       "      <td>11.1</td>\n",
       "      <td>0.036</td>\n",
       "      <td>25.0</td>\n",
       "      <td>119.0</td>\n",
       "      <td>0.99620</td>\n",
       "      <td>3.15</td>\n",
       "      <td>0.34</td>\n",
       "      <td>10.5</td>\n",
       "      <td>6.0</td>\n",
       "      <td>Good</td>\n",
       "    </tr>\n",
       "    <tr>\n",
       "      <th>1</th>\n",
       "      <td>6.3</td>\n",
       "      <td>0.27</td>\n",
       "      <td>0.29</td>\n",
       "      <td>12.2</td>\n",
       "      <td>0.044</td>\n",
       "      <td>59.0</td>\n",
       "      <td>196.0</td>\n",
       "      <td>0.99782</td>\n",
       "      <td>3.14</td>\n",
       "      <td>0.40</td>\n",
       "      <td>8.8</td>\n",
       "      <td>6.0</td>\n",
       "      <td>Good</td>\n",
       "    </tr>\n",
       "    <tr>\n",
       "      <th>2</th>\n",
       "      <td>7.0</td>\n",
       "      <td>0.30</td>\n",
       "      <td>0.51</td>\n",
       "      <td>13.6</td>\n",
       "      <td>0.050</td>\n",
       "      <td>40.0</td>\n",
       "      <td>168.0</td>\n",
       "      <td>0.99760</td>\n",
       "      <td>3.07</td>\n",
       "      <td>0.52</td>\n",
       "      <td>9.6</td>\n",
       "      <td>7.0</td>\n",
       "      <td>Good</td>\n",
       "    </tr>\n",
       "    <tr>\n",
       "      <th>3</th>\n",
       "      <td>7.4</td>\n",
       "      <td>0.38</td>\n",
       "      <td>0.27</td>\n",
       "      <td>7.5</td>\n",
       "      <td>0.041</td>\n",
       "      <td>24.0</td>\n",
       "      <td>160.0</td>\n",
       "      <td>0.99535</td>\n",
       "      <td>3.17</td>\n",
       "      <td>0.43</td>\n",
       "      <td>10.0</td>\n",
       "      <td>5.0</td>\n",
       "      <td>Average</td>\n",
       "    </tr>\n",
       "    <tr>\n",
       "      <th>5</th>\n",
       "      <td>6.6</td>\n",
       "      <td>0.20</td>\n",
       "      <td>0.38</td>\n",
       "      <td>7.9</td>\n",
       "      <td>0.052</td>\n",
       "      <td>30.0</td>\n",
       "      <td>145.0</td>\n",
       "      <td>0.99470</td>\n",
       "      <td>3.32</td>\n",
       "      <td>0.56</td>\n",
       "      <td>11.0</td>\n",
       "      <td>7.0</td>\n",
       "      <td>Good</td>\n",
       "    </tr>\n",
       "  </tbody>\n",
       "</table>\n",
       "</div>"
      ],
      "text/plain": [
       "   fixed_acidity  volatile_acidity  citric_acid  residual_sugar  chlorides  \\\n",
       "0            7.5              0.33         0.32            11.1      0.036   \n",
       "1            6.3              0.27         0.29            12.2      0.044   \n",
       "2            7.0              0.30         0.51            13.6      0.050   \n",
       "3            7.4              0.38         0.27             7.5      0.041   \n",
       "5            6.6              0.20         0.38             7.9      0.052   \n",
       "\n",
       "   free_sulfur_dioxide  total_sulfur_dioxide  density    pH  sulphates  \\\n",
       "0                 25.0                 119.0  0.99620  3.15       0.34   \n",
       "1                 59.0                 196.0  0.99782  3.14       0.40   \n",
       "2                 40.0                 168.0  0.99760  3.07       0.52   \n",
       "3                 24.0                 160.0  0.99535  3.17       0.43   \n",
       "5                 30.0                 145.0  0.99470  3.32       0.56   \n",
       "\n",
       "   alcohol  quality quality_updated  \n",
       "0     10.5      6.0            Good  \n",
       "1      8.8      6.0            Good  \n",
       "2      9.6      7.0            Good  \n",
       "3     10.0      5.0         Average  \n",
       "5     11.0      7.0            Good  "
      ]
     },
     "execution_count": 86,
     "metadata": {},
     "output_type": "execute_result"
    }
   ],
   "source": [
    "new_data.head()"
   ]
  },
  {
   "cell_type": "code",
   "execution_count": 87,
   "id": "74b7221e",
   "metadata": {},
   "outputs": [],
   "source": [
    "new_data.drop(['quality'], axis =1, inplace =True)"
   ]
  },
  {
   "cell_type": "code",
   "execution_count": 88,
   "id": "16bb0943",
   "metadata": {
    "scrolled": true
   },
   "outputs": [
    {
     "data": {
      "text/html": [
       "<div>\n",
       "<style scoped>\n",
       "    .dataframe tbody tr th:only-of-type {\n",
       "        vertical-align: middle;\n",
       "    }\n",
       "\n",
       "    .dataframe tbody tr th {\n",
       "        vertical-align: top;\n",
       "    }\n",
       "\n",
       "    .dataframe thead th {\n",
       "        text-align: right;\n",
       "    }\n",
       "</style>\n",
       "<table border=\"1\" class=\"dataframe\">\n",
       "  <thead>\n",
       "    <tr style=\"text-align: right;\">\n",
       "      <th></th>\n",
       "      <th>fixed_acidity</th>\n",
       "      <th>volatile_acidity</th>\n",
       "      <th>citric_acid</th>\n",
       "      <th>residual_sugar</th>\n",
       "      <th>chlorides</th>\n",
       "      <th>free_sulfur_dioxide</th>\n",
       "      <th>total_sulfur_dioxide</th>\n",
       "      <th>density</th>\n",
       "      <th>pH</th>\n",
       "      <th>sulphates</th>\n",
       "      <th>alcohol</th>\n",
       "      <th>quality_updated</th>\n",
       "    </tr>\n",
       "  </thead>\n",
       "  <tbody>\n",
       "    <tr>\n",
       "      <th>0</th>\n",
       "      <td>7.5</td>\n",
       "      <td>0.33</td>\n",
       "      <td>0.32</td>\n",
       "      <td>11.1</td>\n",
       "      <td>0.036</td>\n",
       "      <td>25.0</td>\n",
       "      <td>119.0</td>\n",
       "      <td>0.99620</td>\n",
       "      <td>3.15</td>\n",
       "      <td>0.34</td>\n",
       "      <td>10.5</td>\n",
       "      <td>Good</td>\n",
       "    </tr>\n",
       "    <tr>\n",
       "      <th>1</th>\n",
       "      <td>6.3</td>\n",
       "      <td>0.27</td>\n",
       "      <td>0.29</td>\n",
       "      <td>12.2</td>\n",
       "      <td>0.044</td>\n",
       "      <td>59.0</td>\n",
       "      <td>196.0</td>\n",
       "      <td>0.99782</td>\n",
       "      <td>3.14</td>\n",
       "      <td>0.40</td>\n",
       "      <td>8.8</td>\n",
       "      <td>Good</td>\n",
       "    </tr>\n",
       "    <tr>\n",
       "      <th>2</th>\n",
       "      <td>7.0</td>\n",
       "      <td>0.30</td>\n",
       "      <td>0.51</td>\n",
       "      <td>13.6</td>\n",
       "      <td>0.050</td>\n",
       "      <td>40.0</td>\n",
       "      <td>168.0</td>\n",
       "      <td>0.99760</td>\n",
       "      <td>3.07</td>\n",
       "      <td>0.52</td>\n",
       "      <td>9.6</td>\n",
       "      <td>Good</td>\n",
       "    </tr>\n",
       "    <tr>\n",
       "      <th>3</th>\n",
       "      <td>7.4</td>\n",
       "      <td>0.38</td>\n",
       "      <td>0.27</td>\n",
       "      <td>7.5</td>\n",
       "      <td>0.041</td>\n",
       "      <td>24.0</td>\n",
       "      <td>160.0</td>\n",
       "      <td>0.99535</td>\n",
       "      <td>3.17</td>\n",
       "      <td>0.43</td>\n",
       "      <td>10.0</td>\n",
       "      <td>Average</td>\n",
       "    </tr>\n",
       "    <tr>\n",
       "      <th>5</th>\n",
       "      <td>6.6</td>\n",
       "      <td>0.20</td>\n",
       "      <td>0.38</td>\n",
       "      <td>7.9</td>\n",
       "      <td>0.052</td>\n",
       "      <td>30.0</td>\n",
       "      <td>145.0</td>\n",
       "      <td>0.99470</td>\n",
       "      <td>3.32</td>\n",
       "      <td>0.56</td>\n",
       "      <td>11.0</td>\n",
       "      <td>Good</td>\n",
       "    </tr>\n",
       "  </tbody>\n",
       "</table>\n",
       "</div>"
      ],
      "text/plain": [
       "   fixed_acidity  volatile_acidity  citric_acid  residual_sugar  chlorides  \\\n",
       "0            7.5              0.33         0.32            11.1      0.036   \n",
       "1            6.3              0.27         0.29            12.2      0.044   \n",
       "2            7.0              0.30         0.51            13.6      0.050   \n",
       "3            7.4              0.38         0.27             7.5      0.041   \n",
       "5            6.6              0.20         0.38             7.9      0.052   \n",
       "\n",
       "   free_sulfur_dioxide  total_sulfur_dioxide  density    pH  sulphates  \\\n",
       "0                 25.0                 119.0  0.99620  3.15       0.34   \n",
       "1                 59.0                 196.0  0.99782  3.14       0.40   \n",
       "2                 40.0                 168.0  0.99760  3.07       0.52   \n",
       "3                 24.0                 160.0  0.99535  3.17       0.43   \n",
       "5                 30.0                 145.0  0.99470  3.32       0.56   \n",
       "\n",
       "   alcohol quality_updated  \n",
       "0     10.5            Good  \n",
       "1      8.8            Good  \n",
       "2      9.6            Good  \n",
       "3     10.0         Average  \n",
       "5     11.0            Good  "
      ]
     },
     "execution_count": 88,
     "metadata": {},
     "output_type": "execute_result"
    }
   ],
   "source": [
    "new_data.head()"
   ]
  },
  {
   "cell_type": "markdown",
   "id": "a3e8db26",
   "metadata": {},
   "source": [
    "# Answer 5:"
   ]
  },
  {
   "cell_type": "markdown",
   "id": "f9ed5ae2",
   "metadata": {},
   "source": [
    "# Finding the correlation between the quality of wine with other variables"
   ]
  },
  {
   "cell_type": "code",
   "execution_count": 89,
   "id": "0b7c1bbc",
   "metadata": {
    "scrolled": true
   },
   "outputs": [
    {
     "data": {
      "text/plain": [
       "<AxesSubplot:>"
      ]
     },
     "execution_count": 89,
     "metadata": {},
     "output_type": "execute_result"
    },
    {
     "data": {
      "image/png": "[encoded data removed]",
      "text/plain": [
       "<Figure size 1080x720 with 2 Axes>"
      ]
     },
     "metadata": {
      "needs_background": "light"
     },
     "output_type": "display_data"
    }
   ],
   "source": [
    "corr = new_data.corr()\n",
    "plt.subplots(figsize=(15,10))\n",
    "sns.heatmap(corr, xticklabels=corr.columns, yticklabels=corr.columns, annot=True, cmap=sns.diverging_palette(220, 20, as_cmap=True))"
   ]
  },
  {
   "cell_type": "code",
   "execution_count": 90,
   "id": "69162cd6",
   "metadata": {},
   "outputs": [],
   "source": [
    "#corr['quality'].sort_values(ascending=False)"
   ]
  },
  {
   "cell_type": "markdown",
   "id": "13387d3f",
   "metadata": {},
   "source": [
    "We can observe that, the 'alcohol, pH & sulphates' have maximum corelation with response variable 'quality_updated'.\n",
    "This means that, they need to be further analysed for detailed pattern and corelation exploration."
   ]
  },
  {
   "cell_type": "markdown",
   "id": "bac89811",
   "metadata": {},
   "source": [
    "# Getting Rid of the Unecessary Features"
   ]
  },
  {
   "cell_type": "markdown",
   "id": "1ec460c0",
   "metadata": {},
   "source": [
    "Now, we have to find those features that are fully correlated to each other by this we reduce the number of features from the data."
   ]
  },
  {
   "cell_type": "code",
   "execution_count": 91,
   "id": "9c63f9c1",
   "metadata": {},
   "outputs": [
    {
     "name": "stdout",
     "output_type": "stream",
     "text": [
      "density\n",
      "alcohol\n"
     ]
    }
   ],
   "source": [
    "for a in range(len(new_data.corr().columns)):\n",
    "    for b in range(a):\n",
    "        if abs(new_data.corr().iloc[a,b]) >0.7:\n",
    "            name = new_data.corr().columns[a]\n",
    "            print(name)"
   ]
  },
  {
   "cell_type": "code",
   "execution_count": 92,
   "id": "351edacd",
   "metadata": {},
   "outputs": [],
   "source": [
    "new_data=new_data.drop('density',axis=1)"
   ]
  },
  {
   "cell_type": "code",
   "execution_count": 93,
   "id": "5877b879",
   "metadata": {},
   "outputs": [],
   "source": [
    "new_data=new_data.drop('alcohol',axis=1)"
   ]
  },
  {
   "cell_type": "code",
   "execution_count": 94,
   "id": "9f9b6c64",
   "metadata": {},
   "outputs": [
    {
     "data": {
      "text/html": [
       "<div>\n",
       "<style scoped>\n",
       "    .dataframe tbody tr th:only-of-type {\n",
       "        vertical-align: middle;\n",
       "    }\n",
       "\n",
       "    .dataframe tbody tr th {\n",
       "        vertical-align: top;\n",
       "    }\n",
       "\n",
       "    .dataframe thead th {\n",
       "        text-align: right;\n",
       "    }\n",
       "</style>\n",
       "<table border=\"1\" class=\"dataframe\">\n",
       "  <thead>\n",
       "    <tr style=\"text-align: right;\">\n",
       "      <th></th>\n",
       "      <th>fixed_acidity</th>\n",
       "      <th>volatile_acidity</th>\n",
       "      <th>citric_acid</th>\n",
       "      <th>residual_sugar</th>\n",
       "      <th>chlorides</th>\n",
       "      <th>free_sulfur_dioxide</th>\n",
       "      <th>total_sulfur_dioxide</th>\n",
       "      <th>pH</th>\n",
       "      <th>sulphates</th>\n",
       "      <th>quality_updated</th>\n",
       "    </tr>\n",
       "  </thead>\n",
       "  <tbody>\n",
       "    <tr>\n",
       "      <th>0</th>\n",
       "      <td>7.5</td>\n",
       "      <td>0.33</td>\n",
       "      <td>0.32</td>\n",
       "      <td>11.1</td>\n",
       "      <td>0.036</td>\n",
       "      <td>25.0</td>\n",
       "      <td>119.0</td>\n",
       "      <td>3.15</td>\n",
       "      <td>0.34</td>\n",
       "      <td>Good</td>\n",
       "    </tr>\n",
       "    <tr>\n",
       "      <th>1</th>\n",
       "      <td>6.3</td>\n",
       "      <td>0.27</td>\n",
       "      <td>0.29</td>\n",
       "      <td>12.2</td>\n",
       "      <td>0.044</td>\n",
       "      <td>59.0</td>\n",
       "      <td>196.0</td>\n",
       "      <td>3.14</td>\n",
       "      <td>0.40</td>\n",
       "      <td>Good</td>\n",
       "    </tr>\n",
       "    <tr>\n",
       "      <th>2</th>\n",
       "      <td>7.0</td>\n",
       "      <td>0.30</td>\n",
       "      <td>0.51</td>\n",
       "      <td>13.6</td>\n",
       "      <td>0.050</td>\n",
       "      <td>40.0</td>\n",
       "      <td>168.0</td>\n",
       "      <td>3.07</td>\n",
       "      <td>0.52</td>\n",
       "      <td>Good</td>\n",
       "    </tr>\n",
       "    <tr>\n",
       "      <th>3</th>\n",
       "      <td>7.4</td>\n",
       "      <td>0.38</td>\n",
       "      <td>0.27</td>\n",
       "      <td>7.5</td>\n",
       "      <td>0.041</td>\n",
       "      <td>24.0</td>\n",
       "      <td>160.0</td>\n",
       "      <td>3.17</td>\n",
       "      <td>0.43</td>\n",
       "      <td>Average</td>\n",
       "    </tr>\n",
       "    <tr>\n",
       "      <th>5</th>\n",
       "      <td>6.6</td>\n",
       "      <td>0.20</td>\n",
       "      <td>0.38</td>\n",
       "      <td>7.9</td>\n",
       "      <td>0.052</td>\n",
       "      <td>30.0</td>\n",
       "      <td>145.0</td>\n",
       "      <td>3.32</td>\n",
       "      <td>0.56</td>\n",
       "      <td>Good</td>\n",
       "    </tr>\n",
       "  </tbody>\n",
       "</table>\n",
       "</div>"
      ],
      "text/plain": [
       "   fixed_acidity  volatile_acidity  citric_acid  residual_sugar  chlorides  \\\n",
       "0            7.5              0.33         0.32            11.1      0.036   \n",
       "1            6.3              0.27         0.29            12.2      0.044   \n",
       "2            7.0              0.30         0.51            13.6      0.050   \n",
       "3            7.4              0.38         0.27             7.5      0.041   \n",
       "5            6.6              0.20         0.38             7.9      0.052   \n",
       "\n",
       "   free_sulfur_dioxide  total_sulfur_dioxide    pH  sulphates quality_updated  \n",
       "0                 25.0                 119.0  3.15       0.34            Good  \n",
       "1                 59.0                 196.0  3.14       0.40            Good  \n",
       "2                 40.0                 168.0  3.07       0.52            Good  \n",
       "3                 24.0                 160.0  3.17       0.43         Average  \n",
       "5                 30.0                 145.0  3.32       0.56            Good  "
      ]
     },
     "execution_count": 94,
     "metadata": {},
     "output_type": "execute_result"
    }
   ],
   "source": [
    "new_data.head()"
   ]
  },
  {
   "cell_type": "code",
   "execution_count": 95,
   "id": "f47b3db0",
   "metadata": {},
   "outputs": [
    {
     "data": {
      "text/plain": [
       "fixed_acidity           0\n",
       "volatile_acidity        0\n",
       "citric_acid             0\n",
       "residual_sugar          0\n",
       "chlorides               0\n",
       "free_sulfur_dioxide     0\n",
       "total_sulfur_dioxide    0\n",
       "pH                      0\n",
       "sulphates               0\n",
       "quality_updated         0\n",
       "dtype: int64"
      ]
     },
     "execution_count": 95,
     "metadata": {},
     "output_type": "execute_result"
    }
   ],
   "source": [
    "new_data.isnull().sum()"
   ]
  },
  {
   "cell_type": "markdown",
   "id": "8e007ded",
   "metadata": {},
   "source": [
    "# Label Encoding on Categorical Values"
   ]
  },
  {
   "cell_type": "code",
   "execution_count": 96,
   "id": "ffa81cd3",
   "metadata": {},
   "outputs": [
    {
     "name": "stdout",
     "output_type": "stream",
     "text": [
      "0       1\n",
      "1       1\n",
      "2       1\n",
      "3       0\n",
      "5       1\n",
      "       ..\n",
      "2032    1\n",
      "2033    1\n",
      "2034    1\n",
      "2035    0\n",
      "2036    1\n",
      "Name: quality_updated, Length: 1905, dtype: int32\n"
     ]
    }
   ],
   "source": [
    "# converting the probable categorical value into binary form for ease of operation\n",
    "from sklearn.preprocessing import LabelEncoder\n",
    "lb = LabelEncoder() \n",
    "new_data['quality_updated'] = lb.fit_transform(new_data['quality_updated'])\n",
    "print(new_data['quality_updated'])"
   ]
  },
  {
   "cell_type": "markdown",
   "id": "a9f5be71",
   "metadata": {},
   "source": [
    "# Standard Scaling (Not Necessary in this Case)"
   ]
  },
  {
   "cell_type": "code",
   "execution_count": 97,
   "id": "cc7cb892",
   "metadata": {},
   "outputs": [],
   "source": [
    "#Here, I used StandardScaler to remove the mean and scales each feature to unit variance.\n",
    "# from sklearn.preprocessing import StandardScaler\n",
    "# sc=StandardScaler()\n",
    "# scaled_df = pd.DataFrame(StandardScaler().fit_transform(new_data),columns = new_data.columns)\n",
    "# scaled_df['quality_updated']"
   ]
  },
  {
   "cell_type": "markdown",
   "id": "5db9db8c",
   "metadata": {},
   "source": [
    "# Checking Processed DataSet Status"
   ]
  },
  {
   "cell_type": "code",
   "execution_count": 98,
   "id": "56810b5b",
   "metadata": {},
   "outputs": [
    {
     "data": {
      "text/html": [
       "<div>\n",
       "<style scoped>\n",
       "    .dataframe tbody tr th:only-of-type {\n",
       "        vertical-align: middle;\n",
       "    }\n",
       "\n",
       "    .dataframe tbody tr th {\n",
       "        vertical-align: top;\n",
       "    }\n",
       "\n",
       "    .dataframe thead th {\n",
       "        text-align: right;\n",
       "    }\n",
       "</style>\n",
       "<table border=\"1\" class=\"dataframe\">\n",
       "  <thead>\n",
       "    <tr style=\"text-align: right;\">\n",
       "      <th></th>\n",
       "      <th>fixed_acidity</th>\n",
       "      <th>volatile_acidity</th>\n",
       "      <th>citric_acid</th>\n",
       "      <th>residual_sugar</th>\n",
       "      <th>chlorides</th>\n",
       "      <th>free_sulfur_dioxide</th>\n",
       "      <th>total_sulfur_dioxide</th>\n",
       "      <th>pH</th>\n",
       "      <th>sulphates</th>\n",
       "      <th>quality_updated</th>\n",
       "    </tr>\n",
       "  </thead>\n",
       "  <tbody>\n",
       "    <tr>\n",
       "      <th>0</th>\n",
       "      <td>7.5</td>\n",
       "      <td>0.33</td>\n",
       "      <td>0.32</td>\n",
       "      <td>11.1</td>\n",
       "      <td>0.036</td>\n",
       "      <td>25.0</td>\n",
       "      <td>119.0</td>\n",
       "      <td>3.15</td>\n",
       "      <td>0.34</td>\n",
       "      <td>1</td>\n",
       "    </tr>\n",
       "    <tr>\n",
       "      <th>1</th>\n",
       "      <td>6.3</td>\n",
       "      <td>0.27</td>\n",
       "      <td>0.29</td>\n",
       "      <td>12.2</td>\n",
       "      <td>0.044</td>\n",
       "      <td>59.0</td>\n",
       "      <td>196.0</td>\n",
       "      <td>3.14</td>\n",
       "      <td>0.40</td>\n",
       "      <td>1</td>\n",
       "    </tr>\n",
       "    <tr>\n",
       "      <th>2</th>\n",
       "      <td>7.0</td>\n",
       "      <td>0.30</td>\n",
       "      <td>0.51</td>\n",
       "      <td>13.6</td>\n",
       "      <td>0.050</td>\n",
       "      <td>40.0</td>\n",
       "      <td>168.0</td>\n",
       "      <td>3.07</td>\n",
       "      <td>0.52</td>\n",
       "      <td>1</td>\n",
       "    </tr>\n",
       "    <tr>\n",
       "      <th>3</th>\n",
       "      <td>7.4</td>\n",
       "      <td>0.38</td>\n",
       "      <td>0.27</td>\n",
       "      <td>7.5</td>\n",
       "      <td>0.041</td>\n",
       "      <td>24.0</td>\n",
       "      <td>160.0</td>\n",
       "      <td>3.17</td>\n",
       "      <td>0.43</td>\n",
       "      <td>0</td>\n",
       "    </tr>\n",
       "    <tr>\n",
       "      <th>5</th>\n",
       "      <td>6.6</td>\n",
       "      <td>0.20</td>\n",
       "      <td>0.38</td>\n",
       "      <td>7.9</td>\n",
       "      <td>0.052</td>\n",
       "      <td>30.0</td>\n",
       "      <td>145.0</td>\n",
       "      <td>3.32</td>\n",
       "      <td>0.56</td>\n",
       "      <td>1</td>\n",
       "    </tr>\n",
       "  </tbody>\n",
       "</table>\n",
       "</div>"
      ],
      "text/plain": [
       "   fixed_acidity  volatile_acidity  citric_acid  residual_sugar  chlorides  \\\n",
       "0            7.5              0.33         0.32            11.1      0.036   \n",
       "1            6.3              0.27         0.29            12.2      0.044   \n",
       "2            7.0              0.30         0.51            13.6      0.050   \n",
       "3            7.4              0.38         0.27             7.5      0.041   \n",
       "5            6.6              0.20         0.38             7.9      0.052   \n",
       "\n",
       "   free_sulfur_dioxide  total_sulfur_dioxide    pH  sulphates  quality_updated  \n",
       "0                 25.0                 119.0  3.15       0.34                1  \n",
       "1                 59.0                 196.0  3.14       0.40                1  \n",
       "2                 40.0                 168.0  3.07       0.52                1  \n",
       "3                 24.0                 160.0  3.17       0.43                0  \n",
       "5                 30.0                 145.0  3.32       0.56                1  "
      ]
     },
     "execution_count": 98,
     "metadata": {},
     "output_type": "execute_result"
    }
   ],
   "source": [
    "new_data.head()"
   ]
  },
  {
   "cell_type": "markdown",
   "id": "dc1af3cb",
   "metadata": {},
   "source": [
    "# Selecting Dependent and Independent Variable for ML starting Process"
   ]
  },
  {
   "cell_type": "code",
   "execution_count": 99,
   "id": "59489b17",
   "metadata": {},
   "outputs": [
    {
     "data": {
      "text/html": [
       "<div>\n",
       "<style scoped>\n",
       "    .dataframe tbody tr th:only-of-type {\n",
       "        vertical-align: middle;\n",
       "    }\n",
       "\n",
       "    .dataframe tbody tr th {\n",
       "        vertical-align: top;\n",
       "    }\n",
       "\n",
       "    .dataframe thead th {\n",
       "        text-align: right;\n",
       "    }\n",
       "</style>\n",
       "<table border=\"1\" class=\"dataframe\">\n",
       "  <thead>\n",
       "    <tr style=\"text-align: right;\">\n",
       "      <th></th>\n",
       "      <th>fixed_acidity</th>\n",
       "      <th>volatile_acidity</th>\n",
       "      <th>citric_acid</th>\n",
       "      <th>residual_sugar</th>\n",
       "      <th>chlorides</th>\n",
       "      <th>free_sulfur_dioxide</th>\n",
       "      <th>total_sulfur_dioxide</th>\n",
       "      <th>pH</th>\n",
       "      <th>sulphates</th>\n",
       "      <th>quality_updated</th>\n",
       "    </tr>\n",
       "  </thead>\n",
       "  <tbody>\n",
       "    <tr>\n",
       "      <th>0</th>\n",
       "      <td>7.5</td>\n",
       "      <td>0.33</td>\n",
       "      <td>0.32</td>\n",
       "      <td>11.1</td>\n",
       "      <td>0.036</td>\n",
       "      <td>25.0</td>\n",
       "      <td>119.0</td>\n",
       "      <td>3.15</td>\n",
       "      <td>0.34</td>\n",
       "      <td>1</td>\n",
       "    </tr>\n",
       "    <tr>\n",
       "      <th>1</th>\n",
       "      <td>6.3</td>\n",
       "      <td>0.27</td>\n",
       "      <td>0.29</td>\n",
       "      <td>12.2</td>\n",
       "      <td>0.044</td>\n",
       "      <td>59.0</td>\n",
       "      <td>196.0</td>\n",
       "      <td>3.14</td>\n",
       "      <td>0.40</td>\n",
       "      <td>1</td>\n",
       "    </tr>\n",
       "    <tr>\n",
       "      <th>2</th>\n",
       "      <td>7.0</td>\n",
       "      <td>0.30</td>\n",
       "      <td>0.51</td>\n",
       "      <td>13.6</td>\n",
       "      <td>0.050</td>\n",
       "      <td>40.0</td>\n",
       "      <td>168.0</td>\n",
       "      <td>3.07</td>\n",
       "      <td>0.52</td>\n",
       "      <td>1</td>\n",
       "    </tr>\n",
       "    <tr>\n",
       "      <th>3</th>\n",
       "      <td>7.4</td>\n",
       "      <td>0.38</td>\n",
       "      <td>0.27</td>\n",
       "      <td>7.5</td>\n",
       "      <td>0.041</td>\n",
       "      <td>24.0</td>\n",
       "      <td>160.0</td>\n",
       "      <td>3.17</td>\n",
       "      <td>0.43</td>\n",
       "      <td>0</td>\n",
       "    </tr>\n",
       "    <tr>\n",
       "      <th>5</th>\n",
       "      <td>6.6</td>\n",
       "      <td>0.20</td>\n",
       "      <td>0.38</td>\n",
       "      <td>7.9</td>\n",
       "      <td>0.052</td>\n",
       "      <td>30.0</td>\n",
       "      <td>145.0</td>\n",
       "      <td>3.32</td>\n",
       "      <td>0.56</td>\n",
       "      <td>1</td>\n",
       "    </tr>\n",
       "  </tbody>\n",
       "</table>\n",
       "</div>"
      ],
      "text/plain": [
       "   fixed_acidity  volatile_acidity  citric_acid  residual_sugar  chlorides  \\\n",
       "0            7.5              0.33         0.32            11.1      0.036   \n",
       "1            6.3              0.27         0.29            12.2      0.044   \n",
       "2            7.0              0.30         0.51            13.6      0.050   \n",
       "3            7.4              0.38         0.27             7.5      0.041   \n",
       "5            6.6              0.20         0.38             7.9      0.052   \n",
       "\n",
       "   free_sulfur_dioxide  total_sulfur_dioxide    pH  sulphates  quality_updated  \n",
       "0                 25.0                 119.0  3.15       0.34                1  \n",
       "1                 59.0                 196.0  3.14       0.40                1  \n",
       "2                 40.0                 168.0  3.07       0.52                1  \n",
       "3                 24.0                 160.0  3.17       0.43                0  \n",
       "5                 30.0                 145.0  3.32       0.56                1  "
      ]
     },
     "execution_count": 99,
     "metadata": {},
     "output_type": "execute_result"
    }
   ],
   "source": [
    "#Choossing the independent variable X and the dependent variable Y\n",
    "X = new_data.iloc[:, 0:-1] \n",
    "y = new_data.iloc[:, -1] \n",
    "\n",
    "# x=new_data.drop(['quality_updated'], axis='columns')\n",
    "# y = new_data['quality_updated']\n",
    "\n",
    "new_data.head(5)"
   ]
  },
  {
   "cell_type": "code",
   "execution_count": 100,
   "id": "2a79af14",
   "metadata": {},
   "outputs": [
    {
     "data": {
      "text/html": [
       "<div>\n",
       "<style scoped>\n",
       "    .dataframe tbody tr th:only-of-type {\n",
       "        vertical-align: middle;\n",
       "    }\n",
       "\n",
       "    .dataframe tbody tr th {\n",
       "        vertical-align: top;\n",
       "    }\n",
       "\n",
       "    .dataframe thead th {\n",
       "        text-align: right;\n",
       "    }\n",
       "</style>\n",
       "<table border=\"1\" class=\"dataframe\">\n",
       "  <thead>\n",
       "    <tr style=\"text-align: right;\">\n",
       "      <th></th>\n",
       "      <th>fixed_acidity</th>\n",
       "      <th>volatile_acidity</th>\n",
       "      <th>citric_acid</th>\n",
       "      <th>residual_sugar</th>\n",
       "      <th>chlorides</th>\n",
       "      <th>free_sulfur_dioxide</th>\n",
       "      <th>total_sulfur_dioxide</th>\n",
       "      <th>pH</th>\n",
       "      <th>sulphates</th>\n",
       "    </tr>\n",
       "  </thead>\n",
       "  <tbody>\n",
       "    <tr>\n",
       "      <th>0</th>\n",
       "      <td>7.5</td>\n",
       "      <td>0.33</td>\n",
       "      <td>0.32</td>\n",
       "      <td>11.1</td>\n",
       "      <td>0.036</td>\n",
       "      <td>25.0</td>\n",
       "      <td>119.0</td>\n",
       "      <td>3.15</td>\n",
       "      <td>0.34</td>\n",
       "    </tr>\n",
       "    <tr>\n",
       "      <th>1</th>\n",
       "      <td>6.3</td>\n",
       "      <td>0.27</td>\n",
       "      <td>0.29</td>\n",
       "      <td>12.2</td>\n",
       "      <td>0.044</td>\n",
       "      <td>59.0</td>\n",
       "      <td>196.0</td>\n",
       "      <td>3.14</td>\n",
       "      <td>0.40</td>\n",
       "    </tr>\n",
       "    <tr>\n",
       "      <th>2</th>\n",
       "      <td>7.0</td>\n",
       "      <td>0.30</td>\n",
       "      <td>0.51</td>\n",
       "      <td>13.6</td>\n",
       "      <td>0.050</td>\n",
       "      <td>40.0</td>\n",
       "      <td>168.0</td>\n",
       "      <td>3.07</td>\n",
       "      <td>0.52</td>\n",
       "    </tr>\n",
       "    <tr>\n",
       "      <th>3</th>\n",
       "      <td>7.4</td>\n",
       "      <td>0.38</td>\n",
       "      <td>0.27</td>\n",
       "      <td>7.5</td>\n",
       "      <td>0.041</td>\n",
       "      <td>24.0</td>\n",
       "      <td>160.0</td>\n",
       "      <td>3.17</td>\n",
       "      <td>0.43</td>\n",
       "    </tr>\n",
       "    <tr>\n",
       "      <th>5</th>\n",
       "      <td>6.6</td>\n",
       "      <td>0.20</td>\n",
       "      <td>0.38</td>\n",
       "      <td>7.9</td>\n",
       "      <td>0.052</td>\n",
       "      <td>30.0</td>\n",
       "      <td>145.0</td>\n",
       "      <td>3.32</td>\n",
       "      <td>0.56</td>\n",
       "    </tr>\n",
       "    <tr>\n",
       "      <th>...</th>\n",
       "      <td>...</td>\n",
       "      <td>...</td>\n",
       "      <td>...</td>\n",
       "      <td>...</td>\n",
       "      <td>...</td>\n",
       "      <td>...</td>\n",
       "      <td>...</td>\n",
       "      <td>...</td>\n",
       "      <td>...</td>\n",
       "    </tr>\n",
       "    <tr>\n",
       "      <th>2032</th>\n",
       "      <td>8.1</td>\n",
       "      <td>0.34</td>\n",
       "      <td>0.28</td>\n",
       "      <td>7.5</td>\n",
       "      <td>0.040</td>\n",
       "      <td>70.0</td>\n",
       "      <td>230.0</td>\n",
       "      <td>3.14</td>\n",
       "      <td>0.55</td>\n",
       "    </tr>\n",
       "    <tr>\n",
       "      <th>2033</th>\n",
       "      <td>7.4</td>\n",
       "      <td>0.19</td>\n",
       "      <td>0.31</td>\n",
       "      <td>14.5</td>\n",
       "      <td>0.045</td>\n",
       "      <td>39.0</td>\n",
       "      <td>193.0</td>\n",
       "      <td>3.10</td>\n",
       "      <td>0.50</td>\n",
       "    </tr>\n",
       "    <tr>\n",
       "      <th>2034</th>\n",
       "      <td>6.7</td>\n",
       "      <td>0.36</td>\n",
       "      <td>0.26</td>\n",
       "      <td>7.9</td>\n",
       "      <td>0.034</td>\n",
       "      <td>39.0</td>\n",
       "      <td>123.0</td>\n",
       "      <td>2.99</td>\n",
       "      <td>0.30</td>\n",
       "    </tr>\n",
       "    <tr>\n",
       "      <th>2035</th>\n",
       "      <td>7.7</td>\n",
       "      <td>0.28</td>\n",
       "      <td>0.35</td>\n",
       "      <td>15.3</td>\n",
       "      <td>0.056</td>\n",
       "      <td>31.0</td>\n",
       "      <td>117.0</td>\n",
       "      <td>3.27</td>\n",
       "      <td>0.50</td>\n",
       "    </tr>\n",
       "    <tr>\n",
       "      <th>2036</th>\n",
       "      <td>5.7</td>\n",
       "      <td>0.22</td>\n",
       "      <td>0.28</td>\n",
       "      <td>1.3</td>\n",
       "      <td>0.027</td>\n",
       "      <td>26.0</td>\n",
       "      <td>101.0</td>\n",
       "      <td>3.35</td>\n",
       "      <td>0.38</td>\n",
       "    </tr>\n",
       "  </tbody>\n",
       "</table>\n",
       "<p>1905 rows × 9 columns</p>\n",
       "</div>"
      ],
      "text/plain": [
       "      fixed_acidity  volatile_acidity  citric_acid  residual_sugar  chlorides  \\\n",
       "0               7.5              0.33         0.32            11.1      0.036   \n",
       "1               6.3              0.27         0.29            12.2      0.044   \n",
       "2               7.0              0.30         0.51            13.6      0.050   \n",
       "3               7.4              0.38         0.27             7.5      0.041   \n",
       "5               6.6              0.20         0.38             7.9      0.052   \n",
       "...             ...               ...          ...             ...        ...   \n",
       "2032            8.1              0.34         0.28             7.5      0.040   \n",
       "2033            7.4              0.19         0.31            14.5      0.045   \n",
       "2034            6.7              0.36         0.26             7.9      0.034   \n",
       "2035            7.7              0.28         0.35            15.3      0.056   \n",
       "2036            5.7              0.22         0.28             1.3      0.027   \n",
       "\n",
       "      free_sulfur_dioxide  total_sulfur_dioxide    pH  sulphates  \n",
       "0                    25.0                 119.0  3.15       0.34  \n",
       "1                    59.0                 196.0  3.14       0.40  \n",
       "2                    40.0                 168.0  3.07       0.52  \n",
       "3                    24.0                 160.0  3.17       0.43  \n",
       "5                    30.0                 145.0  3.32       0.56  \n",
       "...                   ...                   ...   ...        ...  \n",
       "2032                 70.0                 230.0  3.14       0.55  \n",
       "2033                 39.0                 193.0  3.10       0.50  \n",
       "2034                 39.0                 123.0  2.99       0.30  \n",
       "2035                 31.0                 117.0  3.27       0.50  \n",
       "2036                 26.0                 101.0  3.35       0.38  \n",
       "\n",
       "[1905 rows x 9 columns]"
      ]
     },
     "execution_count": 100,
     "metadata": {},
     "output_type": "execute_result"
    }
   ],
   "source": [
    "X"
   ]
  },
  {
   "cell_type": "code",
   "execution_count": 101,
   "id": "747be577",
   "metadata": {},
   "outputs": [
    {
     "data": {
      "text/plain": [
       "0       1\n",
       "1       1\n",
       "2       1\n",
       "3       0\n",
       "5       1\n",
       "       ..\n",
       "2032    1\n",
       "2033    1\n",
       "2034    1\n",
       "2035    0\n",
       "2036    1\n",
       "Name: quality_updated, Length: 1905, dtype: int32"
      ]
     },
     "execution_count": 101,
     "metadata": {},
     "output_type": "execute_result"
    }
   ],
   "source": [
    "y"
   ]
  },
  {
   "cell_type": "markdown",
   "id": "dd3c096e",
   "metadata": {},
   "source": [
    "# Answer 6:"
   ]
  },
  {
   "cell_type": "markdown",
   "id": "050ee7cf",
   "metadata": {},
   "source": [
    "Not able to identify appropriate mean and proportion tests. (Lack of Hypothesis Knowledge)"
   ]
  },
  {
   "cell_type": "markdown",
   "id": "6484670b",
   "metadata": {},
   "source": [
    "# Answer 7:"
   ]
  },
  {
   "cell_type": "raw",
   "id": "3749c793",
   "metadata": {},
   "source": [
    "Addition in accordance to the assignment guideline\n"
   ]
  },
  {
   "cell_type": "code",
   "execution_count": 102,
   "id": "d8b81c1c",
   "metadata": {},
   "outputs": [],
   "source": [
    "# ### Since the quality of wine has two categories 1 for good and 0 for average, so the level of measurement for that variable is Nominal (Binary category), therefore, to predict the quality of wine, a logistic regression model is more preferable.\n",
    "\n",
    "\n",
    "# #########Logistic Regression with statsmodels\n",
    "# import pandas as pd\n",
    "# import numpy as np\n",
    "# import statsmodels.api as sm\n",
    "# df=pd.read_csv('winedata.csv', sep=',')\n",
    "# ####df['quality'] = df['quality'].where(df['quality']<= 5, 0)\n",
    "# ####df['quality'] = df['quality'].where(df['quality']>5, 1)\n",
    "# df['quality'] = df['quality'].map({9:1,8:1,7:1,6:1,5:0,4:0,3:0})\n",
    "# y=df['quality']\n",
    "# x=df.drop(['quality'], axis='columns')\n",
    "# logitmodel=sm.Logit(y,x)\n",
    "# result=logitmodel.fit()\n",
    "# print(result.summary2() )\n",
    "# X= sm.add_constant(x)\n",
    "# logitmodel2=sm.Logit(y,X)\n",
    "# result2=logitmodel2.fit()\n",
    "# print(result2.summary2() )"
   ]
  },
  {
   "cell_type": "markdown",
   "id": "75dd1753",
   "metadata": {},
   "source": [
    "# Machine Learning Process"
   ]
  },
  {
   "cell_type": "code",
   "execution_count": 103,
   "id": "9bc469f3",
   "metadata": {},
   "outputs": [],
   "source": [
    "#Importing the requres ML Librarires\n",
    "from sklearn.model_selection import train_test_split\n",
    "#train_test_split function used to split datas into train and test set\n",
    "X_train, X_test, y_train, y_test = train_test_split(X,y,test_size = 0.25,random_state = 42)"
   ]
  },
  {
   "cell_type": "markdown",
   "id": "f95bce41",
   "metadata": {},
   "source": [
    "# Applying Logistic Regression Modelling"
   ]
  },
  {
   "cell_type": "code",
   "execution_count": 104,
   "id": "fda004b2",
   "metadata": {},
   "outputs": [
    {
     "data": {
      "text/plain": [
       "LogisticRegression()"
      ]
     },
     "execution_count": 104,
     "metadata": {},
     "output_type": "execute_result"
    }
   ],
   "source": [
    "#Appling Logistic Regression model on the training set\n",
    "\n",
    "from sklearn.linear_model import LogisticRegression\n",
    "logistic_reg = LogisticRegression()\n",
    "logistic_reg.fit(X_train, y_train)"
   ]
  },
  {
   "cell_type": "markdown",
   "id": "a382d4be",
   "metadata": {},
   "source": [
    "# Evaluating the model"
   ]
  },
  {
   "cell_type": "code",
   "execution_count": 105,
   "id": "3ac2a6ae",
   "metadata": {},
   "outputs": [],
   "source": [
    "from sklearn.metrics import mean_squared_error, f1_score\n",
    "def rmse_score(model, X_train, X_test, y_train, y_test):\n",
    "    mse_train = mean_squared_error(y_true = y_train,\n",
    "                                  y_pred = model.predict(X_train))\n",
    "    mse_test = mean_squared_error(y_true = y_test,\n",
    "                                  y_pred = model.predict(X_test))\n",
    "    rmse_train = mse_train ** 0.5\n",
    "    rmse_test = mse_test ** 0.5\n",
    "    \n",
    "    print(\"The training RMSE for \" + str(model) + \" is: \" + str(rmse_train))\n",
    "    print(\"The testing RMSE for \" + str(model) + \" is: \" + str(rmse_test))\n",
    "    return (rmse_train, rmse_test)"
   ]
  },
  {
   "cell_type": "markdown",
   "id": "0409cd31",
   "metadata": {},
   "source": [
    "# RMSE Score"
   ]
  },
  {
   "cell_type": "code",
   "execution_count": 106,
   "id": "96cd70b4",
   "metadata": {},
   "outputs": [
    {
     "name": "stdout",
     "output_type": "stream",
     "text": [
      "The training RMSE for LogisticRegression() is: 0.5442595772193246\n",
      "The testing RMSE for LogisticRegression() is: 0.5551361100027009\n"
     ]
    }
   ],
   "source": [
    "x1,y1 = rmse_score(logistic_reg, X_train, X_test, y_train, y_test)"
   ]
  },
  {
   "cell_type": "markdown",
   "id": "f463d911",
   "metadata": {},
   "source": [
    "# Prediction Score"
   ]
  },
  {
   "cell_type": "code",
   "execution_count": 107,
   "id": "4a9e4ce2",
   "metadata": {},
   "outputs": [],
   "source": [
    "prediction = logistic_reg.predict(X_test)"
   ]
  },
  {
   "cell_type": "code",
   "execution_count": 108,
   "id": "4ebcbaf0",
   "metadata": {},
   "outputs": [
    {
     "data": {
      "text/plain": [
       "0.6918238993710691"
      ]
     },
     "execution_count": 108,
     "metadata": {},
     "output_type": "execute_result"
    }
   ],
   "source": [
    "from sklearn.metrics import accuracy_score\n",
    "accuracy_score(y_test, prediction)"
   ]
  },
  {
   "cell_type": "markdown",
   "id": "bc1cc0cd",
   "metadata": {},
   "source": [
    "# Answer 8: "
   ]
  },
  {
   "cell_type": "markdown",
   "id": "36a36cc3",
   "metadata": {},
   "source": [
    "In this project, I have tried to implement WINE QUALITY Predictor model. First I have preprocessed the data. Cleaned the data by outlier removal. Then analyzed the Corelated variables. Then I carefully analyzed my Dependent & Independent variables. Then applied Logistic Regression methodology in my Data & Trained the Dataset. Finally, I tested the trained model accuracy and was able to achieve 70% Accurate Result."
   ]
  },
  {
   "cell_type": "markdown",
   "id": "4e571ccb",
   "metadata": {},
   "source": [
    "Submitted To -\n",
    "Dr. Rumana Rois\n",
    "Associate Professor, Department of Statistics, \n",
    "Jahangirnagar University\n",
    "\n",
    "Submitted By - \n",
    "Manoj Roy |\n",
    "ID: 20216039 |\n",
    "PMASDS(6th Batch) |\n",
    "\n",
    "Code Link : https://github.com/mchayan/DS_Practice/blob/master/EDA_Practice/Assignment/Assignment_2.ipynb\n"
   ]
  },
  {
   "cell_type": "code",
   "execution_count": null,
   "id": "6e89bcc6",
   "metadata": {},
   "outputs": [],
   "source": []
  }
 ],
 "metadata": {
  "kernelspec": {
   "display_name": "Python 3 (ipykernel)",
   "language": "python",
   "name": "python3"
  },
  "language_info": {
   "codemirror_mode": {
    "name": "ipython",
    "version": 3
   },
   "file_extension": ".py",
   "mimetype": "text/x-python",
   "name": "python",
   "nbconvert_exporter": "python",
   "pygments_lexer": "ipython3",
   "version": "3.9.7"
  }
 },
 "nbformat": 4,
 "nbformat_minor": 5
}

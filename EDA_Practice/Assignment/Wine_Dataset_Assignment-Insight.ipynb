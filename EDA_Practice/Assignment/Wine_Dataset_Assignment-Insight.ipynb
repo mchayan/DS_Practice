{
 "cells": [
  {
   "cell_type": "markdown",
   "id": "f27c5e84",
   "metadata": {},
   "source": [
    "# Answer 1:"
   ]
  },
  {
   "cell_type": "markdown",
   "id": "baea0267",
   "metadata": {},
   "source": [
    "Wine Quality Data Set"
   ]
  },
  {
   "cell_type": "markdown",
   "id": "87ad859d",
   "metadata": {},
   "source": [
    "This is one of the most popular datasets along data science beginners.It is divided into 2 datasets. There are 4898\n",
    "rows and 12 columns in this dataset.\n",
    "Read the data from https://archive.ics.uci.edu/ml/machine-learning-databases/wine-quality/"
   ]
  },
  {
   "cell_type": "markdown",
   "id": "d4c6a365",
   "metadata": {},
   "source": [
    "# Answer 2:"
   ]
  },
  {
   "cell_type": "markdown",
   "id": "257cf5b9",
   "metadata": {},
   "source": [
    "From the above dataset, the objective of this project is to develop a Data Centric ML Model through which the Quality \n",
    "of WINE can be predicted."
   ]
  },
  {
   "cell_type": "markdown",
   "id": "63b16902",
   "metadata": {},
   "source": [
    "# Identifying Last Two digit for the Assignment Guideline"
   ]
  },
  {
   "cell_type": "code",
   "execution_count": null,
   "id": "574efeab",
   "metadata": {},
   "outputs": [],
   "source": [
    "id = 20216039\n",
    "print('My Id is:', id, '.','The last digit of my ID is:', str(id)[-2:])\n",
    "Mod = 39%2\n",
    "print('The Modulo of the last two digit of my ID is', Mod, '.', '\\nMy assignment Dataset is Wine Quality Data.')"
   ]
  },
  {
   "cell_type": "markdown",
   "id": "599601a2",
   "metadata": {},
   "source": [
    "# Import Necessary Libraries"
   ]
  },
  {
   "cell_type": "code",
   "execution_count": null,
   "id": "7445e7a0",
   "metadata": {},
   "outputs": [],
   "source": [
    "import pandas as pd\n",
    "import numpy as np\n",
    "import statsmodels.api as sm\n",
    "import matplotlib as mt\n",
    "import matplotlib.pyplot as plt\n",
    "import matplotlib.mlab as mlab\n",
    "import seaborn as sns\n",
    "df=pd.read_csv('winedata.csv', sep=',')"
   ]
  },
  {
   "cell_type": "code",
   "execution_count": null,
   "id": "23f8552c",
   "metadata": {},
   "outputs": [],
   "source": [
    "df.info()"
   ]
  },
  {
   "cell_type": "code",
   "execution_count": null,
   "id": "dcb54984",
   "metadata": {
    "scrolled": true
   },
   "outputs": [],
   "source": [
    "df.head()"
   ]
  },
  {
   "cell_type": "markdown",
   "id": "dee37bb3",
   "metadata": {},
   "source": [
    "# Answer 3:"
   ]
  },
  {
   "cell_type": "raw",
   "id": "ee129ad7",
   "metadata": {},
   "source": [
    "Data Cleaning"
   ]
  },
  {
   "cell_type": "markdown",
   "id": "f3f7bf8b",
   "metadata": {},
   "source": [
    "# Necessity of Dropping rt.sulfur.dioxide (As Assignment guideline provides 12 Columns & The Dataset Contains 13 Columns)"
   ]
  },
  {
   "cell_type": "code",
   "execution_count": null,
   "id": "27727b82",
   "metadata": {},
   "outputs": [],
   "source": [
    "df.drop(['rt.sulfur.dioxide'], axis =1, inplace =True)"
   ]
  },
  {
   "cell_type": "code",
   "execution_count": null,
   "id": "4d36db69",
   "metadata": {},
   "outputs": [],
   "source": [
    "df.info()"
   ]
  },
  {
   "cell_type": "markdown",
   "id": "5d898a9a",
   "metadata": {},
   "source": [
    "# Appending Dataset According to the Assignment Guideline"
   ]
  },
  {
   "cell_type": "code",
   "execution_count": null,
   "id": "803f9df2",
   "metadata": {},
   "outputs": [],
   "source": [
    "# List of data series\n",
    "datarowsSeries = [pd.Series([7.8+.39,.88+.39,0.00+.39,1.9,0.09+.39,25.0+.39,67.0+.39,.991+.39,3.22,0.68+.39,9.8+.39,5], index=df.columns ), pd.Series([7.2+.39,.83+.39,0.01+.39,2.2,0.19+.39,15.0+.39,60.0+.39,.996+.39,3.52,0.55+.39,9.6+.39,6], index=df.columns ), pd.Series([7.9+.39,.89+.39,0.01+.39,1.7,0.08+.39,22.0+.39,57.0+.39,.997+.39,3.26,0.64+.39,9.8+.39,2], index=df.columns ), pd.Series([7.7+.39,.86+.39,0.02+.39,2.3,0.07+.39,11.0+.39,38.0+.39,.994+.39,3.12,0.08+.39,9.4+.39,3], index=df.columns ) ]"
   ]
  },
  {
   "cell_type": "markdown",
   "id": "d86b7712",
   "metadata": {},
   "source": [
    "# Check The DF For Verifying Newly Appended Data"
   ]
  },
  {
   "cell_type": "code",
   "execution_count": null,
   "id": "6bfe3ab5",
   "metadata": {},
   "outputs": [],
   "source": [
    "df.iloc[-4:]"
   ]
  },
  {
   "cell_type": "markdown",
   "id": "fc54dbbf",
   "metadata": {},
   "source": [
    "# New Appended DF named new_data"
   ]
  },
  {
   "cell_type": "code",
   "execution_count": null,
   "id": "d3532be4",
   "metadata": {},
   "outputs": [],
   "source": [
    "new_data = df.append(datarowsSeries, ignore_index=True)"
   ]
  },
  {
   "cell_type": "code",
   "execution_count": null,
   "id": "920575e0",
   "metadata": {},
   "outputs": [],
   "source": [
    "new_data.iloc[-8:]\n"
   ]
  },
  {
   "cell_type": "code",
   "execution_count": null,
   "id": "f9eca0fd",
   "metadata": {
    "scrolled": true
   },
   "outputs": [],
   "source": [
    "new_data.info()"
   ]
  },
  {
   "cell_type": "markdown",
   "id": "ca2331f9",
   "metadata": {},
   "source": [
    "# Changed Column Name for Ease"
   ]
  },
  {
   "cell_type": "code",
   "execution_count": null,
   "id": "2157bcfe",
   "metadata": {},
   "outputs": [],
   "source": [
    "new_data.columns = ['fixed_acidity', 'volatile_acidity', 'citric_acid', 'residual_sugar', 'chlorides', 'free_sulfur_dioxide', 'total_sulfur_dioxide', 'density', 'pH', 'sulphates', 'alcohol', 'quality'   ]"
   ]
  },
  {
   "cell_type": "code",
   "execution_count": null,
   "id": "91273b56",
   "metadata": {},
   "outputs": [],
   "source": [
    "new_data.info()"
   ]
  },
  {
   "cell_type": "markdown",
   "id": "0aaa202e",
   "metadata": {},
   "source": [
    "# Answer 4:"
   ]
  },
  {
   "cell_type": "markdown",
   "id": "e5f074e1",
   "metadata": {},
   "source": [
    "# Suitable Plotting, Data Visualization"
   ]
  },
  {
   "cell_type": "code",
   "execution_count": null,
   "id": "ad7036da",
   "metadata": {},
   "outputs": [],
   "source": [
    "new_data.boxplot()"
   ]
  },
  {
   "cell_type": "code",
   "execution_count": null,
   "id": "87d3ecf5",
   "metadata": {},
   "outputs": [],
   "source": [
    "new_data.hist(bins=25,figsize=(10,10))\n",
    "# display histogram\n",
    "plt.show()"
   ]
  },
  {
   "cell_type": "markdown",
   "id": "d2884ce9",
   "metadata": {},
   "source": [
    "# Checked Specific Column for Better Visualization & Outlier Removal"
   ]
  },
  {
   "cell_type": "code",
   "execution_count": null,
   "id": "faa61a53",
   "metadata": {},
   "outputs": [],
   "source": [
    "new_data.boxplot('fixed_acidity')"
   ]
  },
  {
   "cell_type": "markdown",
   "id": "5d17dbe2",
   "metadata": {},
   "source": [
    "# Found Outlier in The fixed_acidity Column. Found IQR To Remove The outlier."
   ]
  },
  {
   "cell_type": "code",
   "execution_count": null,
   "id": "dded80e7",
   "metadata": {},
   "outputs": [],
   "source": [
    "#Finding IQR for the removal of outliers of the values of fixed|_acidity column\n",
    "sort_data = np.sort(new_data['fixed_acidity'])\n",
    "Q1 = np.percentile(new_data['fixed_acidity'], 25, \n",
    "                   interpolation = 'midpoint') \n",
    "  \n",
    "Q3 = np.percentile(new_data['fixed_acidity'], 75,\n",
    "                   interpolation = 'midpoint') \n",
    "IQR = Q3 - Q1 \n",
    "print(IQR)"
   ]
  },
  {
   "cell_type": "code",
   "execution_count": null,
   "id": "9b19b904",
   "metadata": {},
   "outputs": [],
   "source": [
    "low_lim = Q1 - 1.5*IQR \n",
    "up_lim = Q3 + 1.5*IQR \n",
    "# Printing Results\n",
    "print('Low_limit is:', low_lim )\n",
    "print('Upper limit is:', up_lim)\n",
    "print('Q1:', Q1)\n",
    "print('Q3:', Q3)"
   ]
  },
  {
   "cell_type": "code",
   "execution_count": null,
   "id": "088682a2",
   "metadata": {},
   "outputs": [],
   "source": [
    "outliers = new_data.fixed_acidity[(new_data.fixed_acidity >= up_lim) | (new_data.fixed_acidity <= low_lim )]\n",
    "print(outliers)\n"
   ]
  },
  {
   "cell_type": "code",
   "execution_count": null,
   "id": "bf1bb9cc",
   "metadata": {},
   "outputs": [],
   "source": [
    "new_data.shape "
   ]
  },
  {
   "cell_type": "markdown",
   "id": "f178c3a4",
   "metadata": {},
   "source": [
    "# Dropping outliers for fixed_acidity Column"
   ]
  },
  {
   "cell_type": "code",
   "execution_count": null,
   "id": "e14a65d4",
   "metadata": {},
   "outputs": [],
   "source": [
    "#dropping the outliers\n",
    "new_data.drop(new_data[new_data['fixed_acidity']>= 8.8].index, inplace = True)\n",
    "new_data.shape "
   ]
  },
  {
   "cell_type": "code",
   "execution_count": null,
   "id": "f6140790",
   "metadata": {},
   "outputs": [],
   "source": [
    "#dropping the outliers\n",
    "new_data.drop(new_data[new_data['fixed_acidity']<= 4.8].index, inplace = True)\n",
    "new_data.shape "
   ]
  },
  {
   "cell_type": "markdown",
   "id": "aa62d49d",
   "metadata": {},
   "source": [
    "# Verifying the fixed_acidity Boxplot again to be sure about Outlier Removal"
   ]
  },
  {
   "cell_type": "code",
   "execution_count": null,
   "id": "d9e32587",
   "metadata": {},
   "outputs": [],
   "source": [
    "new_data.boxplot('fixed_acidity')"
   ]
  },
  {
   "cell_type": "markdown",
   "id": "cf687d17",
   "metadata": {},
   "source": [
    "# Everything is OK. Proceed to Next Outlier Removal for other columns."
   ]
  },
  {
   "cell_type": "markdown",
   "id": "bcaf899b",
   "metadata": {},
   "source": [
    "# Steps for volatile_acidity Column"
   ]
  },
  {
   "cell_type": "code",
   "execution_count": null,
   "id": "f30ad121",
   "metadata": {},
   "outputs": [],
   "source": [
    "new_data.boxplot('volatile_acidity')"
   ]
  },
  {
   "cell_type": "code",
   "execution_count": null,
   "id": "307909a2",
   "metadata": {},
   "outputs": [],
   "source": [
    "#Finding IQR for the removal of outliers of the values of volatile_acidity column\n",
    "sort_data = np.sort(new_data['volatile_acidity'])\n",
    "Q1 = np.percentile(new_data['volatile_acidity'], 25, \n",
    "                   interpolation = 'midpoint') \n",
    "  \n",
    "Q3 = np.percentile(new_data['volatile_acidity'], 75,\n",
    "                   interpolation = 'midpoint') \n",
    "IQR = Q3 - Q1 \n",
    "print(IQR)"
   ]
  },
  {
   "cell_type": "code",
   "execution_count": null,
   "id": "ee4623e8",
   "metadata": {},
   "outputs": [],
   "source": [
    "low_lim = Q1 - 1.5*IQR \n",
    "up_lim = Q3 + 1.5*IQR \n",
    "# Printing Results\n",
    "print('Low_limit is:', low_lim )\n",
    "print('Upper limit is:', up_lim)\n",
    "print('Q1:', Q1)\n",
    "print('Q3:', Q3)"
   ]
  },
  {
   "cell_type": "code",
   "execution_count": null,
   "id": "51f3a110",
   "metadata": {},
   "outputs": [],
   "source": [
    "outliers = new_data.volatile_acidity[(new_data.volatile_acidity >= up_lim) | (new_data.volatile_acidity <= low_lim )]\n",
    "print(outliers)"
   ]
  },
  {
   "cell_type": "code",
   "execution_count": null,
   "id": "f061fda7",
   "metadata": {},
   "outputs": [],
   "source": [
    "new_data.shape "
   ]
  },
  {
   "cell_type": "code",
   "execution_count": null,
   "id": "172647cd",
   "metadata": {},
   "outputs": [],
   "source": [
    "#dropping the outliers\n",
    "new_data.drop(new_data[new_data['volatile_acidity']>= 0.46].index, inplace = True)\n",
    "new_data.shape "
   ]
  },
  {
   "cell_type": "code",
   "execution_count": null,
   "id": "fc054a57",
   "metadata": {},
   "outputs": [],
   "source": [
    "#dropping the outliers\n",
    "new_data.drop(new_data[new_data['volatile_acidity']<= 0.05999999999999997].index, inplace = True)\n",
    "new_data.shape "
   ]
  },
  {
   "cell_type": "code",
   "execution_count": null,
   "id": "f558f34b",
   "metadata": {},
   "outputs": [],
   "source": [
    "new_data.boxplot('volatile_acidity')"
   ]
  },
  {
   "cell_type": "markdown",
   "id": "aa164a51",
   "metadata": {},
   "source": [
    "# Steps for citric_acid Column"
   ]
  },
  {
   "cell_type": "code",
   "execution_count": null,
   "id": "223b43f9",
   "metadata": {},
   "outputs": [],
   "source": [
    "new_data.boxplot('citric_acid')"
   ]
  },
  {
   "cell_type": "code",
   "execution_count": null,
   "id": "ecafe0b9",
   "metadata": {},
   "outputs": [],
   "source": [
    "#Finding IQR for the removal of outliers of the values of citric_acid column\n",
    "sort_data = np.sort(new_data['citric_acid'])\n",
    "Q1 = np.percentile(new_data['citric_acid'], 25, \n",
    "                   interpolation = 'midpoint') \n",
    "  \n",
    "Q3 = np.percentile(new_data['citric_acid'], 75,\n",
    "                   interpolation = 'midpoint') \n",
    "IQR = Q3 - Q1 \n",
    "print(IQR)"
   ]
  },
  {
   "cell_type": "code",
   "execution_count": null,
   "id": "9473177a",
   "metadata": {},
   "outputs": [],
   "source": [
    "low_lim = Q1 - 1.5*IQR \n",
    "up_lim = Q3 + 1.5*IQR \n",
    "# Printing Results\n",
    "print('Low_limit is:', low_lim )\n",
    "print('Upper limit is:', up_lim)\n",
    "print('Q1:', Q1)\n",
    "print('Q3:', Q3)"
   ]
  },
  {
   "cell_type": "code",
   "execution_count": null,
   "id": "17fbc8a8",
   "metadata": {},
   "outputs": [],
   "source": [
    "outliers = new_data.citric_acid[(new_data.citric_acid >= up_lim) | (new_data.citric_acid <= low_lim )]\n",
    "print(outliers)"
   ]
  },
  {
   "cell_type": "code",
   "execution_count": null,
   "id": "3de57ac0",
   "metadata": {},
   "outputs": [],
   "source": [
    "new_data.shape "
   ]
  },
  {
   "cell_type": "code",
   "execution_count": null,
   "id": "afc35c05",
   "metadata": {},
   "outputs": [],
   "source": [
    "#dropping the outliers\n",
    "new_data.drop(new_data[new_data['citric_acid']>= 0.5449999999999999].index, inplace = True)\n",
    "new_data.shape"
   ]
  },
  {
   "cell_type": "code",
   "execution_count": null,
   "id": "9c5d09b1",
   "metadata": {},
   "outputs": [],
   "source": [
    "#dropping the outliers\n",
    "new_data.drop(new_data[new_data['citric_acid']<= 0.10500000000000004].index, inplace = True)\n",
    "new_data.shape "
   ]
  },
  {
   "cell_type": "code",
   "execution_count": null,
   "id": "cd8378f1",
   "metadata": {},
   "outputs": [],
   "source": [
    "new_data.boxplot('citric_acid')"
   ]
  },
  {
   "cell_type": "markdown",
   "id": "f9eb997c",
   "metadata": {},
   "source": [
    "# Steps for residual_sugar Column. (No Outlier Found.) Continue to next Column."
   ]
  },
  {
   "cell_type": "code",
   "execution_count": null,
   "id": "daac0449",
   "metadata": {},
   "outputs": [],
   "source": [
    "new_data.boxplot('residual_sugar')\n"
   ]
  },
  {
   "cell_type": "markdown",
   "id": "8f645f11",
   "metadata": {},
   "source": [
    "# Steps for chlorides Column "
   ]
  },
  {
   "cell_type": "code",
   "execution_count": null,
   "id": "962d9476",
   "metadata": {},
   "outputs": [],
   "source": [
    "new_data.boxplot('chlorides')\n"
   ]
  },
  {
   "cell_type": "code",
   "execution_count": null,
   "id": "e45af1c6",
   "metadata": {},
   "outputs": [],
   "source": [
    "#Finding IQR for the removal of outliers of the values of chlorides column\n",
    "sort_data = np.sort(new_data['chlorides'])\n",
    "Q1 = np.percentile(new_data['chlorides'], 25, \n",
    "                   interpolation = 'midpoint') \n",
    "  \n",
    "Q3 = np.percentile(new_data['chlorides'], 75,\n",
    "                   interpolation = 'midpoint') \n",
    "IQR = Q3 - Q1 \n",
    "print(IQR)"
   ]
  },
  {
   "cell_type": "code",
   "execution_count": null,
   "id": "625cab3e",
   "metadata": {},
   "outputs": [],
   "source": [
    "low_lim = Q1 - 1.5*IQR \n",
    "up_lim = Q3 + 1.5*IQR \n",
    "# Printing Results\n",
    "print('Low_limit is:', low_lim )\n",
    "print('Upper limit is:', up_lim)\n",
    "print('Q1:', Q1)\n",
    "print('Q3:', Q3)"
   ]
  },
  {
   "cell_type": "code",
   "execution_count": null,
   "id": "42ad5483",
   "metadata": {},
   "outputs": [],
   "source": [
    "outliers = new_data.citric_acid[(new_data.chlorides >= up_lim) | (new_data.chlorides <= low_lim )]\n",
    "print(outliers)"
   ]
  },
  {
   "cell_type": "code",
   "execution_count": null,
   "id": "8d87e355",
   "metadata": {},
   "outputs": [],
   "source": [
    "new_data.shape "
   ]
  },
  {
   "cell_type": "code",
   "execution_count": null,
   "id": "cf2f6f2b",
   "metadata": {},
   "outputs": [],
   "source": [
    "#dropping the outliers\n",
    "new_data.drop(new_data[new_data['chlorides']>= 0.07].index, inplace = True)\n",
    "new_data.shape"
   ]
  },
  {
   "cell_type": "code",
   "execution_count": null,
   "id": "097a32c1",
   "metadata": {},
   "outputs": [],
   "source": [
    "#dropping the outliers\n",
    "new_data.drop(new_data[new_data['chlorides']<= 0.014000000000000005].index, inplace = True)\n",
    "new_data.shape "
   ]
  },
  {
   "cell_type": "code",
   "execution_count": null,
   "id": "8fd51f54",
   "metadata": {},
   "outputs": [],
   "source": [
    "new_data.boxplot('chlorides')"
   ]
  },
  {
   "cell_type": "markdown",
   "id": "54731bef",
   "metadata": {},
   "source": [
    "# Steps for free_sulfur_dioxide Column"
   ]
  },
  {
   "cell_type": "code",
   "execution_count": null,
   "id": "74b995a4",
   "metadata": {},
   "outputs": [],
   "source": [
    "new_data.boxplot('free_sulfur_dioxide')"
   ]
  },
  {
   "cell_type": "code",
   "execution_count": null,
   "id": "b1072e24",
   "metadata": {},
   "outputs": [],
   "source": [
    "#Finding IQR for the removal of outliers of the values of free_sulfur_dioxide column\n",
    "sort_data = np.sort(new_data['free_sulfur_dioxide'])\n",
    "Q1 = np.percentile(new_data['free_sulfur_dioxide'], 25, \n",
    "                   interpolation = 'midpoint') \n",
    "  \n",
    "Q3 = np.percentile(new_data['free_sulfur_dioxide'], 75,\n",
    "                   interpolation = 'midpoint') \n",
    "IQR = Q3 - Q1 \n",
    "print(IQR)"
   ]
  },
  {
   "cell_type": "code",
   "execution_count": null,
   "id": "4944b4da",
   "metadata": {},
   "outputs": [],
   "source": [
    "low_lim = Q1 - 1.5*IQR \n",
    "up_lim = Q3 + 1.5*IQR \n",
    "# Printing Results\n",
    "print('Low_limit is:', low_lim )\n",
    "print('Upper limit is:', up_lim)\n",
    "print('Q1:', Q1)\n",
    "print('Q3:', Q3)"
   ]
  },
  {
   "cell_type": "code",
   "execution_count": null,
   "id": "3633e2a3",
   "metadata": {},
   "outputs": [],
   "source": [
    "outliers = new_data.citric_acid[(new_data.free_sulfur_dioxide >= up_lim) | (new_data.free_sulfur_dioxide <= low_lim )]\n",
    "print(outliers)"
   ]
  },
  {
   "cell_type": "code",
   "execution_count": null,
   "id": "ab8d8198",
   "metadata": {},
   "outputs": [],
   "source": [
    "new_data.shape "
   ]
  },
  {
   "cell_type": "code",
   "execution_count": null,
   "id": "055221e9",
   "metadata": {},
   "outputs": [],
   "source": [
    "#dropping the outliers\n",
    "new_data.drop(new_data[new_data['free_sulfur_dioxide']>= 76.5].index, inplace = True)\n",
    "new_data.shape"
   ]
  },
  {
   "cell_type": "code",
   "execution_count": null,
   "id": "c5755edc",
   "metadata": {},
   "outputs": [],
   "source": [
    "#dropping the outliers\n",
    "new_data.drop(new_data[new_data['free_sulfur_dioxide']<= -7.55].index, inplace = True)\n",
    "new_data.shape "
   ]
  },
  {
   "cell_type": "code",
   "execution_count": null,
   "id": "77ce5490",
   "metadata": {},
   "outputs": [],
   "source": [
    "new_data.boxplot('free_sulfur_dioxide')"
   ]
  },
  {
   "cell_type": "markdown",
   "id": "3f0ccd17",
   "metadata": {},
   "source": [
    "# Steps for total_sulfur_dioxide Column . (No Outlier Found.) Continue to next Column."
   ]
  },
  {
   "cell_type": "code",
   "execution_count": null,
   "id": "164fb287",
   "metadata": {},
   "outputs": [],
   "source": [
    "new_data.boxplot('total_sulfur_dioxide')"
   ]
  },
  {
   "cell_type": "markdown",
   "id": "5195aea4",
   "metadata": {},
   "source": [
    "# Steps for density Column. (No Outlier Found.) Continue to next Column."
   ]
  },
  {
   "cell_type": "code",
   "execution_count": null,
   "id": "13ff3f3c",
   "metadata": {},
   "outputs": [],
   "source": [
    "new_data.boxplot('density')"
   ]
  },
  {
   "cell_type": "markdown",
   "id": "741499b1",
   "metadata": {},
   "source": [
    "# Steps for pH Column"
   ]
  },
  {
   "cell_type": "code",
   "execution_count": null,
   "id": "1ac47d9a",
   "metadata": {},
   "outputs": [],
   "source": [
    "new_data.boxplot('pH')"
   ]
  },
  {
   "cell_type": "code",
   "execution_count": null,
   "id": "9aacecde",
   "metadata": {},
   "outputs": [],
   "source": [
    " #Finding IQR for the removal of outliers of the values of pH column\n",
    "sort_data = np.sort(new_data['pH'])\n",
    "Q1 = np.percentile(new_data['pH'], 25, \n",
    "                   interpolation = 'midpoint') \n",
    "  \n",
    "Q3 = np.percentile(new_data['pH'], 75,\n",
    "                   interpolation = 'midpoint') \n",
    "IQR = Q3 - Q1 \n",
    "print(IQR)"
   ]
  },
  {
   "cell_type": "code",
   "execution_count": null,
   "id": "d27bdbb9",
   "metadata": {},
   "outputs": [],
   "source": [
    "low_lim = Q1 - 1.5*IQR \n",
    "up_lim = Q3 + 1.5*IQR \n",
    "# Printing Results\n",
    "print('Low_limit is:', low_lim )\n",
    "print('Upper limit is:', up_lim)\n",
    "print('Q1:', Q1)\n",
    "print('Q3:', Q3)"
   ]
  },
  {
   "cell_type": "code",
   "execution_count": null,
   "id": "640b5bca",
   "metadata": {},
   "outputs": [],
   "source": [
    "outliers = new_data.pH[(new_data.pH >= up_lim) | (new_data.pH <= low_lim )]\n",
    "print(outliers)"
   ]
  },
  {
   "cell_type": "code",
   "execution_count": null,
   "id": "4446b2de",
   "metadata": {},
   "outputs": [],
   "source": [
    "new_data.shape "
   ]
  },
  {
   "cell_type": "code",
   "execution_count": null,
   "id": "d6d526a1",
   "metadata": {},
   "outputs": [],
   "source": [
    "#dropping the outliers\n",
    "new_data.drop(new_data[new_data['pH']>= 3.5649999999999995].index, inplace = True)\n",
    "new_data.shape"
   ]
  },
  {
   "cell_type": "code",
   "execution_count": null,
   "id": "294ddbb7",
   "metadata": {},
   "outputs": [],
   "source": [
    "#dropping the outliers\n",
    "new_data.drop(new_data[new_data['pH']<= 2.8049999999999997].index, inplace = True)\n",
    "new_data.shape "
   ]
  },
  {
   "cell_type": "code",
   "execution_count": null,
   "id": "c3157f84",
   "metadata": {},
   "outputs": [],
   "source": [
    "new_data.boxplot('pH')"
   ]
  },
  {
   "cell_type": "markdown",
   "id": "0e963e58",
   "metadata": {},
   "source": [
    "# Steps for sulphates Column"
   ]
  },
  {
   "cell_type": "code",
   "execution_count": null,
   "id": "154f7a73",
   "metadata": {},
   "outputs": [],
   "source": [
    "new_data.boxplot('sulphates')"
   ]
  },
  {
   "cell_type": "code",
   "execution_count": null,
   "id": "b57531be",
   "metadata": {},
   "outputs": [],
   "source": [
    " #Finding IQR for the removal of outliers of the values of sulphates column\n",
    "sort_data = np.sort(new_data['sulphates'])\n",
    "Q1 = np.percentile(new_data['sulphates'], 25, \n",
    "                   interpolation = 'midpoint') \n",
    "  \n",
    "Q3 = np.percentile(new_data['sulphates'], 75,\n",
    "                   interpolation = 'midpoint') \n",
    "IQR = Q3 - Q1 \n",
    "print(IQR)"
   ]
  },
  {
   "cell_type": "code",
   "execution_count": null,
   "id": "dbadd15f",
   "metadata": {},
   "outputs": [],
   "source": [
    "low_lim = Q1 - 1.5*IQR \n",
    "up_lim = Q3 + 1.5*IQR \n",
    "# Printing Results\n",
    "print('Low_limit is:', low_lim )\n",
    "print('Upper limit is:', up_lim)\n",
    "print('Q1:', Q1)\n",
    "print('Q3:', Q3)"
   ]
  },
  {
   "cell_type": "code",
   "execution_count": null,
   "id": "d5ecda26",
   "metadata": {},
   "outputs": [],
   "source": [
    "outliers = new_data.sulphates[(new_data.sulphates >= up_lim) | (new_data.sulphates <= low_lim )]\n",
    "print(outliers)"
   ]
  },
  {
   "cell_type": "code",
   "execution_count": null,
   "id": "0727da6a",
   "metadata": {},
   "outputs": [],
   "source": [
    "new_data.shape "
   ]
  },
  {
   "cell_type": "code",
   "execution_count": null,
   "id": "e3e5bc81",
   "metadata": {},
   "outputs": [],
   "source": [
    "#dropping the outliers\n",
    "new_data.drop(new_data[new_data['sulphates']>= 0.7350000000000001].index, inplace = True)\n",
    "new_data.shape"
   ]
  },
  {
   "cell_type": "code",
   "execution_count": null,
   "id": "cb2d4d8e",
   "metadata": {},
   "outputs": [],
   "source": [
    "#dropping the outliers\n",
    "new_data.drop(new_data[new_data['sulphates']<= 0.21499999999999989].index, inplace = True)\n",
    "new_data.shape"
   ]
  },
  {
   "cell_type": "code",
   "execution_count": null,
   "id": "b1508a76",
   "metadata": {},
   "outputs": [],
   "source": [
    "new_data.boxplot('sulphates')"
   ]
  },
  {
   "cell_type": "markdown",
   "id": "00a0badf",
   "metadata": {},
   "source": [
    "# Steps for alcohol Column. (No Outlier Found.) Continue to next Column."
   ]
  },
  {
   "cell_type": "code",
   "execution_count": null,
   "id": "35426036",
   "metadata": {},
   "outputs": [],
   "source": [
    "new_data.boxplot('alcohol')"
   ]
  },
  {
   "cell_type": "markdown",
   "id": "be146c73",
   "metadata": {},
   "source": [
    "# Exploring the Processed Dataset"
   ]
  },
  {
   "cell_type": "code",
   "execution_count": null,
   "id": "5da84ddd",
   "metadata": {},
   "outputs": [],
   "source": [
    "# Now, let's check the information about different variables/column from the dataset:\n",
    "new_data.describe()"
   ]
  },
  {
   "cell_type": "code",
   "execution_count": null,
   "id": "59ab4c9e",
   "metadata": {
    "scrolled": true
   },
   "outputs": [],
   "source": [
    "new_data.isnull().sum()"
   ]
  },
  {
   "cell_type": "markdown",
   "id": "7d1442d8",
   "metadata": {},
   "source": [
    "# Exploring the Target Variable (Data of quality Column)"
   ]
  },
  {
   "cell_type": "code",
   "execution_count": null,
   "id": "ce5c8b44",
   "metadata": {
    "scrolled": true
   },
   "outputs": [],
   "source": [
    "new_data.quality.value_counts().sort_index()"
   ]
  },
  {
   "cell_type": "code",
   "execution_count": null,
   "id": "97a9a120",
   "metadata": {},
   "outputs": [],
   "source": [
    "new_data['quality'].unique()"
   ]
  },
  {
   "cell_type": "code",
   "execution_count": null,
   "id": "d0316c50",
   "metadata": {
    "scrolled": true
   },
   "outputs": [],
   "source": [
    "new_data['quality']"
   ]
  },
  {
   "cell_type": "code",
   "execution_count": null,
   "id": "265839ac",
   "metadata": {
    "scrolled": true
   },
   "outputs": [],
   "source": [
    "sns.countplot(x='quality', data=new_data)"
   ]
  },
  {
   "cell_type": "code",
   "execution_count": null,
   "id": "8813315d",
   "metadata": {},
   "outputs": [],
   "source": [
    "\n",
    "new_data['quality'].value_counts()\n",
    "\n"
   ]
  },
  {
   "cell_type": "raw",
   "id": "7224a058",
   "metadata": {},
   "source": [
    "The above distribution shows the range for response variable (quality) is between 3 to 9."
   ]
  },
  {
   "cell_type": "code",
   "execution_count": null,
   "id": "6de1fad3",
   "metadata": {},
   "outputs": [],
   "source": [
    "new_data.describe()"
   ]
  },
  {
   "cell_type": "markdown",
   "id": "2be0df52",
   "metadata": {},
   "source": [
    "# Bivariate Analysis (Checking the relationship of entities with Target Variable Quality)"
   ]
  },
  {
   "cell_type": "markdown",
   "id": "45638478",
   "metadata": {},
   "source": [
    "# Fixed Acidity vs Quality"
   ]
  },
  {
   "cell_type": "code",
   "execution_count": null,
   "id": "fef74c65",
   "metadata": {
    "scrolled": true
   },
   "outputs": [],
   "source": [
    "plt.scatter(new_data['quality'], new_data['fixed_acidity'], color = 'green')\n",
    "plt.title('Relation of Fixed Acidity with Wine Quality')\n",
    "plt.xlabel('Quality')\n",
    "plt.ylabel('Fixed Acidity')\n",
    "plt.legend()\n",
    "plt.show()"
   ]
  },
  {
   "cell_type": "code",
   "execution_count": null,
   "id": "a8dc576b",
   "metadata": {},
   "outputs": [],
   "source": [
    "fig = plt.figure(figsize = (10,6))\n",
    "sns.barplot(x = 'quality', y = 'fixed_acidity', data = new_data)"
   ]
  },
  {
   "cell_type": "markdown",
   "id": "c4604dcc",
   "metadata": {},
   "source": [
    "# Alcohol vs Quality"
   ]
  },
  {
   "cell_type": "code",
   "execution_count": null,
   "id": "70cb7e8d",
   "metadata": {},
   "outputs": [],
   "source": [
    "plt.bar(new_data['quality'], new_data['alcohol'], color = 'maroon')\n",
    "plt.title('Relation of Alcohol with Wine Quality')\n",
    "plt.xlabel('Quality')\n",
    "plt.ylabel('Alcohol')\n",
    "plt.legend()\n",
    "plt.show()"
   ]
  },
  {
   "cell_type": "code",
   "execution_count": null,
   "id": "14e05b95",
   "metadata": {},
   "outputs": [],
   "source": [
    "fig = plt.figure(figsize = (10,6))\n",
    "sns.barplot(x = 'quality', y = 'alcohol', data = new_data)"
   ]
  },
  {
   "cell_type": "markdown",
   "id": "62e12e60",
   "metadata": {},
   "source": [
    "# Volatile Acidity vs Quality"
   ]
  },
  {
   "cell_type": "code",
   "execution_count": null,
   "id": "93abf56f",
   "metadata": {},
   "outputs": [],
   "source": [
    "fig = plt.figure(figsize = (10,6))\n",
    "sns.barplot(x = 'quality', y = 'volatile_acidity', data = new_data)"
   ]
  },
  {
   "cell_type": "markdown",
   "id": "4d346294",
   "metadata": {},
   "source": [
    "# Citric Acid vs Quality"
   ]
  },
  {
   "cell_type": "code",
   "execution_count": null,
   "id": "65b75c76",
   "metadata": {},
   "outputs": [],
   "source": [
    "fig = plt.figure(figsize = (10,6))\n",
    "sns.barplot(x = 'quality', y = 'citric_acid', data = new_data)"
   ]
  },
  {
   "cell_type": "markdown",
   "id": "eb3a8dd7",
   "metadata": {},
   "source": [
    "# Residual Sugar vs Quality"
   ]
  },
  {
   "cell_type": "code",
   "execution_count": null,
   "id": "ee5c0fd8",
   "metadata": {},
   "outputs": [],
   "source": [
    "fig = plt.figure(figsize = (10,6))\n",
    "sns.barplot(x = 'quality', y = 'residual_sugar', data = new_data)"
   ]
  },
  {
   "cell_type": "markdown",
   "id": "2fc1a51d",
   "metadata": {},
   "source": [
    "# Free Sulfur Dioxide Vs Quality"
   ]
  },
  {
   "cell_type": "code",
   "execution_count": null,
   "id": "e842ceb3",
   "metadata": {},
   "outputs": [],
   "source": [
    "fig = plt.figure(figsize = (10,6))\n",
    "sns.barplot(x = 'quality', y = 'free_sulfur_dioxide', data = new_data)"
   ]
  },
  {
   "cell_type": "markdown",
   "id": "dbfb334e",
   "metadata": {},
   "source": [
    "# Total Sulfur Dioxide Vs Quality"
   ]
  },
  {
   "cell_type": "code",
   "execution_count": null,
   "id": "db11f77e",
   "metadata": {},
   "outputs": [],
   "source": [
    "fig = plt.figure(figsize = (10,6))\n",
    "sns.barplot(x = 'quality', y = 'total_sulfur_dioxide', data = new_data)"
   ]
  },
  {
   "cell_type": "markdown",
   "id": "d7243455",
   "metadata": {},
   "source": [
    "# Sulphates vs Quality"
   ]
  },
  {
   "cell_type": "code",
   "execution_count": null,
   "id": "f7e0a8ef",
   "metadata": {},
   "outputs": [],
   "source": [
    "fig = plt.figure(figsize = (10,6))\n",
    "sns.barplot(x = 'quality', y = 'sulphates', data = new_data)"
   ]
  },
  {
   "cell_type": "markdown",
   "id": "2ee54df3",
   "metadata": {},
   "source": [
    "# Density vs Quality"
   ]
  },
  {
   "cell_type": "code",
   "execution_count": null,
   "id": "02a515df",
   "metadata": {},
   "outputs": [],
   "source": [
    "fig = plt.figure(figsize = (10,6))\n",
    "sns.barplot(x = 'quality', y = 'density', data = new_data)"
   ]
  },
  {
   "cell_type": "markdown",
   "id": "c5be8470",
   "metadata": {},
   "source": [
    "# pH vs Quality"
   ]
  },
  {
   "cell_type": "code",
   "execution_count": null,
   "id": "5834b28d",
   "metadata": {},
   "outputs": [],
   "source": [
    "fig = plt.figure(figsize = (10,6))\n",
    "sns.barplot(x = 'quality', y = 'pH', data = new_data)"
   ]
  },
  {
   "cell_type": "markdown",
   "id": "d6333662",
   "metadata": {},
   "source": [
    "# Chloride vs Quality"
   ]
  },
  {
   "cell_type": "code",
   "execution_count": null,
   "id": "ffa54571",
   "metadata": {},
   "outputs": [],
   "source": [
    "fig = plt.figure(figsize = (10,6))\n",
    "sns.barplot(x = 'quality', y = 'chlorides', data = new_data)"
   ]
  },
  {
   "cell_type": "markdown",
   "id": "518bd17e",
   "metadata": {},
   "source": [
    "# Here we can see that like the above two items do not have very strong relation to the dependent variable. We now will generate correlation plot to check which of the items are more corelated within each other."
   ]
  },
  {
   "cell_type": "code",
   "execution_count": null,
   "id": "b38958a0",
   "metadata": {},
   "outputs": [],
   "source": []
  },
  {
   "cell_type": "code",
   "execution_count": null,
   "id": "d2d56df8",
   "metadata": {},
   "outputs": [],
   "source": [
    "X=new_data.drop(labels=['quality'], axis=1)\n",
    "y=new_data['quality']\n"
   ]
  },
  {
   "cell_type": "code",
   "execution_count": null,
   "id": "5357aa6f",
   "metadata": {},
   "outputs": [],
   "source": [
    "X"
   ]
  },
  {
   "cell_type": "code",
   "execution_count": null,
   "id": "b77db34e",
   "metadata": {},
   "outputs": [],
   "source": [
    "y"
   ]
  },
  {
   "cell_type": "code",
   "execution_count": null,
   "id": "87d0c6b1",
   "metadata": {},
   "outputs": [],
   "source": []
  },
  {
   "cell_type": "markdown",
   "id": "196660b5",
   "metadata": {},
   "source": [
    "# Labelling using Certain Condition"
   ]
  },
  {
   "cell_type": "markdown",
   "id": "be6ddd27",
   "metadata": {},
   "source": [
    "Now, Let's reallocate the quality of wine as 0: 0 to 5 (Average quality) and 1: 6 to 10 (Good quality) from existing 'quality' variable.\n",
    "    # 0 to 5 (Average quality)\n",
    "    # 1: 6 to 10 (Good quality)"
   ]
  },
  {
   "cell_type": "code",
   "execution_count": null,
   "id": "4d136e25",
   "metadata": {},
   "outputs": [],
   "source": [
    "new_data.head()"
   ]
  },
  {
   "cell_type": "code",
   "execution_count": null,
   "id": "01d2437e",
   "metadata": {},
   "outputs": [],
   "source": [
    "new_data['quality'] = [0 if x <= 5 else 1 for x in new_data['quality']]"
   ]
  },
  {
   "cell_type": "code",
   "execution_count": null,
   "id": "b13f97ab",
   "metadata": {
    "scrolled": true
   },
   "outputs": [],
   "source": [
    "new_data['quality'].value_counts()"
   ]
  },
  {
   "cell_type": "code",
   "execution_count": null,
   "id": "3c0b2ed8",
   "metadata": {},
   "outputs": [],
   "source": [
    "new_data.head()"
   ]
  },
  {
   "cell_type": "code",
   "execution_count": null,
   "id": "aa1227a6",
   "metadata": {},
   "outputs": [],
   "source": [
    "# new_data['quality'] = new_data['quality'].map({0:'Average', 1:'Good'})"
   ]
  },
  {
   "cell_type": "code",
   "execution_count": null,
   "id": "47040a15",
   "metadata": {
    "scrolled": true
   },
   "outputs": [],
   "source": [
    "# new_data['quality'].value_counts()"
   ]
  },
  {
   "cell_type": "code",
   "execution_count": null,
   "id": "7eb39ef1",
   "metadata": {
    "scrolled": true
   },
   "outputs": [],
   "source": [
    "# new_data.head()"
   ]
  },
  {
   "cell_type": "code",
   "execution_count": null,
   "id": "59f685fa",
   "metadata": {},
   "outputs": [],
   "source": []
  },
  {
   "cell_type": "code",
   "execution_count": null,
   "id": "d045d45f",
   "metadata": {},
   "outputs": [],
   "source": [
    "from sklearn.model_selection import train_test_split\n",
    "# separate dataset into train and test\n",
    "X_train, X_test, y_train, y_test = train_test_split(\n",
    "    new_data.drop(labels=['quality'], axis=1),\n",
    "    new_data['quality'],\n",
    "    test_size=0.3,\n",
    "    random_state=0)\n",
    "\n",
    "X_train.shape, X_test.shape"
   ]
  },
  {
   "cell_type": "code",
   "execution_count": null,
   "id": "c184fccb",
   "metadata": {},
   "outputs": [],
   "source": []
  },
  {
   "cell_type": "code",
   "execution_count": null,
   "id": "aeecdd23",
   "metadata": {},
   "outputs": [],
   "source": []
  },
  {
   "cell_type": "code",
   "execution_count": null,
   "id": "f170b7bf",
   "metadata": {},
   "outputs": [],
   "source": []
  },
  {
   "cell_type": "code",
   "execution_count": null,
   "id": "8c1c5010",
   "metadata": {},
   "outputs": [],
   "source": []
  },
  {
   "cell_type": "markdown",
   "id": "a3e8db26",
   "metadata": {},
   "source": [
    "# Answer 5:"
   ]
  },
  {
   "cell_type": "markdown",
   "id": "f9ed5ae2",
   "metadata": {},
   "source": [
    "# Finding the correlation between the quality of wine with other variables"
   ]
  },
  {
   "cell_type": "code",
   "execution_count": null,
   "id": "0b7c1bbc",
   "metadata": {
    "scrolled": false
   },
   "outputs": [],
   "source": [
    "corr = new_data.corr()\n",
    "plt.subplots(figsize=(10,8))\n",
    "sns.heatmap(corr, xticklabels=corr.columns, yticklabels=corr.columns, annot=True, cmap=sns.diverging_palette(220, 10, as_cmap=True))"
   ]
  },
  {
   "cell_type": "markdown",
   "id": "161a14e8",
   "metadata": {},
   "source": [
    "# Getting Rid of the Highly Co-related Features"
   ]
  },
  {
   "cell_type": "code",
   "execution_count": null,
   "id": "af2717bf",
   "metadata": {},
   "outputs": [],
   "source": [
    "# with the following function we can select highly correlated features\n",
    "# it will remove the first feature that is correlated with anything other feature\n",
    "\n",
    "def correlation(dataset, threshold):\n",
    "    col_corr = set()  # Set of all the names of correlated columns\n",
    "    corr_matrix = dataset.corr()\n",
    "    for i in range(len(corr_matrix.columns)):\n",
    "        for j in range(i):\n",
    "            if abs(corr_matrix.iloc[i, j]) > threshold: # we are interested in absolute coeff value\n",
    "                colname = corr_matrix.columns[i]  # getting the name of column\n",
    "                col_corr.add(colname)\n",
    "    return col_corr"
   ]
  },
  {
   "cell_type": "code",
   "execution_count": null,
   "id": "6714c54c",
   "metadata": {},
   "outputs": [],
   "source": [
    "corr_features = correlation(new_data, 0.7)\n",
    "len(set(corr_features))"
   ]
  },
  {
   "cell_type": "code",
   "execution_count": null,
   "id": "9c176d70",
   "metadata": {},
   "outputs": [],
   "source": [
    "corr_features"
   ]
  },
  {
   "cell_type": "code",
   "execution_count": null,
   "id": "3a0f31bb",
   "metadata": {},
   "outputs": [],
   "source": [
    "new_data = new_data.drop(['alcohol', 'density'], axis = 1)"
   ]
  },
  {
   "cell_type": "code",
   "execution_count": null,
   "id": "69162cd6",
   "metadata": {},
   "outputs": [],
   "source": [
    "corr['quality'].sort_values(ascending=False)"
   ]
  },
  {
   "cell_type": "markdown",
   "id": "1786c4fc",
   "metadata": {},
   "source": [
    "From the above correlation plot for the given dataset for wine quality prediction, we can easily see which items are related strongly with each other and which items are related weekly with each other.\n",
    "\n",
    "The strongly correlated items are :\n",
    "\n",
    "1. alcohol and quality\n",
    "2. fixed acidity and citric acid\n",
    "3. free sulphur dioxide and total sulphor dioxide\n",
    "4. fixed acidity and density\n",
    "5. Residual Sugar and Density\n",
    "\n",
    "   \n",
    "<!-- so, from above points there is a clear inference that alcohol is the most important characteristic to determine the quality of wine.\n",
    "\n",
    "The weekly correlated items are :\n",
    "\n",
    "1. citric acid and volatile acidity.\n",
    "2. fixed acidity and ph.\n",
    "3. density and alcohol.\n",
    "4. residual sugar and alcohol\n",
    "5. chloride and alcohol\n",
    "6. density and alcohol\n",
    "7. quality and density\n",
    "\n",
    "These are some relations which do not depend on each other at all. -->\n"
   ]
  },
  {
   "cell_type": "code",
   "execution_count": null,
   "id": "96f1b10f",
   "metadata": {},
   "outputs": [],
   "source": [
    "sns.pairplot(new_data)"
   ]
  },
  {
   "cell_type": "code",
   "execution_count": null,
   "id": "5e184ea3",
   "metadata": {},
   "outputs": [],
   "source": [
    "# checking the shape of the dataset\n",
    "print(new_data.shape)"
   ]
  },
  {
   "cell_type": "code",
   "execution_count": null,
   "id": "6b536461",
   "metadata": {},
   "outputs": [],
   "source": [
    "new_data.head()"
   ]
  },
  {
   "cell_type": "code",
   "execution_count": null,
   "id": "af4d8ea3",
   "metadata": {},
   "outputs": [],
   "source": []
  },
  {
   "cell_type": "code",
   "execution_count": null,
   "id": "8ac51854",
   "metadata": {},
   "outputs": [],
   "source": []
  },
  {
   "cell_type": "code",
   "execution_count": null,
   "id": "bd8c9630",
   "metadata": {},
   "outputs": [],
   "source": []
  },
  {
   "cell_type": "code",
   "execution_count": null,
   "id": "cfc66d47",
   "metadata": {},
   "outputs": [],
   "source": []
  },
  {
   "cell_type": "code",
   "execution_count": null,
   "id": "b54b564f",
   "metadata": {},
   "outputs": [],
   "source": []
  },
  {
   "cell_type": "code",
   "execution_count": null,
   "id": "cfc2dd90",
   "metadata": {},
   "outputs": [],
   "source": []
  },
  {
   "cell_type": "code",
   "execution_count": null,
   "id": "430a7138",
   "metadata": {},
   "outputs": [],
   "source": []
  },
  {
   "cell_type": "code",
   "execution_count": null,
   "id": "cfd376d5",
   "metadata": {},
   "outputs": [],
   "source": []
  },
  {
   "cell_type": "code",
   "execution_count": null,
   "id": "3ebf106e",
   "metadata": {},
   "outputs": [],
   "source": []
  },
  {
   "cell_type": "code",
   "execution_count": null,
   "id": "56a805f3",
   "metadata": {},
   "outputs": [],
   "source": []
  },
  {
   "cell_type": "code",
   "execution_count": null,
   "id": "acbb1b2d",
   "metadata": {},
   "outputs": [],
   "source": []
  },
  {
   "cell_type": "code",
   "execution_count": null,
   "id": "bd4295a0",
   "metadata": {},
   "outputs": [],
   "source": []
  },
  {
   "cell_type": "markdown",
   "id": "8e007ded",
   "metadata": {},
   "source": [
    "# Label Encoding on Categorical Values"
   ]
  },
  {
   "cell_type": "code",
   "execution_count": null,
   "id": "ffa81cd3",
   "metadata": {},
   "outputs": [],
   "source": [
    "# converting the probable categorical value into binary form for ease of operation\n",
    "from sklearn.preprocessing import LabelEncoder\n",
    "lb = LabelEncoder() \n",
    "new_data['quality'] = lb.fit_transform(new_data['quality'])\n",
    "print(new_data['quality'])"
   ]
  },
  {
   "cell_type": "code",
   "execution_count": null,
   "id": "56b29647",
   "metadata": {},
   "outputs": [],
   "source": [
    "sns.countplot(new_data['quality'])"
   ]
  },
  {
   "cell_type": "markdown",
   "id": "5db9db8c",
   "metadata": {},
   "source": [
    "# Checking Processed DataSet Status"
   ]
  },
  {
   "cell_type": "code",
   "execution_count": null,
   "id": "56810b5b",
   "metadata": {},
   "outputs": [],
   "source": [
    "new_data.head()"
   ]
  },
  {
   "cell_type": "markdown",
   "id": "dc1af3cb",
   "metadata": {},
   "source": [
    "# Selecting Dependent and Independent Variable"
   ]
  },
  {
   "cell_type": "code",
   "execution_count": null,
   "id": "59489b17",
   "metadata": {},
   "outputs": [],
   "source": [
    "#Choossing the independent variable X and the dependent variable Y\n",
    "x = new_data.iloc[:, 0:-1] \n",
    "y = new_data.iloc[:, -1] \n"
   ]
  },
  {
   "cell_type": "code",
   "execution_count": null,
   "id": "2a79af14",
   "metadata": {},
   "outputs": [],
   "source": [
    "x"
   ]
  },
  {
   "cell_type": "code",
   "execution_count": null,
   "id": "747be577",
   "metadata": {},
   "outputs": [],
   "source": [
    "y"
   ]
  },
  {
   "cell_type": "markdown",
   "id": "dd3c096e",
   "metadata": {},
   "source": [
    "# Answer 6:"
   ]
  },
  {
   "cell_type": "markdown",
   "id": "3842c59c",
   "metadata": {},
   "source": [
    "# Some Hypothesis Test. Here I have tested alcohol Data for each case."
   ]
  },
  {
   "cell_type": "code",
   "execution_count": null,
   "id": "7cd2d426",
   "metadata": {},
   "outputs": [],
   "source": [
    "#### Example of the Shapiro-Wilk Normality Test\n",
    "###### H0: the sample has a Gaussian / Normal distribution.\n",
    "###### H1: the sample does not have a Gaussian distribution.\n",
    "\n",
    "from scipy.stats import shapiro\n",
    "stat, p = shapiro(df['alcohol'])\n",
    "\n",
    "print('stat=%.4f, p=%.4f' % (stat, p))\n",
    "### p_value < 0.05 , H0 will be rejected\n",
    "if p < 0.05:\n",
    "        print('Probably the sample is not Normal')\n",
    "else:\n",
    "        print('Probably the sample is Normal')\n"
   ]
  },
  {
   "cell_type": "code",
   "execution_count": null,
   "id": "a8e3b4f2",
   "metadata": {},
   "outputs": [],
   "source": [
    "###### Confidence Interval for Mean\n",
    "import math\n",
    "m = df.alcohol.mean()\n",
    "#### Standard Error (SE) calculation\n",
    "se = df.alcohol.std()/math.sqrt(len(df.quality))\n",
    "ci = [m - se*1.96 , m + se *1.96]\n",
    "print(\"Confidence interval for mean age of patients:\", ci)"
   ]
  },
  {
   "cell_type": "code",
   "execution_count": null,
   "id": "511deacc",
   "metadata": {},
   "outputs": [],
   "source": [
    "#### t-test: you have 10 alcohol values and you are checking whether avg alcohol is 10 or not. \n",
    "from scipy.stats import ttest_1samp\n",
    "df_new = df.sample(n=10)\n",
    "sample = (df_new['alcohol'])\n",
    "sample"
   ]
  },
  {
   "cell_type": "code",
   "execution_count": null,
   "id": "63e7e144",
   "metadata": {},
   "outputs": [],
   "source": [
    "tset, pval = ttest_1samp(sample, 10)\n",
    "print('p-values',pval)\n",
    "if pval < 0.05:    # alpha value is 0.05 or 5%\n",
    "   print(\"The null hypothesis is rejected.\")\n",
    "else:\n",
    "  print(\"we are not rejecting the null hypothesis\")"
   ]
  },
  {
   "cell_type": "markdown",
   "id": "6484670b",
   "metadata": {},
   "source": [
    "# Answer 7:"
   ]
  },
  {
   "cell_type": "markdown",
   "id": "1c12c5e2",
   "metadata": {},
   "source": [
    "# statsmodels OLS Model"
   ]
  },
  {
   "cell_type": "raw",
   "id": "3749c793",
   "metadata": {},
   "source": [
    "Since the quality of wine has two categories 1 for good and 0 for average, so the level of measurement for that variable is Nominal (Binary category), therefore, to predict the quality of wine, a logistic regression model is more preferable."
   ]
  },
  {
   "cell_type": "code",
   "execution_count": null,
   "id": "faa36502",
   "metadata": {},
   "outputs": [],
   "source": [
    "linearmodel = sm.OLS(y, x).fit()\n",
    "print(linearmodel.summary2())"
   ]
  },
  {
   "cell_type": "code",
   "execution_count": null,
   "id": "1718e67e",
   "metadata": {},
   "outputs": [],
   "source": [
    "print(linearmodel.summary())"
   ]
  },
  {
   "cell_type": "markdown",
   "id": "dc13c506",
   "metadata": {},
   "source": [
    "# OLS Model By Adding Costant"
   ]
  },
  {
   "cell_type": "code",
   "execution_count": null,
   "id": "9719340c",
   "metadata": {},
   "outputs": [],
   "source": [
    "X= sm.add_constant(x)"
   ]
  },
  {
   "cell_type": "code",
   "execution_count": null,
   "id": "69fc5723",
   "metadata": {},
   "outputs": [],
   "source": [
    "linearmodel2 = sm.OLS(y, X).fit()"
   ]
  },
  {
   "cell_type": "code",
   "execution_count": null,
   "id": "f8271285",
   "metadata": {},
   "outputs": [],
   "source": [
    "print(linearmodel2.summary2())"
   ]
  },
  {
   "cell_type": "code",
   "execution_count": null,
   "id": "a2a484ee",
   "metadata": {},
   "outputs": [],
   "source": [
    "print(linearmodel2.summary())"
   ]
  },
  {
   "cell_type": "markdown",
   "id": "fcac134f",
   "metadata": {},
   "source": [
    "# statsmodels Logit Model"
   ]
  },
  {
   "cell_type": "code",
   "execution_count": null,
   "id": "22dd05f0",
   "metadata": {},
   "outputs": [],
   "source": [
    "logitmodel=sm.Logit(y,x)\n",
    "result=logitmodel.fit()\n",
    "print(result.summary2() )"
   ]
  },
  {
   "cell_type": "code",
   "execution_count": null,
   "id": "3e32b03f",
   "metadata": {},
   "outputs": [],
   "source": [
    "print(result.summary() )"
   ]
  },
  {
   "cell_type": "markdown",
   "id": "aca234e1",
   "metadata": {},
   "source": [
    "# Statsmodel Logit Model By Adding Constant"
   ]
  },
  {
   "cell_type": "code",
   "execution_count": null,
   "id": "b42227e3",
   "metadata": {},
   "outputs": [],
   "source": [
    "X= sm.add_constant(x)\n",
    "logitmodel2=sm.Logit(y,X)\n",
    "result2=logitmodel2.fit()\n",
    "print(result2.summary2() )"
   ]
  },
  {
   "cell_type": "code",
   "execution_count": null,
   "id": "b300cbfc",
   "metadata": {},
   "outputs": [],
   "source": [
    "print(result2.summary2() )"
   ]
  },
  {
   "cell_type": "markdown",
   "id": "bc1cc0cd",
   "metadata": {},
   "source": [
    "# Answer 8: "
   ]
  },
  {
   "cell_type": "markdown",
   "id": "36a36cc3",
   "metadata": {},
   "source": [
    "In this project, I have tried to implement WINE QUALITY Predictor model. First I have preprocessed the data. Cleaned the data by outlier removal. Then analyzed the Corelated variables. Then I carefully analyzed my Dependent & Independent variables. Then applied Logistic Regression methodology in my Data. I used Logistic Regression Logit & OLS model. I found R-squared (uncentered) value for OLS Linear Model at a good acceptance level. (Not sure about uncentered R square value good or not). I am not also sure what to do with p values of nearly 1. I have some confusion in choosing a perfect model for linear regression.\n",
    "Expert Feedback needed."
   ]
  },
  {
   "cell_type": "markdown",
   "id": "4e571ccb",
   "metadata": {},
   "source": [
    "Submitted To -\n",
    "Dr. Rumana Rois\n",
    "Associate Professor, Department of Statistics, \n",
    "Jahangirnagar University\n",
    "\n",
    "Submitted By - \n",
    "Manoj Roy |\n",
    "ID: 20216039 |\n",
    "PMASDS(6th Batch) |\n",
    "\n",
    "Code Link : https://github.com/mchayan/DS_Practice/blob/master/EDA_Practice/Assignment/Wine_Dataset_Assignment-Updated.ipynb\n"
   ]
  },
  {
   "cell_type": "code",
   "execution_count": null,
   "id": "6e89bcc6",
   "metadata": {},
   "outputs": [],
   "source": []
  }
 ],
 "metadata": {
  "kernelspec": {
   "display_name": "Python 3 (ipykernel)",
   "language": "python",
   "name": "python3"
  },
  "language_info": {
   "codemirror_mode": {
    "name": "ipython",
    "version": 3
   },
   "file_extension": ".py",
   "mimetype": "text/x-python",
   "name": "python",
   "nbconvert_exporter": "python",
   "pygments_lexer": "ipython3",
   "version": "3.7.11"
  }
 },
 "nbformat": 4,
 "nbformat_minor": 5
}

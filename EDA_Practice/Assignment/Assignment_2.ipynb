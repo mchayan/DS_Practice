{
 "cells": [
  {
   "cell_type": "markdown",
   "id": "63b16902",
   "metadata": {},
   "source": [
    "# Identifying Last Two digit for the Assignment Guideline"
   ]
  },
  {
   "cell_type": "code",
   "execution_count": 41,
   "id": "574efeab",
   "metadata": {},
   "outputs": [
    {
     "name": "stdout",
     "output_type": "stream",
     "text": [
      "My Id is: 20216039 . The last digit of my ID is: 39\n",
      "The Modulo of the last two digit of my ID is 1 . \n",
      "My assignment Dataset is Wine Quality Data.\n"
     ]
    }
   ],
   "source": [
    "id = 20216039\n",
    "print('My Id is:', id, '.','The last digit of my ID is:', str(id)[-2:])\n",
    "Mod = 39%2\n",
    "print('The Modulo of the last two digit of my ID is', Mod, '.', '\\nMy assignment Dataset is Wine Quality Data.')"
   ]
  },
  {
   "cell_type": "markdown",
   "id": "599601a2",
   "metadata": {},
   "source": [
    "# Import Necessary Library"
   ]
  },
  {
   "cell_type": "code",
   "execution_count": 42,
   "id": "7445e7a0",
   "metadata": {},
   "outputs": [],
   "source": [
    "import pandas as pd\n",
    "import numpy as np\n",
    "import statsmodels.api as sm\n",
    "import matplotlib.pyplot as plt\n",
    "import matplotlib.mlab as mlab\n",
    "import seaborn as sns\n",
    "df=pd.read_csv('winedata.csv', sep=',')"
   ]
  },
  {
   "cell_type": "code",
   "execution_count": 43,
   "id": "23f8552c",
   "metadata": {},
   "outputs": [
    {
     "name": "stdout",
     "output_type": "stream",
     "text": [
      "<class 'pandas.core.frame.DataFrame'>\n",
      "RangeIndex: 2037 entries, 0 to 2036\n",
      "Data columns (total 13 columns):\n",
      " #   Column                Non-Null Count  Dtype  \n",
      "---  ------                --------------  -----  \n",
      " 0   fixed.acidity         2037 non-null   float64\n",
      " 1   volatile.acidity      2037 non-null   float64\n",
      " 2   citric.acid           2037 non-null   float64\n",
      " 3   residual.sugar        2037 non-null   float64\n",
      " 4   chlorides             2037 non-null   float64\n",
      " 5   free.sulfur.dioxide   2037 non-null   float64\n",
      " 6   total.sulfur.dioxide  2037 non-null   float64\n",
      " 7   density               2037 non-null   float64\n",
      " 8   pH                    2037 non-null   float64\n",
      " 9   sulphates             2037 non-null   float64\n",
      " 10  alcohol               2037 non-null   float64\n",
      " 11  quality               2037 non-null   int64  \n",
      " 12  rt.sulfur.dioxide     2037 non-null   float64\n",
      "dtypes: float64(12), int64(1)\n",
      "memory usage: 207.0 KB\n"
     ]
    }
   ],
   "source": [
    "df.info()"
   ]
  },
  {
   "cell_type": "code",
   "execution_count": 44,
   "id": "dcb54984",
   "metadata": {
    "scrolled": true
   },
   "outputs": [
    {
     "data": {
      "text/html": [
       "<div>\n",
       "<style scoped>\n",
       "    .dataframe tbody tr th:only-of-type {\n",
       "        vertical-align: middle;\n",
       "    }\n",
       "\n",
       "    .dataframe tbody tr th {\n",
       "        vertical-align: top;\n",
       "    }\n",
       "\n",
       "    .dataframe thead th {\n",
       "        text-align: right;\n",
       "    }\n",
       "</style>\n",
       "<table border=\"1\" class=\"dataframe\">\n",
       "  <thead>\n",
       "    <tr style=\"text-align: right;\">\n",
       "      <th></th>\n",
       "      <th>fixed.acidity</th>\n",
       "      <th>volatile.acidity</th>\n",
       "      <th>citric.acid</th>\n",
       "      <th>residual.sugar</th>\n",
       "      <th>chlorides</th>\n",
       "      <th>free.sulfur.dioxide</th>\n",
       "      <th>total.sulfur.dioxide</th>\n",
       "      <th>density</th>\n",
       "      <th>pH</th>\n",
       "      <th>sulphates</th>\n",
       "      <th>alcohol</th>\n",
       "      <th>quality</th>\n",
       "      <th>rt.sulfur.dioxide</th>\n",
       "    </tr>\n",
       "  </thead>\n",
       "  <tbody>\n",
       "    <tr>\n",
       "      <th>0</th>\n",
       "      <td>7.5</td>\n",
       "      <td>0.33</td>\n",
       "      <td>0.32</td>\n",
       "      <td>11.1</td>\n",
       "      <td>0.036</td>\n",
       "      <td>25.0</td>\n",
       "      <td>119.0</td>\n",
       "      <td>0.99620</td>\n",
       "      <td>3.15</td>\n",
       "      <td>0.34</td>\n",
       "      <td>10.5</td>\n",
       "      <td>6</td>\n",
       "      <td>5.000000</td>\n",
       "    </tr>\n",
       "    <tr>\n",
       "      <th>1</th>\n",
       "      <td>6.3</td>\n",
       "      <td>0.27</td>\n",
       "      <td>0.29</td>\n",
       "      <td>12.2</td>\n",
       "      <td>0.044</td>\n",
       "      <td>59.0</td>\n",
       "      <td>196.0</td>\n",
       "      <td>0.99782</td>\n",
       "      <td>3.14</td>\n",
       "      <td>0.40</td>\n",
       "      <td>8.8</td>\n",
       "      <td>6</td>\n",
       "      <td>7.681146</td>\n",
       "    </tr>\n",
       "    <tr>\n",
       "      <th>2</th>\n",
       "      <td>7.0</td>\n",
       "      <td>0.30</td>\n",
       "      <td>0.51</td>\n",
       "      <td>13.6</td>\n",
       "      <td>0.050</td>\n",
       "      <td>40.0</td>\n",
       "      <td>168.0</td>\n",
       "      <td>0.99760</td>\n",
       "      <td>3.07</td>\n",
       "      <td>0.52</td>\n",
       "      <td>9.6</td>\n",
       "      <td>7</td>\n",
       "      <td>6.324555</td>\n",
       "    </tr>\n",
       "    <tr>\n",
       "      <th>3</th>\n",
       "      <td>7.4</td>\n",
       "      <td>0.38</td>\n",
       "      <td>0.27</td>\n",
       "      <td>7.5</td>\n",
       "      <td>0.041</td>\n",
       "      <td>24.0</td>\n",
       "      <td>160.0</td>\n",
       "      <td>0.99535</td>\n",
       "      <td>3.17</td>\n",
       "      <td>0.43</td>\n",
       "      <td>10.0</td>\n",
       "      <td>5</td>\n",
       "      <td>4.898979</td>\n",
       "    </tr>\n",
       "    <tr>\n",
       "      <th>4</th>\n",
       "      <td>8.1</td>\n",
       "      <td>0.12</td>\n",
       "      <td>0.38</td>\n",
       "      <td>0.9</td>\n",
       "      <td>0.034</td>\n",
       "      <td>36.0</td>\n",
       "      <td>86.0</td>\n",
       "      <td>0.99026</td>\n",
       "      <td>2.80</td>\n",
       "      <td>0.55</td>\n",
       "      <td>12.0</td>\n",
       "      <td>6</td>\n",
       "      <td>6.000000</td>\n",
       "    </tr>\n",
       "  </tbody>\n",
       "</table>\n",
       "</div>"
      ],
      "text/plain": [
       "   fixed.acidity  volatile.acidity  citric.acid  residual.sugar  chlorides  \\\n",
       "0            7.5              0.33         0.32            11.1      0.036   \n",
       "1            6.3              0.27         0.29            12.2      0.044   \n",
       "2            7.0              0.30         0.51            13.6      0.050   \n",
       "3            7.4              0.38         0.27             7.5      0.041   \n",
       "4            8.1              0.12         0.38             0.9      0.034   \n",
       "\n",
       "   free.sulfur.dioxide  total.sulfur.dioxide  density    pH  sulphates  \\\n",
       "0                 25.0                 119.0  0.99620  3.15       0.34   \n",
       "1                 59.0                 196.0  0.99782  3.14       0.40   \n",
       "2                 40.0                 168.0  0.99760  3.07       0.52   \n",
       "3                 24.0                 160.0  0.99535  3.17       0.43   \n",
       "4                 36.0                  86.0  0.99026  2.80       0.55   \n",
       "\n",
       "   alcohol  quality  rt.sulfur.dioxide  \n",
       "0     10.5        6           5.000000  \n",
       "1      8.8        6           7.681146  \n",
       "2      9.6        7           6.324555  \n",
       "3     10.0        5           4.898979  \n",
       "4     12.0        6           6.000000  "
      ]
     },
     "execution_count": 44,
     "metadata": {},
     "output_type": "execute_result"
    }
   ],
   "source": [
    "df.head()"
   ]
  },
  {
   "cell_type": "markdown",
   "id": "f3f7bf8b",
   "metadata": {},
   "source": [
    "# Necessity of Dropping rt.sulfur.dioxide"
   ]
  },
  {
   "cell_type": "code",
   "execution_count": 45,
   "id": "27727b82",
   "metadata": {},
   "outputs": [],
   "source": [
    "df.drop(['rt.sulfur.dioxide'], axis =1, inplace =True)"
   ]
  },
  {
   "cell_type": "markdown",
   "id": "5d898a9a",
   "metadata": {},
   "source": [
    "# Appending"
   ]
  },
  {
   "cell_type": "code",
   "execution_count": 46,
   "id": "803f9df2",
   "metadata": {},
   "outputs": [],
   "source": [
    "# List of data series\n",
    "datarowsSeries = [pd.Series([7.8+.39,.88+.39,0.00+.39,1.9,0.09+.39,25.0+.39,67.0+.39,.991+.39,3.22,0.68+.39,9.8+.39,5], index=df.columns ), pd.Series([7.2+.39,.83+.39,0.01+.39,2.2,0.19+.39,15.0+.39,60.0+.39,.996+.39,3.52,0.55+.39,9.6+.39,6], index=df.columns ), pd.Series([7.9+.39,.89+.39,0.01+.39,1.7,0.08+.39,22.0+.39,57.0+.39,.997+.39,3.26,0.64+.39,9.8+.39,2], index=df.columns ), pd.Series([7.7+.39,.86+.39,0.02+.39,2.3,0.07+.39,11.0+.39,38.0+.39,.994+.39,3.12,0.08+.39,9.4+.39,3], index=df.columns ) ]"
   ]
  },
  {
   "cell_type": "markdown",
   "id": "d86b7712",
   "metadata": {},
   "source": [
    "# Check The DF For Verifying Newly Appended Data"
   ]
  },
  {
   "cell_type": "code",
   "execution_count": 47,
   "id": "6bfe3ab5",
   "metadata": {},
   "outputs": [
    {
     "data": {
      "text/html": [
       "<div>\n",
       "<style scoped>\n",
       "    .dataframe tbody tr th:only-of-type {\n",
       "        vertical-align: middle;\n",
       "    }\n",
       "\n",
       "    .dataframe tbody tr th {\n",
       "        vertical-align: top;\n",
       "    }\n",
       "\n",
       "    .dataframe thead th {\n",
       "        text-align: right;\n",
       "    }\n",
       "</style>\n",
       "<table border=\"1\" class=\"dataframe\">\n",
       "  <thead>\n",
       "    <tr style=\"text-align: right;\">\n",
       "      <th></th>\n",
       "      <th>fixed.acidity</th>\n",
       "      <th>volatile.acidity</th>\n",
       "      <th>citric.acid</th>\n",
       "      <th>residual.sugar</th>\n",
       "      <th>chlorides</th>\n",
       "      <th>free.sulfur.dioxide</th>\n",
       "      <th>total.sulfur.dioxide</th>\n",
       "      <th>density</th>\n",
       "      <th>pH</th>\n",
       "      <th>sulphates</th>\n",
       "      <th>alcohol</th>\n",
       "      <th>quality</th>\n",
       "    </tr>\n",
       "  </thead>\n",
       "  <tbody>\n",
       "    <tr>\n",
       "      <th>2033</th>\n",
       "      <td>7.4</td>\n",
       "      <td>0.19</td>\n",
       "      <td>0.31</td>\n",
       "      <td>14.5</td>\n",
       "      <td>0.045</td>\n",
       "      <td>39.0</td>\n",
       "      <td>193.0</td>\n",
       "      <td>0.99860</td>\n",
       "      <td>3.10</td>\n",
       "      <td>0.50</td>\n",
       "      <td>9.2</td>\n",
       "      <td>6</td>\n",
       "    </tr>\n",
       "    <tr>\n",
       "      <th>2034</th>\n",
       "      <td>6.7</td>\n",
       "      <td>0.36</td>\n",
       "      <td>0.26</td>\n",
       "      <td>7.9</td>\n",
       "      <td>0.034</td>\n",
       "      <td>39.0</td>\n",
       "      <td>123.0</td>\n",
       "      <td>0.99119</td>\n",
       "      <td>2.99</td>\n",
       "      <td>0.30</td>\n",
       "      <td>12.2</td>\n",
       "      <td>7</td>\n",
       "    </tr>\n",
       "    <tr>\n",
       "      <th>2035</th>\n",
       "      <td>7.7</td>\n",
       "      <td>0.28</td>\n",
       "      <td>0.35</td>\n",
       "      <td>15.3</td>\n",
       "      <td>0.056</td>\n",
       "      <td>31.0</td>\n",
       "      <td>117.0</td>\n",
       "      <td>0.99980</td>\n",
       "      <td>3.27</td>\n",
       "      <td>0.50</td>\n",
       "      <td>9.6</td>\n",
       "      <td>5</td>\n",
       "    </tr>\n",
       "    <tr>\n",
       "      <th>2036</th>\n",
       "      <td>5.7</td>\n",
       "      <td>0.22</td>\n",
       "      <td>0.28</td>\n",
       "      <td>1.3</td>\n",
       "      <td>0.027</td>\n",
       "      <td>26.0</td>\n",
       "      <td>101.0</td>\n",
       "      <td>0.98948</td>\n",
       "      <td>3.35</td>\n",
       "      <td>0.38</td>\n",
       "      <td>12.5</td>\n",
       "      <td>7</td>\n",
       "    </tr>\n",
       "  </tbody>\n",
       "</table>\n",
       "</div>"
      ],
      "text/plain": [
       "      fixed.acidity  volatile.acidity  citric.acid  residual.sugar  chlorides  \\\n",
       "2033            7.4              0.19         0.31            14.5      0.045   \n",
       "2034            6.7              0.36         0.26             7.9      0.034   \n",
       "2035            7.7              0.28         0.35            15.3      0.056   \n",
       "2036            5.7              0.22         0.28             1.3      0.027   \n",
       "\n",
       "      free.sulfur.dioxide  total.sulfur.dioxide  density    pH  sulphates  \\\n",
       "2033                 39.0                 193.0  0.99860  3.10       0.50   \n",
       "2034                 39.0                 123.0  0.99119  2.99       0.30   \n",
       "2035                 31.0                 117.0  0.99980  3.27       0.50   \n",
       "2036                 26.0                 101.0  0.98948  3.35       0.38   \n",
       "\n",
       "      alcohol  quality  \n",
       "2033      9.2        6  \n",
       "2034     12.2        7  \n",
       "2035      9.6        5  \n",
       "2036     12.5        7  "
      ]
     },
     "execution_count": 47,
     "metadata": {},
     "output_type": "execute_result"
    }
   ],
   "source": [
    "df.iloc[-4:]"
   ]
  },
  {
   "cell_type": "markdown",
   "id": "fc54dbbf",
   "metadata": {},
   "source": [
    "# New Appended DF named new_data"
   ]
  },
  {
   "cell_type": "code",
   "execution_count": 48,
   "id": "d3532be4",
   "metadata": {},
   "outputs": [],
   "source": [
    "new_data = df.append(datarowsSeries, ignore_index=True)"
   ]
  },
  {
   "cell_type": "code",
   "execution_count": 49,
   "id": "920575e0",
   "metadata": {},
   "outputs": [
    {
     "data": {
      "text/html": [
       "<div>\n",
       "<style scoped>\n",
       "    .dataframe tbody tr th:only-of-type {\n",
       "        vertical-align: middle;\n",
       "    }\n",
       "\n",
       "    .dataframe tbody tr th {\n",
       "        vertical-align: top;\n",
       "    }\n",
       "\n",
       "    .dataframe thead th {\n",
       "        text-align: right;\n",
       "    }\n",
       "</style>\n",
       "<table border=\"1\" class=\"dataframe\">\n",
       "  <thead>\n",
       "    <tr style=\"text-align: right;\">\n",
       "      <th></th>\n",
       "      <th>fixed.acidity</th>\n",
       "      <th>volatile.acidity</th>\n",
       "      <th>citric.acid</th>\n",
       "      <th>residual.sugar</th>\n",
       "      <th>chlorides</th>\n",
       "      <th>free.sulfur.dioxide</th>\n",
       "      <th>total.sulfur.dioxide</th>\n",
       "      <th>density</th>\n",
       "      <th>pH</th>\n",
       "      <th>sulphates</th>\n",
       "      <th>alcohol</th>\n",
       "      <th>quality</th>\n",
       "    </tr>\n",
       "  </thead>\n",
       "  <tbody>\n",
       "    <tr>\n",
       "      <th>2033</th>\n",
       "      <td>7.40</td>\n",
       "      <td>0.19</td>\n",
       "      <td>0.31</td>\n",
       "      <td>14.5</td>\n",
       "      <td>0.045</td>\n",
       "      <td>39.00</td>\n",
       "      <td>193.00</td>\n",
       "      <td>0.99860</td>\n",
       "      <td>3.10</td>\n",
       "      <td>0.50</td>\n",
       "      <td>9.20</td>\n",
       "      <td>6.0</td>\n",
       "    </tr>\n",
       "    <tr>\n",
       "      <th>2034</th>\n",
       "      <td>6.70</td>\n",
       "      <td>0.36</td>\n",
       "      <td>0.26</td>\n",
       "      <td>7.9</td>\n",
       "      <td>0.034</td>\n",
       "      <td>39.00</td>\n",
       "      <td>123.00</td>\n",
       "      <td>0.99119</td>\n",
       "      <td>2.99</td>\n",
       "      <td>0.30</td>\n",
       "      <td>12.20</td>\n",
       "      <td>7.0</td>\n",
       "    </tr>\n",
       "    <tr>\n",
       "      <th>2035</th>\n",
       "      <td>7.70</td>\n",
       "      <td>0.28</td>\n",
       "      <td>0.35</td>\n",
       "      <td>15.3</td>\n",
       "      <td>0.056</td>\n",
       "      <td>31.00</td>\n",
       "      <td>117.00</td>\n",
       "      <td>0.99980</td>\n",
       "      <td>3.27</td>\n",
       "      <td>0.50</td>\n",
       "      <td>9.60</td>\n",
       "      <td>5.0</td>\n",
       "    </tr>\n",
       "    <tr>\n",
       "      <th>2036</th>\n",
       "      <td>5.70</td>\n",
       "      <td>0.22</td>\n",
       "      <td>0.28</td>\n",
       "      <td>1.3</td>\n",
       "      <td>0.027</td>\n",
       "      <td>26.00</td>\n",
       "      <td>101.00</td>\n",
       "      <td>0.98948</td>\n",
       "      <td>3.35</td>\n",
       "      <td>0.38</td>\n",
       "      <td>12.50</td>\n",
       "      <td>7.0</td>\n",
       "    </tr>\n",
       "    <tr>\n",
       "      <th>2037</th>\n",
       "      <td>8.19</td>\n",
       "      <td>1.27</td>\n",
       "      <td>0.39</td>\n",
       "      <td>1.9</td>\n",
       "      <td>0.480</td>\n",
       "      <td>25.39</td>\n",
       "      <td>67.39</td>\n",
       "      <td>1.38100</td>\n",
       "      <td>3.22</td>\n",
       "      <td>1.07</td>\n",
       "      <td>10.19</td>\n",
       "      <td>5.0</td>\n",
       "    </tr>\n",
       "    <tr>\n",
       "      <th>2038</th>\n",
       "      <td>7.59</td>\n",
       "      <td>1.22</td>\n",
       "      <td>0.40</td>\n",
       "      <td>2.2</td>\n",
       "      <td>0.580</td>\n",
       "      <td>15.39</td>\n",
       "      <td>60.39</td>\n",
       "      <td>1.38600</td>\n",
       "      <td>3.52</td>\n",
       "      <td>0.94</td>\n",
       "      <td>9.99</td>\n",
       "      <td>6.0</td>\n",
       "    </tr>\n",
       "    <tr>\n",
       "      <th>2039</th>\n",
       "      <td>8.29</td>\n",
       "      <td>1.28</td>\n",
       "      <td>0.40</td>\n",
       "      <td>1.7</td>\n",
       "      <td>0.470</td>\n",
       "      <td>22.39</td>\n",
       "      <td>57.39</td>\n",
       "      <td>1.38700</td>\n",
       "      <td>3.26</td>\n",
       "      <td>1.03</td>\n",
       "      <td>10.19</td>\n",
       "      <td>2.0</td>\n",
       "    </tr>\n",
       "    <tr>\n",
       "      <th>2040</th>\n",
       "      <td>8.09</td>\n",
       "      <td>1.25</td>\n",
       "      <td>0.41</td>\n",
       "      <td>2.3</td>\n",
       "      <td>0.460</td>\n",
       "      <td>11.39</td>\n",
       "      <td>38.39</td>\n",
       "      <td>1.38400</td>\n",
       "      <td>3.12</td>\n",
       "      <td>0.47</td>\n",
       "      <td>9.79</td>\n",
       "      <td>3.0</td>\n",
       "    </tr>\n",
       "  </tbody>\n",
       "</table>\n",
       "</div>"
      ],
      "text/plain": [
       "      fixed.acidity  volatile.acidity  citric.acid  residual.sugar  chlorides  \\\n",
       "2033           7.40              0.19         0.31            14.5      0.045   \n",
       "2034           6.70              0.36         0.26             7.9      0.034   \n",
       "2035           7.70              0.28         0.35            15.3      0.056   \n",
       "2036           5.70              0.22         0.28             1.3      0.027   \n",
       "2037           8.19              1.27         0.39             1.9      0.480   \n",
       "2038           7.59              1.22         0.40             2.2      0.580   \n",
       "2039           8.29              1.28         0.40             1.7      0.470   \n",
       "2040           8.09              1.25         0.41             2.3      0.460   \n",
       "\n",
       "      free.sulfur.dioxide  total.sulfur.dioxide  density    pH  sulphates  \\\n",
       "2033                39.00                193.00  0.99860  3.10       0.50   \n",
       "2034                39.00                123.00  0.99119  2.99       0.30   \n",
       "2035                31.00                117.00  0.99980  3.27       0.50   \n",
       "2036                26.00                101.00  0.98948  3.35       0.38   \n",
       "2037                25.39                 67.39  1.38100  3.22       1.07   \n",
       "2038                15.39                 60.39  1.38600  3.52       0.94   \n",
       "2039                22.39                 57.39  1.38700  3.26       1.03   \n",
       "2040                11.39                 38.39  1.38400  3.12       0.47   \n",
       "\n",
       "      alcohol  quality  \n",
       "2033     9.20      6.0  \n",
       "2034    12.20      7.0  \n",
       "2035     9.60      5.0  \n",
       "2036    12.50      7.0  \n",
       "2037    10.19      5.0  \n",
       "2038     9.99      6.0  \n",
       "2039    10.19      2.0  \n",
       "2040     9.79      3.0  "
      ]
     },
     "execution_count": 49,
     "metadata": {},
     "output_type": "execute_result"
    }
   ],
   "source": [
    "new_data.iloc[-8:]\n"
   ]
  },
  {
   "cell_type": "code",
   "execution_count": 50,
   "id": "f9eca0fd",
   "metadata": {
    "scrolled": true
   },
   "outputs": [
    {
     "name": "stdout",
     "output_type": "stream",
     "text": [
      "<class 'pandas.core.frame.DataFrame'>\n",
      "RangeIndex: 2041 entries, 0 to 2040\n",
      "Data columns (total 12 columns):\n",
      " #   Column                Non-Null Count  Dtype  \n",
      "---  ------                --------------  -----  \n",
      " 0   fixed.acidity         2041 non-null   float64\n",
      " 1   volatile.acidity      2041 non-null   float64\n",
      " 2   citric.acid           2041 non-null   float64\n",
      " 3   residual.sugar        2041 non-null   float64\n",
      " 4   chlorides             2041 non-null   float64\n",
      " 5   free.sulfur.dioxide   2041 non-null   float64\n",
      " 6   total.sulfur.dioxide  2041 non-null   float64\n",
      " 7   density               2041 non-null   float64\n",
      " 8   pH                    2041 non-null   float64\n",
      " 9   sulphates             2041 non-null   float64\n",
      " 10  alcohol               2041 non-null   float64\n",
      " 11  quality               2041 non-null   float64\n",
      "dtypes: float64(12)\n",
      "memory usage: 191.5 KB\n"
     ]
    }
   ],
   "source": [
    "new_data.info()"
   ]
  },
  {
   "cell_type": "markdown",
   "id": "ca2331f9",
   "metadata": {},
   "source": [
    "# Change Column Name for Ease"
   ]
  },
  {
   "cell_type": "code",
   "execution_count": 51,
   "id": "2157bcfe",
   "metadata": {},
   "outputs": [],
   "source": [
    "new_data.columns = ['fixed_acidity', 'volatile_acidity', 'citric_acid', 'residual_sugar', 'chlorides', 'free_sulfur_dioxide', 'total_sulfur_dioxide', 'density', 'pH', 'sulphates', 'alcohol', 'quality'   ]"
   ]
  },
  {
   "cell_type": "code",
   "execution_count": 52,
   "id": "91273b56",
   "metadata": {},
   "outputs": [
    {
     "name": "stdout",
     "output_type": "stream",
     "text": [
      "<class 'pandas.core.frame.DataFrame'>\n",
      "RangeIndex: 2041 entries, 0 to 2040\n",
      "Data columns (total 12 columns):\n",
      " #   Column                Non-Null Count  Dtype  \n",
      "---  ------                --------------  -----  \n",
      " 0   fixed_acidity         2041 non-null   float64\n",
      " 1   volatile_acidity      2041 non-null   float64\n",
      " 2   citric_acid           2041 non-null   float64\n",
      " 3   residual_sugar        2041 non-null   float64\n",
      " 4   chlorides             2041 non-null   float64\n",
      " 5   free_sulfur_dioxide   2041 non-null   float64\n",
      " 6   total_sulfur_dioxide  2041 non-null   float64\n",
      " 7   density               2041 non-null   float64\n",
      " 8   pH                    2041 non-null   float64\n",
      " 9   sulphates             2041 non-null   float64\n",
      " 10  alcohol               2041 non-null   float64\n",
      " 11  quality               2041 non-null   float64\n",
      "dtypes: float64(12)\n",
      "memory usage: 191.5 KB\n"
     ]
    }
   ],
   "source": [
    "new_data.info()"
   ]
  },
  {
   "cell_type": "markdown",
   "id": "e5f074e1",
   "metadata": {},
   "source": [
    "# Suitable Plotting"
   ]
  },
  {
   "cell_type": "code",
   "execution_count": 53,
   "id": "ad7036da",
   "metadata": {},
   "outputs": [
    {
     "data": {
      "text/plain": [
       "<AxesSubplot:>"
      ]
     },
     "execution_count": 53,
     "metadata": {},
     "output_type": "execute_result"
    },
    {
     "data": {
      "image/png": "[encoded data removed]",
      "text/plain": [
       "<Figure size 432x288 with 1 Axes>"
      ]
     },
     "metadata": {
      "needs_background": "light"
     },
     "output_type": "display_data"
    }
   ],
   "source": [
    "new_data.boxplot()"
   ]
  },
  {
   "cell_type": "markdown",
   "id": "d2884ce9",
   "metadata": {},
   "source": [
    "# Check Specific Column for Better Visualization"
   ]
  },
  {
   "cell_type": "code",
   "execution_count": 54,
   "id": "faa61a53",
   "metadata": {},
   "outputs": [
    {
     "data": {
      "text/plain": [
       "<AxesSubplot:>"
      ]
     },
     "execution_count": 54,
     "metadata": {},
     "output_type": "execute_result"
    },
    {
     "data": {
      "image/png": "[encoded data removed]",
      "text/plain": [
       "<Figure size 432x288 with 1 Axes>"
      ]
     },
     "metadata": {
      "needs_background": "light"
     },
     "output_type": "display_data"
    }
   ],
   "source": [
    "new_data.boxplot('fixed_acidity')"
   ]
  },
  {
   "cell_type": "markdown",
   "id": "5d17dbe2",
   "metadata": {},
   "source": [
    "# Found Outlier in The fixed_acidity Column. Find IQR To Remove The outlier."
   ]
  },
  {
   "cell_type": "code",
   "execution_count": 55,
   "id": "dded80e7",
   "metadata": {},
   "outputs": [
    {
     "name": "stdout",
     "output_type": "stream",
     "text": [
      "1.0\n"
     ]
    }
   ],
   "source": [
    "#Finding IQR for the removal of outliers of the values of fixed|_acidity column\n",
    "sort_data = np.sort(new_data['fixed_acidity'])\n",
    "Q1 = np.percentile(new_data['fixed_acidity'], 25, \n",
    "                   interpolation = 'midpoint') \n",
    "  \n",
    "Q3 = np.percentile(new_data['fixed_acidity'], 75,\n",
    "                   interpolation = 'midpoint') \n",
    "IQR = Q3 - Q1 \n",
    "print(IQR)"
   ]
  },
  {
   "cell_type": "code",
   "execution_count": 56,
   "id": "9b19b904",
   "metadata": {},
   "outputs": [
    {
     "name": "stdout",
     "output_type": "stream",
     "text": [
      "Low_limit is: 4.8\n",
      "Upper limit is: 8.8\n",
      "Q1: 6.3\n",
      "Q3: 7.3\n"
     ]
    }
   ],
   "source": [
    "low_lim = Q1 - 1.5*IQR \n",
    "up_lim = Q3 + 1.5*IQR \n",
    "# Printing Results\n",
    "print('Low_limit is:', low_lim )\n",
    "print('Upper limit is:', up_lim)\n",
    "print('Q1:', Q1)\n",
    "print('Q3:', Q3)"
   ]
  },
  {
   "cell_type": "code",
   "execution_count": 57,
   "id": "088682a2",
   "metadata": {},
   "outputs": [
    {
     "name": "stdout",
     "output_type": "stream",
     "text": [
      "313     8.8\n",
      "425     8.8\n",
      "798     8.8\n",
      "839     4.8\n",
      "879     8.8\n",
      "1051    4.4\n",
      "1205    8.8\n",
      "1275    8.8\n",
      "1288    4.8\n",
      "1324    8.8\n",
      "1496    4.8\n",
      "1597    8.8\n",
      "1736    4.8\n",
      "1838    4.7\n",
      "2016    4.8\n",
      "Name: fixed_acidity, dtype: float64\n"
     ]
    }
   ],
   "source": [
    "outliers = new_data.fixed_acidity[(new_data.fixed_acidity >= up_lim) | (new_data.fixed_acidity <= low_lim )]\n",
    "print(outliers)\n"
   ]
  },
  {
   "cell_type": "code",
   "execution_count": 58,
   "id": "bf1bb9cc",
   "metadata": {},
   "outputs": [
    {
     "data": {
      "text/plain": [
       "(2041, 12)"
      ]
     },
     "execution_count": 58,
     "metadata": {},
     "output_type": "execute_result"
    }
   ],
   "source": [
    "new_data.shape "
   ]
  },
  {
   "cell_type": "markdown",
   "id": "f178c3a4",
   "metadata": {},
   "source": [
    "# Dropping outliers for fixed_acidity Column"
   ]
  },
  {
   "cell_type": "code",
   "execution_count": 59,
   "id": "e14a65d4",
   "metadata": {},
   "outputs": [
    {
     "data": {
      "text/plain": [
       "(2033, 12)"
      ]
     },
     "execution_count": 59,
     "metadata": {},
     "output_type": "execute_result"
    }
   ],
   "source": [
    "#dropping the outliers\n",
    "new_data.drop(new_data[new_data['fixed_acidity']>= 8.8].index, inplace = True)\n",
    "new_data.shape "
   ]
  },
  {
   "cell_type": "code",
   "execution_count": 60,
   "id": "f6140790",
   "metadata": {},
   "outputs": [
    {
     "data": {
      "text/plain": [
       "(2026, 12)"
      ]
     },
     "execution_count": 60,
     "metadata": {},
     "output_type": "execute_result"
    }
   ],
   "source": [
    "#dropping the outliers\n",
    "new_data.drop(new_data[new_data['fixed_acidity']<= 4.8].index, inplace = True)\n",
    "new_data.shape "
   ]
  },
  {
   "cell_type": "markdown",
   "id": "aa62d49d",
   "metadata": {},
   "source": [
    "# Verifying the fixed_acidity Boxplot again to be sure about Outlier Removal"
   ]
  },
  {
   "cell_type": "code",
   "execution_count": 61,
   "id": "d9e32587",
   "metadata": {},
   "outputs": [
    {
     "data": {
      "text/plain": [
       "<AxesSubplot:>"
      ]
     },
     "execution_count": 61,
     "metadata": {},
     "output_type": "execute_result"
    },
    {
     "data": {
      "image/png": "[encoded data removed]",
      "text/plain": [
       "<Figure size 432x288 with 1 Axes>"
      ]
     },
     "metadata": {
      "needs_background": "light"
     },
     "output_type": "display_data"
    }
   ],
   "source": [
    "new_data.boxplot('fixed_acidity')"
   ]
  },
  {
   "cell_type": "markdown",
   "id": "cf687d17",
   "metadata": {},
   "source": [
    "# Everything OK. Proceed to Next Outlier Removal for other columns."
   ]
  },
  {
   "cell_type": "code",
   "execution_count": null,
   "id": "536fc48d",
   "metadata": {},
   "outputs": [],
   "source": []
  },
  {
   "cell_type": "code",
   "execution_count": 62,
   "id": "f30ad121",
   "metadata": {},
   "outputs": [
    {
     "data": {
      "text/plain": [
       "<AxesSubplot:>"
      ]
     },
     "execution_count": 62,
     "metadata": {},
     "output_type": "execute_result"
    },
    {
     "data": {
      "image/png": "[encoded data removed]",
      "text/plain": [
       "<Figure size 432x288 with 1 Axes>"
      ]
     },
     "metadata": {
      "needs_background": "light"
     },
     "output_type": "display_data"
    }
   ],
   "source": [
    "new_data.boxplot('volatile_acidity')"
   ]
  },
  {
   "cell_type": "code",
   "execution_count": 63,
   "id": "307909a2",
   "metadata": {},
   "outputs": [
    {
     "name": "stdout",
     "output_type": "stream",
     "text": [
      "0.1\n"
     ]
    }
   ],
   "source": [
    "#Finding IQR for the removal of outliers of the values of volatile_acidity column\n",
    "sort_data = np.sort(new_data['volatile_acidity'])\n",
    "Q1 = np.percentile(new_data['volatile_acidity'], 25, \n",
    "                   interpolation = 'midpoint') \n",
    "  \n",
    "Q3 = np.percentile(new_data['volatile_acidity'], 75,\n",
    "                   interpolation = 'midpoint') \n",
    "IQR = Q3 - Q1 \n",
    "print(IQR)"
   ]
  },
  {
   "cell_type": "code",
   "execution_count": 64,
   "id": "ee4623e8",
   "metadata": {},
   "outputs": [
    {
     "name": "stdout",
     "output_type": "stream",
     "text": [
      "Low_limit is: 0.05999999999999997\n",
      "Upper limit is: 0.46\n",
      "Q1: 0.21\n",
      "Q3: 0.31\n"
     ]
    }
   ],
   "source": [
    "low_lim = Q1 - 1.5*IQR \n",
    "up_lim = Q3 + 1.5*IQR \n",
    "# Printing Results\n",
    "print('Low_limit is:', low_lim )\n",
    "print('Upper limit is:', up_lim)\n",
    "print('Q1:', Q1)\n",
    "print('Q3:', Q3)"
   ]
  },
  {
   "cell_type": "code",
   "execution_count": 65,
   "id": "51f3a110",
   "metadata": {},
   "outputs": [
    {
     "name": "stdout",
     "output_type": "stream",
     "text": [
      "99      0.470\n",
      "162     0.460\n",
      "204     0.460\n",
      "237     0.480\n",
      "456     0.470\n",
      "483     0.460\n",
      "491     0.470\n",
      "498     0.460\n",
      "499     0.485\n",
      "602     0.460\n",
      "634     0.460\n",
      "742     0.470\n",
      "842     0.460\n",
      "845     0.475\n",
      "854     0.460\n",
      "860     0.480\n",
      "1010    0.460\n",
      "1029    0.480\n",
      "1122    0.480\n",
      "1312    0.460\n",
      "1340    0.460\n",
      "1378    0.480\n",
      "1380    0.470\n",
      "1412    0.460\n",
      "1455    0.460\n",
      "1529    0.460\n",
      "1668    0.460\n",
      "1696    0.480\n",
      "1710    0.480\n",
      "1852    0.480\n",
      "1864    0.480\n",
      "1877    0.470\n",
      "1892    0.460\n",
      "1969    0.460\n",
      "2037    1.270\n",
      "2038    1.220\n",
      "2039    1.280\n",
      "2040    1.250\n",
      "Name: volatile_acidity, dtype: float64\n"
     ]
    }
   ],
   "source": [
    "outliers = new_data.volatile_acidity[(new_data.volatile_acidity >= up_lim) | (new_data.volatile_acidity <= low_lim )]\n",
    "print(outliers)"
   ]
  },
  {
   "cell_type": "code",
   "execution_count": 66,
   "id": "f061fda7",
   "metadata": {},
   "outputs": [
    {
     "data": {
      "text/plain": [
       "(2026, 12)"
      ]
     },
     "execution_count": 66,
     "metadata": {},
     "output_type": "execute_result"
    }
   ],
   "source": [
    "new_data.shape "
   ]
  },
  {
   "cell_type": "code",
   "execution_count": 67,
   "id": "172647cd",
   "metadata": {},
   "outputs": [
    {
     "data": {
      "text/plain": [
       "(1988, 12)"
      ]
     },
     "execution_count": 67,
     "metadata": {},
     "output_type": "execute_result"
    }
   ],
   "source": [
    "#dropping the outliers\n",
    "new_data.drop(new_data[new_data['volatile_acidity']>= 0.46].index, inplace = True)\n",
    "new_data.shape "
   ]
  },
  {
   "cell_type": "code",
   "execution_count": 68,
   "id": "fc054a57",
   "metadata": {},
   "outputs": [
    {
     "data": {
      "text/plain": [
       "(1988, 12)"
      ]
     },
     "execution_count": 68,
     "metadata": {},
     "output_type": "execute_result"
    }
   ],
   "source": [
    "#dropping the outliers\n",
    "new_data.drop(new_data[new_data['volatile_acidity']<= 0.05999999999999997].index, inplace = True)\n",
    "new_data.shape "
   ]
  },
  {
   "cell_type": "code",
   "execution_count": 69,
   "id": "f558f34b",
   "metadata": {},
   "outputs": [
    {
     "data": {
      "text/plain": [
       "<AxesSubplot:>"
      ]
     },
     "execution_count": 69,
     "metadata": {},
     "output_type": "execute_result"
    },
    {
     "data": {
      "image/png": "[encoded data removed]",
      "text/plain": [
       "<Figure size 432x288 with 1 Axes>"
      ]
     },
     "metadata": {
      "needs_background": "light"
     },
     "output_type": "display_data"
    }
   ],
   "source": [
    "new_data.boxplot('volatile_acidity')"
   ]
  },
  {
   "cell_type": "code",
   "execution_count": null,
   "id": "c10283d8",
   "metadata": {},
   "outputs": [],
   "source": []
  },
  {
   "cell_type": "code",
   "execution_count": 70,
   "id": "7157e36b",
   "metadata": {},
   "outputs": [
    {
     "data": {
      "text/plain": [
       "<AxesSubplot:>"
      ]
     },
     "execution_count": 70,
     "metadata": {},
     "output_type": "execute_result"
    },
    {
     "data": {
      "image/png": "[encoded data removed]",
      "text/plain": [
       "<Figure size 432x288 with 1 Axes>"
      ]
     },
     "metadata": {
      "needs_background": "light"
     },
     "output_type": "display_data"
    }
   ],
   "source": [
    "new_data.boxplot('citric_acid')"
   ]
  },
  {
   "cell_type": "code",
   "execution_count": 71,
   "id": "45510ee9",
   "metadata": {},
   "outputs": [
    {
     "name": "stdout",
     "output_type": "stream",
     "text": [
      "0.10999999999999999\n"
     ]
    }
   ],
   "source": [
    "#Finding IQR for the removal of outliers of the values of citric_acid column\n",
    "sort_data = np.sort(new_data['citric_acid'])\n",
    "Q1 = np.percentile(new_data['citric_acid'], 25, \n",
    "                   interpolation = 'midpoint') \n",
    "  \n",
    "Q3 = np.percentile(new_data['citric_acid'], 75,\n",
    "                   interpolation = 'midpoint') \n",
    "IQR = Q3 - Q1 \n",
    "print(IQR)"
   ]
  },
  {
   "cell_type": "code",
   "execution_count": 72,
   "id": "818151b6",
   "metadata": {},
   "outputs": [
    {
     "name": "stdout",
     "output_type": "stream",
     "text": [
      "Low_limit is: 0.10500000000000004\n",
      "Upper limit is: 0.5449999999999999\n",
      "Q1: 0.27\n",
      "Q3: 0.38\n"
     ]
    }
   ],
   "source": [
    "low_lim = Q1 - 1.5*IQR \n",
    "up_lim = Q3 + 1.5*IQR \n",
    "# Printing Results\n",
    "print('Low_limit is:', low_lim )\n",
    "print('Upper limit is:', up_lim)\n",
    "print('Q1:', Q1)\n",
    "print('Q3:', Q3)"
   ]
  },
  {
   "cell_type": "code",
   "execution_count": 73,
   "id": "0cd4d5e0",
   "metadata": {},
   "outputs": [
    {
     "name": "stdout",
     "output_type": "stream",
     "text": [
      "82      0.07\n",
      "131     0.56\n",
      "135     0.00\n",
      "194     0.07\n",
      "222     0.56\n",
      "239     0.10\n",
      "247     0.55\n",
      "257     0.56\n",
      "266     0.09\n",
      "294     0.56\n",
      "356     0.07\n",
      "376     0.10\n",
      "404     0.56\n",
      "426     0.02\n",
      "445     0.55\n",
      "676     0.07\n",
      "698     0.06\n",
      "717     0.56\n",
      "865     0.10\n",
      "1011    0.01\n",
      "1076    0.01\n",
      "1094    0.57\n",
      "1114    0.57\n",
      "1242    0.04\n",
      "1260    0.01\n",
      "1262    0.57\n",
      "1263    0.56\n",
      "1277    0.00\n",
      "1310    0.10\n",
      "1346    0.09\n",
      "1368    0.55\n",
      "1370    0.56\n",
      "1371    0.04\n",
      "1395    0.05\n",
      "1463    0.57\n",
      "1470    0.10\n",
      "1517    0.55\n",
      "1544    0.56\n",
      "1571    0.56\n",
      "1596    0.10\n",
      "1623    0.00\n",
      "1666    0.57\n",
      "1708    0.56\n",
      "1800    0.09\n",
      "1813    0.56\n",
      "1826    0.09\n",
      "1867    0.04\n",
      "1933    0.56\n",
      "Name: citric_acid, dtype: float64\n"
     ]
    }
   ],
   "source": [
    "outliers = new_data.citric_acid[(new_data.citric_acid >= up_lim) | (new_data.citric_acid <= low_lim )]\n",
    "print(outliers)"
   ]
  },
  {
   "cell_type": "code",
   "execution_count": 74,
   "id": "e7fd8903",
   "metadata": {},
   "outputs": [
    {
     "data": {
      "text/plain": [
       "(1988, 12)"
      ]
     },
     "execution_count": 74,
     "metadata": {},
     "output_type": "execute_result"
    }
   ],
   "source": [
    "new_data.shape "
   ]
  },
  {
   "cell_type": "code",
   "execution_count": 75,
   "id": "85a2c27c",
   "metadata": {},
   "outputs": [
    {
     "data": {
      "text/plain": [
       "(1966, 12)"
      ]
     },
     "execution_count": 75,
     "metadata": {},
     "output_type": "execute_result"
    }
   ],
   "source": [
    "#dropping the outliers\n",
    "new_data.drop(new_data[new_data['citric_acid']>= 0.5449999999999999].index, inplace = True)\n",
    "new_data.shape"
   ]
  },
  {
   "cell_type": "code",
   "execution_count": 76,
   "id": "7569d341",
   "metadata": {},
   "outputs": [
    {
     "data": {
      "text/plain": [
       "(1940, 12)"
      ]
     },
     "execution_count": 76,
     "metadata": {},
     "output_type": "execute_result"
    }
   ],
   "source": [
    "#dropping the outliers\n",
    "new_data.drop(new_data[new_data['citric_acid']<= 0.10500000000000004].index, inplace = True)\n",
    "new_data.shape "
   ]
  },
  {
   "cell_type": "code",
   "execution_count": 77,
   "id": "c873cafa",
   "metadata": {},
   "outputs": [
    {
     "data": {
      "text/plain": [
       "<AxesSubplot:>"
      ]
     },
     "execution_count": 77,
     "metadata": {},
     "output_type": "execute_result"
    },
    {
     "data": {
      "image/png": "[encoded data removed]",
      "text/plain": [
       "<Figure size 432x288 with 1 Axes>"
      ]
     },
     "metadata": {
      "needs_background": "light"
     },
     "output_type": "display_data"
    }
   ],
   "source": [
    "new_data.boxplot('citric_acid')"
   ]
  },
  {
   "cell_type": "code",
   "execution_count": 78,
   "id": "7d899ce0",
   "metadata": {},
   "outputs": [
    {
     "data": {
      "text/plain": [
       "<AxesSubplot:>"
      ]
     },
     "execution_count": 78,
     "metadata": {},
     "output_type": "execute_result"
    },
    {
     "data": {
      "image/png": "[encoded data removed]",
      "text/plain": [
       "<Figure size 432x288 with 1 Axes>"
      ]
     },
     "metadata": {
      "needs_background": "light"
     },
     "output_type": "display_data"
    }
   ],
   "source": [
    "new_data.boxplot('residual_sugar')\n"
   ]
  },
  {
   "cell_type": "code",
   "execution_count": null,
   "id": "9965ca4f",
   "metadata": {},
   "outputs": [],
   "source": []
  },
  {
   "cell_type": "code",
   "execution_count": null,
   "id": "dca3480d",
   "metadata": {},
   "outputs": [],
   "source": []
  },
  {
   "cell_type": "code",
   "execution_count": null,
   "id": "29653a58",
   "metadata": {},
   "outputs": [],
   "source": []
  },
  {
   "cell_type": "code",
   "execution_count": null,
   "id": "caa3397b",
   "metadata": {},
   "outputs": [],
   "source": []
  },
  {
   "cell_type": "code",
   "execution_count": null,
   "id": "5c6218a4",
   "metadata": {},
   "outputs": [],
   "source": []
  },
  {
   "cell_type": "code",
   "execution_count": null,
   "id": "a4e084cd",
   "metadata": {},
   "outputs": [],
   "source": []
  },
  {
   "cell_type": "code",
   "execution_count": null,
   "id": "600347bf",
   "metadata": {},
   "outputs": [],
   "source": []
  },
  {
   "cell_type": "code",
   "execution_count": null,
   "id": "f61f0da5",
   "metadata": {},
   "outputs": [],
   "source": []
  },
  {
   "cell_type": "code",
   "execution_count": null,
   "id": "130be9c7",
   "metadata": {},
   "outputs": [],
   "source": []
  },
  {
   "cell_type": "code",
   "execution_count": null,
   "id": "be3b432b",
   "metadata": {},
   "outputs": [],
   "source": []
  },
  {
   "cell_type": "code",
   "execution_count": null,
   "id": "4a9e4ce2",
   "metadata": {},
   "outputs": [],
   "source": [
    "# new_data['quality'] = new_data['quality'].where(new_data['quality']<= 5, 0)\n",
    "# new_data['quality'] = new_data['quality'].where(new_data['quality']>5, 1)\n",
    "# new_data['quality'] = new_data['quality'].map({0:'Average', 1:'Good'})"
   ]
  }
 ],
 "metadata": {
  "kernelspec": {
   "display_name": "Python 3 (ipykernel)",
   "language": "python",
   "name": "python3"
  },
  "language_info": {
   "codemirror_mode": {
    "name": "ipython",
    "version": 3
   },
   "file_extension": ".py",
   "mimetype": "text/x-python",
   "name": "python",
   "nbconvert_exporter": "python",
   "pygments_lexer": "ipython3",
   "version": "3.7.11"
  }
 },
 "nbformat": 4,
 "nbformat_minor": 5
}

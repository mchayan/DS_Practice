{
 "cells": [
  {
   "cell_type": "markdown",
   "id": "f27c5e84",
   "metadata": {},
   "source": [
    "# Answer 1:"
   ]
  },
  {
   "cell_type": "markdown",
   "id": "baea0267",
   "metadata": {},
   "source": [
    "Wine Quality Data Set"
   ]
  },
  {
   "cell_type": "markdown",
   "id": "87ad859d",
   "metadata": {},
   "source": [
    "This is one of the most popular datasets along data science beginners.It is divided into 2 datasets. There are 4898\n",
    "rows and 12 columns in this dataset.\n",
    "Read the data from https://archive.ics.uci.edu/ml/machine-learning-databases/wine-quality/"
   ]
  },
  {
   "cell_type": "markdown",
   "id": "d4c6a365",
   "metadata": {},
   "source": [
    "# Answer 2:"
   ]
  },
  {
   "cell_type": "markdown",
   "id": "257cf5b9",
   "metadata": {},
   "source": [
    "From the above dataset, the objective of this project is to develop a Data Centric ML Model through which the Quality \n",
    "of WINE can be predicted."
   ]
  },
  {
   "cell_type": "markdown",
   "id": "63b16902",
   "metadata": {},
   "source": [
    "# Identifying Last Two digit for the Assignment Guideline"
   ]
  },
  {
   "cell_type": "code",
   "execution_count": 1,
   "id": "574efeab",
   "metadata": {},
   "outputs": [
    {
     "name": "stdout",
     "output_type": "stream",
     "text": [
      "My Id is: 20216039 . The last digit of my ID is: 39\n",
      "The Modulo of the last two digit of my ID is 1 . \n",
      "My assignment Dataset is Wine Quality Data.\n"
     ]
    }
   ],
   "source": [
    "id = 20216039\n",
    "print('My Id is:', id, '.','The last digit of my ID is:', str(id)[-2:])\n",
    "Mod = 39%2\n",
    "print('The Modulo of the last two digit of my ID is', Mod, '.', '\\nMy assignment Dataset is Wine Quality Data.')"
   ]
  },
  {
   "cell_type": "markdown",
   "id": "599601a2",
   "metadata": {},
   "source": [
    "# Import Necessary Libraries"
   ]
  },
  {
   "cell_type": "code",
   "execution_count": 2,
   "id": "7445e7a0",
   "metadata": {},
   "outputs": [],
   "source": [
    "import pandas as pd\n",
    "import numpy as np\n",
    "import statsmodels.api as sm\n",
    "import matplotlib as mt\n",
    "import matplotlib.pyplot as plt\n",
    "import matplotlib.mlab as mlab\n",
    "import seaborn as sns\n",
    "df=pd.read_csv('winedata.csv', sep=',')"
   ]
  },
  {
   "cell_type": "code",
   "execution_count": 3,
   "id": "23f8552c",
   "metadata": {},
   "outputs": [
    {
     "name": "stdout",
     "output_type": "stream",
     "text": [
      "<class 'pandas.core.frame.DataFrame'>\n",
      "RangeIndex: 2037 entries, 0 to 2036\n",
      "Data columns (total 13 columns):\n",
      " #   Column                Non-Null Count  Dtype  \n",
      "---  ------                --------------  -----  \n",
      " 0   fixed.acidity         2037 non-null   float64\n",
      " 1   volatile.acidity      2037 non-null   float64\n",
      " 2   citric.acid           2037 non-null   float64\n",
      " 3   residual.sugar        2037 non-null   float64\n",
      " 4   chlorides             2037 non-null   float64\n",
      " 5   free.sulfur.dioxide   2037 non-null   float64\n",
      " 6   total.sulfur.dioxide  2037 non-null   float64\n",
      " 7   density               2037 non-null   float64\n",
      " 8   pH                    2037 non-null   float64\n",
      " 9   sulphates             2037 non-null   float64\n",
      " 10  alcohol               2037 non-null   float64\n",
      " 11  quality               2037 non-null   int64  \n",
      " 12  rt.sulfur.dioxide     2037 non-null   float64\n",
      "dtypes: float64(12), int64(1)\n",
      "memory usage: 207.0 KB\n"
     ]
    }
   ],
   "source": [
    "df.info()"
   ]
  },
  {
   "cell_type": "code",
   "execution_count": 4,
   "id": "dcb54984",
   "metadata": {
    "scrolled": true
   },
   "outputs": [
    {
     "data": {
      "text/html": [
       "<div>\n",
       "<style scoped>\n",
       "    .dataframe tbody tr th:only-of-type {\n",
       "        vertical-align: middle;\n",
       "    }\n",
       "\n",
       "    .dataframe tbody tr th {\n",
       "        vertical-align: top;\n",
       "    }\n",
       "\n",
       "    .dataframe thead th {\n",
       "        text-align: right;\n",
       "    }\n",
       "</style>\n",
       "<table border=\"1\" class=\"dataframe\">\n",
       "  <thead>\n",
       "    <tr style=\"text-align: right;\">\n",
       "      <th></th>\n",
       "      <th>fixed.acidity</th>\n",
       "      <th>volatile.acidity</th>\n",
       "      <th>citric.acid</th>\n",
       "      <th>residual.sugar</th>\n",
       "      <th>chlorides</th>\n",
       "      <th>free.sulfur.dioxide</th>\n",
       "      <th>total.sulfur.dioxide</th>\n",
       "      <th>density</th>\n",
       "      <th>pH</th>\n",
       "      <th>sulphates</th>\n",
       "      <th>alcohol</th>\n",
       "      <th>quality</th>\n",
       "      <th>rt.sulfur.dioxide</th>\n",
       "    </tr>\n",
       "  </thead>\n",
       "  <tbody>\n",
       "    <tr>\n",
       "      <th>0</th>\n",
       "      <td>7.5</td>\n",
       "      <td>0.33</td>\n",
       "      <td>0.32</td>\n",
       "      <td>11.1</td>\n",
       "      <td>0.036</td>\n",
       "      <td>25.0</td>\n",
       "      <td>119.0</td>\n",
       "      <td>0.99620</td>\n",
       "      <td>3.15</td>\n",
       "      <td>0.34</td>\n",
       "      <td>10.5</td>\n",
       "      <td>6</td>\n",
       "      <td>5.000000</td>\n",
       "    </tr>\n",
       "    <tr>\n",
       "      <th>1</th>\n",
       "      <td>6.3</td>\n",
       "      <td>0.27</td>\n",
       "      <td>0.29</td>\n",
       "      <td>12.2</td>\n",
       "      <td>0.044</td>\n",
       "      <td>59.0</td>\n",
       "      <td>196.0</td>\n",
       "      <td>0.99782</td>\n",
       "      <td>3.14</td>\n",
       "      <td>0.40</td>\n",
       "      <td>8.8</td>\n",
       "      <td>6</td>\n",
       "      <td>7.681146</td>\n",
       "    </tr>\n",
       "    <tr>\n",
       "      <th>2</th>\n",
       "      <td>7.0</td>\n",
       "      <td>0.30</td>\n",
       "      <td>0.51</td>\n",
       "      <td>13.6</td>\n",
       "      <td>0.050</td>\n",
       "      <td>40.0</td>\n",
       "      <td>168.0</td>\n",
       "      <td>0.99760</td>\n",
       "      <td>3.07</td>\n",
       "      <td>0.52</td>\n",
       "      <td>9.6</td>\n",
       "      <td>7</td>\n",
       "      <td>6.324555</td>\n",
       "    </tr>\n",
       "    <tr>\n",
       "      <th>3</th>\n",
       "      <td>7.4</td>\n",
       "      <td>0.38</td>\n",
       "      <td>0.27</td>\n",
       "      <td>7.5</td>\n",
       "      <td>0.041</td>\n",
       "      <td>24.0</td>\n",
       "      <td>160.0</td>\n",
       "      <td>0.99535</td>\n",
       "      <td>3.17</td>\n",
       "      <td>0.43</td>\n",
       "      <td>10.0</td>\n",
       "      <td>5</td>\n",
       "      <td>4.898979</td>\n",
       "    </tr>\n",
       "    <tr>\n",
       "      <th>4</th>\n",
       "      <td>8.1</td>\n",
       "      <td>0.12</td>\n",
       "      <td>0.38</td>\n",
       "      <td>0.9</td>\n",
       "      <td>0.034</td>\n",
       "      <td>36.0</td>\n",
       "      <td>86.0</td>\n",
       "      <td>0.99026</td>\n",
       "      <td>2.80</td>\n",
       "      <td>0.55</td>\n",
       "      <td>12.0</td>\n",
       "      <td>6</td>\n",
       "      <td>6.000000</td>\n",
       "    </tr>\n",
       "  </tbody>\n",
       "</table>\n",
       "</div>"
      ],
      "text/plain": [
       "   fixed.acidity  volatile.acidity  citric.acid  residual.sugar  chlorides  \\\n",
       "0            7.5              0.33         0.32            11.1      0.036   \n",
       "1            6.3              0.27         0.29            12.2      0.044   \n",
       "2            7.0              0.30         0.51            13.6      0.050   \n",
       "3            7.4              0.38         0.27             7.5      0.041   \n",
       "4            8.1              0.12         0.38             0.9      0.034   \n",
       "\n",
       "   free.sulfur.dioxide  total.sulfur.dioxide  density    pH  sulphates  \\\n",
       "0                 25.0                 119.0  0.99620  3.15       0.34   \n",
       "1                 59.0                 196.0  0.99782  3.14       0.40   \n",
       "2                 40.0                 168.0  0.99760  3.07       0.52   \n",
       "3                 24.0                 160.0  0.99535  3.17       0.43   \n",
       "4                 36.0                  86.0  0.99026  2.80       0.55   \n",
       "\n",
       "   alcohol  quality  rt.sulfur.dioxide  \n",
       "0     10.5        6           5.000000  \n",
       "1      8.8        6           7.681146  \n",
       "2      9.6        7           6.324555  \n",
       "3     10.0        5           4.898979  \n",
       "4     12.0        6           6.000000  "
      ]
     },
     "execution_count": 4,
     "metadata": {},
     "output_type": "execute_result"
    }
   ],
   "source": [
    "df.head()"
   ]
  },
  {
   "cell_type": "markdown",
   "id": "dee37bb3",
   "metadata": {},
   "source": [
    "# Answer 3:"
   ]
  },
  {
   "cell_type": "raw",
   "id": "ee129ad7",
   "metadata": {},
   "source": [
    "Data Cleaning"
   ]
  },
  {
   "cell_type": "markdown",
   "id": "f3f7bf8b",
   "metadata": {},
   "source": [
    "# Necessity of Dropping rt.sulfur.dioxide (As Assignment guideline provides 12 Columns & The Dataset Contains 13 Columns)"
   ]
  },
  {
   "cell_type": "code",
   "execution_count": 5,
   "id": "27727b82",
   "metadata": {},
   "outputs": [],
   "source": [
    "df.drop(['rt.sulfur.dioxide'], axis =1, inplace =True)"
   ]
  },
  {
   "cell_type": "code",
   "execution_count": 6,
   "id": "4d36db69",
   "metadata": {},
   "outputs": [
    {
     "name": "stdout",
     "output_type": "stream",
     "text": [
      "<class 'pandas.core.frame.DataFrame'>\n",
      "RangeIndex: 2037 entries, 0 to 2036\n",
      "Data columns (total 12 columns):\n",
      " #   Column                Non-Null Count  Dtype  \n",
      "---  ------                --------------  -----  \n",
      " 0   fixed.acidity         2037 non-null   float64\n",
      " 1   volatile.acidity      2037 non-null   float64\n",
      " 2   citric.acid           2037 non-null   float64\n",
      " 3   residual.sugar        2037 non-null   float64\n",
      " 4   chlorides             2037 non-null   float64\n",
      " 5   free.sulfur.dioxide   2037 non-null   float64\n",
      " 6   total.sulfur.dioxide  2037 non-null   float64\n",
      " 7   density               2037 non-null   float64\n",
      " 8   pH                    2037 non-null   float64\n",
      " 9   sulphates             2037 non-null   float64\n",
      " 10  alcohol               2037 non-null   float64\n",
      " 11  quality               2037 non-null   int64  \n",
      "dtypes: float64(11), int64(1)\n",
      "memory usage: 191.1 KB\n"
     ]
    }
   ],
   "source": [
    "df.info()"
   ]
  },
  {
   "cell_type": "markdown",
   "id": "5d898a9a",
   "metadata": {},
   "source": [
    "# Appending Dataset According to the Assignment Guideline"
   ]
  },
  {
   "cell_type": "code",
   "execution_count": 7,
   "id": "803f9df2",
   "metadata": {},
   "outputs": [],
   "source": [
    "# List of data series\n",
    "datarowsSeries = [pd.Series([7.8+.39,.88+.39,0.00+.39,1.9,0.09+.39,25.0+.39,67.0+.39,.991+.39,3.22,0.68+.39,9.8+.39,5], index=df.columns ), pd.Series([7.2+.39,.83+.39,0.01+.39,2.2,0.19+.39,15.0+.39,60.0+.39,.996+.39,3.52,0.55+.39,9.6+.39,6], index=df.columns ), pd.Series([7.9+.39,.89+.39,0.01+.39,1.7,0.08+.39,22.0+.39,57.0+.39,.997+.39,3.26,0.64+.39,9.8+.39,2], index=df.columns ), pd.Series([7.7+.39,.86+.39,0.02+.39,2.3,0.07+.39,11.0+.39,38.0+.39,.994+.39,3.12,0.08+.39,9.4+.39,3], index=df.columns ) ]"
   ]
  },
  {
   "cell_type": "markdown",
   "id": "d86b7712",
   "metadata": {},
   "source": [
    "# Check The DF For Verifying Newly Appended Data"
   ]
  },
  {
   "cell_type": "code",
   "execution_count": 8,
   "id": "6bfe3ab5",
   "metadata": {},
   "outputs": [
    {
     "data": {
      "text/html": [
       "<div>\n",
       "<style scoped>\n",
       "    .dataframe tbody tr th:only-of-type {\n",
       "        vertical-align: middle;\n",
       "    }\n",
       "\n",
       "    .dataframe tbody tr th {\n",
       "        vertical-align: top;\n",
       "    }\n",
       "\n",
       "    .dataframe thead th {\n",
       "        text-align: right;\n",
       "    }\n",
       "</style>\n",
       "<table border=\"1\" class=\"dataframe\">\n",
       "  <thead>\n",
       "    <tr style=\"text-align: right;\">\n",
       "      <th></th>\n",
       "      <th>fixed.acidity</th>\n",
       "      <th>volatile.acidity</th>\n",
       "      <th>citric.acid</th>\n",
       "      <th>residual.sugar</th>\n",
       "      <th>chlorides</th>\n",
       "      <th>free.sulfur.dioxide</th>\n",
       "      <th>total.sulfur.dioxide</th>\n",
       "      <th>density</th>\n",
       "      <th>pH</th>\n",
       "      <th>sulphates</th>\n",
       "      <th>alcohol</th>\n",
       "      <th>quality</th>\n",
       "    </tr>\n",
       "  </thead>\n",
       "  <tbody>\n",
       "    <tr>\n",
       "      <th>2033</th>\n",
       "      <td>7.4</td>\n",
       "      <td>0.19</td>\n",
       "      <td>0.31</td>\n",
       "      <td>14.5</td>\n",
       "      <td>0.045</td>\n",
       "      <td>39.0</td>\n",
       "      <td>193.0</td>\n",
       "      <td>0.99860</td>\n",
       "      <td>3.10</td>\n",
       "      <td>0.50</td>\n",
       "      <td>9.2</td>\n",
       "      <td>6</td>\n",
       "    </tr>\n",
       "    <tr>\n",
       "      <th>2034</th>\n",
       "      <td>6.7</td>\n",
       "      <td>0.36</td>\n",
       "      <td>0.26</td>\n",
       "      <td>7.9</td>\n",
       "      <td>0.034</td>\n",
       "      <td>39.0</td>\n",
       "      <td>123.0</td>\n",
       "      <td>0.99119</td>\n",
       "      <td>2.99</td>\n",
       "      <td>0.30</td>\n",
       "      <td>12.2</td>\n",
       "      <td>7</td>\n",
       "    </tr>\n",
       "    <tr>\n",
       "      <th>2035</th>\n",
       "      <td>7.7</td>\n",
       "      <td>0.28</td>\n",
       "      <td>0.35</td>\n",
       "      <td>15.3</td>\n",
       "      <td>0.056</td>\n",
       "      <td>31.0</td>\n",
       "      <td>117.0</td>\n",
       "      <td>0.99980</td>\n",
       "      <td>3.27</td>\n",
       "      <td>0.50</td>\n",
       "      <td>9.6</td>\n",
       "      <td>5</td>\n",
       "    </tr>\n",
       "    <tr>\n",
       "      <th>2036</th>\n",
       "      <td>5.7</td>\n",
       "      <td>0.22</td>\n",
       "      <td>0.28</td>\n",
       "      <td>1.3</td>\n",
       "      <td>0.027</td>\n",
       "      <td>26.0</td>\n",
       "      <td>101.0</td>\n",
       "      <td>0.98948</td>\n",
       "      <td>3.35</td>\n",
       "      <td>0.38</td>\n",
       "      <td>12.5</td>\n",
       "      <td>7</td>\n",
       "    </tr>\n",
       "  </tbody>\n",
       "</table>\n",
       "</div>"
      ],
      "text/plain": [
       "      fixed.acidity  volatile.acidity  citric.acid  residual.sugar  chlorides  \\\n",
       "2033            7.4              0.19         0.31            14.5      0.045   \n",
       "2034            6.7              0.36         0.26             7.9      0.034   \n",
       "2035            7.7              0.28         0.35            15.3      0.056   \n",
       "2036            5.7              0.22         0.28             1.3      0.027   \n",
       "\n",
       "      free.sulfur.dioxide  total.sulfur.dioxide  density    pH  sulphates  \\\n",
       "2033                 39.0                 193.0  0.99860  3.10       0.50   \n",
       "2034                 39.0                 123.0  0.99119  2.99       0.30   \n",
       "2035                 31.0                 117.0  0.99980  3.27       0.50   \n",
       "2036                 26.0                 101.0  0.98948  3.35       0.38   \n",
       "\n",
       "      alcohol  quality  \n",
       "2033      9.2        6  \n",
       "2034     12.2        7  \n",
       "2035      9.6        5  \n",
       "2036     12.5        7  "
      ]
     },
     "execution_count": 8,
     "metadata": {},
     "output_type": "execute_result"
    }
   ],
   "source": [
    "df.iloc[-4:]"
   ]
  },
  {
   "cell_type": "markdown",
   "id": "fc54dbbf",
   "metadata": {},
   "source": [
    "# New Appended DF named new_data"
   ]
  },
  {
   "cell_type": "code",
   "execution_count": 9,
   "id": "d3532be4",
   "metadata": {},
   "outputs": [],
   "source": [
    "new_data = df.append(datarowsSeries, ignore_index=True)"
   ]
  },
  {
   "cell_type": "code",
   "execution_count": 10,
   "id": "920575e0",
   "metadata": {},
   "outputs": [
    {
     "data": {
      "text/html": [
       "<div>\n",
       "<style scoped>\n",
       "    .dataframe tbody tr th:only-of-type {\n",
       "        vertical-align: middle;\n",
       "    }\n",
       "\n",
       "    .dataframe tbody tr th {\n",
       "        vertical-align: top;\n",
       "    }\n",
       "\n",
       "    .dataframe thead th {\n",
       "        text-align: right;\n",
       "    }\n",
       "</style>\n",
       "<table border=\"1\" class=\"dataframe\">\n",
       "  <thead>\n",
       "    <tr style=\"text-align: right;\">\n",
       "      <th></th>\n",
       "      <th>fixed.acidity</th>\n",
       "      <th>volatile.acidity</th>\n",
       "      <th>citric.acid</th>\n",
       "      <th>residual.sugar</th>\n",
       "      <th>chlorides</th>\n",
       "      <th>free.sulfur.dioxide</th>\n",
       "      <th>total.sulfur.dioxide</th>\n",
       "      <th>density</th>\n",
       "      <th>pH</th>\n",
       "      <th>sulphates</th>\n",
       "      <th>alcohol</th>\n",
       "      <th>quality</th>\n",
       "    </tr>\n",
       "  </thead>\n",
       "  <tbody>\n",
       "    <tr>\n",
       "      <th>2033</th>\n",
       "      <td>7.40</td>\n",
       "      <td>0.19</td>\n",
       "      <td>0.31</td>\n",
       "      <td>14.5</td>\n",
       "      <td>0.045</td>\n",
       "      <td>39.00</td>\n",
       "      <td>193.00</td>\n",
       "      <td>0.99860</td>\n",
       "      <td>3.10</td>\n",
       "      <td>0.50</td>\n",
       "      <td>9.20</td>\n",
       "      <td>6.0</td>\n",
       "    </tr>\n",
       "    <tr>\n",
       "      <th>2034</th>\n",
       "      <td>6.70</td>\n",
       "      <td>0.36</td>\n",
       "      <td>0.26</td>\n",
       "      <td>7.9</td>\n",
       "      <td>0.034</td>\n",
       "      <td>39.00</td>\n",
       "      <td>123.00</td>\n",
       "      <td>0.99119</td>\n",
       "      <td>2.99</td>\n",
       "      <td>0.30</td>\n",
       "      <td>12.20</td>\n",
       "      <td>7.0</td>\n",
       "    </tr>\n",
       "    <tr>\n",
       "      <th>2035</th>\n",
       "      <td>7.70</td>\n",
       "      <td>0.28</td>\n",
       "      <td>0.35</td>\n",
       "      <td>15.3</td>\n",
       "      <td>0.056</td>\n",
       "      <td>31.00</td>\n",
       "      <td>117.00</td>\n",
       "      <td>0.99980</td>\n",
       "      <td>3.27</td>\n",
       "      <td>0.50</td>\n",
       "      <td>9.60</td>\n",
       "      <td>5.0</td>\n",
       "    </tr>\n",
       "    <tr>\n",
       "      <th>2036</th>\n",
       "      <td>5.70</td>\n",
       "      <td>0.22</td>\n",
       "      <td>0.28</td>\n",
       "      <td>1.3</td>\n",
       "      <td>0.027</td>\n",
       "      <td>26.00</td>\n",
       "      <td>101.00</td>\n",
       "      <td>0.98948</td>\n",
       "      <td>3.35</td>\n",
       "      <td>0.38</td>\n",
       "      <td>12.50</td>\n",
       "      <td>7.0</td>\n",
       "    </tr>\n",
       "    <tr>\n",
       "      <th>2037</th>\n",
       "      <td>8.19</td>\n",
       "      <td>1.27</td>\n",
       "      <td>0.39</td>\n",
       "      <td>1.9</td>\n",
       "      <td>0.480</td>\n",
       "      <td>25.39</td>\n",
       "      <td>67.39</td>\n",
       "      <td>1.38100</td>\n",
       "      <td>3.22</td>\n",
       "      <td>1.07</td>\n",
       "      <td>10.19</td>\n",
       "      <td>5.0</td>\n",
       "    </tr>\n",
       "    <tr>\n",
       "      <th>2038</th>\n",
       "      <td>7.59</td>\n",
       "      <td>1.22</td>\n",
       "      <td>0.40</td>\n",
       "      <td>2.2</td>\n",
       "      <td>0.580</td>\n",
       "      <td>15.39</td>\n",
       "      <td>60.39</td>\n",
       "      <td>1.38600</td>\n",
       "      <td>3.52</td>\n",
       "      <td>0.94</td>\n",
       "      <td>9.99</td>\n",
       "      <td>6.0</td>\n",
       "    </tr>\n",
       "    <tr>\n",
       "      <th>2039</th>\n",
       "      <td>8.29</td>\n",
       "      <td>1.28</td>\n",
       "      <td>0.40</td>\n",
       "      <td>1.7</td>\n",
       "      <td>0.470</td>\n",
       "      <td>22.39</td>\n",
       "      <td>57.39</td>\n",
       "      <td>1.38700</td>\n",
       "      <td>3.26</td>\n",
       "      <td>1.03</td>\n",
       "      <td>10.19</td>\n",
       "      <td>2.0</td>\n",
       "    </tr>\n",
       "    <tr>\n",
       "      <th>2040</th>\n",
       "      <td>8.09</td>\n",
       "      <td>1.25</td>\n",
       "      <td>0.41</td>\n",
       "      <td>2.3</td>\n",
       "      <td>0.460</td>\n",
       "      <td>11.39</td>\n",
       "      <td>38.39</td>\n",
       "      <td>1.38400</td>\n",
       "      <td>3.12</td>\n",
       "      <td>0.47</td>\n",
       "      <td>9.79</td>\n",
       "      <td>3.0</td>\n",
       "    </tr>\n",
       "  </tbody>\n",
       "</table>\n",
       "</div>"
      ],
      "text/plain": [
       "      fixed.acidity  volatile.acidity  citric.acid  residual.sugar  chlorides  \\\n",
       "2033           7.40              0.19         0.31            14.5      0.045   \n",
       "2034           6.70              0.36         0.26             7.9      0.034   \n",
       "2035           7.70              0.28         0.35            15.3      0.056   \n",
       "2036           5.70              0.22         0.28             1.3      0.027   \n",
       "2037           8.19              1.27         0.39             1.9      0.480   \n",
       "2038           7.59              1.22         0.40             2.2      0.580   \n",
       "2039           8.29              1.28         0.40             1.7      0.470   \n",
       "2040           8.09              1.25         0.41             2.3      0.460   \n",
       "\n",
       "      free.sulfur.dioxide  total.sulfur.dioxide  density    pH  sulphates  \\\n",
       "2033                39.00                193.00  0.99860  3.10       0.50   \n",
       "2034                39.00                123.00  0.99119  2.99       0.30   \n",
       "2035                31.00                117.00  0.99980  3.27       0.50   \n",
       "2036                26.00                101.00  0.98948  3.35       0.38   \n",
       "2037                25.39                 67.39  1.38100  3.22       1.07   \n",
       "2038                15.39                 60.39  1.38600  3.52       0.94   \n",
       "2039                22.39                 57.39  1.38700  3.26       1.03   \n",
       "2040                11.39                 38.39  1.38400  3.12       0.47   \n",
       "\n",
       "      alcohol  quality  \n",
       "2033     9.20      6.0  \n",
       "2034    12.20      7.0  \n",
       "2035     9.60      5.0  \n",
       "2036    12.50      7.0  \n",
       "2037    10.19      5.0  \n",
       "2038     9.99      6.0  \n",
       "2039    10.19      2.0  \n",
       "2040     9.79      3.0  "
      ]
     },
     "execution_count": 10,
     "metadata": {},
     "output_type": "execute_result"
    }
   ],
   "source": [
    "new_data.iloc[-8:]\n"
   ]
  },
  {
   "cell_type": "code",
   "execution_count": 11,
   "id": "f9eca0fd",
   "metadata": {
    "scrolled": true
   },
   "outputs": [
    {
     "name": "stdout",
     "output_type": "stream",
     "text": [
      "<class 'pandas.core.frame.DataFrame'>\n",
      "RangeIndex: 2041 entries, 0 to 2040\n",
      "Data columns (total 12 columns):\n",
      " #   Column                Non-Null Count  Dtype  \n",
      "---  ------                --------------  -----  \n",
      " 0   fixed.acidity         2041 non-null   float64\n",
      " 1   volatile.acidity      2041 non-null   float64\n",
      " 2   citric.acid           2041 non-null   float64\n",
      " 3   residual.sugar        2041 non-null   float64\n",
      " 4   chlorides             2041 non-null   float64\n",
      " 5   free.sulfur.dioxide   2041 non-null   float64\n",
      " 6   total.sulfur.dioxide  2041 non-null   float64\n",
      " 7   density               2041 non-null   float64\n",
      " 8   pH                    2041 non-null   float64\n",
      " 9   sulphates             2041 non-null   float64\n",
      " 10  alcohol               2041 non-null   float64\n",
      " 11  quality               2041 non-null   float64\n",
      "dtypes: float64(12)\n",
      "memory usage: 191.5 KB\n"
     ]
    }
   ],
   "source": [
    "new_data.info()"
   ]
  },
  {
   "cell_type": "markdown",
   "id": "ca2331f9",
   "metadata": {},
   "source": [
    "# Changed Column Name for Ease"
   ]
  },
  {
   "cell_type": "code",
   "execution_count": 12,
   "id": "2157bcfe",
   "metadata": {},
   "outputs": [],
   "source": [
    "new_data.columns = ['fixed_acidity', 'volatile_acidity', 'citric_acid', 'residual_sugar', 'chlorides', 'free_sulfur_dioxide', 'total_sulfur_dioxide', 'density', 'pH', 'sulphates', 'alcohol', 'quality'   ]"
   ]
  },
  {
   "cell_type": "code",
   "execution_count": 13,
   "id": "91273b56",
   "metadata": {},
   "outputs": [
    {
     "name": "stdout",
     "output_type": "stream",
     "text": [
      "<class 'pandas.core.frame.DataFrame'>\n",
      "RangeIndex: 2041 entries, 0 to 2040\n",
      "Data columns (total 12 columns):\n",
      " #   Column                Non-Null Count  Dtype  \n",
      "---  ------                --------------  -----  \n",
      " 0   fixed_acidity         2041 non-null   float64\n",
      " 1   volatile_acidity      2041 non-null   float64\n",
      " 2   citric_acid           2041 non-null   float64\n",
      " 3   residual_sugar        2041 non-null   float64\n",
      " 4   chlorides             2041 non-null   float64\n",
      " 5   free_sulfur_dioxide   2041 non-null   float64\n",
      " 6   total_sulfur_dioxide  2041 non-null   float64\n",
      " 7   density               2041 non-null   float64\n",
      " 8   pH                    2041 non-null   float64\n",
      " 9   sulphates             2041 non-null   float64\n",
      " 10  alcohol               2041 non-null   float64\n",
      " 11  quality               2041 non-null   float64\n",
      "dtypes: float64(12)\n",
      "memory usage: 191.5 KB\n"
     ]
    }
   ],
   "source": [
    "new_data.info()"
   ]
  },
  {
   "cell_type": "markdown",
   "id": "0aaa202e",
   "metadata": {},
   "source": [
    "# Answer 4:"
   ]
  },
  {
   "cell_type": "markdown",
   "id": "e5f074e1",
   "metadata": {},
   "source": [
    "# Suitable Plotting, Data Visualization"
   ]
  },
  {
   "cell_type": "code",
   "execution_count": 14,
   "id": "ad7036da",
   "metadata": {},
   "outputs": [
    {
     "data": {
      "text/plain": [
       "<AxesSubplot:>"
      ]
     },
     "execution_count": 14,
     "metadata": {},
     "output_type": "execute_result"
    },
    {
     "data": {
      "image/png": "[encoded data removed]",
      "text/plain": [
       "<Figure size 432x288 with 1 Axes>"
      ]
     },
     "metadata": {
      "needs_background": "light"
     },
     "output_type": "display_data"
    }
   ],
   "source": [
    "new_data.boxplot()"
   ]
  },
  {
   "cell_type": "code",
   "execution_count": 15,
   "id": "87d3ecf5",
   "metadata": {},
   "outputs": [
    {
     "data": {
      "image/png": "[encoded data removed]",
      "text/plain": [
       "<Figure size 720x720 with 12 Axes>"
      ]
     },
     "metadata": {
      "needs_background": "light"
     },
     "output_type": "display_data"
    }
   ],
   "source": [
    "new_data.hist(bins=25,figsize=(10,10))\n",
    "# display histogram\n",
    "plt.show()"
   ]
  },
  {
   "cell_type": "markdown",
   "id": "d2884ce9",
   "metadata": {},
   "source": [
    "# Checked Specific Column for Better Visualization"
   ]
  },
  {
   "cell_type": "code",
   "execution_count": 16,
   "id": "faa61a53",
   "metadata": {},
   "outputs": [
    {
     "data": {
      "text/plain": [
       "<AxesSubplot:>"
      ]
     },
     "execution_count": 16,
     "metadata": {},
     "output_type": "execute_result"
    },
    {
     "data": {
      "image/png": "[encoded data removed]",
      "text/plain": [
       "<Figure size 432x288 with 1 Axes>"
      ]
     },
     "metadata": {
      "needs_background": "light"
     },
     "output_type": "display_data"
    }
   ],
   "source": [
    "new_data.boxplot('fixed_acidity')"
   ]
  },
  {
   "cell_type": "markdown",
   "id": "5d17dbe2",
   "metadata": {},
   "source": [
    "# Found Outlier in The fixed_acidity Column. No action taken according to the assignment guideline."
   ]
  },
  {
   "cell_type": "markdown",
   "id": "bcaf899b",
   "metadata": {},
   "source": [
    "# Steps for volatile_acidity Column"
   ]
  },
  {
   "cell_type": "code",
   "execution_count": 17,
   "id": "f30ad121",
   "metadata": {},
   "outputs": [
    {
     "data": {
      "text/plain": [
       "<AxesSubplot:>"
      ]
     },
     "execution_count": 17,
     "metadata": {},
     "output_type": "execute_result"
    },
    {
     "data": {
      "image/png": "[encoded data removed]",
      "text/plain": [
       "<Figure size 432x288 with 1 Axes>"
      ]
     },
     "metadata": {
      "needs_background": "light"
     },
     "output_type": "display_data"
    }
   ],
   "source": [
    "new_data.boxplot('volatile_acidity')"
   ]
  },
  {
   "cell_type": "markdown",
   "id": "c4d21934",
   "metadata": {},
   "source": [
    "# Found Outlier in The volatile_acidity Column. No action taken according to the assignment guideline."
   ]
  },
  {
   "cell_type": "markdown",
   "id": "aa164a51",
   "metadata": {},
   "source": [
    "# Steps for citric_acid Column"
   ]
  },
  {
   "cell_type": "code",
   "execution_count": 18,
   "id": "223b43f9",
   "metadata": {},
   "outputs": [
    {
     "data": {
      "text/plain": [
       "<AxesSubplot:>"
      ]
     },
     "execution_count": 18,
     "metadata": {},
     "output_type": "execute_result"
    },
    {
     "data": {
      "image/png": "[encoded data removed]",
      "text/plain": [
       "<Figure size 432x288 with 1 Axes>"
      ]
     },
     "metadata": {
      "needs_background": "light"
     },
     "output_type": "display_data"
    }
   ],
   "source": [
    "new_data.boxplot('citric_acid')"
   ]
  },
  {
   "cell_type": "markdown",
   "id": "b802a41e",
   "metadata": {},
   "source": [
    "# Found Outlier in The citric_acid Column. No action taken according to the assignment guideline."
   ]
  },
  {
   "cell_type": "markdown",
   "id": "f9eb997c",
   "metadata": {},
   "source": [
    "# Steps for residual_sugar Column. (No Outlier Found.) "
   ]
  },
  {
   "cell_type": "code",
   "execution_count": 19,
   "id": "daac0449",
   "metadata": {},
   "outputs": [
    {
     "data": {
      "text/plain": [
       "<AxesSubplot:>"
      ]
     },
     "execution_count": 19,
     "metadata": {},
     "output_type": "execute_result"
    },
    {
     "data": {
      "image/png": "[encoded data removed]",
      "text/plain": [
       "<Figure size 432x288 with 1 Axes>"
      ]
     },
     "metadata": {
      "needs_background": "light"
     },
     "output_type": "display_data"
    }
   ],
   "source": [
    "new_data.boxplot('residual_sugar')\n"
   ]
  },
  {
   "cell_type": "markdown",
   "id": "8f645f11",
   "metadata": {},
   "source": [
    "# Steps for chlorides Column "
   ]
  },
  {
   "cell_type": "code",
   "execution_count": 20,
   "id": "962d9476",
   "metadata": {},
   "outputs": [
    {
     "data": {
      "text/plain": [
       "<AxesSubplot:>"
      ]
     },
     "execution_count": 20,
     "metadata": {},
     "output_type": "execute_result"
    },
    {
     "data": {
      "image/png": "[encoded data removed]",
      "text/plain": [
       "<Figure size 432x288 with 1 Axes>"
      ]
     },
     "metadata": {
      "needs_background": "light"
     },
     "output_type": "display_data"
    }
   ],
   "source": [
    "new_data.boxplot('chlorides')\n"
   ]
  },
  {
   "cell_type": "markdown",
   "id": "a65b9206",
   "metadata": {},
   "source": [
    "# Found Outlier in The chlorides Column . No action taken according to the assignment guideline."
   ]
  },
  {
   "cell_type": "markdown",
   "id": "54731bef",
   "metadata": {},
   "source": [
    "# Steps for free_sulfur_dioxide Column"
   ]
  },
  {
   "cell_type": "code",
   "execution_count": 21,
   "id": "74b995a4",
   "metadata": {},
   "outputs": [
    {
     "data": {
      "text/plain": [
       "<AxesSubplot:>"
      ]
     },
     "execution_count": 21,
     "metadata": {},
     "output_type": "execute_result"
    },
    {
     "data": {
      "image/png": "[encoded data removed]",
      "text/plain": [
       "<Figure size 432x288 with 1 Axes>"
      ]
     },
     "metadata": {
      "needs_background": "light"
     },
     "output_type": "display_data"
    }
   ],
   "source": [
    "new_data.boxplot('free_sulfur_dioxide')"
   ]
  },
  {
   "cell_type": "markdown",
   "id": "46841dd0",
   "metadata": {},
   "source": [
    "# Found Outlier in The  free_sulfur_dioxide Column . No action taken according to the assignment guideline."
   ]
  },
  {
   "cell_type": "markdown",
   "id": "3f0ccd17",
   "metadata": {},
   "source": [
    "# Steps for total_sulfur_dioxide Column . (No Outlier Found.) Continue to next Column."
   ]
  },
  {
   "cell_type": "code",
   "execution_count": 22,
   "id": "164fb287",
   "metadata": {},
   "outputs": [
    {
     "data": {
      "text/plain": [
       "<AxesSubplot:>"
      ]
     },
     "execution_count": 22,
     "metadata": {},
     "output_type": "execute_result"
    },
    {
     "data": {
      "image/png": "[encoded data removed]",
      "text/plain": [
       "<Figure size 432x288 with 1 Axes>"
      ]
     },
     "metadata": {
      "needs_background": "light"
     },
     "output_type": "display_data"
    }
   ],
   "source": [
    "new_data.boxplot('total_sulfur_dioxide')"
   ]
  },
  {
   "cell_type": "markdown",
   "id": "5195aea4",
   "metadata": {},
   "source": [
    "# Steps for density Column."
   ]
  },
  {
   "cell_type": "code",
   "execution_count": 23,
   "id": "13ff3f3c",
   "metadata": {},
   "outputs": [
    {
     "data": {
      "text/plain": [
       "<AxesSubplot:>"
      ]
     },
     "execution_count": 23,
     "metadata": {},
     "output_type": "execute_result"
    },
    {
     "data": {
      "image/png": "[encoded data removed]",
      "text/plain": [
       "<Figure size 432x288 with 1 Axes>"
      ]
     },
     "metadata": {
      "needs_background": "light"
     },
     "output_type": "display_data"
    }
   ],
   "source": [
    "new_data.boxplot('density')"
   ]
  },
  {
   "cell_type": "markdown",
   "id": "033fcf70",
   "metadata": {},
   "source": [
    "# Found Outlier in The  density Column . No action taken according to the assignment guideline."
   ]
  },
  {
   "cell_type": "markdown",
   "id": "741499b1",
   "metadata": {},
   "source": [
    "# Steps for pH Column"
   ]
  },
  {
   "cell_type": "code",
   "execution_count": 24,
   "id": "1ac47d9a",
   "metadata": {},
   "outputs": [
    {
     "data": {
      "text/plain": [
       "<AxesSubplot:>"
      ]
     },
     "execution_count": 24,
     "metadata": {},
     "output_type": "execute_result"
    },
    {
     "data": {
      "image/png": "[encoded data removed]",
      "text/plain": [
       "<Figure size 432x288 with 1 Axes>"
      ]
     },
     "metadata": {
      "needs_background": "light"
     },
     "output_type": "display_data"
    }
   ],
   "source": [
    "new_data.boxplot('pH')"
   ]
  },
  {
   "cell_type": "markdown",
   "id": "6d5c96cb",
   "metadata": {},
   "source": [
    "# Found Outlier in The  pH Column. No action taken according to the assignment guideline."
   ]
  },
  {
   "cell_type": "markdown",
   "id": "0e963e58",
   "metadata": {},
   "source": [
    "# Steps for sulphates Column"
   ]
  },
  {
   "cell_type": "code",
   "execution_count": 25,
   "id": "154f7a73",
   "metadata": {},
   "outputs": [
    {
     "data": {
      "text/plain": [
       "<AxesSubplot:>"
      ]
     },
     "execution_count": 25,
     "metadata": {},
     "output_type": "execute_result"
    },
    {
     "data": {
      "image/png": "[encoded data removed]",
      "text/plain": [
       "<Figure size 432x288 with 1 Axes>"
      ]
     },
     "metadata": {
      "needs_background": "light"
     },
     "output_type": "display_data"
    }
   ],
   "source": [
    "new_data.boxplot('sulphates')"
   ]
  },
  {
   "cell_type": "markdown",
   "id": "f5d4c00f",
   "metadata": {},
   "source": [
    "# Found Outlier in The  sulphates Column. No action taken according to the assignment guideline."
   ]
  },
  {
   "cell_type": "markdown",
   "id": "00a0badf",
   "metadata": {},
   "source": [
    "# Steps for alcohol Column. (No Outlier Found.) Continue to next Column."
   ]
  },
  {
   "cell_type": "code",
   "execution_count": 26,
   "id": "35426036",
   "metadata": {},
   "outputs": [
    {
     "data": {
      "text/plain": [
       "<AxesSubplot:>"
      ]
     },
     "execution_count": 26,
     "metadata": {},
     "output_type": "execute_result"
    },
    {
     "data": {
      "image/png": "[encoded data removed]",
      "text/plain": [
       "<Figure size 432x288 with 1 Axes>"
      ]
     },
     "metadata": {
      "needs_background": "light"
     },
     "output_type": "display_data"
    }
   ],
   "source": [
    "new_data.boxplot('alcohol')"
   ]
  },
  {
   "cell_type": "markdown",
   "id": "be146c73",
   "metadata": {},
   "source": [
    "# Exploring the Processed Dataset"
   ]
  },
  {
   "cell_type": "code",
   "execution_count": 27,
   "id": "5da84ddd",
   "metadata": {},
   "outputs": [
    {
     "data": {
      "text/html": [
       "<div>\n",
       "<style scoped>\n",
       "    .dataframe tbody tr th:only-of-type {\n",
       "        vertical-align: middle;\n",
       "    }\n",
       "\n",
       "    .dataframe tbody tr th {\n",
       "        vertical-align: top;\n",
       "    }\n",
       "\n",
       "    .dataframe thead th {\n",
       "        text-align: right;\n",
       "    }\n",
       "</style>\n",
       "<table border=\"1\" class=\"dataframe\">\n",
       "  <thead>\n",
       "    <tr style=\"text-align: right;\">\n",
       "      <th></th>\n",
       "      <th>fixed_acidity</th>\n",
       "      <th>volatile_acidity</th>\n",
       "      <th>citric_acid</th>\n",
       "      <th>residual_sugar</th>\n",
       "      <th>chlorides</th>\n",
       "      <th>free_sulfur_dioxide</th>\n",
       "      <th>total_sulfur_dioxide</th>\n",
       "      <th>density</th>\n",
       "      <th>pH</th>\n",
       "      <th>sulphates</th>\n",
       "      <th>alcohol</th>\n",
       "      <th>quality</th>\n",
       "    </tr>\n",
       "  </thead>\n",
       "  <tbody>\n",
       "    <tr>\n",
       "      <th>count</th>\n",
       "      <td>2041.000000</td>\n",
       "      <td>2041.000000</td>\n",
       "      <td>2041.000000</td>\n",
       "      <td>2041.000000</td>\n",
       "      <td>2041.000000</td>\n",
       "      <td>2041.000000</td>\n",
       "      <td>2041.000000</td>\n",
       "      <td>2041.000000</td>\n",
       "      <td>2041.000000</td>\n",
       "      <td>2041.000000</td>\n",
       "      <td>2041.000000</td>\n",
       "      <td>2041.000000</td>\n",
       "    </tr>\n",
       "    <tr>\n",
       "      <th>mean</th>\n",
       "      <td>6.828006</td>\n",
       "      <td>0.268506</td>\n",
       "      <td>0.323351</td>\n",
       "      <td>6.269255</td>\n",
       "      <td>0.043103</td>\n",
       "      <td>34.687438</td>\n",
       "      <td>136.786654</td>\n",
       "      <td>0.994579</td>\n",
       "      <td>3.186531</td>\n",
       "      <td>0.481832</td>\n",
       "      <td>10.597676</td>\n",
       "      <td>5.926017</td>\n",
       "    </tr>\n",
       "    <tr>\n",
       "      <th>std</th>\n",
       "      <td>0.754573</td>\n",
       "      <td>0.088262</td>\n",
       "      <td>0.094347</td>\n",
       "      <td>4.866159</td>\n",
       "      <td>0.022571</td>\n",
       "      <td>15.219130</td>\n",
       "      <td>41.541262</td>\n",
       "      <td>0.017518</td>\n",
       "      <td>0.138781</td>\n",
       "      <td>0.100576</td>\n",
       "      <td>1.221913</td>\n",
       "      <td>0.852283</td>\n",
       "    </tr>\n",
       "    <tr>\n",
       "      <th>min</th>\n",
       "      <td>4.400000</td>\n",
       "      <td>0.080000</td>\n",
       "      <td>0.000000</td>\n",
       "      <td>0.700000</td>\n",
       "      <td>0.012000</td>\n",
       "      <td>3.000000</td>\n",
       "      <td>21.000000</td>\n",
       "      <td>0.987110</td>\n",
       "      <td>2.790000</td>\n",
       "      <td>0.220000</td>\n",
       "      <td>8.400000</td>\n",
       "      <td>2.000000</td>\n",
       "    </tr>\n",
       "    <tr>\n",
       "      <th>25%</th>\n",
       "      <td>6.300000</td>\n",
       "      <td>0.210000</td>\n",
       "      <td>0.270000</td>\n",
       "      <td>1.700000</td>\n",
       "      <td>0.035000</td>\n",
       "      <td>24.000000</td>\n",
       "      <td>107.000000</td>\n",
       "      <td>0.991530</td>\n",
       "      <td>3.090000</td>\n",
       "      <td>0.410000</td>\n",
       "      <td>9.500000</td>\n",
       "      <td>5.000000</td>\n",
       "    </tr>\n",
       "    <tr>\n",
       "      <th>50%</th>\n",
       "      <td>6.800000</td>\n",
       "      <td>0.260000</td>\n",
       "      <td>0.310000</td>\n",
       "      <td>5.300000</td>\n",
       "      <td>0.042000</td>\n",
       "      <td>34.000000</td>\n",
       "      <td>133.000000</td>\n",
       "      <td>0.993520</td>\n",
       "      <td>3.180000</td>\n",
       "      <td>0.470000</td>\n",
       "      <td>10.500000</td>\n",
       "      <td>6.000000</td>\n",
       "    </tr>\n",
       "    <tr>\n",
       "      <th>75%</th>\n",
       "      <td>7.300000</td>\n",
       "      <td>0.315000</td>\n",
       "      <td>0.380000</td>\n",
       "      <td>9.400000</td>\n",
       "      <td>0.049000</td>\n",
       "      <td>45.000000</td>\n",
       "      <td>166.000000</td>\n",
       "      <td>0.995800</td>\n",
       "      <td>3.280000</td>\n",
       "      <td>0.540000</td>\n",
       "      <td>11.433333</td>\n",
       "      <td>6.000000</td>\n",
       "    </tr>\n",
       "    <tr>\n",
       "      <th>max</th>\n",
       "      <td>8.800000</td>\n",
       "      <td>1.280000</td>\n",
       "      <td>0.570000</td>\n",
       "      <td>20.800000</td>\n",
       "      <td>0.580000</td>\n",
       "      <td>78.000000</td>\n",
       "      <td>253.000000</td>\n",
       "      <td>1.387000</td>\n",
       "      <td>3.560000</td>\n",
       "      <td>1.070000</td>\n",
       "      <td>14.200000</td>\n",
       "      <td>9.000000</td>\n",
       "    </tr>\n",
       "  </tbody>\n",
       "</table>\n",
       "</div>"
      ],
      "text/plain": [
       "       fixed_acidity  volatile_acidity  citric_acid  residual_sugar  \\\n",
       "count    2041.000000       2041.000000  2041.000000     2041.000000   \n",
       "mean        6.828006          0.268506     0.323351        6.269255   \n",
       "std         0.754573          0.088262     0.094347        4.866159   \n",
       "min         4.400000          0.080000     0.000000        0.700000   \n",
       "25%         6.300000          0.210000     0.270000        1.700000   \n",
       "50%         6.800000          0.260000     0.310000        5.300000   \n",
       "75%         7.300000          0.315000     0.380000        9.400000   \n",
       "max         8.800000          1.280000     0.570000       20.800000   \n",
       "\n",
       "         chlorides  free_sulfur_dioxide  total_sulfur_dioxide      density  \\\n",
       "count  2041.000000          2041.000000           2041.000000  2041.000000   \n",
       "mean      0.043103            34.687438            136.786654     0.994579   \n",
       "std       0.022571            15.219130             41.541262     0.017518   \n",
       "min       0.012000             3.000000             21.000000     0.987110   \n",
       "25%       0.035000            24.000000            107.000000     0.991530   \n",
       "50%       0.042000            34.000000            133.000000     0.993520   \n",
       "75%       0.049000            45.000000            166.000000     0.995800   \n",
       "max       0.580000            78.000000            253.000000     1.387000   \n",
       "\n",
       "                pH    sulphates      alcohol      quality  \n",
       "count  2041.000000  2041.000000  2041.000000  2041.000000  \n",
       "mean      3.186531     0.481832    10.597676     5.926017  \n",
       "std       0.138781     0.100576     1.221913     0.852283  \n",
       "min       2.790000     0.220000     8.400000     2.000000  \n",
       "25%       3.090000     0.410000     9.500000     5.000000  \n",
       "50%       3.180000     0.470000    10.500000     6.000000  \n",
       "75%       3.280000     0.540000    11.433333     6.000000  \n",
       "max       3.560000     1.070000    14.200000     9.000000  "
      ]
     },
     "execution_count": 27,
     "metadata": {},
     "output_type": "execute_result"
    }
   ],
   "source": [
    "# Now, let's check the information about different variables/column from the dataset:\n",
    "new_data.describe()"
   ]
  },
  {
   "cell_type": "code",
   "execution_count": 28,
   "id": "59ab4c9e",
   "metadata": {
    "scrolled": true
   },
   "outputs": [
    {
     "data": {
      "text/plain": [
       "fixed_acidity           0\n",
       "volatile_acidity        0\n",
       "citric_acid             0\n",
       "residual_sugar          0\n",
       "chlorides               0\n",
       "free_sulfur_dioxide     0\n",
       "total_sulfur_dioxide    0\n",
       "density                 0\n",
       "pH                      0\n",
       "sulphates               0\n",
       "alcohol                 0\n",
       "quality                 0\n",
       "dtype: int64"
      ]
     },
     "execution_count": 28,
     "metadata": {},
     "output_type": "execute_result"
    }
   ],
   "source": [
    "new_data.isnull().sum()"
   ]
  },
  {
   "cell_type": "markdown",
   "id": "7d1442d8",
   "metadata": {},
   "source": [
    "# Exploring the Target Variable (Data of quality Column)"
   ]
  },
  {
   "cell_type": "code",
   "execution_count": 29,
   "id": "ce5c8b44",
   "metadata": {
    "scrolled": true
   },
   "outputs": [
    {
     "data": {
      "text/plain": [
       "2.0      1\n",
       "3.0      4\n",
       "4.0     40\n",
       "5.0    590\n",
       "6.0    945\n",
       "7.0    391\n",
       "8.0     66\n",
       "9.0      4\n",
       "Name: quality, dtype: int64"
      ]
     },
     "execution_count": 29,
     "metadata": {},
     "output_type": "execute_result"
    }
   ],
   "source": [
    "new_data.quality.value_counts().sort_index()"
   ]
  },
  {
   "cell_type": "code",
   "execution_count": 30,
   "id": "97a9a120",
   "metadata": {},
   "outputs": [
    {
     "data": {
      "text/plain": [
       "array([6., 7., 5., 4., 8., 9., 3., 2.])"
      ]
     },
     "execution_count": 30,
     "metadata": {},
     "output_type": "execute_result"
    }
   ],
   "source": [
    "new_data['quality'].unique()"
   ]
  },
  {
   "cell_type": "code",
   "execution_count": 31,
   "id": "d0316c50",
   "metadata": {
    "scrolled": true
   },
   "outputs": [
    {
     "data": {
      "text/plain": [
       "0       6.0\n",
       "1       6.0\n",
       "2       7.0\n",
       "3       5.0\n",
       "4       6.0\n",
       "       ... \n",
       "2036    7.0\n",
       "2037    5.0\n",
       "2038    6.0\n",
       "2039    2.0\n",
       "2040    3.0\n",
       "Name: quality, Length: 2041, dtype: float64"
      ]
     },
     "execution_count": 31,
     "metadata": {},
     "output_type": "execute_result"
    }
   ],
   "source": [
    "new_data['quality']"
   ]
  },
  {
   "cell_type": "code",
   "execution_count": 32,
   "id": "265839ac",
   "metadata": {
    "scrolled": true
   },
   "outputs": [
    {
     "data": {
      "text/plain": [
       "<AxesSubplot:xlabel='quality', ylabel='count'>"
      ]
     },
     "execution_count": 32,
     "metadata": {},
     "output_type": "execute_result"
    },
    {
     "data": {
      "image/png": "[encoded data removed]",
      "text/plain": [
       "<Figure size 432x288 with 1 Axes>"
      ]
     },
     "metadata": {
      "needs_background": "light"
     },
     "output_type": "display_data"
    }
   ],
   "source": [
    "sns.countplot(x='quality', data=new_data)"
   ]
  },
  {
   "cell_type": "code",
   "execution_count": 33,
   "id": "8813315d",
   "metadata": {},
   "outputs": [
    {
     "data": {
      "text/plain": [
       "6.0    945\n",
       "5.0    590\n",
       "7.0    391\n",
       "8.0     66\n",
       "4.0     40\n",
       "3.0      4\n",
       "9.0      4\n",
       "2.0      1\n",
       "Name: quality, dtype: int64"
      ]
     },
     "execution_count": 33,
     "metadata": {},
     "output_type": "execute_result"
    }
   ],
   "source": [
    "\n",
    "new_data['quality'].value_counts()\n",
    "\n"
   ]
  },
  {
   "cell_type": "raw",
   "id": "7224a058",
   "metadata": {},
   "source": [
    "The above distribution shows the range for response variable (quality) is between 3 to 9."
   ]
  },
  {
   "cell_type": "code",
   "execution_count": 34,
   "id": "6de1fad3",
   "metadata": {},
   "outputs": [
    {
     "data": {
      "text/html": [
       "<div>\n",
       "<style scoped>\n",
       "    .dataframe tbody tr th:only-of-type {\n",
       "        vertical-align: middle;\n",
       "    }\n",
       "\n",
       "    .dataframe tbody tr th {\n",
       "        vertical-align: top;\n",
       "    }\n",
       "\n",
       "    .dataframe thead th {\n",
       "        text-align: right;\n",
       "    }\n",
       "</style>\n",
       "<table border=\"1\" class=\"dataframe\">\n",
       "  <thead>\n",
       "    <tr style=\"text-align: right;\">\n",
       "      <th></th>\n",
       "      <th>fixed_acidity</th>\n",
       "      <th>volatile_acidity</th>\n",
       "      <th>citric_acid</th>\n",
       "      <th>residual_sugar</th>\n",
       "      <th>chlorides</th>\n",
       "      <th>free_sulfur_dioxide</th>\n",
       "      <th>total_sulfur_dioxide</th>\n",
       "      <th>density</th>\n",
       "      <th>pH</th>\n",
       "      <th>sulphates</th>\n",
       "      <th>alcohol</th>\n",
       "      <th>quality</th>\n",
       "    </tr>\n",
       "  </thead>\n",
       "  <tbody>\n",
       "    <tr>\n",
       "      <th>count</th>\n",
       "      <td>2041.000000</td>\n",
       "      <td>2041.000000</td>\n",
       "      <td>2041.000000</td>\n",
       "      <td>2041.000000</td>\n",
       "      <td>2041.000000</td>\n",
       "      <td>2041.000000</td>\n",
       "      <td>2041.000000</td>\n",
       "      <td>2041.000000</td>\n",
       "      <td>2041.000000</td>\n",
       "      <td>2041.000000</td>\n",
       "      <td>2041.000000</td>\n",
       "      <td>2041.000000</td>\n",
       "    </tr>\n",
       "    <tr>\n",
       "      <th>mean</th>\n",
       "      <td>6.828006</td>\n",
       "      <td>0.268506</td>\n",
       "      <td>0.323351</td>\n",
       "      <td>6.269255</td>\n",
       "      <td>0.043103</td>\n",
       "      <td>34.687438</td>\n",
       "      <td>136.786654</td>\n",
       "      <td>0.994579</td>\n",
       "      <td>3.186531</td>\n",
       "      <td>0.481832</td>\n",
       "      <td>10.597676</td>\n",
       "      <td>5.926017</td>\n",
       "    </tr>\n",
       "    <tr>\n",
       "      <th>std</th>\n",
       "      <td>0.754573</td>\n",
       "      <td>0.088262</td>\n",
       "      <td>0.094347</td>\n",
       "      <td>4.866159</td>\n",
       "      <td>0.022571</td>\n",
       "      <td>15.219130</td>\n",
       "      <td>41.541262</td>\n",
       "      <td>0.017518</td>\n",
       "      <td>0.138781</td>\n",
       "      <td>0.100576</td>\n",
       "      <td>1.221913</td>\n",
       "      <td>0.852283</td>\n",
       "    </tr>\n",
       "    <tr>\n",
       "      <th>min</th>\n",
       "      <td>4.400000</td>\n",
       "      <td>0.080000</td>\n",
       "      <td>0.000000</td>\n",
       "      <td>0.700000</td>\n",
       "      <td>0.012000</td>\n",
       "      <td>3.000000</td>\n",
       "      <td>21.000000</td>\n",
       "      <td>0.987110</td>\n",
       "      <td>2.790000</td>\n",
       "      <td>0.220000</td>\n",
       "      <td>8.400000</td>\n",
       "      <td>2.000000</td>\n",
       "    </tr>\n",
       "    <tr>\n",
       "      <th>25%</th>\n",
       "      <td>6.300000</td>\n",
       "      <td>0.210000</td>\n",
       "      <td>0.270000</td>\n",
       "      <td>1.700000</td>\n",
       "      <td>0.035000</td>\n",
       "      <td>24.000000</td>\n",
       "      <td>107.000000</td>\n",
       "      <td>0.991530</td>\n",
       "      <td>3.090000</td>\n",
       "      <td>0.410000</td>\n",
       "      <td>9.500000</td>\n",
       "      <td>5.000000</td>\n",
       "    </tr>\n",
       "    <tr>\n",
       "      <th>50%</th>\n",
       "      <td>6.800000</td>\n",
       "      <td>0.260000</td>\n",
       "      <td>0.310000</td>\n",
       "      <td>5.300000</td>\n",
       "      <td>0.042000</td>\n",
       "      <td>34.000000</td>\n",
       "      <td>133.000000</td>\n",
       "      <td>0.993520</td>\n",
       "      <td>3.180000</td>\n",
       "      <td>0.470000</td>\n",
       "      <td>10.500000</td>\n",
       "      <td>6.000000</td>\n",
       "    </tr>\n",
       "    <tr>\n",
       "      <th>75%</th>\n",
       "      <td>7.300000</td>\n",
       "      <td>0.315000</td>\n",
       "      <td>0.380000</td>\n",
       "      <td>9.400000</td>\n",
       "      <td>0.049000</td>\n",
       "      <td>45.000000</td>\n",
       "      <td>166.000000</td>\n",
       "      <td>0.995800</td>\n",
       "      <td>3.280000</td>\n",
       "      <td>0.540000</td>\n",
       "      <td>11.433333</td>\n",
       "      <td>6.000000</td>\n",
       "    </tr>\n",
       "    <tr>\n",
       "      <th>max</th>\n",
       "      <td>8.800000</td>\n",
       "      <td>1.280000</td>\n",
       "      <td>0.570000</td>\n",
       "      <td>20.800000</td>\n",
       "      <td>0.580000</td>\n",
       "      <td>78.000000</td>\n",
       "      <td>253.000000</td>\n",
       "      <td>1.387000</td>\n",
       "      <td>3.560000</td>\n",
       "      <td>1.070000</td>\n",
       "      <td>14.200000</td>\n",
       "      <td>9.000000</td>\n",
       "    </tr>\n",
       "  </tbody>\n",
       "</table>\n",
       "</div>"
      ],
      "text/plain": [
       "       fixed_acidity  volatile_acidity  citric_acid  residual_sugar  \\\n",
       "count    2041.000000       2041.000000  2041.000000     2041.000000   \n",
       "mean        6.828006          0.268506     0.323351        6.269255   \n",
       "std         0.754573          0.088262     0.094347        4.866159   \n",
       "min         4.400000          0.080000     0.000000        0.700000   \n",
       "25%         6.300000          0.210000     0.270000        1.700000   \n",
       "50%         6.800000          0.260000     0.310000        5.300000   \n",
       "75%         7.300000          0.315000     0.380000        9.400000   \n",
       "max         8.800000          1.280000     0.570000       20.800000   \n",
       "\n",
       "         chlorides  free_sulfur_dioxide  total_sulfur_dioxide      density  \\\n",
       "count  2041.000000          2041.000000           2041.000000  2041.000000   \n",
       "mean      0.043103            34.687438            136.786654     0.994579   \n",
       "std       0.022571            15.219130             41.541262     0.017518   \n",
       "min       0.012000             3.000000             21.000000     0.987110   \n",
       "25%       0.035000            24.000000            107.000000     0.991530   \n",
       "50%       0.042000            34.000000            133.000000     0.993520   \n",
       "75%       0.049000            45.000000            166.000000     0.995800   \n",
       "max       0.580000            78.000000            253.000000     1.387000   \n",
       "\n",
       "                pH    sulphates      alcohol      quality  \n",
       "count  2041.000000  2041.000000  2041.000000  2041.000000  \n",
       "mean      3.186531     0.481832    10.597676     5.926017  \n",
       "std       0.138781     0.100576     1.221913     0.852283  \n",
       "min       2.790000     0.220000     8.400000     2.000000  \n",
       "25%       3.090000     0.410000     9.500000     5.000000  \n",
       "50%       3.180000     0.470000    10.500000     6.000000  \n",
       "75%       3.280000     0.540000    11.433333     6.000000  \n",
       "max       3.560000     1.070000    14.200000     9.000000  "
      ]
     },
     "execution_count": 34,
     "metadata": {},
     "output_type": "execute_result"
    }
   ],
   "source": [
    "new_data.describe()"
   ]
  },
  {
   "cell_type": "markdown",
   "id": "2be0df52",
   "metadata": {},
   "source": [
    "# Bivariate Analysis (Checking the relationship of entities with Target Variable Quality)"
   ]
  },
  {
   "cell_type": "markdown",
   "id": "45638478",
   "metadata": {},
   "source": [
    "# Fixed Acidity vs Quality"
   ]
  },
  {
   "cell_type": "code",
   "execution_count": 35,
   "id": "fef74c65",
   "metadata": {
    "scrolled": true
   },
   "outputs": [
    {
     "name": "stderr",
     "output_type": "stream",
     "text": [
      "No artists with labels found to put in legend.  Note that artists whose label start with an underscore are ignored when legend() is called with no argument.\n"
     ]
    },
    {
     "data": {
      "image/png": "[encoded data removed]",
      "text/plain": [
       "<Figure size 432x288 with 1 Axes>"
      ]
     },
     "metadata": {
      "needs_background": "light"
     },
     "output_type": "display_data"
    }
   ],
   "source": [
    "plt.scatter(new_data['quality'], new_data['fixed_acidity'], color = 'green')\n",
    "plt.title('Relation of Fixed Acidity with Wine Quality')\n",
    "plt.xlabel('Quality')\n",
    "plt.ylabel('Fixed Acidity')\n",
    "plt.legend()\n",
    "plt.show()"
   ]
  },
  {
   "cell_type": "code",
   "execution_count": 36,
   "id": "a8dc576b",
   "metadata": {},
   "outputs": [
    {
     "data": {
      "text/plain": [
       "<AxesSubplot:xlabel='quality', ylabel='fixed_acidity'>"
      ]
     },
     "execution_count": 36,
     "metadata": {},
     "output_type": "execute_result"
    },
    {
     "data": {
      "image/png": "[encoded data removed]",
      "text/plain": [
       "<Figure size 720x432 with 1 Axes>"
      ]
     },
     "metadata": {
      "needs_background": "light"
     },
     "output_type": "display_data"
    }
   ],
   "source": [
    "fig = plt.figure(figsize = (10,6))\n",
    "sns.barplot(x = 'quality', y = 'fixed_acidity', data = new_data)"
   ]
  },
  {
   "cell_type": "markdown",
   "id": "c4604dcc",
   "metadata": {},
   "source": [
    "# Alcohol vs Quality"
   ]
  },
  {
   "cell_type": "code",
   "execution_count": 37,
   "id": "70cb7e8d",
   "metadata": {},
   "outputs": [
    {
     "name": "stderr",
     "output_type": "stream",
     "text": [
      "No artists with labels found to put in legend.  Note that artists whose label start with an underscore are ignored when legend() is called with no argument.\n"
     ]
    },
    {
     "data": {
      "image/png": "[encoded data removed]",
      "text/plain": [
       "<Figure size 432x288 with 1 Axes>"
      ]
     },
     "metadata": {
      "needs_background": "light"
     },
     "output_type": "display_data"
    }
   ],
   "source": [
    "plt.bar(new_data['quality'], new_data['alcohol'], color = 'maroon')\n",
    "plt.title('Relation of Alcohol with Wine Quality')\n",
    "plt.xlabel('Quality')\n",
    "plt.ylabel('Alcohol')\n",
    "plt.legend()\n",
    "plt.show()"
   ]
  },
  {
   "cell_type": "code",
   "execution_count": 38,
   "id": "14e05b95",
   "metadata": {},
   "outputs": [
    {
     "data": {
      "text/plain": [
       "<AxesSubplot:xlabel='quality', ylabel='alcohol'>"
      ]
     },
     "execution_count": 38,
     "metadata": {},
     "output_type": "execute_result"
    },
    {
     "data": {
      "image/png": "[encoded data removed]",
      "text/plain": [
       "<Figure size 720x432 with 1 Axes>"
      ]
     },
     "metadata": {
      "needs_background": "light"
     },
     "output_type": "display_data"
    }
   ],
   "source": [
    "fig = plt.figure(figsize = (10,6))\n",
    "sns.barplot(x = 'quality', y = 'alcohol', data = new_data)"
   ]
  },
  {
   "cell_type": "markdown",
   "id": "62e12e60",
   "metadata": {},
   "source": [
    "# Volatile Acidity vs Quality"
   ]
  },
  {
   "cell_type": "code",
   "execution_count": 39,
   "id": "93abf56f",
   "metadata": {},
   "outputs": [
    {
     "data": {
      "text/plain": [
       "<AxesSubplot:xlabel='quality', ylabel='volatile_acidity'>"
      ]
     },
     "execution_count": 39,
     "metadata": {},
     "output_type": "execute_result"
    },
    {
     "data": {
      "image/png": "[encoded data removed]",
      "text/plain": [
       "<Figure size 720x432 with 1 Axes>"
      ]
     },
     "metadata": {
      "needs_background": "light"
     },
     "output_type": "display_data"
    }
   ],
   "source": [
    "fig = plt.figure(figsize = (10,6))\n",
    "sns.barplot(x = 'quality', y = 'volatile_acidity', data = new_data)"
   ]
  },
  {
   "cell_type": "markdown",
   "id": "4d346294",
   "metadata": {},
   "source": [
    "# Citric Acid vs Quality"
   ]
  },
  {
   "cell_type": "code",
   "execution_count": 40,
   "id": "65b75c76",
   "metadata": {},
   "outputs": [
    {
     "data": {
      "text/plain": [
       "<AxesSubplot:xlabel='quality', ylabel='citric_acid'>"
      ]
     },
     "execution_count": 40,
     "metadata": {},
     "output_type": "execute_result"
    },
    {
     "data": {
      "image/png": "[encoded data removed]",
      "text/plain": [
       "<Figure size 720x432 with 1 Axes>"
      ]
     },
     "metadata": {
      "needs_background": "light"
     },
     "output_type": "display_data"
    }
   ],
   "source": [
    "fig = plt.figure(figsize = (10,6))\n",
    "sns.barplot(x = 'quality', y = 'citric_acid', data = new_data)"
   ]
  },
  {
   "cell_type": "markdown",
   "id": "eb3a8dd7",
   "metadata": {},
   "source": [
    "# Residual Sugar vs Quality"
   ]
  },
  {
   "cell_type": "code",
   "execution_count": 41,
   "id": "ee5c0fd8",
   "metadata": {},
   "outputs": [
    {
     "data": {
      "text/plain": [
       "<AxesSubplot:xlabel='quality', ylabel='residual_sugar'>"
      ]
     },
     "execution_count": 41,
     "metadata": {},
     "output_type": "execute_result"
    },
    {
     "data": {
      "image/png": "[encoded data removed]",
      "text/plain": [
       "<Figure size 720x432 with 1 Axes>"
      ]
     },
     "metadata": {
      "needs_background": "light"
     },
     "output_type": "display_data"
    }
   ],
   "source": [
    "fig = plt.figure(figsize = (10,6))\n",
    "sns.barplot(x = 'quality', y = 'residual_sugar', data = new_data)"
   ]
  },
  {
   "cell_type": "markdown",
   "id": "2fc1a51d",
   "metadata": {},
   "source": [
    "# Free Sulfur Dioxide Vs Quality"
   ]
  },
  {
   "cell_type": "code",
   "execution_count": 42,
   "id": "e842ceb3",
   "metadata": {},
   "outputs": [
    {
     "data": {
      "text/plain": [
       "<AxesSubplot:xlabel='quality', ylabel='free_sulfur_dioxide'>"
      ]
     },
     "execution_count": 42,
     "metadata": {},
     "output_type": "execute_result"
    },
    {
     "data": {
      "image/png": "[encoded data removed]",
      "text/plain": [
       "<Figure size 720x432 with 1 Axes>"
      ]
     },
     "metadata": {
      "needs_background": "light"
     },
     "output_type": "display_data"
    }
   ],
   "source": [
    "fig = plt.figure(figsize = (10,6))\n",
    "sns.barplot(x = 'quality', y = 'free_sulfur_dioxide', data = new_data)"
   ]
  },
  {
   "cell_type": "markdown",
   "id": "dbfb334e",
   "metadata": {},
   "source": [
    "# Total Sulfur Dioxide Vs Quality"
   ]
  },
  {
   "cell_type": "code",
   "execution_count": 43,
   "id": "db11f77e",
   "metadata": {},
   "outputs": [
    {
     "data": {
      "text/plain": [
       "<AxesSubplot:xlabel='quality', ylabel='total_sulfur_dioxide'>"
      ]
     },
     "execution_count": 43,
     "metadata": {},
     "output_type": "execute_result"
    },
    {
     "data": {
      "image/png": "[encoded data removed]",
      "text/plain": [
       "<Figure size 720x432 with 1 Axes>"
      ]
     },
     "metadata": {
      "needs_background": "light"
     },
     "output_type": "display_data"
    }
   ],
   "source": [
    "fig = plt.figure(figsize = (10,6))\n",
    "sns.barplot(x = 'quality', y = 'total_sulfur_dioxide', data = new_data)"
   ]
  },
  {
   "cell_type": "markdown",
   "id": "d7243455",
   "metadata": {},
   "source": [
    "# Sulphates vs Quality"
   ]
  },
  {
   "cell_type": "code",
   "execution_count": 44,
   "id": "f7e0a8ef",
   "metadata": {},
   "outputs": [
    {
     "data": {
      "text/plain": [
       "<AxesSubplot:xlabel='quality', ylabel='sulphates'>"
      ]
     },
     "execution_count": 44,
     "metadata": {},
     "output_type": "execute_result"
    },
    {
     "data": {
      "image/png": "[encoded data removed]",
      "text/plain": [
       "<Figure size 720x432 with 1 Axes>"
      ]
     },
     "metadata": {
      "needs_background": "light"
     },
     "output_type": "display_data"
    }
   ],
   "source": [
    "fig = plt.figure(figsize = (10,6))\n",
    "sns.barplot(x = 'quality', y = 'sulphates', data = new_data)"
   ]
  },
  {
   "cell_type": "markdown",
   "id": "2ee54df3",
   "metadata": {},
   "source": [
    "# Density vs Quality"
   ]
  },
  {
   "cell_type": "code",
   "execution_count": 45,
   "id": "02a515df",
   "metadata": {},
   "outputs": [
    {
     "data": {
      "text/plain": [
       "<AxesSubplot:xlabel='quality', ylabel='density'>"
      ]
     },
     "execution_count": 45,
     "metadata": {},
     "output_type": "execute_result"
    },
    {
     "data": {
      "image/png": "[encoded data removed]",
      "text/plain": [
       "<Figure size 720x432 with 1 Axes>"
      ]
     },
     "metadata": {
      "needs_background": "light"
     },
     "output_type": "display_data"
    }
   ],
   "source": [
    "fig = plt.figure(figsize = (10,6))\n",
    "sns.barplot(x = 'quality', y = 'density', data = new_data)"
   ]
  },
  {
   "cell_type": "markdown",
   "id": "c5be8470",
   "metadata": {},
   "source": [
    "# pH vs Quality"
   ]
  },
  {
   "cell_type": "code",
   "execution_count": 46,
   "id": "5834b28d",
   "metadata": {},
   "outputs": [
    {
     "data": {
      "text/plain": [
       "<AxesSubplot:xlabel='quality', ylabel='pH'>"
      ]
     },
     "execution_count": 46,
     "metadata": {},
     "output_type": "execute_result"
    },
    {
     "data": {
      "image/png": "[encoded data removed]",
      "text/plain": [
       "<Figure size 720x432 with 1 Axes>"
      ]
     },
     "metadata": {
      "needs_background": "light"
     },
     "output_type": "display_data"
    }
   ],
   "source": [
    "fig = plt.figure(figsize = (10,6))\n",
    "sns.barplot(x = 'quality', y = 'pH', data = new_data)"
   ]
  },
  {
   "cell_type": "markdown",
   "id": "d6333662",
   "metadata": {},
   "source": [
    "# Chloride vs Quality"
   ]
  },
  {
   "cell_type": "code",
   "execution_count": 47,
   "id": "ffa54571",
   "metadata": {},
   "outputs": [
    {
     "data": {
      "text/plain": [
       "<AxesSubplot:xlabel='quality', ylabel='chlorides'>"
      ]
     },
     "execution_count": 47,
     "metadata": {},
     "output_type": "execute_result"
    },
    {
     "data": {
      "image/png": "[encoded data removed]",
      "text/plain": [
       "<Figure size 720x432 with 1 Axes>"
      ]
     },
     "metadata": {
      "needs_background": "light"
     },
     "output_type": "display_data"
    }
   ],
   "source": [
    "fig = plt.figure(figsize = (10,6))\n",
    "sns.barplot(x = 'quality', y = 'chlorides', data = new_data)"
   ]
  },
  {
   "cell_type": "markdown",
   "id": "518bd17e",
   "metadata": {},
   "source": [
    "# Here we can see that like the above two items do not have very strong relation to the dependent variable we have to showcase a correlation plot to check which of the items are more related to the dependent variable and which items are less related to the dependent variables."
   ]
  },
  {
   "cell_type": "markdown",
   "id": "a3e8db26",
   "metadata": {},
   "source": [
    "# Answer 5:"
   ]
  },
  {
   "cell_type": "markdown",
   "id": "dc1af3cb",
   "metadata": {},
   "source": [
    "# Selecting Dependent and Independent Variable"
   ]
  },
  {
   "cell_type": "code",
   "execution_count": 48,
   "id": "ad7d38a1",
   "metadata": {},
   "outputs": [
    {
     "data": {
      "text/html": [
       "<div>\n",
       "<style scoped>\n",
       "    .dataframe tbody tr th:only-of-type {\n",
       "        vertical-align: middle;\n",
       "    }\n",
       "\n",
       "    .dataframe tbody tr th {\n",
       "        vertical-align: top;\n",
       "    }\n",
       "\n",
       "    .dataframe thead th {\n",
       "        text-align: right;\n",
       "    }\n",
       "</style>\n",
       "<table border=\"1\" class=\"dataframe\">\n",
       "  <thead>\n",
       "    <tr style=\"text-align: right;\">\n",
       "      <th></th>\n",
       "      <th>fixed_acidity</th>\n",
       "      <th>volatile_acidity</th>\n",
       "      <th>citric_acid</th>\n",
       "      <th>residual_sugar</th>\n",
       "      <th>chlorides</th>\n",
       "      <th>free_sulfur_dioxide</th>\n",
       "      <th>total_sulfur_dioxide</th>\n",
       "      <th>density</th>\n",
       "      <th>pH</th>\n",
       "      <th>sulphates</th>\n",
       "      <th>alcohol</th>\n",
       "      <th>quality</th>\n",
       "    </tr>\n",
       "  </thead>\n",
       "  <tbody>\n",
       "    <tr>\n",
       "      <th>0</th>\n",
       "      <td>7.5</td>\n",
       "      <td>0.33</td>\n",
       "      <td>0.32</td>\n",
       "      <td>11.1</td>\n",
       "      <td>0.036</td>\n",
       "      <td>25.0</td>\n",
       "      <td>119.0</td>\n",
       "      <td>0.99620</td>\n",
       "      <td>3.15</td>\n",
       "      <td>0.34</td>\n",
       "      <td>10.5</td>\n",
       "      <td>6.0</td>\n",
       "    </tr>\n",
       "    <tr>\n",
       "      <th>1</th>\n",
       "      <td>6.3</td>\n",
       "      <td>0.27</td>\n",
       "      <td>0.29</td>\n",
       "      <td>12.2</td>\n",
       "      <td>0.044</td>\n",
       "      <td>59.0</td>\n",
       "      <td>196.0</td>\n",
       "      <td>0.99782</td>\n",
       "      <td>3.14</td>\n",
       "      <td>0.40</td>\n",
       "      <td>8.8</td>\n",
       "      <td>6.0</td>\n",
       "    </tr>\n",
       "    <tr>\n",
       "      <th>2</th>\n",
       "      <td>7.0</td>\n",
       "      <td>0.30</td>\n",
       "      <td>0.51</td>\n",
       "      <td>13.6</td>\n",
       "      <td>0.050</td>\n",
       "      <td>40.0</td>\n",
       "      <td>168.0</td>\n",
       "      <td>0.99760</td>\n",
       "      <td>3.07</td>\n",
       "      <td>0.52</td>\n",
       "      <td>9.6</td>\n",
       "      <td>7.0</td>\n",
       "    </tr>\n",
       "    <tr>\n",
       "      <th>3</th>\n",
       "      <td>7.4</td>\n",
       "      <td>0.38</td>\n",
       "      <td>0.27</td>\n",
       "      <td>7.5</td>\n",
       "      <td>0.041</td>\n",
       "      <td>24.0</td>\n",
       "      <td>160.0</td>\n",
       "      <td>0.99535</td>\n",
       "      <td>3.17</td>\n",
       "      <td>0.43</td>\n",
       "      <td>10.0</td>\n",
       "      <td>5.0</td>\n",
       "    </tr>\n",
       "    <tr>\n",
       "      <th>4</th>\n",
       "      <td>8.1</td>\n",
       "      <td>0.12</td>\n",
       "      <td>0.38</td>\n",
       "      <td>0.9</td>\n",
       "      <td>0.034</td>\n",
       "      <td>36.0</td>\n",
       "      <td>86.0</td>\n",
       "      <td>0.99026</td>\n",
       "      <td>2.80</td>\n",
       "      <td>0.55</td>\n",
       "      <td>12.0</td>\n",
       "      <td>6.0</td>\n",
       "    </tr>\n",
       "  </tbody>\n",
       "</table>\n",
       "</div>"
      ],
      "text/plain": [
       "   fixed_acidity  volatile_acidity  citric_acid  residual_sugar  chlorides  \\\n",
       "0            7.5              0.33         0.32            11.1      0.036   \n",
       "1            6.3              0.27         0.29            12.2      0.044   \n",
       "2            7.0              0.30         0.51            13.6      0.050   \n",
       "3            7.4              0.38         0.27             7.5      0.041   \n",
       "4            8.1              0.12         0.38             0.9      0.034   \n",
       "\n",
       "   free_sulfur_dioxide  total_sulfur_dioxide  density    pH  sulphates  \\\n",
       "0                 25.0                 119.0  0.99620  3.15       0.34   \n",
       "1                 59.0                 196.0  0.99782  3.14       0.40   \n",
       "2                 40.0                 168.0  0.99760  3.07       0.52   \n",
       "3                 24.0                 160.0  0.99535  3.17       0.43   \n",
       "4                 36.0                  86.0  0.99026  2.80       0.55   \n",
       "\n",
       "   alcohol  quality  \n",
       "0     10.5      6.0  \n",
       "1      8.8      6.0  \n",
       "2      9.6      7.0  \n",
       "3     10.0      5.0  \n",
       "4     12.0      6.0  "
      ]
     },
     "execution_count": 48,
     "metadata": {},
     "output_type": "execute_result"
    }
   ],
   "source": [
    "new_data.head()"
   ]
  },
  {
   "cell_type": "markdown",
   "id": "196660b5",
   "metadata": {},
   "source": [
    "# Labelling Quality using Certain Condition"
   ]
  },
  {
   "cell_type": "markdown",
   "id": "be6ddd27",
   "metadata": {},
   "source": [
    "Now, Let's reallocate the quality of wine as 0: 0 to 5 (Average quality) and 1: 6 to 10 (Good quality) from existing 'quality' variable.\n",
    "    # 0 to 5 (Average quality)\n",
    "    # 1: 6 to 10 (Good quality)"
   ]
  },
  {
   "cell_type": "code",
   "execution_count": 49,
   "id": "01d2437e",
   "metadata": {},
   "outputs": [],
   "source": [
    "new_data['quality'] = [0 if x <= 5 else 1 for x in new_data['quality']]"
   ]
  },
  {
   "cell_type": "code",
   "execution_count": 50,
   "id": "b13f97ab",
   "metadata": {
    "scrolled": true
   },
   "outputs": [
    {
     "data": {
      "text/plain": [
       "1    1406\n",
       "0     635\n",
       "Name: quality, dtype: int64"
      ]
     },
     "execution_count": 50,
     "metadata": {},
     "output_type": "execute_result"
    }
   ],
   "source": [
    "new_data['quality'].value_counts()"
   ]
  },
  {
   "cell_type": "code",
   "execution_count": 51,
   "id": "aa1227a6",
   "metadata": {},
   "outputs": [],
   "source": [
    "new_data['quality'] = new_data['quality'].map({0:'Average', 1:'Good'})"
   ]
  },
  {
   "cell_type": "code",
   "execution_count": 52,
   "id": "47040a15",
   "metadata": {
    "scrolled": true
   },
   "outputs": [
    {
     "data": {
      "text/plain": [
       "Good       1406\n",
       "Average     635\n",
       "Name: quality, dtype: int64"
      ]
     },
     "execution_count": 52,
     "metadata": {},
     "output_type": "execute_result"
    }
   ],
   "source": [
    "new_data['quality'].value_counts()"
   ]
  },
  {
   "cell_type": "code",
   "execution_count": 53,
   "id": "7eb39ef1",
   "metadata": {
    "scrolled": true
   },
   "outputs": [
    {
     "data": {
      "text/html": [
       "<div>\n",
       "<style scoped>\n",
       "    .dataframe tbody tr th:only-of-type {\n",
       "        vertical-align: middle;\n",
       "    }\n",
       "\n",
       "    .dataframe tbody tr th {\n",
       "        vertical-align: top;\n",
       "    }\n",
       "\n",
       "    .dataframe thead th {\n",
       "        text-align: right;\n",
       "    }\n",
       "</style>\n",
       "<table border=\"1\" class=\"dataframe\">\n",
       "  <thead>\n",
       "    <tr style=\"text-align: right;\">\n",
       "      <th></th>\n",
       "      <th>fixed_acidity</th>\n",
       "      <th>volatile_acidity</th>\n",
       "      <th>citric_acid</th>\n",
       "      <th>residual_sugar</th>\n",
       "      <th>chlorides</th>\n",
       "      <th>free_sulfur_dioxide</th>\n",
       "      <th>total_sulfur_dioxide</th>\n",
       "      <th>density</th>\n",
       "      <th>pH</th>\n",
       "      <th>sulphates</th>\n",
       "      <th>alcohol</th>\n",
       "      <th>quality</th>\n",
       "    </tr>\n",
       "  </thead>\n",
       "  <tbody>\n",
       "    <tr>\n",
       "      <th>0</th>\n",
       "      <td>7.5</td>\n",
       "      <td>0.33</td>\n",
       "      <td>0.32</td>\n",
       "      <td>11.1</td>\n",
       "      <td>0.036</td>\n",
       "      <td>25.0</td>\n",
       "      <td>119.0</td>\n",
       "      <td>0.99620</td>\n",
       "      <td>3.15</td>\n",
       "      <td>0.34</td>\n",
       "      <td>10.5</td>\n",
       "      <td>Good</td>\n",
       "    </tr>\n",
       "    <tr>\n",
       "      <th>1</th>\n",
       "      <td>6.3</td>\n",
       "      <td>0.27</td>\n",
       "      <td>0.29</td>\n",
       "      <td>12.2</td>\n",
       "      <td>0.044</td>\n",
       "      <td>59.0</td>\n",
       "      <td>196.0</td>\n",
       "      <td>0.99782</td>\n",
       "      <td>3.14</td>\n",
       "      <td>0.40</td>\n",
       "      <td>8.8</td>\n",
       "      <td>Good</td>\n",
       "    </tr>\n",
       "    <tr>\n",
       "      <th>2</th>\n",
       "      <td>7.0</td>\n",
       "      <td>0.30</td>\n",
       "      <td>0.51</td>\n",
       "      <td>13.6</td>\n",
       "      <td>0.050</td>\n",
       "      <td>40.0</td>\n",
       "      <td>168.0</td>\n",
       "      <td>0.99760</td>\n",
       "      <td>3.07</td>\n",
       "      <td>0.52</td>\n",
       "      <td>9.6</td>\n",
       "      <td>Good</td>\n",
       "    </tr>\n",
       "    <tr>\n",
       "      <th>3</th>\n",
       "      <td>7.4</td>\n",
       "      <td>0.38</td>\n",
       "      <td>0.27</td>\n",
       "      <td>7.5</td>\n",
       "      <td>0.041</td>\n",
       "      <td>24.0</td>\n",
       "      <td>160.0</td>\n",
       "      <td>0.99535</td>\n",
       "      <td>3.17</td>\n",
       "      <td>0.43</td>\n",
       "      <td>10.0</td>\n",
       "      <td>Average</td>\n",
       "    </tr>\n",
       "    <tr>\n",
       "      <th>4</th>\n",
       "      <td>8.1</td>\n",
       "      <td>0.12</td>\n",
       "      <td>0.38</td>\n",
       "      <td>0.9</td>\n",
       "      <td>0.034</td>\n",
       "      <td>36.0</td>\n",
       "      <td>86.0</td>\n",
       "      <td>0.99026</td>\n",
       "      <td>2.80</td>\n",
       "      <td>0.55</td>\n",
       "      <td>12.0</td>\n",
       "      <td>Good</td>\n",
       "    </tr>\n",
       "  </tbody>\n",
       "</table>\n",
       "</div>"
      ],
      "text/plain": [
       "   fixed_acidity  volatile_acidity  citric_acid  residual_sugar  chlorides  \\\n",
       "0            7.5              0.33         0.32            11.1      0.036   \n",
       "1            6.3              0.27         0.29            12.2      0.044   \n",
       "2            7.0              0.30         0.51            13.6      0.050   \n",
       "3            7.4              0.38         0.27             7.5      0.041   \n",
       "4            8.1              0.12         0.38             0.9      0.034   \n",
       "\n",
       "   free_sulfur_dioxide  total_sulfur_dioxide  density    pH  sulphates  \\\n",
       "0                 25.0                 119.0  0.99620  3.15       0.34   \n",
       "1                 59.0                 196.0  0.99782  3.14       0.40   \n",
       "2                 40.0                 168.0  0.99760  3.07       0.52   \n",
       "3                 24.0                 160.0  0.99535  3.17       0.43   \n",
       "4                 36.0                  86.0  0.99026  2.80       0.55   \n",
       "\n",
       "   alcohol  quality  \n",
       "0     10.5     Good  \n",
       "1      8.8     Good  \n",
       "2      9.6     Good  \n",
       "3     10.0  Average  \n",
       "4     12.0     Good  "
      ]
     },
     "execution_count": 53,
     "metadata": {},
     "output_type": "execute_result"
    }
   ],
   "source": [
    "new_data.head()"
   ]
  },
  {
   "cell_type": "markdown",
   "id": "8e007ded",
   "metadata": {},
   "source": [
    "# Label Encoding on Categorical Values"
   ]
  },
  {
   "cell_type": "code",
   "execution_count": 54,
   "id": "ffa81cd3",
   "metadata": {},
   "outputs": [
    {
     "name": "stdout",
     "output_type": "stream",
     "text": [
      "0       1\n",
      "1       1\n",
      "2       1\n",
      "3       0\n",
      "4       1\n",
      "       ..\n",
      "2036    1\n",
      "2037    0\n",
      "2038    1\n",
      "2039    0\n",
      "2040    0\n",
      "Name: quality, Length: 2041, dtype: int32\n"
     ]
    }
   ],
   "source": [
    "# converting the probable categorical value into binary form for ease of operation\n",
    "from sklearn.preprocessing import LabelEncoder\n",
    "lb = LabelEncoder() \n",
    "new_data['quality'] = lb.fit_transform(new_data['quality'])\n",
    "print(new_data['quality'])"
   ]
  },
  {
   "cell_type": "code",
   "execution_count": 55,
   "id": "56b29647",
   "metadata": {},
   "outputs": [
    {
     "name": "stderr",
     "output_type": "stream",
     "text": [
      "C:\\Users\\manoj\\anaconda3\\envs\\juds\\lib\\site-packages\\seaborn\\_decorators.py:43: FutureWarning: Pass the following variable as a keyword arg: x. From version 0.12, the only valid positional argument will be `data`, and passing other arguments without an explicit keyword will result in an error or misinterpretation.\n",
      "  FutureWarning\n"
     ]
    },
    {
     "data": {
      "text/plain": [
       "<AxesSubplot:xlabel='quality', ylabel='count'>"
      ]
     },
     "execution_count": 55,
     "metadata": {},
     "output_type": "execute_result"
    },
    {
     "data": {
      "image/png": "[encoded data removed]",
      "text/plain": [
       "<Figure size 432x288 with 1 Axes>"
      ]
     },
     "metadata": {
      "needs_background": "light"
     },
     "output_type": "display_data"
    }
   ],
   "source": [
    "sns.countplot(new_data['quality'])"
   ]
  },
  {
   "cell_type": "markdown",
   "id": "5db9db8c",
   "metadata": {},
   "source": [
    "# Checking Processed DataSet Status"
   ]
  },
  {
   "cell_type": "code",
   "execution_count": 56,
   "id": "56810b5b",
   "metadata": {},
   "outputs": [
    {
     "data": {
      "text/html": [
       "<div>\n",
       "<style scoped>\n",
       "    .dataframe tbody tr th:only-of-type {\n",
       "        vertical-align: middle;\n",
       "    }\n",
       "\n",
       "    .dataframe tbody tr th {\n",
       "        vertical-align: top;\n",
       "    }\n",
       "\n",
       "    .dataframe thead th {\n",
       "        text-align: right;\n",
       "    }\n",
       "</style>\n",
       "<table border=\"1\" class=\"dataframe\">\n",
       "  <thead>\n",
       "    <tr style=\"text-align: right;\">\n",
       "      <th></th>\n",
       "      <th>fixed_acidity</th>\n",
       "      <th>volatile_acidity</th>\n",
       "      <th>citric_acid</th>\n",
       "      <th>residual_sugar</th>\n",
       "      <th>chlorides</th>\n",
       "      <th>free_sulfur_dioxide</th>\n",
       "      <th>total_sulfur_dioxide</th>\n",
       "      <th>density</th>\n",
       "      <th>pH</th>\n",
       "      <th>sulphates</th>\n",
       "      <th>alcohol</th>\n",
       "      <th>quality</th>\n",
       "    </tr>\n",
       "  </thead>\n",
       "  <tbody>\n",
       "    <tr>\n",
       "      <th>0</th>\n",
       "      <td>7.5</td>\n",
       "      <td>0.33</td>\n",
       "      <td>0.32</td>\n",
       "      <td>11.1</td>\n",
       "      <td>0.036</td>\n",
       "      <td>25.0</td>\n",
       "      <td>119.0</td>\n",
       "      <td>0.99620</td>\n",
       "      <td>3.15</td>\n",
       "      <td>0.34</td>\n",
       "      <td>10.5</td>\n",
       "      <td>1</td>\n",
       "    </tr>\n",
       "    <tr>\n",
       "      <th>1</th>\n",
       "      <td>6.3</td>\n",
       "      <td>0.27</td>\n",
       "      <td>0.29</td>\n",
       "      <td>12.2</td>\n",
       "      <td>0.044</td>\n",
       "      <td>59.0</td>\n",
       "      <td>196.0</td>\n",
       "      <td>0.99782</td>\n",
       "      <td>3.14</td>\n",
       "      <td>0.40</td>\n",
       "      <td>8.8</td>\n",
       "      <td>1</td>\n",
       "    </tr>\n",
       "    <tr>\n",
       "      <th>2</th>\n",
       "      <td>7.0</td>\n",
       "      <td>0.30</td>\n",
       "      <td>0.51</td>\n",
       "      <td>13.6</td>\n",
       "      <td>0.050</td>\n",
       "      <td>40.0</td>\n",
       "      <td>168.0</td>\n",
       "      <td>0.99760</td>\n",
       "      <td>3.07</td>\n",
       "      <td>0.52</td>\n",
       "      <td>9.6</td>\n",
       "      <td>1</td>\n",
       "    </tr>\n",
       "    <tr>\n",
       "      <th>3</th>\n",
       "      <td>7.4</td>\n",
       "      <td>0.38</td>\n",
       "      <td>0.27</td>\n",
       "      <td>7.5</td>\n",
       "      <td>0.041</td>\n",
       "      <td>24.0</td>\n",
       "      <td>160.0</td>\n",
       "      <td>0.99535</td>\n",
       "      <td>3.17</td>\n",
       "      <td>0.43</td>\n",
       "      <td>10.0</td>\n",
       "      <td>0</td>\n",
       "    </tr>\n",
       "    <tr>\n",
       "      <th>4</th>\n",
       "      <td>8.1</td>\n",
       "      <td>0.12</td>\n",
       "      <td>0.38</td>\n",
       "      <td>0.9</td>\n",
       "      <td>0.034</td>\n",
       "      <td>36.0</td>\n",
       "      <td>86.0</td>\n",
       "      <td>0.99026</td>\n",
       "      <td>2.80</td>\n",
       "      <td>0.55</td>\n",
       "      <td>12.0</td>\n",
       "      <td>1</td>\n",
       "    </tr>\n",
       "  </tbody>\n",
       "</table>\n",
       "</div>"
      ],
      "text/plain": [
       "   fixed_acidity  volatile_acidity  citric_acid  residual_sugar  chlorides  \\\n",
       "0            7.5              0.33         0.32            11.1      0.036   \n",
       "1            6.3              0.27         0.29            12.2      0.044   \n",
       "2            7.0              0.30         0.51            13.6      0.050   \n",
       "3            7.4              0.38         0.27             7.5      0.041   \n",
       "4            8.1              0.12         0.38             0.9      0.034   \n",
       "\n",
       "   free_sulfur_dioxide  total_sulfur_dioxide  density    pH  sulphates  \\\n",
       "0                 25.0                 119.0  0.99620  3.15       0.34   \n",
       "1                 59.0                 196.0  0.99782  3.14       0.40   \n",
       "2                 40.0                 168.0  0.99760  3.07       0.52   \n",
       "3                 24.0                 160.0  0.99535  3.17       0.43   \n",
       "4                 36.0                  86.0  0.99026  2.80       0.55   \n",
       "\n",
       "   alcohol  quality  \n",
       "0     10.5        1  \n",
       "1      8.8        1  \n",
       "2      9.6        1  \n",
       "3     10.0        0  \n",
       "4     12.0        1  "
      ]
     },
     "execution_count": 56,
     "metadata": {},
     "output_type": "execute_result"
    }
   ],
   "source": [
    "new_data.head()"
   ]
  },
  {
   "cell_type": "code",
   "execution_count": 57,
   "id": "a58ea097",
   "metadata": {},
   "outputs": [],
   "source": [
    "X = new_data.drop(\"quality\",axis=1)"
   ]
  },
  {
   "cell_type": "code",
   "execution_count": 58,
   "id": "23368a28",
   "metadata": {},
   "outputs": [
    {
     "data": {
      "text/html": [
       "<div>\n",
       "<style scoped>\n",
       "    .dataframe tbody tr th:only-of-type {\n",
       "        vertical-align: middle;\n",
       "    }\n",
       "\n",
       "    .dataframe tbody tr th {\n",
       "        vertical-align: top;\n",
       "    }\n",
       "\n",
       "    .dataframe thead th {\n",
       "        text-align: right;\n",
       "    }\n",
       "</style>\n",
       "<table border=\"1\" class=\"dataframe\">\n",
       "  <thead>\n",
       "    <tr style=\"text-align: right;\">\n",
       "      <th></th>\n",
       "      <th>fixed_acidity</th>\n",
       "      <th>volatile_acidity</th>\n",
       "      <th>citric_acid</th>\n",
       "      <th>residual_sugar</th>\n",
       "      <th>chlorides</th>\n",
       "      <th>free_sulfur_dioxide</th>\n",
       "      <th>total_sulfur_dioxide</th>\n",
       "      <th>density</th>\n",
       "      <th>pH</th>\n",
       "      <th>sulphates</th>\n",
       "      <th>alcohol</th>\n",
       "    </tr>\n",
       "  </thead>\n",
       "  <tbody>\n",
       "    <tr>\n",
       "      <th>0</th>\n",
       "      <td>7.50</td>\n",
       "      <td>0.33</td>\n",
       "      <td>0.32</td>\n",
       "      <td>11.1</td>\n",
       "      <td>0.036</td>\n",
       "      <td>25.00</td>\n",
       "      <td>119.00</td>\n",
       "      <td>0.99620</td>\n",
       "      <td>3.15</td>\n",
       "      <td>0.34</td>\n",
       "      <td>10.50</td>\n",
       "    </tr>\n",
       "    <tr>\n",
       "      <th>1</th>\n",
       "      <td>6.30</td>\n",
       "      <td>0.27</td>\n",
       "      <td>0.29</td>\n",
       "      <td>12.2</td>\n",
       "      <td>0.044</td>\n",
       "      <td>59.00</td>\n",
       "      <td>196.00</td>\n",
       "      <td>0.99782</td>\n",
       "      <td>3.14</td>\n",
       "      <td>0.40</td>\n",
       "      <td>8.80</td>\n",
       "    </tr>\n",
       "    <tr>\n",
       "      <th>2</th>\n",
       "      <td>7.00</td>\n",
       "      <td>0.30</td>\n",
       "      <td>0.51</td>\n",
       "      <td>13.6</td>\n",
       "      <td>0.050</td>\n",
       "      <td>40.00</td>\n",
       "      <td>168.00</td>\n",
       "      <td>0.99760</td>\n",
       "      <td>3.07</td>\n",
       "      <td>0.52</td>\n",
       "      <td>9.60</td>\n",
       "    </tr>\n",
       "    <tr>\n",
       "      <th>3</th>\n",
       "      <td>7.40</td>\n",
       "      <td>0.38</td>\n",
       "      <td>0.27</td>\n",
       "      <td>7.5</td>\n",
       "      <td>0.041</td>\n",
       "      <td>24.00</td>\n",
       "      <td>160.00</td>\n",
       "      <td>0.99535</td>\n",
       "      <td>3.17</td>\n",
       "      <td>0.43</td>\n",
       "      <td>10.00</td>\n",
       "    </tr>\n",
       "    <tr>\n",
       "      <th>4</th>\n",
       "      <td>8.10</td>\n",
       "      <td>0.12</td>\n",
       "      <td>0.38</td>\n",
       "      <td>0.9</td>\n",
       "      <td>0.034</td>\n",
       "      <td>36.00</td>\n",
       "      <td>86.00</td>\n",
       "      <td>0.99026</td>\n",
       "      <td>2.80</td>\n",
       "      <td>0.55</td>\n",
       "      <td>12.00</td>\n",
       "    </tr>\n",
       "    <tr>\n",
       "      <th>...</th>\n",
       "      <td>...</td>\n",
       "      <td>...</td>\n",
       "      <td>...</td>\n",
       "      <td>...</td>\n",
       "      <td>...</td>\n",
       "      <td>...</td>\n",
       "      <td>...</td>\n",
       "      <td>...</td>\n",
       "      <td>...</td>\n",
       "      <td>...</td>\n",
       "      <td>...</td>\n",
       "    </tr>\n",
       "    <tr>\n",
       "      <th>2036</th>\n",
       "      <td>5.70</td>\n",
       "      <td>0.22</td>\n",
       "      <td>0.28</td>\n",
       "      <td>1.3</td>\n",
       "      <td>0.027</td>\n",
       "      <td>26.00</td>\n",
       "      <td>101.00</td>\n",
       "      <td>0.98948</td>\n",
       "      <td>3.35</td>\n",
       "      <td>0.38</td>\n",
       "      <td>12.50</td>\n",
       "    </tr>\n",
       "    <tr>\n",
       "      <th>2037</th>\n",
       "      <td>8.19</td>\n",
       "      <td>1.27</td>\n",
       "      <td>0.39</td>\n",
       "      <td>1.9</td>\n",
       "      <td>0.480</td>\n",
       "      <td>25.39</td>\n",
       "      <td>67.39</td>\n",
       "      <td>1.38100</td>\n",
       "      <td>3.22</td>\n",
       "      <td>1.07</td>\n",
       "      <td>10.19</td>\n",
       "    </tr>\n",
       "    <tr>\n",
       "      <th>2038</th>\n",
       "      <td>7.59</td>\n",
       "      <td>1.22</td>\n",
       "      <td>0.40</td>\n",
       "      <td>2.2</td>\n",
       "      <td>0.580</td>\n",
       "      <td>15.39</td>\n",
       "      <td>60.39</td>\n",
       "      <td>1.38600</td>\n",
       "      <td>3.52</td>\n",
       "      <td>0.94</td>\n",
       "      <td>9.99</td>\n",
       "    </tr>\n",
       "    <tr>\n",
       "      <th>2039</th>\n",
       "      <td>8.29</td>\n",
       "      <td>1.28</td>\n",
       "      <td>0.40</td>\n",
       "      <td>1.7</td>\n",
       "      <td>0.470</td>\n",
       "      <td>22.39</td>\n",
       "      <td>57.39</td>\n",
       "      <td>1.38700</td>\n",
       "      <td>3.26</td>\n",
       "      <td>1.03</td>\n",
       "      <td>10.19</td>\n",
       "    </tr>\n",
       "    <tr>\n",
       "      <th>2040</th>\n",
       "      <td>8.09</td>\n",
       "      <td>1.25</td>\n",
       "      <td>0.41</td>\n",
       "      <td>2.3</td>\n",
       "      <td>0.460</td>\n",
       "      <td>11.39</td>\n",
       "      <td>38.39</td>\n",
       "      <td>1.38400</td>\n",
       "      <td>3.12</td>\n",
       "      <td>0.47</td>\n",
       "      <td>9.79</td>\n",
       "    </tr>\n",
       "  </tbody>\n",
       "</table>\n",
       "<p>2041 rows × 11 columns</p>\n",
       "</div>"
      ],
      "text/plain": [
       "      fixed_acidity  volatile_acidity  citric_acid  residual_sugar  chlorides  \\\n",
       "0              7.50              0.33         0.32            11.1      0.036   \n",
       "1              6.30              0.27         0.29            12.2      0.044   \n",
       "2              7.00              0.30         0.51            13.6      0.050   \n",
       "3              7.40              0.38         0.27             7.5      0.041   \n",
       "4              8.10              0.12         0.38             0.9      0.034   \n",
       "...             ...               ...          ...             ...        ...   \n",
       "2036           5.70              0.22         0.28             1.3      0.027   \n",
       "2037           8.19              1.27         0.39             1.9      0.480   \n",
       "2038           7.59              1.22         0.40             2.2      0.580   \n",
       "2039           8.29              1.28         0.40             1.7      0.470   \n",
       "2040           8.09              1.25         0.41             2.3      0.460   \n",
       "\n",
       "      free_sulfur_dioxide  total_sulfur_dioxide  density    pH  sulphates  \\\n",
       "0                   25.00                119.00  0.99620  3.15       0.34   \n",
       "1                   59.00                196.00  0.99782  3.14       0.40   \n",
       "2                   40.00                168.00  0.99760  3.07       0.52   \n",
       "3                   24.00                160.00  0.99535  3.17       0.43   \n",
       "4                   36.00                 86.00  0.99026  2.80       0.55   \n",
       "...                   ...                   ...      ...   ...        ...   \n",
       "2036                26.00                101.00  0.98948  3.35       0.38   \n",
       "2037                25.39                 67.39  1.38100  3.22       1.07   \n",
       "2038                15.39                 60.39  1.38600  3.52       0.94   \n",
       "2039                22.39                 57.39  1.38700  3.26       1.03   \n",
       "2040                11.39                 38.39  1.38400  3.12       0.47   \n",
       "\n",
       "      alcohol  \n",
       "0       10.50  \n",
       "1        8.80  \n",
       "2        9.60  \n",
       "3       10.00  \n",
       "4       12.00  \n",
       "...       ...  \n",
       "2036    12.50  \n",
       "2037    10.19  \n",
       "2038     9.99  \n",
       "2039    10.19  \n",
       "2040     9.79  \n",
       "\n",
       "[2041 rows x 11 columns]"
      ]
     },
     "execution_count": 58,
     "metadata": {},
     "output_type": "execute_result"
    }
   ],
   "source": [
    "X"
   ]
  },
  {
   "cell_type": "code",
   "execution_count": 59,
   "id": "cf4e806a",
   "metadata": {},
   "outputs": [],
   "source": [
    "y = new_data[\"quality\"] "
   ]
  },
  {
   "cell_type": "code",
   "execution_count": 60,
   "id": "e8f33b06",
   "metadata": {},
   "outputs": [
    {
     "data": {
      "text/plain": [
       "0       1\n",
       "1       1\n",
       "2       1\n",
       "3       0\n",
       "4       1\n",
       "       ..\n",
       "2036    1\n",
       "2037    0\n",
       "2038    1\n",
       "2039    0\n",
       "2040    0\n",
       "Name: quality, Length: 2041, dtype: int32"
      ]
     },
     "execution_count": 60,
     "metadata": {},
     "output_type": "execute_result"
    }
   ],
   "source": [
    "y"
   ]
  },
  {
   "cell_type": "code",
   "execution_count": 61,
   "id": "d875f774",
   "metadata": {},
   "outputs": [
    {
     "data": {
      "text/html": [
       "<div>\n",
       "<style scoped>\n",
       "    .dataframe tbody tr th:only-of-type {\n",
       "        vertical-align: middle;\n",
       "    }\n",
       "\n",
       "    .dataframe tbody tr th {\n",
       "        vertical-align: top;\n",
       "    }\n",
       "\n",
       "    .dataframe thead th {\n",
       "        text-align: right;\n",
       "    }\n",
       "</style>\n",
       "<table border=\"1\" class=\"dataframe\">\n",
       "  <thead>\n",
       "    <tr style=\"text-align: right;\">\n",
       "      <th></th>\n",
       "      <th>fixed_acidity</th>\n",
       "      <th>volatile_acidity</th>\n",
       "      <th>citric_acid</th>\n",
       "      <th>residual_sugar</th>\n",
       "      <th>chlorides</th>\n",
       "      <th>free_sulfur_dioxide</th>\n",
       "      <th>total_sulfur_dioxide</th>\n",
       "      <th>density</th>\n",
       "      <th>pH</th>\n",
       "      <th>sulphates</th>\n",
       "      <th>alcohol</th>\n",
       "      <th>quality</th>\n",
       "    </tr>\n",
       "  </thead>\n",
       "  <tbody>\n",
       "    <tr>\n",
       "      <th>0</th>\n",
       "      <td>7.5</td>\n",
       "      <td>0.33</td>\n",
       "      <td>0.32</td>\n",
       "      <td>11.1</td>\n",
       "      <td>0.036</td>\n",
       "      <td>25.0</td>\n",
       "      <td>119.0</td>\n",
       "      <td>0.99620</td>\n",
       "      <td>3.15</td>\n",
       "      <td>0.34</td>\n",
       "      <td>10.5</td>\n",
       "      <td>1</td>\n",
       "    </tr>\n",
       "    <tr>\n",
       "      <th>1</th>\n",
       "      <td>6.3</td>\n",
       "      <td>0.27</td>\n",
       "      <td>0.29</td>\n",
       "      <td>12.2</td>\n",
       "      <td>0.044</td>\n",
       "      <td>59.0</td>\n",
       "      <td>196.0</td>\n",
       "      <td>0.99782</td>\n",
       "      <td>3.14</td>\n",
       "      <td>0.40</td>\n",
       "      <td>8.8</td>\n",
       "      <td>1</td>\n",
       "    </tr>\n",
       "    <tr>\n",
       "      <th>2</th>\n",
       "      <td>7.0</td>\n",
       "      <td>0.30</td>\n",
       "      <td>0.51</td>\n",
       "      <td>13.6</td>\n",
       "      <td>0.050</td>\n",
       "      <td>40.0</td>\n",
       "      <td>168.0</td>\n",
       "      <td>0.99760</td>\n",
       "      <td>3.07</td>\n",
       "      <td>0.52</td>\n",
       "      <td>9.6</td>\n",
       "      <td>1</td>\n",
       "    </tr>\n",
       "    <tr>\n",
       "      <th>3</th>\n",
       "      <td>7.4</td>\n",
       "      <td>0.38</td>\n",
       "      <td>0.27</td>\n",
       "      <td>7.5</td>\n",
       "      <td>0.041</td>\n",
       "      <td>24.0</td>\n",
       "      <td>160.0</td>\n",
       "      <td>0.99535</td>\n",
       "      <td>3.17</td>\n",
       "      <td>0.43</td>\n",
       "      <td>10.0</td>\n",
       "      <td>0</td>\n",
       "    </tr>\n",
       "    <tr>\n",
       "      <th>4</th>\n",
       "      <td>8.1</td>\n",
       "      <td>0.12</td>\n",
       "      <td>0.38</td>\n",
       "      <td>0.9</td>\n",
       "      <td>0.034</td>\n",
       "      <td>36.0</td>\n",
       "      <td>86.0</td>\n",
       "      <td>0.99026</td>\n",
       "      <td>2.80</td>\n",
       "      <td>0.55</td>\n",
       "      <td>12.0</td>\n",
       "      <td>1</td>\n",
       "    </tr>\n",
       "  </tbody>\n",
       "</table>\n",
       "</div>"
      ],
      "text/plain": [
       "   fixed_acidity  volatile_acidity  citric_acid  residual_sugar  chlorides  \\\n",
       "0            7.5              0.33         0.32            11.1      0.036   \n",
       "1            6.3              0.27         0.29            12.2      0.044   \n",
       "2            7.0              0.30         0.51            13.6      0.050   \n",
       "3            7.4              0.38         0.27             7.5      0.041   \n",
       "4            8.1              0.12         0.38             0.9      0.034   \n",
       "\n",
       "   free_sulfur_dioxide  total_sulfur_dioxide  density    pH  sulphates  \\\n",
       "0                 25.0                 119.0  0.99620  3.15       0.34   \n",
       "1                 59.0                 196.0  0.99782  3.14       0.40   \n",
       "2                 40.0                 168.0  0.99760  3.07       0.52   \n",
       "3                 24.0                 160.0  0.99535  3.17       0.43   \n",
       "4                 36.0                  86.0  0.99026  2.80       0.55   \n",
       "\n",
       "   alcohol  quality  \n",
       "0     10.5        1  \n",
       "1      8.8        1  \n",
       "2      9.6        1  \n",
       "3     10.0        0  \n",
       "4     12.0        1  "
      ]
     },
     "execution_count": 61,
     "metadata": {},
     "output_type": "execute_result"
    }
   ],
   "source": [
    "new_data.head()"
   ]
  },
  {
   "cell_type": "markdown",
   "id": "052b3f2b",
   "metadata": {},
   "source": [
    "# Separate dataset into train and test"
   ]
  },
  {
   "cell_type": "code",
   "execution_count": 62,
   "id": "28d949de",
   "metadata": {},
   "outputs": [
    {
     "data": {
      "text/plain": [
       "((1428, 11), (613, 11))"
      ]
     },
     "execution_count": 62,
     "metadata": {},
     "output_type": "execute_result"
    }
   ],
   "source": [
    "# separate dataset into train and test\n",
    "from sklearn.model_selection import train_test_split\n",
    "X_train, X_test, y_train, y_test = train_test_split(\n",
    "    X,\n",
    "    y,\n",
    "    test_size=0.3,\n",
    "    random_state=0)\n",
    "\n",
    "X_train.shape, X_test.shape\n",
    "\n"
   ]
  },
  {
   "cell_type": "code",
   "execution_count": 63,
   "id": "ce704d11",
   "metadata": {},
   "outputs": [
    {
     "data": {
      "text/html": [
       "<div>\n",
       "<style scoped>\n",
       "    .dataframe tbody tr th:only-of-type {\n",
       "        vertical-align: middle;\n",
       "    }\n",
       "\n",
       "    .dataframe tbody tr th {\n",
       "        vertical-align: top;\n",
       "    }\n",
       "\n",
       "    .dataframe thead th {\n",
       "        text-align: right;\n",
       "    }\n",
       "</style>\n",
       "<table border=\"1\" class=\"dataframe\">\n",
       "  <thead>\n",
       "    <tr style=\"text-align: right;\">\n",
       "      <th></th>\n",
       "      <th>fixed_acidity</th>\n",
       "      <th>volatile_acidity</th>\n",
       "      <th>citric_acid</th>\n",
       "      <th>residual_sugar</th>\n",
       "      <th>chlorides</th>\n",
       "      <th>free_sulfur_dioxide</th>\n",
       "      <th>total_sulfur_dioxide</th>\n",
       "      <th>density</th>\n",
       "      <th>pH</th>\n",
       "      <th>sulphates</th>\n",
       "      <th>alcohol</th>\n",
       "    </tr>\n",
       "  </thead>\n",
       "  <tbody>\n",
       "    <tr>\n",
       "      <th>fixed_acidity</th>\n",
       "      <td>1.000000</td>\n",
       "      <td>-0.051385</td>\n",
       "      <td>0.227084</td>\n",
       "      <td>0.056966</td>\n",
       "      <td>0.091914</td>\n",
       "      <td>-0.045172</td>\n",
       "      <td>0.043878</td>\n",
       "      <td>0.113393</td>\n",
       "      <td>-0.402376</td>\n",
       "      <td>0.021895</td>\n",
       "      <td>-0.123096</td>\n",
       "    </tr>\n",
       "    <tr>\n",
       "      <th>volatile_acidity</th>\n",
       "      <td>-0.051385</td>\n",
       "      <td>1.000000</td>\n",
       "      <td>-0.130374</td>\n",
       "      <td>0.069165</td>\n",
       "      <td>0.238197</td>\n",
       "      <td>-0.055189</td>\n",
       "      <td>0.056822</td>\n",
       "      <td>0.316719</td>\n",
       "      <td>-0.016707</td>\n",
       "      <td>0.039358</td>\n",
       "      <td>0.101045</td>\n",
       "    </tr>\n",
       "    <tr>\n",
       "      <th>citric_acid</th>\n",
       "      <td>0.227084</td>\n",
       "      <td>-0.130374</td>\n",
       "      <td>1.000000</td>\n",
       "      <td>0.071305</td>\n",
       "      <td>0.029437</td>\n",
       "      <td>0.089565</td>\n",
       "      <td>0.106900</td>\n",
       "      <td>0.047979</td>\n",
       "      <td>-0.130977</td>\n",
       "      <td>0.059912</td>\n",
       "      <td>-0.026552</td>\n",
       "    </tr>\n",
       "    <tr>\n",
       "      <th>residual_sugar</th>\n",
       "      <td>0.056966</td>\n",
       "      <td>0.069165</td>\n",
       "      <td>0.071305</td>\n",
       "      <td>1.000000</td>\n",
       "      <td>0.165936</td>\n",
       "      <td>0.346436</td>\n",
       "      <td>0.431833</td>\n",
       "      <td>0.199698</td>\n",
       "      <td>-0.178468</td>\n",
       "      <td>-0.028943</td>\n",
       "      <td>-0.479890</td>\n",
       "    </tr>\n",
       "    <tr>\n",
       "      <th>chlorides</th>\n",
       "      <td>0.091914</td>\n",
       "      <td>0.238197</td>\n",
       "      <td>0.029437</td>\n",
       "      <td>0.165936</td>\n",
       "      <td>1.000000</td>\n",
       "      <td>0.095469</td>\n",
       "      <td>0.220436</td>\n",
       "      <td>0.812733</td>\n",
       "      <td>-0.009622</td>\n",
       "      <td>0.168652</td>\n",
       "      <td>-0.384005</td>\n",
       "    </tr>\n",
       "    <tr>\n",
       "      <th>free_sulfur_dioxide</th>\n",
       "      <td>-0.045172</td>\n",
       "      <td>-0.055189</td>\n",
       "      <td>0.089565</td>\n",
       "      <td>0.346436</td>\n",
       "      <td>0.095469</td>\n",
       "      <td>1.000000</td>\n",
       "      <td>0.644727</td>\n",
       "      <td>0.070500</td>\n",
       "      <td>-0.012678</td>\n",
       "      <td>0.029419</td>\n",
       "      <td>-0.267487</td>\n",
       "    </tr>\n",
       "    <tr>\n",
       "      <th>total_sulfur_dioxide</th>\n",
       "      <td>0.043878</td>\n",
       "      <td>0.056822</td>\n",
       "      <td>0.106900</td>\n",
       "      <td>0.431833</td>\n",
       "      <td>0.220436</td>\n",
       "      <td>0.644727</td>\n",
       "      <td>1.000000</td>\n",
       "      <td>0.102492</td>\n",
       "      <td>-0.005769</td>\n",
       "      <td>0.141399</td>\n",
       "      <td>-0.489106</td>\n",
       "    </tr>\n",
       "    <tr>\n",
       "      <th>density</th>\n",
       "      <td>0.113393</td>\n",
       "      <td>0.316719</td>\n",
       "      <td>0.047979</td>\n",
       "      <td>0.199698</td>\n",
       "      <td>0.812733</td>\n",
       "      <td>0.070500</td>\n",
       "      <td>0.102492</td>\n",
       "      <td>1.000000</td>\n",
       "      <td>-0.009424</td>\n",
       "      <td>0.170959</td>\n",
       "      <td>-0.226934</td>\n",
       "    </tr>\n",
       "    <tr>\n",
       "      <th>pH</th>\n",
       "      <td>-0.402376</td>\n",
       "      <td>-0.016707</td>\n",
       "      <td>-0.130977</td>\n",
       "      <td>-0.178468</td>\n",
       "      <td>-0.009622</td>\n",
       "      <td>-0.012678</td>\n",
       "      <td>-0.005769</td>\n",
       "      <td>-0.009424</td>\n",
       "      <td>1.000000</td>\n",
       "      <td>0.142831</td>\n",
       "      <td>0.124862</td>\n",
       "    </tr>\n",
       "    <tr>\n",
       "      <th>sulphates</th>\n",
       "      <td>0.021895</td>\n",
       "      <td>0.039358</td>\n",
       "      <td>0.059912</td>\n",
       "      <td>-0.028943</td>\n",
       "      <td>0.168652</td>\n",
       "      <td>0.029419</td>\n",
       "      <td>0.141399</td>\n",
       "      <td>0.170959</td>\n",
       "      <td>0.142831</td>\n",
       "      <td>1.000000</td>\n",
       "      <td>-0.098594</td>\n",
       "    </tr>\n",
       "    <tr>\n",
       "      <th>alcohol</th>\n",
       "      <td>-0.123096</td>\n",
       "      <td>0.101045</td>\n",
       "      <td>-0.026552</td>\n",
       "      <td>-0.479890</td>\n",
       "      <td>-0.384005</td>\n",
       "      <td>-0.267487</td>\n",
       "      <td>-0.489106</td>\n",
       "      <td>-0.226934</td>\n",
       "      <td>0.124862</td>\n",
       "      <td>-0.098594</td>\n",
       "      <td>1.000000</td>\n",
       "    </tr>\n",
       "  </tbody>\n",
       "</table>\n",
       "</div>"
      ],
      "text/plain": [
       "                      fixed_acidity  volatile_acidity  citric_acid  \\\n",
       "fixed_acidity              1.000000         -0.051385     0.227084   \n",
       "volatile_acidity          -0.051385          1.000000    -0.130374   \n",
       "citric_acid                0.227084         -0.130374     1.000000   \n",
       "residual_sugar             0.056966          0.069165     0.071305   \n",
       "chlorides                  0.091914          0.238197     0.029437   \n",
       "free_sulfur_dioxide       -0.045172         -0.055189     0.089565   \n",
       "total_sulfur_dioxide       0.043878          0.056822     0.106900   \n",
       "density                    0.113393          0.316719     0.047979   \n",
       "pH                        -0.402376         -0.016707    -0.130977   \n",
       "sulphates                  0.021895          0.039358     0.059912   \n",
       "alcohol                   -0.123096          0.101045    -0.026552   \n",
       "\n",
       "                      residual_sugar  chlorides  free_sulfur_dioxide  \\\n",
       "fixed_acidity               0.056966   0.091914            -0.045172   \n",
       "volatile_acidity            0.069165   0.238197            -0.055189   \n",
       "citric_acid                 0.071305   0.029437             0.089565   \n",
       "residual_sugar              1.000000   0.165936             0.346436   \n",
       "chlorides                   0.165936   1.000000             0.095469   \n",
       "free_sulfur_dioxide         0.346436   0.095469             1.000000   \n",
       "total_sulfur_dioxide        0.431833   0.220436             0.644727   \n",
       "density                     0.199698   0.812733             0.070500   \n",
       "pH                         -0.178468  -0.009622            -0.012678   \n",
       "sulphates                  -0.028943   0.168652             0.029419   \n",
       "alcohol                    -0.479890  -0.384005            -0.267487   \n",
       "\n",
       "                      total_sulfur_dioxide   density        pH  sulphates  \\\n",
       "fixed_acidity                     0.043878  0.113393 -0.402376   0.021895   \n",
       "volatile_acidity                  0.056822  0.316719 -0.016707   0.039358   \n",
       "citric_acid                       0.106900  0.047979 -0.130977   0.059912   \n",
       "residual_sugar                    0.431833  0.199698 -0.178468  -0.028943   \n",
       "chlorides                         0.220436  0.812733 -0.009622   0.168652   \n",
       "free_sulfur_dioxide               0.644727  0.070500 -0.012678   0.029419   \n",
       "total_sulfur_dioxide              1.000000  0.102492 -0.005769   0.141399   \n",
       "density                           0.102492  1.000000 -0.009424   0.170959   \n",
       "pH                               -0.005769 -0.009424  1.000000   0.142831   \n",
       "sulphates                         0.141399  0.170959  0.142831   1.000000   \n",
       "alcohol                          -0.489106 -0.226934  0.124862  -0.098594   \n",
       "\n",
       "                       alcohol  \n",
       "fixed_acidity        -0.123096  \n",
       "volatile_acidity      0.101045  \n",
       "citric_acid          -0.026552  \n",
       "residual_sugar       -0.479890  \n",
       "chlorides            -0.384005  \n",
       "free_sulfur_dioxide  -0.267487  \n",
       "total_sulfur_dioxide -0.489106  \n",
       "density              -0.226934  \n",
       "pH                    0.124862  \n",
       "sulphates            -0.098594  \n",
       "alcohol               1.000000  "
      ]
     },
     "execution_count": 63,
     "metadata": {},
     "output_type": "execute_result"
    }
   ],
   "source": [
    "X_train.corr()"
   ]
  },
  {
   "cell_type": "code",
   "execution_count": 64,
   "id": "7ccbeeb3",
   "metadata": {},
   "outputs": [
    {
     "data": {
      "image/png": "[encoded data removed]",
      "text/plain": [
       "<Figure size 864x720 with 2 Axes>"
      ]
     },
     "metadata": {
      "needs_background": "light"
     },
     "output_type": "display_data"
    }
   ],
   "source": [
    "#Using Pearson Correlation\n",
    "plt.figure(figsize=(12,10))\n",
    "cor = X_train.corr()\n",
    "sns.heatmap(cor, annot=True, cmap=plt.cm.CMRmap_r)\n",
    "plt.show()"
   ]
  },
  {
   "cell_type": "code",
   "execution_count": 65,
   "id": "b7adebe0",
   "metadata": {},
   "outputs": [],
   "source": [
    "\n",
    "\n",
    "# with the following function we can select highly correlated features\n",
    "# it will remove the first feature that is correlated with anything other feature\n",
    "\n",
    "def correlation(dataset, threshold):\n",
    "    col_corr = set()  # Set of all the names of correlated columns\n",
    "    corr_matrix = dataset.corr()\n",
    "    for i in range(len(corr_matrix.columns)):\n",
    "        for j in range(i):\n",
    "            if abs(corr_matrix.iloc[i, j]) > threshold: # we are interested in absolute coeff value\n",
    "                colname = corr_matrix.columns[i]  # getting the name of column\n",
    "                col_corr.add(colname)\n",
    "    return col_corr\n",
    "\n"
   ]
  },
  {
   "cell_type": "code",
   "execution_count": 66,
   "id": "6fb8f7ec",
   "metadata": {},
   "outputs": [
    {
     "data": {
      "text/plain": [
       "1"
      ]
     },
     "execution_count": 66,
     "metadata": {},
     "output_type": "execute_result"
    }
   ],
   "source": [
    "corr_features = correlation(X_train, 0.7)\n",
    "len(set(corr_features))"
   ]
  },
  {
   "cell_type": "code",
   "execution_count": 67,
   "id": "51415982",
   "metadata": {},
   "outputs": [
    {
     "data": {
      "text/plain": [
       "{'density'}"
      ]
     },
     "execution_count": 67,
     "metadata": {},
     "output_type": "execute_result"
    }
   ],
   "source": [
    "corr_features"
   ]
  },
  {
   "cell_type": "markdown",
   "id": "161a14e8",
   "metadata": {},
   "source": [
    "# Getting Rid of the Highly Co-related Features"
   ]
  },
  {
   "cell_type": "code",
   "execution_count": 68,
   "id": "b22b87ac",
   "metadata": {},
   "outputs": [],
   "source": [
    "X_train_final = X_train.drop(corr_features,axis=1)\n",
    "X_test_final =X_test.drop(corr_features,axis=1)"
   ]
  },
  {
   "cell_type": "markdown",
   "id": "d928855f",
   "metadata": {},
   "source": [
    "# Finding the co-relation with Target Variable"
   ]
  },
  {
   "cell_type": "code",
   "execution_count": 69,
   "id": "94cd6c81",
   "metadata": {},
   "outputs": [
    {
     "data": {
      "text/html": [
       "<div>\n",
       "<style scoped>\n",
       "    .dataframe tbody tr th:only-of-type {\n",
       "        vertical-align: middle;\n",
       "    }\n",
       "\n",
       "    .dataframe tbody tr th {\n",
       "        vertical-align: top;\n",
       "    }\n",
       "\n",
       "    .dataframe thead th {\n",
       "        text-align: right;\n",
       "    }\n",
       "</style>\n",
       "<table border=\"1\" class=\"dataframe\">\n",
       "  <thead>\n",
       "    <tr style=\"text-align: right;\">\n",
       "      <th></th>\n",
       "      <th>fixed_acidity</th>\n",
       "      <th>volatile_acidity</th>\n",
       "      <th>citric_acid</th>\n",
       "      <th>residual_sugar</th>\n",
       "      <th>chlorides</th>\n",
       "      <th>free_sulfur_dioxide</th>\n",
       "      <th>total_sulfur_dioxide</th>\n",
       "      <th>pH</th>\n",
       "      <th>sulphates</th>\n",
       "      <th>alcohol</th>\n",
       "    </tr>\n",
       "  </thead>\n",
       "  <tbody>\n",
       "    <tr>\n",
       "      <th>fixed_acidity</th>\n",
       "      <td>1.000000</td>\n",
       "      <td>-0.051385</td>\n",
       "      <td>0.227084</td>\n",
       "      <td>0.056966</td>\n",
       "      <td>0.091914</td>\n",
       "      <td>-0.045172</td>\n",
       "      <td>0.043878</td>\n",
       "      <td>-0.402376</td>\n",
       "      <td>0.021895</td>\n",
       "      <td>-0.123096</td>\n",
       "    </tr>\n",
       "    <tr>\n",
       "      <th>volatile_acidity</th>\n",
       "      <td>-0.051385</td>\n",
       "      <td>1.000000</td>\n",
       "      <td>-0.130374</td>\n",
       "      <td>0.069165</td>\n",
       "      <td>0.238197</td>\n",
       "      <td>-0.055189</td>\n",
       "      <td>0.056822</td>\n",
       "      <td>-0.016707</td>\n",
       "      <td>0.039358</td>\n",
       "      <td>0.101045</td>\n",
       "    </tr>\n",
       "    <tr>\n",
       "      <th>citric_acid</th>\n",
       "      <td>0.227084</td>\n",
       "      <td>-0.130374</td>\n",
       "      <td>1.000000</td>\n",
       "      <td>0.071305</td>\n",
       "      <td>0.029437</td>\n",
       "      <td>0.089565</td>\n",
       "      <td>0.106900</td>\n",
       "      <td>-0.130977</td>\n",
       "      <td>0.059912</td>\n",
       "      <td>-0.026552</td>\n",
       "    </tr>\n",
       "    <tr>\n",
       "      <th>residual_sugar</th>\n",
       "      <td>0.056966</td>\n",
       "      <td>0.069165</td>\n",
       "      <td>0.071305</td>\n",
       "      <td>1.000000</td>\n",
       "      <td>0.165936</td>\n",
       "      <td>0.346436</td>\n",
       "      <td>0.431833</td>\n",
       "      <td>-0.178468</td>\n",
       "      <td>-0.028943</td>\n",
       "      <td>-0.479890</td>\n",
       "    </tr>\n",
       "    <tr>\n",
       "      <th>chlorides</th>\n",
       "      <td>0.091914</td>\n",
       "      <td>0.238197</td>\n",
       "      <td>0.029437</td>\n",
       "      <td>0.165936</td>\n",
       "      <td>1.000000</td>\n",
       "      <td>0.095469</td>\n",
       "      <td>0.220436</td>\n",
       "      <td>-0.009622</td>\n",
       "      <td>0.168652</td>\n",
       "      <td>-0.384005</td>\n",
       "    </tr>\n",
       "    <tr>\n",
       "      <th>free_sulfur_dioxide</th>\n",
       "      <td>-0.045172</td>\n",
       "      <td>-0.055189</td>\n",
       "      <td>0.089565</td>\n",
       "      <td>0.346436</td>\n",
       "      <td>0.095469</td>\n",
       "      <td>1.000000</td>\n",
       "      <td>0.644727</td>\n",
       "      <td>-0.012678</td>\n",
       "      <td>0.029419</td>\n",
       "      <td>-0.267487</td>\n",
       "    </tr>\n",
       "    <tr>\n",
       "      <th>total_sulfur_dioxide</th>\n",
       "      <td>0.043878</td>\n",
       "      <td>0.056822</td>\n",
       "      <td>0.106900</td>\n",
       "      <td>0.431833</td>\n",
       "      <td>0.220436</td>\n",
       "      <td>0.644727</td>\n",
       "      <td>1.000000</td>\n",
       "      <td>-0.005769</td>\n",
       "      <td>0.141399</td>\n",
       "      <td>-0.489106</td>\n",
       "    </tr>\n",
       "    <tr>\n",
       "      <th>pH</th>\n",
       "      <td>-0.402376</td>\n",
       "      <td>-0.016707</td>\n",
       "      <td>-0.130977</td>\n",
       "      <td>-0.178468</td>\n",
       "      <td>-0.009622</td>\n",
       "      <td>-0.012678</td>\n",
       "      <td>-0.005769</td>\n",
       "      <td>1.000000</td>\n",
       "      <td>0.142831</td>\n",
       "      <td>0.124862</td>\n",
       "    </tr>\n",
       "    <tr>\n",
       "      <th>sulphates</th>\n",
       "      <td>0.021895</td>\n",
       "      <td>0.039358</td>\n",
       "      <td>0.059912</td>\n",
       "      <td>-0.028943</td>\n",
       "      <td>0.168652</td>\n",
       "      <td>0.029419</td>\n",
       "      <td>0.141399</td>\n",
       "      <td>0.142831</td>\n",
       "      <td>1.000000</td>\n",
       "      <td>-0.098594</td>\n",
       "    </tr>\n",
       "    <tr>\n",
       "      <th>alcohol</th>\n",
       "      <td>-0.123096</td>\n",
       "      <td>0.101045</td>\n",
       "      <td>-0.026552</td>\n",
       "      <td>-0.479890</td>\n",
       "      <td>-0.384005</td>\n",
       "      <td>-0.267487</td>\n",
       "      <td>-0.489106</td>\n",
       "      <td>0.124862</td>\n",
       "      <td>-0.098594</td>\n",
       "      <td>1.000000</td>\n",
       "    </tr>\n",
       "  </tbody>\n",
       "</table>\n",
       "</div>"
      ],
      "text/plain": [
       "                      fixed_acidity  volatile_acidity  citric_acid  \\\n",
       "fixed_acidity              1.000000         -0.051385     0.227084   \n",
       "volatile_acidity          -0.051385          1.000000    -0.130374   \n",
       "citric_acid                0.227084         -0.130374     1.000000   \n",
       "residual_sugar             0.056966          0.069165     0.071305   \n",
       "chlorides                  0.091914          0.238197     0.029437   \n",
       "free_sulfur_dioxide       -0.045172         -0.055189     0.089565   \n",
       "total_sulfur_dioxide       0.043878          0.056822     0.106900   \n",
       "pH                        -0.402376         -0.016707    -0.130977   \n",
       "sulphates                  0.021895          0.039358     0.059912   \n",
       "alcohol                   -0.123096          0.101045    -0.026552   \n",
       "\n",
       "                      residual_sugar  chlorides  free_sulfur_dioxide  \\\n",
       "fixed_acidity               0.056966   0.091914            -0.045172   \n",
       "volatile_acidity            0.069165   0.238197            -0.055189   \n",
       "citric_acid                 0.071305   0.029437             0.089565   \n",
       "residual_sugar              1.000000   0.165936             0.346436   \n",
       "chlorides                   0.165936   1.000000             0.095469   \n",
       "free_sulfur_dioxide         0.346436   0.095469             1.000000   \n",
       "total_sulfur_dioxide        0.431833   0.220436             0.644727   \n",
       "pH                         -0.178468  -0.009622            -0.012678   \n",
       "sulphates                  -0.028943   0.168652             0.029419   \n",
       "alcohol                    -0.479890  -0.384005            -0.267487   \n",
       "\n",
       "                      total_sulfur_dioxide        pH  sulphates   alcohol  \n",
       "fixed_acidity                     0.043878 -0.402376   0.021895 -0.123096  \n",
       "volatile_acidity                  0.056822 -0.016707   0.039358  0.101045  \n",
       "citric_acid                       0.106900 -0.130977   0.059912 -0.026552  \n",
       "residual_sugar                    0.431833 -0.178468  -0.028943 -0.479890  \n",
       "chlorides                         0.220436 -0.009622   0.168652 -0.384005  \n",
       "free_sulfur_dioxide               0.644727 -0.012678   0.029419 -0.267487  \n",
       "total_sulfur_dioxide              1.000000 -0.005769   0.141399 -0.489106  \n",
       "pH                               -0.005769  1.000000   0.142831  0.124862  \n",
       "sulphates                         0.141399  0.142831   1.000000 -0.098594  \n",
       "alcohol                          -0.489106  0.124862  -0.098594  1.000000  "
      ]
     },
     "execution_count": 69,
     "metadata": {},
     "output_type": "execute_result"
    }
   ],
   "source": [
    "X_train_final.corr()"
   ]
  },
  {
   "cell_type": "code",
   "execution_count": 70,
   "id": "8c9a0836",
   "metadata": {},
   "outputs": [
    {
     "data": {
      "image/png": "[encoded data removed]",
      "text/plain": [
       "<Figure size 864x720 with 2 Axes>"
      ]
     },
     "metadata": {
      "needs_background": "light"
     },
     "output_type": "display_data"
    }
   ],
   "source": [
    "#Using Pearson Correlation\n",
    "plt.figure(figsize=(12,10))\n",
    "cor = X_train_final.corr()\n",
    "sns.heatmap(cor, annot=True, cmap=plt.cm.CMRmap_r)\n",
    "plt.show()"
   ]
  },
  {
   "cell_type": "code",
   "execution_count": 71,
   "id": "0f47e57b",
   "metadata": {},
   "outputs": [],
   "source": [
    "# with the following function we can select highly correlated features\n",
    "# it will remove the first feature that is correlated with anything other feature\n",
    "\n",
    "def correlation(dataset, threshold):\n",
    "    col_corr = set()  # Set of all the names of correlated columns\n",
    "    corr_matrix = dataset.corr()\n",
    "    for i in range(len(corr_matrix.columns)):\n",
    "        for j in range(i):\n",
    "            if abs(corr_matrix.iloc[i, j]) > threshold: # we are interested in absolute coeff value\n",
    "                colname = corr_matrix.columns[i]  # getting the name of column\n",
    "                col_corr.add(colname)\n",
    "    return col_corr"
   ]
  },
  {
   "cell_type": "code",
   "execution_count": 72,
   "id": "ea86f42d",
   "metadata": {},
   "outputs": [
    {
     "data": {
      "text/plain": [
       "0"
      ]
     },
     "execution_count": 72,
     "metadata": {},
     "output_type": "execute_result"
    }
   ],
   "source": [
    "corr_features = correlation(X_train_final, 0.7)\n",
    "len(set(corr_features))"
   ]
  },
  {
   "cell_type": "code",
   "execution_count": 73,
   "id": "ac419fb0",
   "metadata": {},
   "outputs": [
    {
     "data": {
      "text/plain": [
       "set()"
      ]
     },
     "execution_count": 73,
     "metadata": {},
     "output_type": "execute_result"
    }
   ],
   "source": [
    "corr_features"
   ]
  },
  {
   "cell_type": "markdown",
   "id": "3a34a18f",
   "metadata": {},
   "source": [
    "# None of the column are highly co-related in the perspective of the quality column"
   ]
  },
  {
   "cell_type": "code",
   "execution_count": 74,
   "id": "1507a810",
   "metadata": {},
   "outputs": [
    {
     "data": {
      "text/html": [
       "<div>\n",
       "<style scoped>\n",
       "    .dataframe tbody tr th:only-of-type {\n",
       "        vertical-align: middle;\n",
       "    }\n",
       "\n",
       "    .dataframe tbody tr th {\n",
       "        vertical-align: top;\n",
       "    }\n",
       "\n",
       "    .dataframe thead th {\n",
       "        text-align: right;\n",
       "    }\n",
       "</style>\n",
       "<table border=\"1\" class=\"dataframe\">\n",
       "  <thead>\n",
       "    <tr style=\"text-align: right;\">\n",
       "      <th></th>\n",
       "      <th>fixed_acidity</th>\n",
       "      <th>volatile_acidity</th>\n",
       "      <th>citric_acid</th>\n",
       "      <th>residual_sugar</th>\n",
       "      <th>chlorides</th>\n",
       "      <th>free_sulfur_dioxide</th>\n",
       "      <th>total_sulfur_dioxide</th>\n",
       "      <th>pH</th>\n",
       "      <th>sulphates</th>\n",
       "      <th>alcohol</th>\n",
       "    </tr>\n",
       "  </thead>\n",
       "  <tbody>\n",
       "    <tr>\n",
       "      <th>1437</th>\n",
       "      <td>6.4</td>\n",
       "      <td>0.25</td>\n",
       "      <td>0.37</td>\n",
       "      <td>4.5</td>\n",
       "      <td>0.039</td>\n",
       "      <td>41.0</td>\n",
       "      <td>147.0</td>\n",
       "      <td>3.18</td>\n",
       "      <td>0.40</td>\n",
       "      <td>11.1</td>\n",
       "    </tr>\n",
       "    <tr>\n",
       "      <th>539</th>\n",
       "      <td>7.0</td>\n",
       "      <td>0.21</td>\n",
       "      <td>0.34</td>\n",
       "      <td>8.5</td>\n",
       "      <td>0.033</td>\n",
       "      <td>31.0</td>\n",
       "      <td>253.0</td>\n",
       "      <td>3.22</td>\n",
       "      <td>0.56</td>\n",
       "      <td>10.5</td>\n",
       "    </tr>\n",
       "    <tr>\n",
       "      <th>1892</th>\n",
       "      <td>6.4</td>\n",
       "      <td>0.46</td>\n",
       "      <td>0.22</td>\n",
       "      <td>14.7</td>\n",
       "      <td>0.047</td>\n",
       "      <td>51.0</td>\n",
       "      <td>183.0</td>\n",
       "      <td>3.39</td>\n",
       "      <td>0.60</td>\n",
       "      <td>10.5</td>\n",
       "    </tr>\n",
       "    <tr>\n",
       "      <th>1486</th>\n",
       "      <td>7.2</td>\n",
       "      <td>0.30</td>\n",
       "      <td>0.30</td>\n",
       "      <td>8.1</td>\n",
       "      <td>0.050</td>\n",
       "      <td>40.0</td>\n",
       "      <td>188.0</td>\n",
       "      <td>3.15</td>\n",
       "      <td>0.49</td>\n",
       "      <td>9.1</td>\n",
       "    </tr>\n",
       "    <tr>\n",
       "      <th>1444</th>\n",
       "      <td>6.7</td>\n",
       "      <td>0.24</td>\n",
       "      <td>0.30</td>\n",
       "      <td>10.2</td>\n",
       "      <td>0.070</td>\n",
       "      <td>44.0</td>\n",
       "      <td>179.0</td>\n",
       "      <td>2.86</td>\n",
       "      <td>0.46</td>\n",
       "      <td>8.9</td>\n",
       "    </tr>\n",
       "    <tr>\n",
       "      <th>...</th>\n",
       "      <td>...</td>\n",
       "      <td>...</td>\n",
       "      <td>...</td>\n",
       "      <td>...</td>\n",
       "      <td>...</td>\n",
       "      <td>...</td>\n",
       "      <td>...</td>\n",
       "      <td>...</td>\n",
       "      <td>...</td>\n",
       "      <td>...</td>\n",
       "    </tr>\n",
       "    <tr>\n",
       "      <th>835</th>\n",
       "      <td>6.8</td>\n",
       "      <td>0.23</td>\n",
       "      <td>0.31</td>\n",
       "      <td>2.8</td>\n",
       "      <td>0.047</td>\n",
       "      <td>40.0</td>\n",
       "      <td>122.0</td>\n",
       "      <td>3.06</td>\n",
       "      <td>0.64</td>\n",
       "      <td>10.9</td>\n",
       "    </tr>\n",
       "    <tr>\n",
       "      <th>1216</th>\n",
       "      <td>6.7</td>\n",
       "      <td>0.13</td>\n",
       "      <td>0.29</td>\n",
       "      <td>5.3</td>\n",
       "      <td>0.051</td>\n",
       "      <td>31.0</td>\n",
       "      <td>122.0</td>\n",
       "      <td>3.44</td>\n",
       "      <td>0.37</td>\n",
       "      <td>9.7</td>\n",
       "    </tr>\n",
       "    <tr>\n",
       "      <th>1653</th>\n",
       "      <td>7.7</td>\n",
       "      <td>0.12</td>\n",
       "      <td>0.32</td>\n",
       "      <td>1.4</td>\n",
       "      <td>0.060</td>\n",
       "      <td>47.0</td>\n",
       "      <td>150.0</td>\n",
       "      <td>3.37</td>\n",
       "      <td>0.42</td>\n",
       "      <td>9.2</td>\n",
       "    </tr>\n",
       "    <tr>\n",
       "      <th>559</th>\n",
       "      <td>7.0</td>\n",
       "      <td>0.21</td>\n",
       "      <td>0.28</td>\n",
       "      <td>8.7</td>\n",
       "      <td>0.045</td>\n",
       "      <td>37.0</td>\n",
       "      <td>222.0</td>\n",
       "      <td>3.25</td>\n",
       "      <td>0.54</td>\n",
       "      <td>10.4</td>\n",
       "    </tr>\n",
       "    <tr>\n",
       "      <th>684</th>\n",
       "      <td>7.1</td>\n",
       "      <td>0.31</td>\n",
       "      <td>0.50</td>\n",
       "      <td>14.5</td>\n",
       "      <td>0.059</td>\n",
       "      <td>6.0</td>\n",
       "      <td>148.0</td>\n",
       "      <td>2.94</td>\n",
       "      <td>0.44</td>\n",
       "      <td>9.1</td>\n",
       "    </tr>\n",
       "  </tbody>\n",
       "</table>\n",
       "<p>1428 rows × 10 columns</p>\n",
       "</div>"
      ],
      "text/plain": [
       "      fixed_acidity  volatile_acidity  citric_acid  residual_sugar  chlorides  \\\n",
       "1437            6.4              0.25         0.37             4.5      0.039   \n",
       "539             7.0              0.21         0.34             8.5      0.033   \n",
       "1892            6.4              0.46         0.22            14.7      0.047   \n",
       "1486            7.2              0.30         0.30             8.1      0.050   \n",
       "1444            6.7              0.24         0.30            10.2      0.070   \n",
       "...             ...               ...          ...             ...        ...   \n",
       "835             6.8              0.23         0.31             2.8      0.047   \n",
       "1216            6.7              0.13         0.29             5.3      0.051   \n",
       "1653            7.7              0.12         0.32             1.4      0.060   \n",
       "559             7.0              0.21         0.28             8.7      0.045   \n",
       "684             7.1              0.31         0.50            14.5      0.059   \n",
       "\n",
       "      free_sulfur_dioxide  total_sulfur_dioxide    pH  sulphates  alcohol  \n",
       "1437                 41.0                 147.0  3.18       0.40     11.1  \n",
       "539                  31.0                 253.0  3.22       0.56     10.5  \n",
       "1892                 51.0                 183.0  3.39       0.60     10.5  \n",
       "1486                 40.0                 188.0  3.15       0.49      9.1  \n",
       "1444                 44.0                 179.0  2.86       0.46      8.9  \n",
       "...                   ...                   ...   ...        ...      ...  \n",
       "835                  40.0                 122.0  3.06       0.64     10.9  \n",
       "1216                 31.0                 122.0  3.44       0.37      9.7  \n",
       "1653                 47.0                 150.0  3.37       0.42      9.2  \n",
       "559                  37.0                 222.0  3.25       0.54     10.4  \n",
       "684                   6.0                 148.0  2.94       0.44      9.1  \n",
       "\n",
       "[1428 rows x 10 columns]"
      ]
     },
     "execution_count": 74,
     "metadata": {},
     "output_type": "execute_result"
    }
   ],
   "source": [
    "X_train_final"
   ]
  },
  {
   "cell_type": "markdown",
   "id": "dd3c096e",
   "metadata": {},
   "source": [
    "# Answer 6:"
   ]
  },
  {
   "cell_type": "markdown",
   "id": "46d38817",
   "metadata": {},
   "source": [
    "# Some Hypothesis Tests for some of the columns"
   ]
  },
  {
   "cell_type": "markdown",
   "id": "63af06a9",
   "metadata": {},
   "source": [
    "#  Hypothesis Test for sulphates"
   ]
  },
  {
   "cell_type": "code",
   "execution_count": 75,
   "id": "bf6a62a4",
   "metadata": {},
   "outputs": [
    {
     "name": "stdout",
     "output_type": "stream",
     "text": [
      "stat=0.9755, p=0.0000\n",
      "Probably the sample is not Normal\n"
     ]
    }
   ],
   "source": [
    "#### Example of the Shapiro-Wilk Normality Test\n",
    "###### H0: the sample has a Gaussian / Normal distribution.\n",
    "###### H1: the sample does not have a Gaussian distribution.\n",
    "\n",
    "from scipy.stats import shapiro\n",
    "stat, p = shapiro(new_data['sulphates'])\n",
    "\n",
    "print('stat=%.4f, p=%.4f' % (stat, p))\n",
    "### p_value < 0.05 , H0 will be rejected\n",
    "if p < 0.05:\n",
    "        print('Probably the sample is not Normal')\n",
    "else:\n",
    "        print('Probably the sample is Normal')\n"
   ]
  },
  {
   "cell_type": "markdown",
   "id": "9b17f288",
   "metadata": {},
   "source": [
    "#  Hypothesis Test for fixed_acidity"
   ]
  },
  {
   "cell_type": "code",
   "execution_count": 76,
   "id": "e94f5e1b",
   "metadata": {},
   "outputs": [
    {
     "name": "stdout",
     "output_type": "stream",
     "text": [
      "stat=0.9949, p=0.0000\n",
      "Probably the sample is not Normal\n"
     ]
    }
   ],
   "source": [
    "#### Example of the Shapiro-Wilk Normality Test\n",
    "###### H0: the sample has a Gaussian / Normal distribution.\n",
    "###### H1: the sample does not have a Gaussian distribution.\n",
    "\n",
    "from scipy.stats import shapiro\n",
    "stat, p = shapiro(new_data['fixed_acidity'])\n",
    "\n",
    "print('stat=%.4f, p=%.4f' % (stat, p))\n",
    "### p_value < 0.05 , H0 will be rejected\n",
    "if p < 0.05:\n",
    "        print('Probably the sample is not Normal')\n",
    "else:\n",
    "        print('Probably the sample is Normal')\n"
   ]
  },
  {
   "cell_type": "markdown",
   "id": "9b1a2587",
   "metadata": {},
   "source": [
    "# Parametric statistics are based on assumptions about the distribution of population from which the sample was taken. We can see that The distribution are not normal. But as per the assumtion for Hypothesis test we will Treat them as Normally Distributrd. "
   ]
  },
  {
   "cell_type": "markdown",
   "id": "1d1988e2",
   "metadata": {},
   "source": [
    "# A confidence interval displays the probability that a parameter will fall between a pair of values around the mean. Confidence intervals measure the degree of uncertainty or certainty in a sampling method. They are most often constructed using confidence levels of 95% or 99%."
   ]
  },
  {
   "cell_type": "markdown",
   "id": "1bb56c62",
   "metadata": {},
   "source": [
    "# Confidence Interval for Mean of Residual Sugar"
   ]
  },
  {
   "cell_type": "code",
   "execution_count": 77,
   "id": "9dd58984",
   "metadata": {},
   "outputs": [
    {
     "name": "stdout",
     "output_type": "stream",
     "text": [
      "Confidence interval for mean of Residual Sugar: [6.05813940247417, 6.4803711315777655]\n"
     ]
    }
   ],
   "source": [
    "###### Confidence Interval for Mean\n",
    "import math\n",
    "m = new_data.residual_sugar.mean()\n",
    "#### Standard Error (SE) calculation\n",
    "se = new_data.residual_sugar.std()/math.sqrt(len(new_data.residual_sugar))\n",
    "ci = [m - se*1.96 , m + se *1.96]\n",
    "print(\"Confidence interval for mean of Residual Sugar:\", ci)"
   ]
  },
  {
   "cell_type": "markdown",
   "id": "9405ba58",
   "metadata": {},
   "source": [
    "# t-test:  whether avg of Residual Sugar is 5 or not."
   ]
  },
  {
   "cell_type": "code",
   "execution_count": 78,
   "id": "558aacf5",
   "metadata": {},
   "outputs": [
    {
     "name": "stdout",
     "output_type": "stream",
     "text": [
      "6.269255267025968\n",
      "p-values 4.690968205587061e-31\n",
      "The null hypothesis is rejected.\n"
     ]
    }
   ],
   "source": [
    "#### t-test:  whether avg of Residual Sugar is 5 or not.\n",
    "from scipy.stats import ttest_1samp\n",
    "\n",
    "residual_sugar_mean = np.mean(new_data.residual_sugar)\n",
    "print(residual_sugar_mean)\n",
    "tset, pval = ttest_1samp(new_data.residual_sugar, 5)\n",
    "print('p-values',pval)\n",
    "if pval < 0.05:    # alpha value is 0.05 or 5%\n",
    "   print(\"The null hypothesis is rejected.\")\n",
    "else:\n",
    "  print(\"we are not rejecting the null hypothesis\")\n"
   ]
  },
  {
   "cell_type": "markdown",
   "id": "d344dfef",
   "metadata": {},
   "source": [
    "# Z test for mean of Residual Sugar"
   ]
  },
  {
   "cell_type": "code",
   "execution_count": 79,
   "id": "83617899",
   "metadata": {},
   "outputs": [
    {
     "name": "stdout",
     "output_type": "stream",
     "text": [
      "1.571627914982395e-98\n",
      "p-value of Z Test = 1.571627914982395e-98\n"
     ]
    }
   ],
   "source": [
    "### Z test for mean\n",
    "\n",
    "from statsmodels.stats import weightstats as stests\n",
    "ztest ,pval = stests.ztest(new_data['residual_sugar'], x2=None, value=4)\n",
    "print(pval)\n",
    "print('p-value of Z Test =',pval)"
   ]
  },
  {
   "cell_type": "markdown",
   "id": "140d9ad0",
   "metadata": {},
   "source": [
    "# z test for proportion of Residual Sugar"
   ]
  },
  {
   "cell_type": "code",
   "execution_count": 80,
   "id": "a8e1e4e9",
   "metadata": {},
   "outputs": [
    {
     "name": "stdout",
     "output_type": "stream",
     "text": [
      "z calculated value: -232.89594003087547\n",
      "p-value: 0.0\n",
      " we are rejecting the null hypothesis\n"
     ]
    }
   ],
   "source": [
    "########## z test for proportion\n",
    "\n",
    "from statsmodels.stats.proportion import proportions_ztest\n",
    "count = 12\n",
    "nobs = len(new_data.residual_sugar)\n",
    "value = .4\n",
    "stat, pval = proportions_ztest(count, nobs, value)\n",
    "print('z calculated value:', stat)\n",
    "print('p-value:',pval)\n",
    "if pval < 0.05:    # alpha value is 0.05 or 5%\n",
    "   print(\" we are rejecting the null hypothesis\")\n",
    "else:\n",
    "  print(\"we are not rejecting the null hypothesis\")"
   ]
  },
  {
   "cell_type": "markdown",
   "id": "6484670b",
   "metadata": {},
   "source": [
    "# Answer 7:"
   ]
  },
  {
   "cell_type": "raw",
   "id": "3749c793",
   "metadata": {},
   "source": [
    "Since the quality of wine has two categories 1 for good and 0 for average, so the level of measurement for that variable is Nominal (Binary category), therefore, to predict the quality of wine, a logistic regression model is more preferable."
   ]
  },
  {
   "cell_type": "markdown",
   "id": "5707bf95",
   "metadata": {},
   "source": [
    "# statsmodels Logit Model"
   ]
  },
  {
   "cell_type": "code",
   "execution_count": 81,
   "id": "22dd05f0",
   "metadata": {},
   "outputs": [
    {
     "name": "stdout",
     "output_type": "stream",
     "text": [
      "Optimization terminated successfully.\n",
      "         Current function value: 0.515273\n",
      "         Iterations 6\n",
      "                            Results: Logit\n",
      "======================================================================\n",
      "Model:                 Logit             Pseudo R-squared:  0.183     \n",
      "Dependent Variable:    quality           AIC:               1491.6192 \n",
      "Date:                  2022-02-12 12:57  BIC:               1544.2595 \n",
      "No. Observations:      1428              Log-Likelihood:    -735.81   \n",
      "Df Model:              9                 LL-Null:           -901.13   \n",
      "Df Residuals:          1418              LLR p-value:       8.1585e-66\n",
      "Converged:             1.0000            Scale:             1.0000    \n",
      "No. Iterations:        6.0000                                         \n",
      "----------------------------------------------------------------------\n",
      "                      Coef.   Std.Err.    z    P>|z|   [0.025   0.975]\n",
      "----------------------------------------------------------------------\n",
      "fixed_acidity         -0.2650   0.0796 -3.3290 0.0009  -0.4211 -0.1090\n",
      "volatile_acidity      -8.1237   0.9218 -8.8124 0.0000  -9.9304 -6.3169\n",
      "citric_acid           -0.0881   0.6713 -0.1312 0.8956  -1.4038  1.2277\n",
      "residual_sugar         0.0388   0.0152  2.5571 0.0106   0.0091  0.0686\n",
      "chlorides            -15.7630   7.5539 -2.0867 0.0369 -30.5683 -0.9577\n",
      "free_sulfur_dioxide    0.0067   0.0056  1.1865 0.2354  -0.0044  0.0177\n",
      "total_sulfur_dioxide  -0.0024   0.0023 -1.0640 0.2874  -0.0069  0.0021\n",
      "pH                    -1.4426   0.3107 -4.6435 0.0000  -2.0515 -0.8337\n",
      "sulphates              2.0478   0.7239  2.8289 0.0047   0.6290  3.4666\n",
      "alcohol                0.8576   0.0781 10.9866 0.0000   0.7046  1.0106\n",
      "======================================================================\n",
      "\n"
     ]
    }
   ],
   "source": [
    "logitmodel=sm.Logit(y_train,X_train_final)\n",
    "result=logitmodel.fit()\n",
    "print(result.summary2() )"
   ]
  },
  {
   "cell_type": "code",
   "execution_count": 82,
   "id": "3e32b03f",
   "metadata": {},
   "outputs": [
    {
     "name": "stdout",
     "output_type": "stream",
     "text": [
      "                           Logit Regression Results                           \n",
      "==============================================================================\n",
      "Dep. Variable:                quality   No. Observations:                 1428\n",
      "Model:                          Logit   Df Residuals:                     1418\n",
      "Method:                           MLE   Df Model:                            9\n",
      "Date:                Sat, 12 Feb 2022   Pseudo R-squ.:                  0.1835\n",
      "Time:                        12:57:42   Log-Likelihood:                -735.81\n",
      "converged:                       True   LL-Null:                       -901.13\n",
      "Covariance Type:            nonrobust   LLR p-value:                 8.159e-66\n",
      "========================================================================================\n",
      "                           coef    std err          z      P>|z|      [0.025      0.975]\n",
      "----------------------------------------------------------------------------------------\n",
      "fixed_acidity           -0.2650      0.080     -3.329      0.001      -0.421      -0.109\n",
      "volatile_acidity        -8.1237      0.922     -8.812      0.000      -9.930      -6.317\n",
      "citric_acid             -0.0881      0.671     -0.131      0.896      -1.404       1.228\n",
      "residual_sugar           0.0388      0.015      2.557      0.011       0.009       0.069\n",
      "chlorides              -15.7630      7.554     -2.087      0.037     -30.568      -0.958\n",
      "free_sulfur_dioxide      0.0067      0.006      1.186      0.235      -0.004       0.018\n",
      "total_sulfur_dioxide    -0.0024      0.002     -1.064      0.287      -0.007       0.002\n",
      "pH                      -1.4426      0.311     -4.643      0.000      -2.052      -0.834\n",
      "sulphates                2.0478      0.724      2.829      0.005       0.629       3.467\n",
      "alcohol                  0.8576      0.078     10.987      0.000       0.705       1.011\n",
      "========================================================================================\n"
     ]
    }
   ],
   "source": [
    "print(result.summary() )"
   ]
  },
  {
   "cell_type": "markdown",
   "id": "aca234e1",
   "metadata": {},
   "source": [
    "# Statsmodel Logit Model By Adding Constant"
   ]
  },
  {
   "cell_type": "code",
   "execution_count": 83,
   "id": "b42227e3",
   "metadata": {},
   "outputs": [
    {
     "name": "stdout",
     "output_type": "stream",
     "text": [
      "Optimization terminated successfully.\n",
      "         Current function value: 0.509427\n",
      "         Iterations 6\n",
      "                           Results: Logit\n",
      "=====================================================================\n",
      "Model:                Logit             Pseudo R-squared:  0.193     \n",
      "Dependent Variable:   quality           AIC:               1476.9231 \n",
      "Date:                 2022-02-12 12:57  BIC:               1534.8275 \n",
      "No. Observations:     1428              Log-Likelihood:    -727.46   \n",
      "Df Model:             10                LL-Null:           -901.13   \n",
      "Df Residuals:         1417              LLR p-value:       1.4693e-68\n",
      "Converged:            1.0000            Scale:             1.0000    \n",
      "No. Iterations:       6.0000                                         \n",
      "---------------------------------------------------------------------\n",
      "                      Coef.  Std.Err.    z    P>|z|   [0.025   0.975]\n",
      "---------------------------------------------------------------------\n",
      "const                -8.8960   2.1931 -4.0563 0.0000 -13.1944 -4.5975\n",
      "fixed_acidity        -0.0579   0.0945 -0.6133 0.5397  -0.2431  0.1272\n",
      "volatile_acidity     -7.8269   0.9370 -8.3531 0.0000  -9.6634 -5.9904\n",
      "citric_acid           0.1134   0.6777  0.1674 0.8671  -1.2149  1.4418\n",
      "residual_sugar        0.0560   0.0159  3.5239 0.0004   0.0249  0.0872\n",
      "chlorides            -8.0454   7.8320 -1.0273 0.3043 -23.3958  7.3050\n",
      "free_sulfur_dioxide   0.0078   0.0057  1.3639 0.1726  -0.0034  0.0190\n",
      "total_sulfur_dioxide -0.0020   0.0023 -0.8617 0.3888  -0.0066  0.0026\n",
      "pH                    0.2714   0.5230  0.5189 0.6039  -0.7537  1.2965\n",
      "sulphates             2.0654   0.7292  2.8323 0.0046   0.6361  3.4946\n",
      "alcohol               0.9836   0.0857 11.4704 0.0000   0.8155  1.1516\n",
      "=====================================================================\n",
      "\n"
     ]
    }
   ],
   "source": [
    "X_con= sm.add_constant(X_train_final)\n",
    "logitmodel2=sm.Logit(y_train,X_con)\n",
    "result2=logitmodel2.fit()\n",
    "print(result2.summary2() )"
   ]
  },
  {
   "cell_type": "code",
   "execution_count": 84,
   "id": "b300cbfc",
   "metadata": {},
   "outputs": [
    {
     "name": "stdout",
     "output_type": "stream",
     "text": [
      "                           Logit Regression Results                           \n",
      "==============================================================================\n",
      "Dep. Variable:                quality   No. Observations:                 1428\n",
      "Model:                          Logit   Df Residuals:                     1417\n",
      "Method:                           MLE   Df Model:                           10\n",
      "Date:                Sat, 12 Feb 2022   Pseudo R-squ.:                  0.1927\n",
      "Time:                        12:57:42   Log-Likelihood:                -727.46\n",
      "converged:                       True   LL-Null:                       -901.13\n",
      "Covariance Type:            nonrobust   LLR p-value:                 1.469e-68\n",
      "========================================================================================\n",
      "                           coef    std err          z      P>|z|      [0.025      0.975]\n",
      "----------------------------------------------------------------------------------------\n",
      "const                   -8.8960      2.193     -4.056      0.000     -13.194      -4.597\n",
      "fixed_acidity           -0.0579      0.094     -0.613      0.540      -0.243       0.127\n",
      "volatile_acidity        -7.8269      0.937     -8.353      0.000      -9.663      -5.990\n",
      "citric_acid              0.1134      0.678      0.167      0.867      -1.215       1.442\n",
      "residual_sugar           0.0560      0.016      3.524      0.000       0.025       0.087\n",
      "chlorides               -8.0454      7.832     -1.027      0.304     -23.396       7.305\n",
      "free_sulfur_dioxide      0.0078      0.006      1.364      0.173      -0.003       0.019\n",
      "total_sulfur_dioxide    -0.0020      0.002     -0.862      0.389      -0.007       0.003\n",
      "pH                       0.2714      0.523      0.519      0.604      -0.754       1.296\n",
      "sulphates                2.0654      0.729      2.832      0.005       0.636       3.495\n",
      "alcohol                  0.9836      0.086     11.470      0.000       0.815       1.152\n",
      "========================================================================================\n"
     ]
    }
   ],
   "source": [
    "print(result2.summary() )"
   ]
  },
  {
   "cell_type": "markdown",
   "id": "bc1cc0cd",
   "metadata": {},
   "source": [
    "# Answer 8: "
   ]
  },
  {
   "cell_type": "markdown",
   "id": "36a36cc3",
   "metadata": {},
   "source": [
    "In this project, I have tried to implement WINE QUALITY Predictor model. First I have preprocessed the data. Then analyzed the Corelated variables. Then I carefully analyzed my Dependent & Independent variables. Then applied Logistic Regression methodology in my Data. I used Logistic Regression Logit model."
   ]
  },
  {
   "cell_type": "markdown",
   "id": "4e571ccb",
   "metadata": {},
   "source": [
    "Submitted To -\n",
    "Dr. Rumana Rois\n",
    "Associate Professor, Department of Statistics, \n",
    "Jahangirnagar University\n",
    "\n",
    "Submitted By - \n",
    "Manoj Roy |\n",
    "ID: 20216039 |\n",
    "PMASDS(6th Batch) |\n",
    "\n",
    "Code Link : https://github.com/mchayan/DS_Practice/blob/master/EDA_Practice/Assignment/Wine_Dataset_Assignment_Insight.ipynb\n"
   ]
  },
  {
   "cell_type": "code",
   "execution_count": null,
   "id": "6e89bcc6",
   "metadata": {},
   "outputs": [],
   "source": []
  }
 ],
 "metadata": {
  "kernelspec": {
   "display_name": "Python 3 (ipykernel)",
   "language": "python",
   "name": "python3"
  },
  "language_info": {
   "codemirror_mode": {
    "name": "ipython",
    "version": 3
   },
   "file_extension": ".py",
   "mimetype": "text/x-python",
   "name": "python",
   "nbconvert_exporter": "python",
   "pygments_lexer": "ipython3",
   "version": "3.7.11"
  }
 },
 "nbformat": 4,
 "nbformat_minor": 5
}

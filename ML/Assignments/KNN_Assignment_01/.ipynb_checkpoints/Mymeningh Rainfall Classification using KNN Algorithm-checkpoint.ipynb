{
 "cells": [
  {
   "cell_type": "code",
   "execution_count": 1,
   "id": "7ba455f5",
   "metadata": {},
   "outputs": [],
   "source": [
    "\"\"\"\n",
    "@author: Umme Rubaiyat Chowdhury, ID: 20216021\"\"\"\n",
    "\n",
    "import numpy as np\n",
    "import matplotlib.pyplot as plt\n",
    "import pandas as pd\n",
    "from sklearn.model_selection import train_test_split \n",
    "from sklearn.neighbors import KNeighborsClassifier\n",
    "from sklearn.metrics import accuracy_score\n",
    "from sklearn.metrics import classification_report, confusion_matrix"
   ]
  },
  {
   "cell_type": "code",
   "execution_count": 60,
   "id": "0dca0a83",
   "metadata": {},
   "outputs": [
    {
     "data": {
      "text/html": [
       "<div>\n",
       "<style scoped>\n",
       "    .dataframe tbody tr th:only-of-type {\n",
       "        vertical-align: middle;\n",
       "    }\n",
       "\n",
       "    .dataframe tbody tr th {\n",
       "        vertical-align: top;\n",
       "    }\n",
       "\n",
       "    .dataframe thead th {\n",
       "        text-align: right;\n",
       "    }\n",
       "</style>\n",
       "<table border=\"1\" class=\"dataframe\">\n",
       "  <thead>\n",
       "    <tr style=\"text-align: right;\">\n",
       "      <th></th>\n",
       "      <th>ID</th>\n",
       "      <th>TEM</th>\n",
       "      <th>DPT</th>\n",
       "      <th>WIS</th>\n",
       "      <th>HUM</th>\n",
       "      <th>SLP</th>\n",
       "      <th>RAN</th>\n",
       "    </tr>\n",
       "  </thead>\n",
       "  <tbody>\n",
       "    <tr>\n",
       "      <th>0</th>\n",
       "      <td>1</td>\n",
       "      <td>17.0</td>\n",
       "      <td>11.2</td>\n",
       "      <td>1.56</td>\n",
       "      <td>72.15</td>\n",
       "      <td>1015.4</td>\n",
       "      <td>NRT</td>\n",
       "    </tr>\n",
       "    <tr>\n",
       "      <th>1</th>\n",
       "      <td>2</td>\n",
       "      <td>21.4</td>\n",
       "      <td>11.8</td>\n",
       "      <td>1.62</td>\n",
       "      <td>64.79</td>\n",
       "      <td>1012.6</td>\n",
       "      <td>NRT</td>\n",
       "    </tr>\n",
       "    <tr>\n",
       "      <th>2</th>\n",
       "      <td>3</td>\n",
       "      <td>23.6</td>\n",
       "      <td>15.3</td>\n",
       "      <td>2.80</td>\n",
       "      <td>66.99</td>\n",
       "      <td>1010.7</td>\n",
       "      <td>LTR</td>\n",
       "    </tr>\n",
       "    <tr>\n",
       "      <th>3</th>\n",
       "      <td>4</td>\n",
       "      <td>29.3</td>\n",
       "      <td>18.6</td>\n",
       "      <td>3.70</td>\n",
       "      <td>62.68</td>\n",
       "      <td>1006.9</td>\n",
       "      <td>NRT</td>\n",
       "    </tr>\n",
       "    <tr>\n",
       "      <th>4</th>\n",
       "      <td>5</td>\n",
       "      <td>29.1</td>\n",
       "      <td>23.4</td>\n",
       "      <td>5.22</td>\n",
       "      <td>75.39</td>\n",
       "      <td>1003.2</td>\n",
       "      <td>LTR</td>\n",
       "    </tr>\n",
       "  </tbody>\n",
       "</table>\n",
       "</div>"
      ],
      "text/plain": [
       "   ID   TEM   DPT   WIS    HUM     SLP  RAN\n",
       "0   1  17.0  11.2  1.56  72.15  1015.4  NRT\n",
       "1   2  21.4  11.8  1.62  64.79  1012.6  NRT\n",
       "2   3  23.6  15.3  2.80  66.99  1010.7  LTR\n",
       "3   4  29.3  18.6  3.70  62.68  1006.9  NRT\n",
       "4   5  29.1  23.4  5.22  75.39  1003.2  LTR"
      ]
     },
     "execution_count": 60,
     "metadata": {},
     "output_type": "execute_result"
    }
   ],
   "source": [
    "#read data\n",
    "df=pd.read_csv('G3_DATA.csv')\n",
    "df.head()"
   ]
  },
  {
   "cell_type": "code",
   "execution_count": 61,
   "id": "996d69ec",
   "metadata": {},
   "outputs": [],
   "source": [
    "#predict class \n",
    "Y=df['RAN']"
   ]
  },
  {
   "cell_type": "code",
   "execution_count": 62,
   "id": "0044b04c",
   "metadata": {},
   "outputs": [],
   "source": [
    "#removing unnecessary columns\n",
    "del df['ID']\n",
    "del df['RAN']"
   ]
  },
  {
   "cell_type": "code",
   "execution_count": 63,
   "id": "83833c37",
   "metadata": {},
   "outputs": [
    {
     "data": {
      "text/html": [
       "<div>\n",
       "<style scoped>\n",
       "    .dataframe tbody tr th:only-of-type {\n",
       "        vertical-align: middle;\n",
       "    }\n",
       "\n",
       "    .dataframe tbody tr th {\n",
       "        vertical-align: top;\n",
       "    }\n",
       "\n",
       "    .dataframe thead th {\n",
       "        text-align: right;\n",
       "    }\n",
       "</style>\n",
       "<table border=\"1\" class=\"dataframe\">\n",
       "  <thead>\n",
       "    <tr style=\"text-align: right;\">\n",
       "      <th></th>\n",
       "      <th>TEM</th>\n",
       "      <th>DPT</th>\n",
       "      <th>WIS</th>\n",
       "      <th>HUM</th>\n",
       "      <th>SLP</th>\n",
       "    </tr>\n",
       "  </thead>\n",
       "  <tbody>\n",
       "    <tr>\n",
       "      <th>0</th>\n",
       "      <td>17.0</td>\n",
       "      <td>11.2</td>\n",
       "      <td>1.56</td>\n",
       "      <td>72.15</td>\n",
       "      <td>1015.4</td>\n",
       "    </tr>\n",
       "    <tr>\n",
       "      <th>1</th>\n",
       "      <td>21.4</td>\n",
       "      <td>11.8</td>\n",
       "      <td>1.62</td>\n",
       "      <td>64.79</td>\n",
       "      <td>1012.6</td>\n",
       "    </tr>\n",
       "    <tr>\n",
       "      <th>2</th>\n",
       "      <td>23.6</td>\n",
       "      <td>15.3</td>\n",
       "      <td>2.80</td>\n",
       "      <td>66.99</td>\n",
       "      <td>1010.7</td>\n",
       "    </tr>\n",
       "    <tr>\n",
       "      <th>3</th>\n",
       "      <td>29.3</td>\n",
       "      <td>18.6</td>\n",
       "      <td>3.70</td>\n",
       "      <td>62.68</td>\n",
       "      <td>1006.9</td>\n",
       "    </tr>\n",
       "    <tr>\n",
       "      <th>4</th>\n",
       "      <td>29.1</td>\n",
       "      <td>23.4</td>\n",
       "      <td>5.22</td>\n",
       "      <td>75.39</td>\n",
       "      <td>1003.2</td>\n",
       "    </tr>\n",
       "  </tbody>\n",
       "</table>\n",
       "</div>"
      ],
      "text/plain": [
       "    TEM   DPT   WIS    HUM     SLP\n",
       "0  17.0  11.2  1.56  72.15  1015.4\n",
       "1  21.4  11.8  1.62  64.79  1012.6\n",
       "2  23.6  15.3  2.80  66.99  1010.7\n",
       "3  29.3  18.6  3.70  62.68  1006.9\n",
       "4  29.1  23.4  5.22  75.39  1003.2"
      ]
     },
     "execution_count": 63,
     "metadata": {},
     "output_type": "execute_result"
    }
   ],
   "source": [
    "#feauture class \n",
    "X=df\n",
    "X.head()"
   ]
  },
  {
   "cell_type": "code",
   "execution_count": 64,
   "id": "121d3ef8",
   "metadata": {},
   "outputs": [
    {
     "data": {
      "text/plain": [
       "array(['NRT', 'MHR', 'LTR', 'NRT', 'LTR', 'LTR', 'MHR', 'NRT', 'MHR',\n",
       "       'MHR', 'LTR', 'NRT', 'MHR', 'MHR', 'MHR', 'LTR', 'LTR', 'MHR',\n",
       "       'MHR', 'MHR', 'LTR', 'MHR', 'LTR', 'NRT', 'MHR', 'MHR', 'NRT',\n",
       "       'MHR', 'NRT', 'LTR', 'NRT', 'MHR', 'LTR', 'NRT', 'MHR', 'LTR',\n",
       "       'NRT', 'LTR', 'NRT', 'MHR', 'MHR', 'MHR', 'LTR', 'MHR', 'NRT',\n",
       "       'LTR', 'NRT', 'MHR', 'LTR', 'LTR', 'LTR', 'NRT', 'NRT', 'MHR',\n",
       "       'MHR', 'NRT', 'MHR', 'LTR', 'LTR', 'NRT', 'LTR', 'MHR', 'LTR',\n",
       "       'MHR', 'NRT', 'MHR', 'LTR', 'LTR', 'MHR', 'MHR', 'NRT', 'MHR',\n",
       "       'LTR', 'NRT', 'LTR', 'LTR', 'LTR', 'MHR', 'NRT', 'NRT', 'LTR',\n",
       "       'LTR', 'LTR', 'NRT', 'LTR', 'MHR', 'NRT', 'MHR', 'LTR', 'MHR',\n",
       "       'MHR', 'NRT', 'LTR', 'LTR', 'NRT', 'MHR', 'MHR', 'MHR', 'MHR',\n",
       "       'LTR', 'MHR', 'LTR', 'LTR', 'MHR', 'MHR', 'MHR', 'NRT', 'NRT',\n",
       "       'MHR', 'NRT', 'NRT', 'LTR', 'MHR', 'LTR', 'MHR', 'LTR', 'NRT',\n",
       "       'NRT', 'NRT', 'NRT', 'NRT', 'LTR', 'LTR', 'MHR', 'NRT', 'NRT',\n",
       "       'LTR', 'LTR', 'LTR', 'MHR', 'LTR', 'LTR', 'NRT', 'MHR', 'MHR',\n",
       "       'LTR', 'LTR', 'LTR', 'LTR', 'NRT', 'NRT', 'LTR', 'NRT', 'LTR',\n",
       "       'MHR', 'LTR', 'NRT', 'NRT', 'NRT', 'MHR', 'MHR', 'NRT', 'NRT',\n",
       "       'LTR', 'NRT', 'MHR', 'MHR', 'LTR', 'NRT', 'LTR', 'MHR', 'NRT',\n",
       "       'NRT', 'LTR', 'NRT', 'NRT', 'NRT', 'MHR'], dtype=object)"
      ]
     },
     "execution_count": 64,
     "metadata": {},
     "output_type": "execute_result"
    }
   ],
   "source": [
    "#splitting the dataset \n",
    "#assuming initial k value to be 15\n",
    "X_train, X_test, Y_train, Y_test=train_test_split(X, Y, test_size=0.25, random_state=216021)\n",
    "KNN=KNeighborsClassifier(n_neighbors=15,metric='euclidean')\n",
    "KNN.fit(X_train, Y_train)\n",
    "P=KNN.predict(X_test)\n",
    "P"
   ]
  },
  {
   "cell_type": "code",
   "execution_count": 65,
   "id": "794cbf1d",
   "metadata": {},
   "outputs": [
    {
     "data": {
      "text/plain": [
       "0.7380952380952381"
      ]
     },
     "execution_count": 65,
     "metadata": {},
     "output_type": "execute_result"
    }
   ],
   "source": [
    "accuracy_score(Y_test, P)"
   ]
  },
  {
   "cell_type": "code",
   "execution_count": 66,
   "id": "aec6f056",
   "metadata": {},
   "outputs": [
    {
     "name": "stdout",
     "output_type": "stream",
     "text": [
      "[0.24404761904761904, 0.27976190476190477, 0.24404761904761904, 0.27380952380952384, 0.26785714285714285, 0.23809523809523808, 0.24404761904761904, 0.2261904761904762, 0.23809523809523808, 0.23214285714285715, 0.23809523809523808, 0.23214285714285715, 0.23214285714285715, 0.25, 0.2619047619047619, 0.27380952380952384, 0.27380952380952384, 0.26785714285714285, 0.26785714285714285, 0.2619047619047619, 0.25595238095238093, 0.27380952380952384, 0.26785714285714285, 0.27976190476190477, 0.2619047619047619, 0.26785714285714285, 0.27380952380952384, 0.26785714285714285, 0.26785714285714285, 0.26785714285714285, 0.27380952380952384, 0.26785714285714285, 0.26785714285714285, 0.27380952380952384, 0.26785714285714285, 0.27380952380952384, 0.27976190476190477, 0.27976190476190477, 0.27976190476190477]\n",
      "[0.7559523809523809, 0.7202380952380952, 0.7559523809523809, 0.7261904761904762, 0.7321428571428571, 0.7619047619047619, 0.7559523809523809, 0.7738095238095238, 0.7619047619047619, 0.7678571428571429, 0.7619047619047619, 0.7678571428571429, 0.7678571428571429, 0.75, 0.7380952380952381, 0.7261904761904762, 0.7261904761904762, 0.7321428571428571, 0.7321428571428571, 0.7380952380952381, 0.7440476190476191, 0.7261904761904762, 0.7321428571428571, 0.7202380952380952, 0.7380952380952381, 0.7321428571428571, 0.7261904761904762, 0.7321428571428571, 0.7321428571428571, 0.7321428571428571, 0.7261904761904762, 0.7321428571428571, 0.7321428571428571, 0.7261904761904762, 0.7321428571428571, 0.7261904761904762, 0.7202380952380952, 0.7202380952380952, 0.7202380952380952]\n"
     ]
    }
   ],
   "source": [
    "# Optimal Value of k and Accuracy Rate for Optimal k\n",
    "\n",
    "error = []\n",
    "accuracy = []\n",
    "# Calculating error for K values between 1 and 40\n",
    "for i in range(1, 40):\n",
    "    knn = KNeighborsClassifier(n_neighbors=i,metric='euclidean')\n",
    "    knn.fit(X_train, Y_train)\n",
    "    pred_i = knn.predict(X_test)\n",
    "    error.append(np.mean(pred_i != Y_test))\n",
    "    accuracy.append(np.mean(pred_i == Y_test))\n",
    "print(error)\n",
    "print(accuracy)"
   ]
  },
  {
   "cell_type": "code",
   "execution_count": 69,
   "id": "ee3ab36c",
   "metadata": {},
   "outputs": [
    {
     "data": {
      "image/png": "[encoded data removed]",
      "text/plain": [
       "<Figure size 648x360 with 1 Axes>"
      ]
     },
     "metadata": {
      "needs_background": "light"
     },
     "output_type": "display_data"
    }
   ],
   "source": [
    "#plotting the optimal value of k vs Error Rate\n",
    "plt.figure(figsize=(9, 5))\n",
    "plt.plot(range(1, 40), error, color='red', linestyle='solid', marker='o',\n",
    "         linewidth =2, markerfacecolor='blue', markersize=10)\n",
    "plt.title('Optimal value of k')\n",
    "plt.xlabel('Value of k')\n",
    "plt.ylabel('Error Rate')\n",
    "plt.savefig('Erate.jpg',dpi=1200)"
   ]
  },
  {
   "cell_type": "code",
   "execution_count": 70,
   "id": "1a2f1d20",
   "metadata": {},
   "outputs": [
    {
     "data": {
      "image/png": "[encoded data removed]",
      "text/plain": [
       "<Figure size 648x360 with 1 Axes>"
      ]
     },
     "metadata": {
      "needs_background": "light"
     },
     "output_type": "display_data"
    }
   ],
   "source": [
    "#plotting the optimal value of k vs Accuracy Rate\n",
    "plt.figure(figsize=(9, 5))\n",
    "plt.plot(range(1, 40), accuracy, color='red', linestyle='solid', marker='o',\n",
    "         linewidth =2, markerfacecolor='blue', markersize=10)\n",
    "plt.title('Optimal value of k')\n",
    "plt.xlabel('Value of k')\n",
    "plt.ylabel('Accuracy Rate')\n",
    "plt.savefig('Arate.jpg',dpi=1200)"
   ]
  },
  {
   "cell_type": "code",
   "execution_count": 71,
   "id": "f77a1f8c",
   "metadata": {},
   "outputs": [
    {
     "data": {
      "text/plain": [
       "array(['NRT', 'MHR', 'LTR', 'NRT', 'LTR', 'LTR', 'MHR', 'NRT', 'MHR',\n",
       "       'MHR', 'LTR', 'NRT', 'MHR', 'MHR', 'MHR', 'LTR', 'LTR', 'MHR',\n",
       "       'MHR', 'MHR', 'LTR', 'MHR', 'LTR', 'NRT', 'MHR', 'MHR', 'NRT',\n",
       "       'MHR', 'NRT', 'LTR', 'NRT', 'MHR', 'LTR', 'NRT', 'MHR', 'LTR',\n",
       "       'NRT', 'LTR', 'NRT', 'MHR', 'MHR', 'LTR', 'LTR', 'MHR', 'NRT',\n",
       "       'LTR', 'NRT', 'MHR', 'LTR', 'LTR', 'LTR', 'NRT', 'LTR', 'MHR',\n",
       "       'LTR', 'NRT', 'MHR', 'LTR', 'LTR', 'NRT', 'LTR', 'MHR', 'LTR',\n",
       "       'MHR', 'NRT', 'MHR', 'MHR', 'LTR', 'MHR', 'MHR', 'NRT', 'LTR',\n",
       "       'LTR', 'NRT', 'LTR', 'LTR', 'LTR', 'LTR', 'NRT', 'NRT', 'LTR',\n",
       "       'LTR', 'LTR', 'NRT', 'LTR', 'LTR', 'NRT', 'MHR', 'LTR', 'MHR',\n",
       "       'LTR', 'NRT', 'LTR', 'LTR', 'NRT', 'MHR', 'MHR', 'LTR', 'MHR',\n",
       "       'LTR', 'MHR', 'LTR', 'NRT', 'MHR', 'MHR', 'MHR', 'NRT', 'NRT',\n",
       "       'MHR', 'NRT', 'NRT', 'LTR', 'MHR', 'NRT', 'LTR', 'LTR', 'NRT',\n",
       "       'NRT', 'NRT', 'LTR', 'NRT', 'LTR', 'LTR', 'LTR', 'NRT', 'NRT',\n",
       "       'LTR', 'LTR', 'LTR', 'MHR', 'LTR', 'NRT', 'NRT', 'MHR', 'MHR',\n",
       "       'LTR', 'LTR', 'LTR', 'LTR', 'NRT', 'NRT', 'LTR', 'NRT', 'MHR',\n",
       "       'MHR', 'LTR', 'NRT', 'NRT', 'NRT', 'LTR', 'MHR', 'NRT', 'NRT',\n",
       "       'LTR', 'NRT', 'MHR', 'LTR', 'LTR', 'NRT', 'LTR', 'LTR', 'NRT',\n",
       "       'NRT', 'MHR', 'NRT', 'NRT', 'NRT', 'MHR'], dtype=object)"
      ]
     },
     "execution_count": 71,
     "metadata": {},
     "output_type": "execute_result"
    }
   ],
   "source": [
    "#training the model using optimal k value found from the graph \n",
    "KNN1=KNeighborsClassifier(algorithm='auto', leaf_size=30, metric='euclidean',\n",
    "           metric_params=None, n_jobs=1, n_neighbors=8, p=2,\n",
    "           weights='uniform')\n",
    "KNN1.fit(X_train, Y_train)\n",
    "P1=KNN1.predict(X_test)\n",
    "P1"
   ]
  },
  {
   "cell_type": "code",
   "execution_count": 72,
   "id": "5039b19b",
   "metadata": {},
   "outputs": [
    {
     "data": {
      "text/plain": [
       "0.7738095238095238"
      ]
     },
     "execution_count": 72,
     "metadata": {},
     "output_type": "execute_result"
    }
   ],
   "source": [
    "accuracy_score(Y_test, P1)"
   ]
  },
  {
   "cell_type": "code",
   "execution_count": 73,
   "id": "17a67911",
   "metadata": {},
   "outputs": [
    {
     "name": "stdout",
     "output_type": "stream",
     "text": [
      "[[49 11 10]\n",
      " [ 6 37  0]\n",
      " [11  0 44]]\n"
     ]
    }
   ],
   "source": [
    "print(confusion_matrix(Y_test, P1))"
   ]
  },
  {
   "cell_type": "code",
   "execution_count": 74,
   "id": "94d6d83f",
   "metadata": {},
   "outputs": [
    {
     "name": "stdout",
     "output_type": "stream",
     "text": [
      "              precision    recall  f1-score   support\n",
      "\n",
      "         LTR       0.74      0.70      0.72        70\n",
      "         MHR       0.77      0.86      0.81        43\n",
      "         NRT       0.81      0.80      0.81        55\n",
      "\n",
      "    accuracy                           0.77       168\n",
      "   macro avg       0.78      0.79      0.78       168\n",
      "weighted avg       0.77      0.77      0.77       168\n",
      "\n"
     ]
    }
   ],
   "source": [
    "print(classification_report(Y_test, P1))"
   ]
  },
  {
   "cell_type": "code",
   "execution_count": null,
   "id": "ef48879b",
   "metadata": {},
   "outputs": [],
   "source": []
  }
 ],
 "metadata": {
  "kernelspec": {
   "display_name": "Python 3",
   "language": "python",
   "name": "python3"
  },
  "language_info": {
   "codemirror_mode": {
    "name": "ipython",
    "version": 3
   },
   "file_extension": ".py",
   "mimetype": "text/x-python",
   "name": "python",
   "nbconvert_exporter": "python",
   "pygments_lexer": "ipython3",
   "version": "3.8.8"
  }
 },
 "nbformat": 4,
 "nbformat_minor": 5
}

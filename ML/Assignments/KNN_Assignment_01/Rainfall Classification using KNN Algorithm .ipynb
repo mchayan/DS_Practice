{
 "cells": [
  {
   "cell_type": "markdown",
   "id": "568da415",
   "metadata": {},
   "source": [
    "# Rainfall Classification using KNN Algorithm "
   ]
  },
  {
   "cell_type": "code",
   "execution_count": 1,
   "id": "75a70cf3",
   "metadata": {},
   "outputs": [],
   "source": [
    "\"\"\"\n",
    "@author: Manoj Roy, ID: 20216039\"\"\"\n",
    "\n",
    "import numpy as np\n",
    "import matplotlib.pyplot as plt\n",
    "import pandas as pd\n",
    "from sklearn.model_selection import train_test_split \n",
    "from sklearn.neighbors import KNeighborsClassifier\n",
    "from sklearn.metrics import accuracy_score\n",
    "from sklearn.metrics import classification_report, confusion_matrix"
   ]
  },
  {
   "cell_type": "code",
   "execution_count": 2,
   "id": "d0276f07",
   "metadata": {},
   "outputs": [
    {
     "data": {
      "text/html": [
       "<div>\n",
       "<style scoped>\n",
       "    .dataframe tbody tr th:only-of-type {\n",
       "        vertical-align: middle;\n",
       "    }\n",
       "\n",
       "    .dataframe tbody tr th {\n",
       "        vertical-align: top;\n",
       "    }\n",
       "\n",
       "    .dataframe thead th {\n",
       "        text-align: right;\n",
       "    }\n",
       "</style>\n",
       "<table border=\"1\" class=\"dataframe\">\n",
       "  <thead>\n",
       "    <tr style=\"text-align: right;\">\n",
       "      <th></th>\n",
       "      <th>ID</th>\n",
       "      <th>TEM</th>\n",
       "      <th>DPT</th>\n",
       "      <th>WIS</th>\n",
       "      <th>HUM</th>\n",
       "      <th>SLP</th>\n",
       "      <th>RAN</th>\n",
       "    </tr>\n",
       "  </thead>\n",
       "  <tbody>\n",
       "    <tr>\n",
       "      <th>0</th>\n",
       "      <td>1</td>\n",
       "      <td>17.0</td>\n",
       "      <td>11.2</td>\n",
       "      <td>1.56</td>\n",
       "      <td>72.15</td>\n",
       "      <td>1015.4</td>\n",
       "      <td>NRT</td>\n",
       "    </tr>\n",
       "    <tr>\n",
       "      <th>1</th>\n",
       "      <td>2</td>\n",
       "      <td>21.4</td>\n",
       "      <td>11.8</td>\n",
       "      <td>1.62</td>\n",
       "      <td>64.79</td>\n",
       "      <td>1012.6</td>\n",
       "      <td>NRT</td>\n",
       "    </tr>\n",
       "    <tr>\n",
       "      <th>2</th>\n",
       "      <td>3</td>\n",
       "      <td>23.6</td>\n",
       "      <td>15.3</td>\n",
       "      <td>2.80</td>\n",
       "      <td>66.99</td>\n",
       "      <td>1010.7</td>\n",
       "      <td>LTR</td>\n",
       "    </tr>\n",
       "    <tr>\n",
       "      <th>3</th>\n",
       "      <td>4</td>\n",
       "      <td>29.3</td>\n",
       "      <td>18.6</td>\n",
       "      <td>3.70</td>\n",
       "      <td>62.68</td>\n",
       "      <td>1006.9</td>\n",
       "      <td>NRT</td>\n",
       "    </tr>\n",
       "    <tr>\n",
       "      <th>4</th>\n",
       "      <td>5</td>\n",
       "      <td>29.1</td>\n",
       "      <td>23.4</td>\n",
       "      <td>5.22</td>\n",
       "      <td>75.39</td>\n",
       "      <td>1003.2</td>\n",
       "      <td>LTR</td>\n",
       "    </tr>\n",
       "  </tbody>\n",
       "</table>\n",
       "</div>"
      ],
      "text/plain": [
       "   ID   TEM   DPT   WIS    HUM     SLP  RAN\n",
       "0   1  17.0  11.2  1.56  72.15  1015.4  NRT\n",
       "1   2  21.4  11.8  1.62  64.79  1012.6  NRT\n",
       "2   3  23.6  15.3  2.80  66.99  1010.7  LTR\n",
       "3   4  29.3  18.6  3.70  62.68  1006.9  NRT\n",
       "4   5  29.1  23.4  5.22  75.39  1003.2  LTR"
      ]
     },
     "execution_count": 2,
     "metadata": {},
     "output_type": "execute_result"
    }
   ],
   "source": [
    "#read data\n",
    "df=pd.read_csv('G3_DATA.csv')\n",
    "df.head()"
   ]
  },
  {
   "cell_type": "code",
   "execution_count": 3,
   "id": "0628e9a9",
   "metadata": {},
   "outputs": [],
   "source": [
    "#predict class \n",
    "Y=df['RAN']"
   ]
  },
  {
   "cell_type": "code",
   "execution_count": 4,
   "id": "f48c6638",
   "metadata": {},
   "outputs": [],
   "source": [
    "#removing unnecessary columns\n",
    "del df['ID']\n",
    "del df['RAN']"
   ]
  },
  {
   "cell_type": "code",
   "execution_count": 5,
   "id": "d6d88242",
   "metadata": {},
   "outputs": [
    {
     "data": {
      "text/html": [
       "<div>\n",
       "<style scoped>\n",
       "    .dataframe tbody tr th:only-of-type {\n",
       "        vertical-align: middle;\n",
       "    }\n",
       "\n",
       "    .dataframe tbody tr th {\n",
       "        vertical-align: top;\n",
       "    }\n",
       "\n",
       "    .dataframe thead th {\n",
       "        text-align: right;\n",
       "    }\n",
       "</style>\n",
       "<table border=\"1\" class=\"dataframe\">\n",
       "  <thead>\n",
       "    <tr style=\"text-align: right;\">\n",
       "      <th></th>\n",
       "      <th>TEM</th>\n",
       "      <th>DPT</th>\n",
       "      <th>WIS</th>\n",
       "      <th>HUM</th>\n",
       "      <th>SLP</th>\n",
       "    </tr>\n",
       "  </thead>\n",
       "  <tbody>\n",
       "    <tr>\n",
       "      <th>0</th>\n",
       "      <td>17.0</td>\n",
       "      <td>11.2</td>\n",
       "      <td>1.56</td>\n",
       "      <td>72.15</td>\n",
       "      <td>1015.4</td>\n",
       "    </tr>\n",
       "    <tr>\n",
       "      <th>1</th>\n",
       "      <td>21.4</td>\n",
       "      <td>11.8</td>\n",
       "      <td>1.62</td>\n",
       "      <td>64.79</td>\n",
       "      <td>1012.6</td>\n",
       "    </tr>\n",
       "    <tr>\n",
       "      <th>2</th>\n",
       "      <td>23.6</td>\n",
       "      <td>15.3</td>\n",
       "      <td>2.80</td>\n",
       "      <td>66.99</td>\n",
       "      <td>1010.7</td>\n",
       "    </tr>\n",
       "    <tr>\n",
       "      <th>3</th>\n",
       "      <td>29.3</td>\n",
       "      <td>18.6</td>\n",
       "      <td>3.70</td>\n",
       "      <td>62.68</td>\n",
       "      <td>1006.9</td>\n",
       "    </tr>\n",
       "    <tr>\n",
       "      <th>4</th>\n",
       "      <td>29.1</td>\n",
       "      <td>23.4</td>\n",
       "      <td>5.22</td>\n",
       "      <td>75.39</td>\n",
       "      <td>1003.2</td>\n",
       "    </tr>\n",
       "  </tbody>\n",
       "</table>\n",
       "</div>"
      ],
      "text/plain": [
       "    TEM   DPT   WIS    HUM     SLP\n",
       "0  17.0  11.2  1.56  72.15  1015.4\n",
       "1  21.4  11.8  1.62  64.79  1012.6\n",
       "2  23.6  15.3  2.80  66.99  1010.7\n",
       "3  29.3  18.6  3.70  62.68  1006.9\n",
       "4  29.1  23.4  5.22  75.39  1003.2"
      ]
     },
     "execution_count": 5,
     "metadata": {},
     "output_type": "execute_result"
    }
   ],
   "source": [
    "#feauture class \n",
    "X=df\n",
    "X.head()"
   ]
  },
  {
   "cell_type": "code",
   "execution_count": 6,
   "id": "408e4032",
   "metadata": {},
   "outputs": [
    {
     "data": {
      "text/plain": [
       "array(['MHR', 'MHR', 'LTR', 'MHR', 'LTR', 'LTR', 'NRT', 'LTR', 'LTR',\n",
       "       'NRT', 'NRT', 'LTR', 'MHR', 'NRT', 'NRT', 'LTR', 'LTR', 'LTR',\n",
       "       'NRT', 'NRT', 'LTR', 'LTR', 'MHR', 'LTR', 'MHR', 'LTR', 'MHR',\n",
       "       'NRT', 'NRT', 'MHR', 'LTR', 'NRT', 'MHR', 'MHR', 'LTR', 'MHR',\n",
       "       'LTR', 'NRT', 'LTR', 'NRT', 'MHR', 'NRT', 'NRT', 'LTR', 'NRT',\n",
       "       'NRT', 'LTR', 'LTR', 'LTR', 'NRT', 'NRT', 'LTR', 'LTR', 'MHR',\n",
       "       'NRT', 'LTR', 'MHR', 'MHR', 'NRT', 'LTR', 'LTR', 'NRT', 'MHR',\n",
       "       'MHR', 'LTR', 'MHR', 'LTR', 'MHR', 'LTR', 'LTR', 'NRT', 'MHR',\n",
       "       'NRT', 'MHR', 'MHR', 'NRT', 'LTR', 'LTR', 'LTR', 'LTR', 'NRT',\n",
       "       'LTR', 'LTR', 'LTR', 'LTR', 'MHR', 'LTR', 'LTR', 'NRT', 'MHR',\n",
       "       'LTR', 'LTR', 'LTR', 'MHR', 'LTR', 'LTR', 'NRT', 'NRT', 'LTR',\n",
       "       'NRT', 'MHR', 'LTR', 'LTR', 'MHR', 'NRT', 'NRT', 'NRT', 'LTR',\n",
       "       'NRT', 'MHR', 'MHR', 'LTR', 'LTR', 'NRT', 'LTR', 'NRT', 'MHR',\n",
       "       'LTR', 'NRT', 'NRT', 'LTR', 'NRT', 'NRT', 'NRT', 'MHR', 'MHR',\n",
       "       'MHR', 'NRT', 'NRT', 'NRT', 'NRT', 'LTR', 'MHR', 'MHR', 'LTR',\n",
       "       'MHR', 'MHR', 'LTR', 'LTR', 'MHR', 'MHR', 'NRT', 'NRT', 'MHR',\n",
       "       'LTR', 'LTR', 'MHR', 'NRT', 'MHR', 'MHR', 'NRT', 'LTR', 'MHR',\n",
       "       'LTR', 'LTR', 'NRT', 'MHR', 'NRT', 'MHR', 'MHR', 'LTR', 'LTR',\n",
       "       'MHR', 'LTR', 'NRT', 'LTR', 'LTR', 'LTR'], dtype=object)"
      ]
     },
     "execution_count": 6,
     "metadata": {},
     "output_type": "execute_result"
    }
   ],
   "source": [
    "#splitting the dataset \n",
    "#assuming initial k value to be 15\n",
    "X_train, X_test, Y_train, Y_test=train_test_split(X, Y, test_size=0.25, random_state=216039)\n",
    "KNN=KNeighborsClassifier(n_neighbors=3,metric='euclidean')\n",
    "KNN.fit(X_train, Y_train)\n",
    "P=KNN.predict(X_test)\n",
    "P"
   ]
  },
  {
   "cell_type": "code",
   "execution_count": 7,
   "id": "f8be2c7b",
   "metadata": {},
   "outputs": [
    {
     "data": {
      "text/plain": [
       "0.7797619047619048"
      ]
     },
     "execution_count": 7,
     "metadata": {},
     "output_type": "execute_result"
    }
   ],
   "source": [
    "accuracy_score(Y_test, P)"
   ]
  },
  {
   "cell_type": "code",
   "execution_count": 8,
   "id": "699e3795",
   "metadata": {},
   "outputs": [
    {
     "name": "stdout",
     "output_type": "stream",
     "text": [
      "[0.24404761904761904, 0.2619047619047619, 0.22023809523809523, 0.22023809523809523, 0.20238095238095238, 0.20833333333333334, 0.21428571428571427, 0.21428571428571427, 0.23214285714285715, 0.22023809523809523, 0.20238095238095238, 0.20238095238095238, 0.21428571428571427, 0.19642857142857142, 0.20238095238095238, 0.20238095238095238, 0.21428571428571427, 0.20238095238095238, 0.21428571428571427, 0.22023809523809523, 0.21428571428571427, 0.22023809523809523, 0.21428571428571427, 0.23214285714285715, 0.22023809523809523, 0.21428571428571427, 0.20833333333333334, 0.22023809523809523, 0.22023809523809523, 0.23214285714285715, 0.23214285714285715, 0.23809523809523808, 0.23809523809523808, 0.23214285714285715, 0.23809523809523808, 0.23214285714285715, 0.24404761904761904, 0.23809523809523808, 0.23214285714285715]\n",
      "[0.7559523809523809, 0.7380952380952381, 0.7797619047619048, 0.7797619047619048, 0.7976190476190477, 0.7916666666666666, 0.7857142857142857, 0.7857142857142857, 0.7678571428571429, 0.7797619047619048, 0.7976190476190477, 0.7976190476190477, 0.7857142857142857, 0.8035714285714286, 0.7976190476190477, 0.7976190476190477, 0.7857142857142857, 0.7976190476190477, 0.7857142857142857, 0.7797619047619048, 0.7857142857142857, 0.7797619047619048, 0.7857142857142857, 0.7678571428571429, 0.7797619047619048, 0.7857142857142857, 0.7916666666666666, 0.7797619047619048, 0.7797619047619048, 0.7678571428571429, 0.7678571428571429, 0.7619047619047619, 0.7619047619047619, 0.7678571428571429, 0.7619047619047619, 0.7678571428571429, 0.7559523809523809, 0.7619047619047619, 0.7678571428571429]\n"
     ]
    }
   ],
   "source": [
    "# Optimal Value of k and Accuracy Rate for Optimal k\n",
    "\n",
    "error = []\n",
    "accuracy = []\n",
    "# Calculating error for K values between 1 and 40\n",
    "for i in range(1, 40):\n",
    "    knn = KNeighborsClassifier(n_neighbors=i,metric='euclidean')\n",
    "    knn.fit(X_train, Y_train)\n",
    "    pred_i = knn.predict(X_test)\n",
    "    error.append(np.mean(pred_i != Y_test))\n",
    "    accuracy.append(np.mean(pred_i == Y_test))\n",
    "print(error)\n",
    "print(accuracy)"
   ]
  },
  {
   "cell_type": "code",
   "execution_count": 9,
   "id": "26b47df8",
   "metadata": {},
   "outputs": [
    {
     "data": {
      "image/png": "[encoded data removed]",
      "text/plain": [
       "<Figure size 648x360 with 1 Axes>"
      ]
     },
     "metadata": {
      "needs_background": "light"
     },
     "output_type": "display_data"
    }
   ],
   "source": [
    "#plotting the optimal value of k vs Error Rate\n",
    "plt.figure(figsize=(9, 5))\n",
    "plt.plot(range(1, 40), error, color='red', linestyle='solid', marker='o',\n",
    "         linewidth =2, markerfacecolor='blue', markersize=10)\n",
    "plt.title('Optimal value of k')\n",
    "plt.xlabel('Value of k')\n",
    "plt.ylabel('Error Rate')\n",
    "plt.savefig('ErrorRate.jpg',dpi=1200)"
   ]
  },
  {
   "cell_type": "code",
   "execution_count": 10,
   "id": "03980c58",
   "metadata": {},
   "outputs": [
    {
     "data": {
      "image/png": "[encoded data removed]",
      "text/plain": [
       "<Figure size 648x360 with 1 Axes>"
      ]
     },
     "metadata": {
      "needs_background": "light"
     },
     "output_type": "display_data"
    }
   ],
   "source": [
    "#plotting the optimal value of k vs Accuracy Rate\n",
    "plt.figure(figsize=(9, 5))\n",
    "plt.plot(range(1, 40), accuracy, color='red', linestyle='solid', marker='o',\n",
    "         linewidth =2, markerfacecolor='blue', markersize=10)\n",
    "plt.title('Optimal value of k')\n",
    "plt.xlabel('Value of k')\n",
    "plt.ylabel('Accuracy Rate')\n",
    "plt.savefig('AccuracyRate.jpg',dpi=1200)"
   ]
  },
  {
   "cell_type": "code",
   "execution_count": 11,
   "id": "6d99c32d",
   "metadata": {},
   "outputs": [
    {
     "data": {
      "text/plain": [
       "array(['MHR', 'MHR', 'NRT', 'MHR', 'NRT', 'LTR', 'NRT', 'LTR', 'LTR',\n",
       "       'NRT', 'NRT', 'NRT', 'MHR', 'NRT', 'LTR', 'LTR', 'MHR', 'LTR',\n",
       "       'NRT', 'NRT', 'NRT', 'LTR', 'MHR', 'LTR', 'MHR', 'LTR', 'MHR',\n",
       "       'LTR', 'NRT', 'LTR', 'MHR', 'NRT', 'MHR', 'MHR', 'LTR', 'MHR',\n",
       "       'LTR', 'NRT', 'LTR', 'NRT', 'MHR', 'NRT', 'NRT', 'LTR', 'NRT',\n",
       "       'NRT', 'LTR', 'LTR', 'LTR', 'NRT', 'NRT', 'LTR', 'LTR', 'MHR',\n",
       "       'NRT', 'LTR', 'MHR', 'MHR', 'NRT', 'LTR', 'LTR', 'NRT', 'MHR',\n",
       "       'MHR', 'LTR', 'LTR', 'LTR', 'MHR', 'MHR', 'LTR', 'NRT', 'MHR',\n",
       "       'NRT', 'MHR', 'MHR', 'NRT', 'LTR', 'NRT', 'MHR', 'LTR', 'NRT',\n",
       "       'LTR', 'LTR', 'LTR', 'LTR', 'MHR', 'LTR', 'LTR', 'NRT', 'MHR',\n",
       "       'LTR', 'LTR', 'LTR', 'MHR', 'NRT', 'LTR', 'NRT', 'NRT', 'NRT',\n",
       "       'NRT', 'MHR', 'NRT', 'LTR', 'MHR', 'NRT', 'NRT', 'NRT', 'LTR',\n",
       "       'NRT', 'MHR', 'MHR', 'NRT', 'MHR', 'NRT', 'LTR', 'NRT', 'MHR',\n",
       "       'LTR', 'NRT', 'NRT', 'LTR', 'NRT', 'NRT', 'NRT', 'MHR', 'MHR',\n",
       "       'MHR', 'NRT', 'NRT', 'NRT', 'NRT', 'LTR', 'MHR', 'MHR', 'LTR',\n",
       "       'MHR', 'MHR', 'LTR', 'LTR', 'MHR', 'MHR', 'NRT', 'NRT', 'LTR',\n",
       "       'LTR', 'NRT', 'MHR', 'LTR', 'MHR', 'MHR', 'NRT', 'LTR', 'LTR',\n",
       "       'LTR', 'LTR', 'LTR', 'MHR', 'LTR', 'MHR', 'MHR', 'LTR', 'MHR',\n",
       "       'MHR', 'LTR', 'NRT', 'MHR', 'MHR', 'LTR'], dtype=object)"
      ]
     },
     "execution_count": 11,
     "metadata": {},
     "output_type": "execute_result"
    }
   ],
   "source": [
    "#training the model using optimal k value found from the graph \n",
    "KNN1=KNeighborsClassifier(algorithm='auto', leaf_size=30, metric='euclidean',\n",
    "           metric_params=None, n_jobs=1, n_neighbors=13, p=2,\n",
    "           weights='uniform')\n",
    "KNN1.fit(X_train, Y_train)\n",
    "P1=KNN1.predict(X_test)\n",
    "P1"
   ]
  },
  {
   "cell_type": "code",
   "execution_count": 12,
   "id": "8982c484",
   "metadata": {},
   "outputs": [
    {
     "data": {
      "text/plain": [
       "0.7857142857142857"
      ]
     },
     "execution_count": 12,
     "metadata": {},
     "output_type": "execute_result"
    }
   ],
   "source": [
    "accuracy_score(Y_test, P1)"
   ]
  },
  {
   "cell_type": "code",
   "execution_count": 13,
   "id": "e0b7f1a5",
   "metadata": {},
   "outputs": [
    {
     "name": "stdout",
     "output_type": "stream",
     "text": [
      "[[45 13  8]\n",
      " [ 9 39  0]\n",
      " [ 6  0 48]]\n"
     ]
    }
   ],
   "source": [
    "print(confusion_matrix(Y_test, P1))"
   ]
  },
  {
   "cell_type": "code",
   "execution_count": 14,
   "id": "0a96a203",
   "metadata": {},
   "outputs": [
    {
     "name": "stdout",
     "output_type": "stream",
     "text": [
      "              precision    recall  f1-score   support\n",
      "\n",
      "         LTR       0.75      0.68      0.71        66\n",
      "         MHR       0.75      0.81      0.78        48\n",
      "         NRT       0.86      0.89      0.87        54\n",
      "\n",
      "    accuracy                           0.79       168\n",
      "   macro avg       0.79      0.79      0.79       168\n",
      "weighted avg       0.78      0.79      0.78       168\n",
      "\n"
     ]
    }
   ],
   "source": [
    "print(classification_report(Y_test, P1))"
   ]
  },
  {
   "cell_type": "raw",
   "id": "432e791d",
   "metadata": {},
   "source": [
    "#Inference\n",
    "Here, I initially set the K value 3. Where I found the accuracy of the classification 77%. After iterating it 40 times, I found the optimal k value to be 13, for which the accuracy increased up to 78.5%.\n",
    "From this assignment, I came to know about the optimal K value identification process & necessity.."
   ]
  },
  {
   "cell_type": "code",
   "execution_count": null,
   "id": "d15a3f90",
   "metadata": {},
   "outputs": [],
   "source": []
  }
 ],
 "metadata": {
  "kernelspec": {
   "display_name": "Python 3 (ipykernel)",
   "language": "python",
   "name": "python3"
  },
  "language_info": {
   "codemirror_mode": {
    "name": "ipython",
    "version": 3
   },
   "file_extension": ".py",
   "mimetype": "text/x-python",
   "name": "python",
   "nbconvert_exporter": "python",
   "pygments_lexer": "ipython3",
   "version": "3.7.11"
  }
 },
 "nbformat": 4,
 "nbformat_minor": 5
}
